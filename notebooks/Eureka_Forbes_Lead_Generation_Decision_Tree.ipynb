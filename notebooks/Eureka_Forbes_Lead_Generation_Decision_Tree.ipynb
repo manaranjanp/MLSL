{
 "cells": [
  {
   "cell_type": "markdown",
   "metadata": {},
   "source": [
    "# IMPROVING LEAD GENERATION AT EUREKA FORBES \n",
    "\n",
    "Eureka Forbes, part of the conglomerate Shapoorji Pallonji Group, is currently one of the world's largest direct sales company known for its water purifier brand Aquaguard with a turnover of more than INR 30 billion. The company is estimated to have a customer base of 20 million across 53 countries. The company's distribution channel includes a direct sales force of dealers, institutional channels, business partner network and a rural channel across 1500 cities and towns in India. The company's previous customer acquisition model ensured that interested customers were individually visited for demonstration of the product and for completion of purchase. While this made the company a household name, it kept the acquisition costs on the higher side. With the imminence of online retailing, the brand had been taking steps to establish their digital presence and build a stable online sales channel. The company website (www.eurekaforbes.com) attracts online traffic from various sources such as organic searches, google ads, email campaigns, etc. The company has started to use this click stream data to build a rich database of visitor acquisition factors and behavioral variables such as session duration, device category, pages visited, lead forms filled, etc. using the Google Analytics Reporting API. The company identifies these visitors as potential customers and is actively deploying remarketing campaigns with optimism to convert them. \n",
    "\n",
    "**Source**: https://store.hbr.org/product/improving-lead-generation-at-eureka-forbes-using-machine-learning-algorithms/IMB779\n",
    "\n",
    "The business goal is clearly defined for the company – they want to target potential customers while keeping\n",
    "the cost per lead (CPL) as low as possible. For Kashif Kudalkar, the Deputy General Manager for Digital\n",
    "Marketing and Analytics, the task is to achieve better conversion at lower costs. This is achievable when\n",
    "the target audience is narrowed down to a sizeable number for remarketing campaigns. Kashif wants to use\n",
    "the collected behavioral and visitor data to achieve the following objectives:\n",
    "\n",
    "1. Find the target audience with a high probability of submitting a lead and eventually converting.\n",
    "2. Segment the visitor audience into buckets based on their activity for designing better advertising and\n",
    "remarketing campaigns.\n",
    "3. Finally, have a probability score that can be used to run a personalized campaign for users/segments"
   ]
  },
  {
   "cell_type": "markdown",
   "metadata": {},
   "source": [
    "## Loading Dataset"
   ]
  },
  {
   "cell_type": "code",
   "execution_count": 1,
   "metadata": {},
   "outputs": [],
   "source": [
    "import warnings\n",
    "warnings.filterwarnings('ignore')"
   ]
  },
  {
   "cell_type": "code",
   "execution_count": 2,
   "metadata": {},
   "outputs": [],
   "source": [
    "import pandas as pd"
   ]
  },
  {
   "cell_type": "code",
   "execution_count": 281,
   "metadata": {},
   "outputs": [],
   "source": [
    "eureka_df = pd.read_csv('eureka.csv')"
   ]
  },
  {
   "cell_type": "code",
   "execution_count": 282,
   "metadata": {},
   "outputs": [
    {
     "data": {
      "text/html": [
       "<div>\n",
       "<style scoped>\n",
       "    .dataframe tbody tr th:only-of-type {\n",
       "        vertical-align: middle;\n",
       "    }\n",
       "\n",
       "    .dataframe tbody tr th {\n",
       "        vertical-align: top;\n",
       "    }\n",
       "\n",
       "    .dataframe thead th {\n",
       "        text-align: right;\n",
       "    }\n",
       "</style>\n",
       "<table border=\"1\" class=\"dataframe\">\n",
       "  <thead>\n",
       "    <tr style=\"text-align: right;\">\n",
       "      <th></th>\n",
       "      <th>DemoReqPg_CallClicks_evt_count</th>\n",
       "      <th>air_purifier_page_top</th>\n",
       "      <th>bookdemo_in_7days</th>\n",
       "      <th>bounces</th>\n",
       "      <th>checkout_page_top</th>\n",
       "      <th>contactus_top</th>\n",
       "      <th>country</th>\n",
       "      <th>customer_service_amc_login_top</th>\n",
       "      <th>customer_service_request_login_top</th>\n",
       "      <th>demo_page_top</th>\n",
       "      <th>...</th>\n",
       "      <th>visited_demo_page</th>\n",
       "      <th>visited_offer_page</th>\n",
       "      <th>visited_security_solutions_page</th>\n",
       "      <th>visited_storelocator</th>\n",
       "      <th>visited_successbookdemo</th>\n",
       "      <th>visited_vacuum_cleaner_page</th>\n",
       "      <th>visited_water_purifier_page</th>\n",
       "      <th>water_purifier_page_top</th>\n",
       "      <th>callclick_in_7days</th>\n",
       "      <th>converted</th>\n",
       "    </tr>\n",
       "  </thead>\n",
       "  <tbody>\n",
       "    <tr>\n",
       "      <th>0</th>\n",
       "      <td>0</td>\n",
       "      <td>0</td>\n",
       "      <td>0</td>\n",
       "      <td>0</td>\n",
       "      <td>0</td>\n",
       "      <td>0</td>\n",
       "      <td>d</td>\n",
       "      <td>0</td>\n",
       "      <td>0</td>\n",
       "      <td>3</td>\n",
       "      <td>...</td>\n",
       "      <td>1</td>\n",
       "      <td>0</td>\n",
       "      <td>0</td>\n",
       "      <td>0</td>\n",
       "      <td>0</td>\n",
       "      <td>0</td>\n",
       "      <td>0</td>\n",
       "      <td>0</td>\n",
       "      <td>0</td>\n",
       "      <td>0</td>\n",
       "    </tr>\n",
       "    <tr>\n",
       "      <th>1</th>\n",
       "      <td>0</td>\n",
       "      <td>0</td>\n",
       "      <td>0</td>\n",
       "      <td>8</td>\n",
       "      <td>0</td>\n",
       "      <td>0</td>\n",
       "      <td>i</td>\n",
       "      <td>0</td>\n",
       "      <td>0</td>\n",
       "      <td>470</td>\n",
       "      <td>...</td>\n",
       "      <td>1</td>\n",
       "      <td>0</td>\n",
       "      <td>0</td>\n",
       "      <td>0</td>\n",
       "      <td>0</td>\n",
       "      <td>0</td>\n",
       "      <td>0</td>\n",
       "      <td>0</td>\n",
       "      <td>0</td>\n",
       "      <td>0</td>\n",
       "    </tr>\n",
       "    <tr>\n",
       "      <th>2</th>\n",
       "      <td>0</td>\n",
       "      <td>0</td>\n",
       "      <td>0</td>\n",
       "      <td>0</td>\n",
       "      <td>0</td>\n",
       "      <td>0</td>\n",
       "      <td>d</td>\n",
       "      <td>0</td>\n",
       "      <td>0</td>\n",
       "      <td>5</td>\n",
       "      <td>...</td>\n",
       "      <td>1</td>\n",
       "      <td>0</td>\n",
       "      <td>0</td>\n",
       "      <td>0</td>\n",
       "      <td>0</td>\n",
       "      <td>0</td>\n",
       "      <td>0</td>\n",
       "      <td>0</td>\n",
       "      <td>0</td>\n",
       "      <td>0</td>\n",
       "    </tr>\n",
       "    <tr>\n",
       "      <th>3</th>\n",
       "      <td>1</td>\n",
       "      <td>0</td>\n",
       "      <td>0</td>\n",
       "      <td>0</td>\n",
       "      <td>0</td>\n",
       "      <td>532</td>\n",
       "      <td>d</td>\n",
       "      <td>0</td>\n",
       "      <td>0</td>\n",
       "      <td>4</td>\n",
       "      <td>...</td>\n",
       "      <td>1</td>\n",
       "      <td>0</td>\n",
       "      <td>0</td>\n",
       "      <td>0</td>\n",
       "      <td>0</td>\n",
       "      <td>0</td>\n",
       "      <td>0</td>\n",
       "      <td>0</td>\n",
       "      <td>0</td>\n",
       "      <td>0</td>\n",
       "    </tr>\n",
       "    <tr>\n",
       "      <th>4</th>\n",
       "      <td>0</td>\n",
       "      <td>0</td>\n",
       "      <td>0</td>\n",
       "      <td>1</td>\n",
       "      <td>0</td>\n",
       "      <td>0</td>\n",
       "      <td>d</td>\n",
       "      <td>0</td>\n",
       "      <td>0</td>\n",
       "      <td>55</td>\n",
       "      <td>...</td>\n",
       "      <td>1</td>\n",
       "      <td>0</td>\n",
       "      <td>0</td>\n",
       "      <td>0</td>\n",
       "      <td>0</td>\n",
       "      <td>0</td>\n",
       "      <td>0</td>\n",
       "      <td>0</td>\n",
       "      <td>0</td>\n",
       "      <td>0</td>\n",
       "    </tr>\n",
       "  </tbody>\n",
       "</table>\n",
       "<p>5 rows × 47 columns</p>\n",
       "</div>"
      ],
      "text/plain": [
       "   DemoReqPg_CallClicks_evt_count  air_purifier_page_top  bookdemo_in_7days  \\\n",
       "0                               0                      0                  0   \n",
       "1                               0                      0                  0   \n",
       "2                               0                      0                  0   \n",
       "3                               1                      0                  0   \n",
       "4                               0                      0                  0   \n",
       "\n",
       "   bounces  checkout_page_top  contactus_top country  \\\n",
       "0        0                  0              0       d   \n",
       "1        8                  0              0       i   \n",
       "2        0                  0              0       d   \n",
       "3        0                  0            532       d   \n",
       "4        1                  0              0       d   \n",
       "\n",
       "   customer_service_amc_login_top  customer_service_request_login_top  \\\n",
       "0                               0                                   0   \n",
       "1                               0                                   0   \n",
       "2                               0                                   0   \n",
       "3                               0                                   0   \n",
       "4                               0                                   0   \n",
       "\n",
       "   demo_page_top  ... visited_demo_page  visited_offer_page  \\\n",
       "0              3  ...                 1                   0   \n",
       "1            470  ...                 1                   0   \n",
       "2              5  ...                 1                   0   \n",
       "3              4  ...                 1                   0   \n",
       "4             55  ...                 1                   0   \n",
       "\n",
       "   visited_security_solutions_page  visited_storelocator  \\\n",
       "0                                0                     0   \n",
       "1                                0                     0   \n",
       "2                                0                     0   \n",
       "3                                0                     0   \n",
       "4                                0                     0   \n",
       "\n",
       "   visited_successbookdemo  visited_vacuum_cleaner_page  \\\n",
       "0                        0                            0   \n",
       "1                        0                            0   \n",
       "2                        0                            0   \n",
       "3                        0                            0   \n",
       "4                        0                            0   \n",
       "\n",
       "   visited_water_purifier_page  water_purifier_page_top  callclick_in_7days  \\\n",
       "0                            0                        0                   0   \n",
       "1                            0                        0                   0   \n",
       "2                            0                        0                   0   \n",
       "3                            0                        0                   0   \n",
       "4                            0                        0                   0   \n",
       "\n",
       "   converted  \n",
       "0          0  \n",
       "1          0  \n",
       "2          0  \n",
       "3          0  \n",
       "4          0  \n",
       "\n",
       "[5 rows x 47 columns]"
      ]
     },
     "execution_count": 282,
     "metadata": {},
     "output_type": "execute_result"
    }
   ],
   "source": [
    "eureka_df.head(5)"
   ]
  },
  {
   "cell_type": "code",
   "execution_count": 283,
   "metadata": {},
   "outputs": [
    {
     "name": "stdout",
     "output_type": "stream",
     "text": [
      "<class 'pandas.core.frame.DataFrame'>\n",
      "RangeIndex: 42264 entries, 0 to 42263\n",
      "Data columns (total 47 columns):\n",
      " #   Column                                  Non-Null Count  Dtype \n",
      "---  ------                                  --------------  ----- \n",
      " 0   DemoReqPg_CallClicks_evt_count          42264 non-null  int64 \n",
      " 1   air_purifier_page_top                   42264 non-null  int64 \n",
      " 2   bookdemo_in_7days                       42264 non-null  int64 \n",
      " 3   bounces                                 42264 non-null  int64 \n",
      " 4   checkout_page_top                       42264 non-null  int64 \n",
      " 5   contactus_top                           42264 non-null  int64 \n",
      " 6   country                                 42264 non-null  object\n",
      " 7   customer_service_amc_login_top          42264 non-null  int64 \n",
      " 8   customer_service_request_login_top      42264 non-null  int64 \n",
      " 9   demo_page_top                           42264 non-null  int64 \n",
      " 10  device                                  42264 non-null  object\n",
      " 11  dsls                                    42264 non-null  int64 \n",
      " 12  fired_DemoReqPg_CallClicks_evt          42264 non-null  int64 \n",
      " 13  fired_help_me_buy_evt                   42264 non-null  int64 \n",
      " 14  fired_phone_clicks_evt                  42264 non-null  int64 \n",
      " 15  goal3Completions                        42264 non-null  int64 \n",
      " 16  goal4Completions                        42264 non-null  int64 \n",
      " 17  goal7Completions                        42264 non-null  int64 \n",
      " 18  help_me_buy_evt_count                   42264 non-null  int64 \n",
      " 19  newUser                                 42264 non-null  int64 \n",
      " 20  offer_page_top                          42264 non-null  int64 \n",
      " 21  pageviews                               42264 non-null  int64 \n",
      " 22  paid                                    42264 non-null  int64 \n",
      " 23  phone_clicks_evt_count                  42264 non-null  int64 \n",
      " 24  region                                  42264 non-null  object\n",
      " 25  security_solutions_page_top             42264 non-null  int64 \n",
      " 26  sessionDuration                         42264 non-null  int64 \n",
      " 27  sessions                                42264 non-null  int64 \n",
      " 28  sourceMedium                            42264 non-null  object\n",
      " 29  storelocator_top                        42264 non-null  int64 \n",
      " 30  successbookdemo_top                     42264 non-null  int64 \n",
      " 31  vacuum_cleaner_page_top                 42264 non-null  int64 \n",
      " 32  visited_air_purifier_page               42264 non-null  int64 \n",
      " 33  visited_checkout_page                   42264 non-null  int64 \n",
      " 34  visited_contactus                       42264 non-null  int64 \n",
      " 35  visited_customer_service_amc_login      42264 non-null  int64 \n",
      " 36  visited_customer_service_request_login  42264 non-null  int64 \n",
      " 37  visited_demo_page                       42264 non-null  int64 \n",
      " 38  visited_offer_page                      42264 non-null  int64 \n",
      " 39  visited_security_solutions_page         42264 non-null  int64 \n",
      " 40  visited_storelocator                    42264 non-null  int64 \n",
      " 41  visited_successbookdemo                 42264 non-null  int64 \n",
      " 42  visited_vacuum_cleaner_page             42264 non-null  int64 \n",
      " 43  visited_water_purifier_page             42264 non-null  int64 \n",
      " 44  water_purifier_page_top                 42264 non-null  int64 \n",
      " 45  callclick_in_7days                      42264 non-null  int64 \n",
      " 46  converted                               42264 non-null  int64 \n",
      "dtypes: int64(43), object(4)\n",
      "memory usage: 15.2+ MB\n"
     ]
    }
   ],
   "source": [
    "eureka_df.info()"
   ]
  },
  {
   "cell_type": "code",
   "execution_count": 284,
   "metadata": {},
   "outputs": [
    {
     "data": {
      "text/plain": [
       "array([0, 1])"
      ]
     },
     "execution_count": 284,
     "metadata": {},
     "output_type": "execute_result"
    }
   ],
   "source": [
    "eureka_df.converted.unique()"
   ]
  },
  {
   "cell_type": "code",
   "execution_count": 285,
   "metadata": {},
   "outputs": [
    {
     "data": {
      "text/plain": [
       "0    40000\n",
       "1     2264\n",
       "Name: converted, dtype: int64"
      ]
     },
     "execution_count": 285,
     "metadata": {},
     "output_type": "execute_result"
    }
   ],
   "source": [
    "eureka_df.converted.value_counts()"
   ]
  },
  {
   "cell_type": "markdown",
   "metadata": {},
   "source": [
    "## Encoding the catorical features"
   ]
  },
  {
   "cell_type": "code",
   "execution_count": 280,
   "metadata": {},
   "outputs": [],
   "source": [
    "cat_vars = ['country', 'device', 'region', 'sourceMedium']"
   ]
  },
  {
   "cell_type": "code",
   "execution_count": 287,
   "metadata": {},
   "outputs": [],
   "source": [
    "eureka_df_encoded = pd.get_dummies(eureka_df, columns=cat_vars)"
   ]
  },
  {
   "cell_type": "code",
   "execution_count": 300,
   "metadata": {},
   "outputs": [],
   "source": [
    "X_features = list(eureka_df_encoded.columns)\n",
    "X_features.remove('converted')"
   ]
  },
  {
   "cell_type": "markdown",
   "metadata": {},
   "source": [
    "## Splitting Dataset"
   ]
  },
  {
   "cell_type": "code",
   "execution_count": 301,
   "metadata": {},
   "outputs": [],
   "source": [
    "from sklearn.model_selection import train_test_split"
   ]
  },
  {
   "cell_type": "code",
   "execution_count": 302,
   "metadata": {},
   "outputs": [],
   "source": [
    "train_set, test_set = train_test_split(eureka_df_encoded,\n",
    "                                       train_size = 0.8, \n",
    "                                       random_state = 100)"
   ]
  },
  {
   "cell_type": "code",
   "execution_count": 303,
   "metadata": {},
   "outputs": [
    {
     "data": {
      "text/plain": [
       "0    32026\n",
       "1     1785\n",
       "Name: converted, dtype: int64"
      ]
     },
     "execution_count": 303,
     "metadata": {},
     "output_type": "execute_result"
    }
   ],
   "source": [
    "train_set.converted.value_counts()"
   ]
  },
  {
   "cell_type": "code",
   "execution_count": 304,
   "metadata": {},
   "outputs": [
    {
     "data": {
      "text/plain": [
       "0    7974\n",
       "1     479\n",
       "Name: converted, dtype: int64"
      ]
     },
     "execution_count": 304,
     "metadata": {},
     "output_type": "execute_result"
    }
   ],
   "source": [
    "test_set.converted.value_counts()"
   ]
  },
  {
   "cell_type": "markdown",
   "metadata": {},
   "source": [
    "## Resampling to create balanced dataset"
   ]
  },
  {
   "cell_type": "code",
   "execution_count": 305,
   "metadata": {},
   "outputs": [],
   "source": [
    "from sklearn.utils import resample, shuffle"
   ]
  },
  {
   "cell_type": "code",
   "execution_count": 306,
   "metadata": {},
   "outputs": [],
   "source": [
    "train_label_1 = resample(train_set[train_set.converted == 1],\n",
    "                             replace = True,\n",
    "                             n_samples=30000)\n",
    "\n",
    "train_label_0 = train_set[train_set.converted == 0]\n"
   ]
  },
  {
   "cell_type": "code",
   "execution_count": 307,
   "metadata": {},
   "outputs": [],
   "source": [
    "# Combine majority class with upsampled minority class\n",
    "train_set_resampled = pd.concat([train_label_1, train_label_0])"
   ]
  },
  {
   "cell_type": "code",
   "execution_count": 308,
   "metadata": {},
   "outputs": [],
   "source": [
    "train_set_resampled = shuffle(train_set_resampled)"
   ]
  },
  {
   "cell_type": "code",
   "execution_count": 309,
   "metadata": {},
   "outputs": [
    {
     "data": {
      "text/plain": [
       "0    32026\n",
       "1    30000\n",
       "Name: converted, dtype: int64"
      ]
     },
     "execution_count": 309,
     "metadata": {},
     "output_type": "execute_result"
    }
   ],
   "source": [
    "train_set_resampled.converted.value_counts()"
   ]
  },
  {
   "cell_type": "markdown",
   "metadata": {},
   "source": [
    "## Decision Tree Model\n",
    "\n",
    "### Buidling the model"
   ]
  },
  {
   "cell_type": "code",
   "execution_count": 310,
   "metadata": {},
   "outputs": [],
   "source": [
    "from sklearn.tree import DecisionTreeClassifier"
   ]
  },
  {
   "cell_type": "code",
   "execution_count": 400,
   "metadata": {},
   "outputs": [],
   "source": [
    "tree_v1 = DecisionTreeClassifier(max_depth=6, \n",
    "                                 criterion = 'gini')"
   ]
  },
  {
   "cell_type": "code",
   "execution_count": 401,
   "metadata": {},
   "outputs": [
    {
     "data": {
      "text/plain": [
       "DecisionTreeClassifier(max_depth=6)"
      ]
     },
     "execution_count": 401,
     "metadata": {},
     "output_type": "execute_result"
    }
   ],
   "source": [
    "tree_v1.fit(train_set_resampled[X_features], \n",
    "            train_set_resampled['converted'])"
   ]
  },
  {
   "cell_type": "markdown",
   "metadata": {},
   "source": [
    "### Predicting on test set"
   ]
  },
  {
   "cell_type": "code",
   "execution_count": 402,
   "metadata": {},
   "outputs": [],
   "source": [
    "y_tree_pred = tree_v1.predict(test_set[X_features])"
   ]
  },
  {
   "cell_type": "code",
   "execution_count": 403,
   "metadata": {},
   "outputs": [],
   "source": [
    "from sklearn.metrics import confusion_matrix, ConfusionMatrixDisplay"
   ]
  },
  {
   "cell_type": "code",
   "execution_count": 404,
   "metadata": {},
   "outputs": [],
   "source": [
    "cm_dt = confusion_matrix(test_set['converted'], y_tree_pred, labels = [1,0])"
   ]
  },
  {
   "cell_type": "code",
   "execution_count": 405,
   "metadata": {},
   "outputs": [],
   "source": [
    "cm_plot = ConfusionMatrixDisplay(cm_dt, display_labels=['Converted', 'Not Converted'])"
   ]
  },
  {
   "cell_type": "code",
   "execution_count": 406,
   "metadata": {},
   "outputs": [
    {
     "data": {
      "image/png": "[encoded data removed]",
      "text/plain": [
       "<Figure size 432x288 with 2 Axes>"
      ]
     },
     "metadata": {
      "needs_background": "light"
     },
     "output_type": "display_data"
    }
   ],
   "source": [
    "cm_plot.plot();"
   ]
  },
  {
   "cell_type": "code",
   "execution_count": 407,
   "metadata": {},
   "outputs": [],
   "source": [
    "from sklearn.metrics import roc_auc_score, plot_roc_curve, plot_precision_recall_curve"
   ]
  },
  {
   "cell_type": "code",
   "execution_count": 408,
   "metadata": {},
   "outputs": [],
   "source": [
    "y_pred_prob_dt = tree_v1.predict_proba(test_set[X_features])"
   ]
  },
  {
   "cell_type": "code",
   "execution_count": 409,
   "metadata": {},
   "outputs": [],
   "source": [
    "auc_score = roc_auc_score(test_set['converted'], y_pred_prob_dt[:,1])"
   ]
  },
  {
   "cell_type": "code",
   "execution_count": 410,
   "metadata": {},
   "outputs": [
    {
     "data": {
      "text/plain": [
       "0.7113862485227301"
      ]
     },
     "execution_count": 410,
     "metadata": {},
     "output_type": "execute_result"
    }
   ],
   "source": [
    "auc_score"
   ]
  },
  {
   "cell_type": "code",
   "execution_count": 411,
   "metadata": {
    "scrolled": false
   },
   "outputs": [
    {
     "data": {
      "image/png": "[encoded data removed]",
      "text/plain": [
       "<Figure size 432x288 with 1 Axes>"
      ]
     },
     "metadata": {
      "needs_background": "light"
     },
     "output_type": "display_data"
    }
   ],
   "source": [
    "plot_roc_curve(tree_v1, test_set[X_features], \n",
    "               test_set['converted']);"
   ]
  },
  {
   "cell_type": "markdown",
   "metadata": {},
   "source": [
    "### Finding Important Features"
   ]
  },
  {
   "cell_type": "code",
   "execution_count": 434,
   "metadata": {},
   "outputs": [],
   "source": [
    "import numpy as np"
   ]
  },
  {
   "cell_type": "code",
   "execution_count": 435,
   "metadata": {},
   "outputs": [],
   "source": [
    "features_df = pd.DataFrame({'feature': X_features,\n",
    "                            'importance': np.round(tree_v1.feature_importances_, 3) })"
   ]
  },
  {
   "cell_type": "code",
   "execution_count": 34,
   "metadata": {},
   "outputs": [],
   "source": [
    "features_df = features_df.sort_values('importance', \n",
    "                                      ascending = False)"
   ]
  },
  {
   "cell_type": "code",
   "execution_count": 35,
   "metadata": {},
   "outputs": [],
   "source": [
    "import matplotlib.pyplot as plt\n",
    "import seaborn as sn\n",
    "%matplotlib inline"
   ]
  },
  {
   "cell_type": "code",
   "execution_count": 36,
   "metadata": {},
   "outputs": [
    {
     "data": {
      "image/png": "[encoded data removed]",
      "text/plain": [
       "<Figure size 432x864 with 1 Axes>"
      ]
     },
     "metadata": {
      "needs_background": "light"
     },
     "output_type": "display_data"
    }
   ],
   "source": [
    "plt.figure(figsize=(6,12))\n",
    "sn.barplot(y = 'feature', \n",
    "           x = 'importance', \n",
    "           data = features_df[0:50]);"
   ]
  },
  {
   "cell_type": "code",
   "execution_count": 37,
   "metadata": {},
   "outputs": [],
   "source": [
    "features_df['cumsum'] = features_df.importance.cumsum()"
   ]
  },
  {
   "cell_type": "code",
   "execution_count": 38,
   "metadata": {},
   "outputs": [],
   "source": [
    "imp_cumsum_df = features_df.sort_values('cumsum', ascending=True)"
   ]
  },
  {
   "cell_type": "code",
   "execution_count": 39,
   "metadata": {},
   "outputs": [],
   "source": [
    "imp_cumsum_df = imp_cumsum_df.reset_index()"
   ]
  },
  {
   "cell_type": "code",
   "execution_count": 41,
   "metadata": {},
   "outputs": [
    {
     "data": {
      "text/html": [
       "<div>\n",
       "<style scoped>\n",
       "    .dataframe tbody tr th:only-of-type {\n",
       "        vertical-align: middle;\n",
       "    }\n",
       "\n",
       "    .dataframe tbody tr th {\n",
       "        vertical-align: top;\n",
       "    }\n",
       "\n",
       "    .dataframe thead th {\n",
       "        text-align: right;\n",
       "    }\n",
       "</style>\n",
       "<table border=\"1\" class=\"dataframe\">\n",
       "  <thead>\n",
       "    <tr style=\"text-align: right;\">\n",
       "      <th></th>\n",
       "      <th>index</th>\n",
       "      <th>feature</th>\n",
       "      <th>importance</th>\n",
       "      <th>cumsum</th>\n",
       "    </tr>\n",
       "  </thead>\n",
       "  <tbody>\n",
       "    <tr>\n",
       "      <th>0</th>\n",
       "      <td>8</td>\n",
       "      <td>demo_page_top</td>\n",
       "      <td>0.287</td>\n",
       "      <td>0.287</td>\n",
       "    </tr>\n",
       "    <tr>\n",
       "      <th>1</th>\n",
       "      <td>17</td>\n",
       "      <td>newUser</td>\n",
       "      <td>0.120</td>\n",
       "      <td>0.407</td>\n",
       "    </tr>\n",
       "    <tr>\n",
       "      <th>2</th>\n",
       "      <td>14</td>\n",
       "      <td>goal4Completions</td>\n",
       "      <td>0.097</td>\n",
       "      <td>0.504</td>\n",
       "    </tr>\n",
       "    <tr>\n",
       "      <th>3</th>\n",
       "      <td>10</td>\n",
       "      <td>fired_DemoReqPg_CallClicks_evt</td>\n",
       "      <td>0.095</td>\n",
       "      <td>0.599</td>\n",
       "    </tr>\n",
       "    <tr>\n",
       "      <th>4</th>\n",
       "      <td>23</td>\n",
       "      <td>sessionDuration</td>\n",
       "      <td>0.067</td>\n",
       "      <td>0.666</td>\n",
       "    </tr>\n",
       "    <tr>\n",
       "      <th>...</th>\n",
       "      <td>...</td>\n",
       "      <td>...</td>\n",
       "      <td>...</td>\n",
       "      <td>...</td>\n",
       "    </tr>\n",
       "    <tr>\n",
       "      <th>69</th>\n",
       "      <td>16</td>\n",
       "      <td>help_me_buy_evt_count</td>\n",
       "      <td>0.000</td>\n",
       "      <td>0.998</td>\n",
       "    </tr>\n",
       "    <tr>\n",
       "      <th>70</th>\n",
       "      <td>51</td>\n",
       "      <td>region_Haryana</td>\n",
       "      <td>0.000</td>\n",
       "      <td>0.998</td>\n",
       "    </tr>\n",
       "    <tr>\n",
       "      <th>71</th>\n",
       "      <td>48</td>\n",
       "      <td>region_Chhattisgarh</td>\n",
       "      <td>0.000</td>\n",
       "      <td>0.998</td>\n",
       "    </tr>\n",
       "    <tr>\n",
       "      <th>72</th>\n",
       "      <td>2</td>\n",
       "      <td>bookdemo_in_7days</td>\n",
       "      <td>0.000</td>\n",
       "      <td>0.998</td>\n",
       "    </tr>\n",
       "    <tr>\n",
       "      <th>73</th>\n",
       "      <td>45</td>\n",
       "      <td>region_Assam</td>\n",
       "      <td>0.000</td>\n",
       "      <td>0.998</td>\n",
       "    </tr>\n",
       "  </tbody>\n",
       "</table>\n",
       "<p>74 rows × 4 columns</p>\n",
       "</div>"
      ],
      "text/plain": [
       "    index                         feature  importance  cumsum\n",
       "0       8                   demo_page_top       0.287   0.287\n",
       "1      17                         newUser       0.120   0.407\n",
       "2      14                goal4Completions       0.097   0.504\n",
       "3      10  fired_DemoReqPg_CallClicks_evt       0.095   0.599\n",
       "4      23                 sessionDuration       0.067   0.666\n",
       "..    ...                             ...         ...     ...\n",
       "69     16           help_me_buy_evt_count       0.000   0.998\n",
       "70     51                  region_Haryana       0.000   0.998\n",
       "71     48             region_Chhattisgarh       0.000   0.998\n",
       "72      2               bookdemo_in_7days       0.000   0.998\n",
       "73     45                    region_Assam       0.000   0.998\n",
       "\n",
       "[74 rows x 4 columns]"
      ]
     },
     "execution_count": 41,
     "metadata": {},
     "output_type": "execute_result"
    }
   ],
   "source": [
    "imp_cumsum_df"
   ]
  },
  {
   "cell_type": "code",
   "execution_count": null,
   "metadata": {},
   "outputs": [],
   "source": []
  }
 ],
 "metadata": {
  "kernelspec": {
   "display_name": "Python 3",
   "language": "python",
   "name": "python3"
  },
  "language_info": {
   "codemirror_mode": {
    "name": "ipython",
    "version": 3
   },
   "file_extension": ".py",
   "mimetype": "text/x-python",
   "name": "python",
   "nbconvert_exporter": "python",
   "pygments_lexer": "ipython3",
   "version": "3.8.3"
  }
 },
 "nbformat": 4,
 "nbformat_minor": 2
}
