{
  "cells": [
    {
      "cell_type": "markdown",
      "metadata": {
        "id": "axiVNCdET8Q1"
      },
      "source": [
        "\n",
        "# Used Car Price Exploration\n",
        "\n",
        "There are id and 12 characteristics of cars and the price.\n",
        "\n",
        "1. Id - Car's id\n",
        "2. Name - The brand and model of the car.\n",
        "3. Location - The location in which the car is being sold or is available for purchase.\n",
        "4. Year - The year or edition of the model.\n",
        "5. Kilometers_Driven - The total kilometers are driven in the car by the previous owner(s) in KM.\n",
        "6. Fuel_Type - The type of fuel used by the car. (Petrol, Diesel, Electric, CNG, LPG)\n",
        "7. Transmission - The type of transmission used by the car. (Automatic / Manual)\n",
        "8. Owner_Type - First, Second, Third, or Fourth & Above\n",
        "9. Mileage - The standard mileage offered by the car company in kmpl or km/kg\n",
        "10. Engine - The displacement volume of the engine in CC.\n",
        "11. Power - The maximum power of the engine in bhp.\n",
        "12. Seats - The number of seats in the car.\n",
        "13. New_Price - The price of a new car of the same model.\n",
        "14. Price - The price of the car (target)."
      ]
    },
    {
      "cell_type": "markdown",
      "metadata": {
        "id": "D44UGQOGT8Q5"
      },
      "source": [
        "### Loading the dataset"
      ]
    },
    {
      "cell_type": "code",
      "execution_count": 8,
      "metadata": {
        "id": "5ntzyGM-T8Q6"
      },
      "outputs": [],
      "source": [
        "import pandas as pd\n",
        "import numpy as np"
      ]
    },
    {
      "cell_type": "code",
      "execution_count": 9,
      "metadata": {
        "id": "-TqqG64fT8Q7"
      },
      "outputs": [],
      "source": [
        "cars_df = pd.read_csv( \"https://drive.google.com/uc?export=download&id=1YWEXBLnrI6b6cWSuDRsHqfrIF4vHiGlm\" )"
      ]
    },
    {
      "cell_type": "code",
      "execution_count": 10,
      "metadata": {
        "colab": {
          "base_uri": "https://localhost:8080/"
        },
        "id": "2s5qOvA2T8Q7",
        "outputId": "62bd21ca-948c-4452-bd08-caa94c267c26"
      },
      "outputs": [
        {
          "output_type": "execute_result",
          "data": {
            "text/plain": [
              "pandas.core.frame.DataFrame"
            ]
          },
          "metadata": {},
          "execution_count": 10
        }
      ],
      "source": [
        "type(cars_df)"
      ]
    },
    {
      "cell_type": "markdown",
      "metadata": {
        "id": "GOcPPbQJT8Q8"
      },
      "source": [
        "### Showing few records"
      ]
    },
    {
      "cell_type": "code",
      "execution_count": 11,
      "metadata": {
        "scrolled": true,
        "colab": {
          "base_uri": "https://localhost:8080/",
          "height": 354
        },
        "id": "ePtJbL25T8Q9",
        "outputId": "e66703cd-ef3d-463e-ff7b-96d9988ff682"
      },
      "outputs": [
        {
          "output_type": "execute_result",
          "data": {
            "text/plain": [
              "   index                            Name Location  Year  Kilometers_Driven  \\\n",
              "0      2                    Honda Jazz V  Chennai  2011              46000   \n",
              "1      3               Maruti Ertiga VDI  Chennai  2012              87000   \n",
              "2      6          Nissan Micra Diesel XV   Jaipur  2013              86999   \n",
              "3      9  Tata Indica Vista Quadrajet LS  Chennai  2012              65932   \n",
              "4     12           Maruti Swift VDI BSIV   Jaipur  2015              64424   \n",
              "\n",
              "  Fuel_Type Transmission Owner_Type     Mileage   Engine      Power  Seats  \\\n",
              "0    Petrol       Manual      First   18.2 kmpl  1199 CC   88.7 bhp    5.0   \n",
              "1    Diesel       Manual      First  20.77 kmpl  1248 CC  88.76 bhp    7.0   \n",
              "2    Diesel       Manual      First  23.08 kmpl  1461 CC   63.1 bhp    5.0   \n",
              "3    Diesel       Manual     Second   22.3 kmpl  1248 CC     74 bhp    5.0   \n",
              "4    Diesel       Manual      First   25.2 kmpl  1248 CC     74 bhp    5.0   \n",
              "\n",
              "   New_Price  Price  \n",
              "0  8.61 Lakh   4.50  \n",
              "1        NaN   6.00  \n",
              "2        NaN   3.50  \n",
              "3        NaN   1.95  \n",
              "4        NaN   5.60  "
            ],
            "text/html": [
              "\n",
              "  <div id=\"df-f768feed-45da-4480-a443-6b03f3db9471\">\n",
              "    <div class=\"colab-df-container\">\n",
              "      <div>\n",
              "<style scoped>\n",
              "    .dataframe tbody tr th:only-of-type {\n",
              "        vertical-align: middle;\n",
              "    }\n",
              "\n",
              "    .dataframe tbody tr th {\n",
              "        vertical-align: top;\n",
              "    }\n",
              "\n",
              "    .dataframe thead th {\n",
              "        text-align: right;\n",
              "    }\n",
              "</style>\n",
              "<table border=\"1\" class=\"dataframe\">\n",
              "  <thead>\n",
              "    <tr style=\"text-align: right;\">\n",
              "      <th></th>\n",
              "      <th>index</th>\n",
              "      <th>Name</th>\n",
              "      <th>Location</th>\n",
              "      <th>Year</th>\n",
              "      <th>Kilometers_Driven</th>\n",
              "      <th>Fuel_Type</th>\n",
              "      <th>Transmission</th>\n",
              "      <th>Owner_Type</th>\n",
              "      <th>Mileage</th>\n",
              "      <th>Engine</th>\n",
              "      <th>Power</th>\n",
              "      <th>Seats</th>\n",
              "      <th>New_Price</th>\n",
              "      <th>Price</th>\n",
              "    </tr>\n",
              "  </thead>\n",
              "  <tbody>\n",
              "    <tr>\n",
              "      <th>0</th>\n",
              "      <td>2</td>\n",
              "      <td>Honda Jazz V</td>\n",
              "      <td>Chennai</td>\n",
              "      <td>2011</td>\n",
              "      <td>46000</td>\n",
              "      <td>Petrol</td>\n",
              "      <td>Manual</td>\n",
              "      <td>First</td>\n",
              "      <td>18.2 kmpl</td>\n",
              "      <td>1199 CC</td>\n",
              "      <td>88.7 bhp</td>\n",
              "      <td>5.0</td>\n",
              "      <td>8.61 Lakh</td>\n",
              "      <td>4.50</td>\n",
              "    </tr>\n",
              "    <tr>\n",
              "      <th>1</th>\n",
              "      <td>3</td>\n",
              "      <td>Maruti Ertiga VDI</td>\n",
              "      <td>Chennai</td>\n",
              "      <td>2012</td>\n",
              "      <td>87000</td>\n",
              "      <td>Diesel</td>\n",
              "      <td>Manual</td>\n",
              "      <td>First</td>\n",
              "      <td>20.77 kmpl</td>\n",
              "      <td>1248 CC</td>\n",
              "      <td>88.76 bhp</td>\n",
              "      <td>7.0</td>\n",
              "      <td>NaN</td>\n",
              "      <td>6.00</td>\n",
              "    </tr>\n",
              "    <tr>\n",
              "      <th>2</th>\n",
              "      <td>6</td>\n",
              "      <td>Nissan Micra Diesel XV</td>\n",
              "      <td>Jaipur</td>\n",
              "      <td>2013</td>\n",
              "      <td>86999</td>\n",
              "      <td>Diesel</td>\n",
              "      <td>Manual</td>\n",
              "      <td>First</td>\n",
              "      <td>23.08 kmpl</td>\n",
              "      <td>1461 CC</td>\n",
              "      <td>63.1 bhp</td>\n",
              "      <td>5.0</td>\n",
              "      <td>NaN</td>\n",
              "      <td>3.50</td>\n",
              "    </tr>\n",
              "    <tr>\n",
              "      <th>3</th>\n",
              "      <td>9</td>\n",
              "      <td>Tata Indica Vista Quadrajet LS</td>\n",
              "      <td>Chennai</td>\n",
              "      <td>2012</td>\n",
              "      <td>65932</td>\n",
              "      <td>Diesel</td>\n",
              "      <td>Manual</td>\n",
              "      <td>Second</td>\n",
              "      <td>22.3 kmpl</td>\n",
              "      <td>1248 CC</td>\n",
              "      <td>74 bhp</td>\n",
              "      <td>5.0</td>\n",
              "      <td>NaN</td>\n",
              "      <td>1.95</td>\n",
              "    </tr>\n",
              "    <tr>\n",
              "      <th>4</th>\n",
              "      <td>12</td>\n",
              "      <td>Maruti Swift VDI BSIV</td>\n",
              "      <td>Jaipur</td>\n",
              "      <td>2015</td>\n",
              "      <td>64424</td>\n",
              "      <td>Diesel</td>\n",
              "      <td>Manual</td>\n",
              "      <td>First</td>\n",
              "      <td>25.2 kmpl</td>\n",
              "      <td>1248 CC</td>\n",
              "      <td>74 bhp</td>\n",
              "      <td>5.0</td>\n",
              "      <td>NaN</td>\n",
              "      <td>5.60</td>\n",
              "    </tr>\n",
              "  </tbody>\n",
              "</table>\n",
              "</div>\n",
              "      <button class=\"colab-df-convert\" onclick=\"convertToInteractive('df-f768feed-45da-4480-a443-6b03f3db9471')\"\n",
              "              title=\"Convert this dataframe to an interactive table.\"\n",
              "              style=\"display:none;\">\n",
              "        \n",
              "  <svg xmlns=\"http://www.w3.org/2000/svg\" height=\"24px\"viewBox=\"0 0 24 24\"\n",
              "       width=\"24px\">\n",
              "    <path d=\"M0 0h24v24H0V0z\" fill=\"none\"/>\n",
              "    <path d=\"M18.56 5.44l.94 2.06.94-2.06 2.06-.94-2.06-.94-.94-2.06-.94 2.06-2.06.94zm-11 1L8.5 8.5l.94-2.06 2.06-.94-2.06-.94L8.5 2.5l-.94 2.06-2.06.94zm10 10l.94 2.06.94-2.06 2.06-.94-2.06-.94-.94-2.06-.94 2.06-2.06.94z\"/><path d=\"M17.41 7.96l-1.37-1.37c-.4-.4-.92-.59-1.43-.59-.52 0-1.04.2-1.43.59L10.3 9.45l-7.72 7.72c-.78.78-.78 2.05 0 2.83L4 21.41c.39.39.9.59 1.41.59.51 0 1.02-.2 1.41-.59l7.78-7.78 2.81-2.81c.8-.78.8-2.07 0-2.86zM5.41 20L4 18.59l7.72-7.72 1.47 1.35L5.41 20z\"/>\n",
              "  </svg>\n",
              "      </button>\n",
              "      \n",
              "  <style>\n",
              "    .colab-df-container {\n",
              "      display:flex;\n",
              "      flex-wrap:wrap;\n",
              "      gap: 12px;\n",
              "    }\n",
              "\n",
              "    .colab-df-convert {\n",
              "      background-color: #E8F0FE;\n",
              "      border: none;\n",
              "      border-radius: 50%;\n",
              "      cursor: pointer;\n",
              "      display: none;\n",
              "      fill: #1967D2;\n",
              "      height: 32px;\n",
              "      padding: 0 0 0 0;\n",
              "      width: 32px;\n",
              "    }\n",
              "\n",
              "    .colab-df-convert:hover {\n",
              "      background-color: #E2EBFA;\n",
              "      box-shadow: 0px 1px 2px rgba(60, 64, 67, 0.3), 0px 1px 3px 1px rgba(60, 64, 67, 0.15);\n",
              "      fill: #174EA6;\n",
              "    }\n",
              "\n",
              "    [theme=dark] .colab-df-convert {\n",
              "      background-color: #3B4455;\n",
              "      fill: #D2E3FC;\n",
              "    }\n",
              "\n",
              "    [theme=dark] .colab-df-convert:hover {\n",
              "      background-color: #434B5C;\n",
              "      box-shadow: 0px 1px 3px 1px rgba(0, 0, 0, 0.15);\n",
              "      filter: drop-shadow(0px 1px 2px rgba(0, 0, 0, 0.3));\n",
              "      fill: #FFFFFF;\n",
              "    }\n",
              "  </style>\n",
              "\n",
              "      <script>\n",
              "        const buttonEl =\n",
              "          document.querySelector('#df-f768feed-45da-4480-a443-6b03f3db9471 button.colab-df-convert');\n",
              "        buttonEl.style.display =\n",
              "          google.colab.kernel.accessAllowed ? 'block' : 'none';\n",
              "\n",
              "        async function convertToInteractive(key) {\n",
              "          const element = document.querySelector('#df-f768feed-45da-4480-a443-6b03f3db9471');\n",
              "          const dataTable =\n",
              "            await google.colab.kernel.invokeFunction('convertToInteractive',\n",
              "                                                     [key], {});\n",
              "          if (!dataTable) return;\n",
              "\n",
              "          const docLinkHtml = 'Like what you see? Visit the ' +\n",
              "            '<a target=\"_blank\" href=https://colab.research.google.com/notebooks/data_table.ipynb>data table notebook</a>'\n",
              "            + ' to learn more about interactive tables.';\n",
              "          element.innerHTML = '';\n",
              "          dataTable['output_type'] = 'display_data';\n",
              "          await google.colab.output.renderOutput(dataTable, element);\n",
              "          const docLink = document.createElement('div');\n",
              "          docLink.innerHTML = docLinkHtml;\n",
              "          element.appendChild(docLink);\n",
              "        }\n",
              "      </script>\n",
              "    </div>\n",
              "  </div>\n",
              "  "
            ]
          },
          "metadata": {},
          "execution_count": 11
        }
      ],
      "source": [
        "cars_df.head(5)"
      ]
    },
    {
      "cell_type": "markdown",
      "metadata": {
        "id": "INEfQ5d-T8Q9"
      },
      "source": [
        "### Getting metadata"
      ]
    },
    {
      "cell_type": "code",
      "execution_count": 12,
      "metadata": {
        "colab": {
          "base_uri": "https://localhost:8080/"
        },
        "id": "8d91JutrT8Q-",
        "outputId": "54e45aaa-99c6-4088-c268-279e82298a5e"
      },
      "outputs": [
        {
          "output_type": "execute_result",
          "data": {
            "text/plain": [
              "(3092, 14)"
            ]
          },
          "metadata": {},
          "execution_count": 12
        }
      ],
      "source": [
        "## Dimension of the dataset\n",
        "cars_df.shape"
      ]
    },
    {
      "cell_type": "code",
      "execution_count": 13,
      "metadata": {
        "colab": {
          "base_uri": "https://localhost:8080/"
        },
        "id": "40iRAU16T8Q-",
        "outputId": "dd619f7d-6d59-40b8-8435-a15fcdd9d00e"
      },
      "outputs": [
        {
          "output_type": "stream",
          "name": "stdout",
          "text": [
            "<class 'pandas.core.frame.DataFrame'>\n",
            "RangeIndex: 3092 entries, 0 to 3091\n",
            "Data columns (total 14 columns):\n",
            " #   Column             Non-Null Count  Dtype  \n",
            "---  ------             --------------  -----  \n",
            " 0   index              3092 non-null   int64  \n",
            " 1   Name               3092 non-null   object \n",
            " 2   Location           3092 non-null   object \n",
            " 3   Year               3092 non-null   int64  \n",
            " 4   Kilometers_Driven  3092 non-null   int64  \n",
            " 5   Fuel_Type          3092 non-null   object \n",
            " 6   Transmission       3092 non-null   object \n",
            " 7   Owner_Type         3092 non-null   object \n",
            " 8   Mileage            3092 non-null   object \n",
            " 9   Engine             3092 non-null   object \n",
            " 10  Power              3092 non-null   object \n",
            " 11  Seats              3091 non-null   float64\n",
            " 12  New_Price          411 non-null    object \n",
            " 13  Price              3092 non-null   float64\n",
            "dtypes: float64(2), int64(3), object(9)\n",
            "memory usage: 338.3+ KB\n"
          ]
        }
      ],
      "source": [
        "cars_df.info()"
      ]
    },
    {
      "cell_type": "markdown",
      "metadata": {
        "id": "VoOnkX5-T8Q_"
      },
      "source": [
        "### Histogram for plotting Continuous Variables (Price)\n",
        "\n",
        "- By default it creates 10 bins. \n",
        "- Bin width is determined by using (max - min)/10"
      ]
    },
    {
      "cell_type": "code",
      "execution_count": 14,
      "metadata": {
        "id": "A0zFhkc2T8Q_"
      },
      "outputs": [],
      "source": [
        "import matplotlib.pyplot as plt\n",
        "import seaborn as sn\n",
        "\n",
        "sn.set_style(\"whitegrid\")\n",
        "sn.set_context(\"paper\")\n",
        "sn.color_palette(\"Set2\");"
      ]
    },
    {
      "cell_type": "code",
      "execution_count": 15,
      "metadata": {
        "scrolled": true,
        "colab": {
          "base_uri": "https://localhost:8080/",
          "height": 320
        },
        "id": "0QnrnAp8T8RA",
        "outputId": "5212fb37-9279-46c3-83bd-fd32cec9ccca"
      },
      "outputs": [
        {
          "output_type": "display_data",
          "data": {
            "text/plain": [
              "<Figure size 1080x360 with 1 Axes>"
            ],
            "image/png": "[encoded data removed]"
          },
          "metadata": {}
        }
      ],
      "source": [
        "plt.figure(figsize=(15,5))\n",
        "plt.hist(cars_df['Price']);"
      ]
    },
    {
      "cell_type": "markdown",
      "source": [
        "### Creating histogram with specified bins\n",
        "\n",
        "Create 15 bins starting from 0 to 15 with width of 1"
      ],
      "metadata": {
        "id": "uihv60FiUGuw"
      }
    },
    {
      "cell_type": "code",
      "execution_count": 16,
      "metadata": {
        "colab": {
          "base_uri": "https://localhost:8080/",
          "height": 320
        },
        "id": "EFWYGIw6T8RA",
        "outputId": "c93ea5ca-aecb-4614-db80-10947330c95e"
      },
      "outputs": [
        {
          "output_type": "display_data",
          "data": {
            "text/plain": [
              "<Figure size 1080x360 with 1 Axes>"
            ],
            "image/png": "[encoded data removed]"
          },
          "metadata": {}
        }
      ],
      "source": [
        "plt.figure(figsize=(15,5))\n",
        "hist_data = plt.hist(cars_df['Price'], bins=list(range(0, 15, 1)));"
      ]
    },
    {
      "cell_type": "markdown",
      "metadata": {
        "id": "jGNtFrO5T8RB"
      },
      "source": [
        "### Finding Outliers\n",
        "\n",
        "Reference: https://towardsdatascience.com/understanding-boxplots-5e2df7bcbd51\n",
        "\n",
        "<img src=\"box.png\" alt=\"Nowmal Distribution\" width=\"600\"/>"
      ]
    },
    {
      "cell_type": "code",
      "execution_count": 17,
      "metadata": {
        "colab": {
          "base_uri": "https://localhost:8080/",
          "height": 266
        },
        "id": "_S160nn0T8RB",
        "outputId": "551f7908-d2be-4fb1-960e-2f140e7e72cb"
      },
      "outputs": [
        {
          "output_type": "display_data",
          "data": {
            "text/plain": [
              "<Figure size 432x288 with 1 Axes>"
            ],
            "image/png": "[encoded data removed]"
          },
          "metadata": {}
        }
      ],
      "source": [
        "plt.boxplot(cars_df['Price']);"
      ]
    },
    {
      "cell_type": "code",
      "execution_count": 18,
      "metadata": {
        "scrolled": false,
        "colab": {
          "base_uri": "https://localhost:8080/",
          "height": 444
        },
        "id": "FkfMx8pdT8RB",
        "outputId": "e0c1b806-2256-4a32-9bea-3baae8d954c6"
      },
      "outputs": [
        {
          "output_type": "stream",
          "name": "stderr",
          "text": [
            "/usr/local/lib/python3.7/dist-packages/seaborn/_decorators.py:43: FutureWarning: Pass the following variable as a keyword arg: x. From version 0.12, the only valid positional argument will be `data`, and passing other arguments without an explicit keyword will result in an error or misinterpretation.\n",
            "  FutureWarning\n"
          ]
        },
        {
          "output_type": "display_data",
          "data": {
            "text/plain": [
              "<Figure size 1080x432 with 1 Axes>"
            ],
            "image/png": "[encoded data removed]"
          },
          "metadata": {}
        }
      ],
      "source": [
        "plt.figure(figsize=(15,6))\n",
        "boxp = sn.boxplot(cars_df['Price']);"
      ]
    },
    {
      "cell_type": "markdown",
      "source": [
        "#### Find Median and IQR values"
      ],
      "metadata": {
        "id": "_JcZszkPUpZ3"
      }
    },
    {
      "cell_type": "code",
      "execution_count": 19,
      "metadata": {
        "colab": {
          "base_uri": "https://localhost:8080/"
        },
        "id": "j-pkb-vnT8RC",
        "outputId": "534f994f-b640-47bd-ffe7-35fa9aa37b94"
      },
      "outputs": [
        {
          "output_type": "execute_result",
          "data": {
            "text/plain": [
              "4.15"
            ]
          },
          "metadata": {},
          "execution_count": 19
        }
      ],
      "source": [
        "cars_df['Price'].median()"
      ]
    },
    {
      "cell_type": "code",
      "execution_count": 20,
      "metadata": {
        "id": "-BlPnFdlT8RC"
      },
      "outputs": [],
      "source": [
        "from scipy import stats"
      ]
    },
    {
      "cell_type": "code",
      "execution_count": 21,
      "metadata": {
        "colab": {
          "base_uri": "https://localhost:8080/"
        },
        "id": "5bLgMnm0T8RD",
        "outputId": "f8cbf81b-958e-43cc-8b75-3e4b4773efb7"
      },
      "outputs": [
        {
          "output_type": "execute_result",
          "data": {
            "text/plain": [
              "2.9824999999999995"
            ]
          },
          "metadata": {},
          "execution_count": 21
        }
      ],
      "source": [
        "iqr = stats.iqr(cars_df['Price'])\n",
        "iqr"
      ]
    },
    {
      "cell_type": "code",
      "execution_count": 22,
      "metadata": {
        "colab": {
          "base_uri": "https://localhost:8080/"
        },
        "id": "wYnN6uPGT8RD",
        "outputId": "5a031b73-6539-44a8-8150-93e7c6a4d264"
      },
      "outputs": [
        {
          "output_type": "execute_result",
          "data": {
            "text/plain": [
              "count    3092.000000\n",
              "mean        4.435783\n",
              "std         2.116982\n",
              "min         0.440000\n",
              "25%         2.850000\n",
              "50%         4.150000\n",
              "75%         5.832500\n",
              "max        12.900000\n",
              "Name: Price, dtype: float64"
            ]
          },
          "metadata": {},
          "execution_count": 22
        }
      ],
      "source": [
        "cars_df['Price'].describe()"
      ]
    },
    {
      "cell_type": "code",
      "execution_count": 23,
      "metadata": {
        "id": "ZIHee4dTT8RD"
      },
      "outputs": [],
      "source": [
        "min_price = cars_df['Price'].describe()['25%'] - 1.5 * iqr\n",
        "max_price = cars_df['Price'].describe()['75%'] + 1.5 * iqr"
      ]
    },
    {
      "cell_type": "code",
      "execution_count": 24,
      "metadata": {
        "colab": {
          "base_uri": "https://localhost:8080/"
        },
        "id": "r1X4GchWT8RD",
        "outputId": "c2fb0242-8442-44b8-e3fa-8ab9aa8b3e74"
      },
      "outputs": [
        {
          "output_type": "execute_result",
          "data": {
            "text/plain": [
              "(-1.623749999999999, 10.306249999999999)"
            ]
          },
          "metadata": {},
          "execution_count": 24
        }
      ],
      "source": [
        "min_price, max_price"
      ]
    },
    {
      "cell_type": "code",
      "execution_count": 25,
      "metadata": {
        "colab": {
          "base_uri": "https://localhost:8080/"
        },
        "id": "dCxAHMQRT8RE",
        "outputId": "55a9142f-c4e4-43be-abdf-37711b0c15ad"
      },
      "outputs": [
        {
          "output_type": "execute_result",
          "data": {
            "text/plain": [
              "(3064,)"
            ]
          },
          "metadata": {},
          "execution_count": 25
        }
      ],
      "source": [
        "cars_df[cars_df.Price < 10.30]['Price'].shape"
      ]
    },
    {
      "cell_type": "code",
      "execution_count": 26,
      "metadata": {
        "colab": {
          "base_uri": "https://localhost:8080/",
          "height": 336
        },
        "id": "j_wNhvdRT8RE",
        "outputId": "3ac1b3d6-c932-46f9-ffc3-e7492d87134f"
      },
      "outputs": [
        {
          "output_type": "stream",
          "name": "stderr",
          "text": [
            "/usr/local/lib/python3.7/dist-packages/seaborn/distributions.py:2619: FutureWarning: `distplot` is a deprecated function and will be removed in a future version. Please adapt your code to use either `displot` (a figure-level function with similar flexibility) or `histplot` (an axes-level function for histograms).\n",
            "  warnings.warn(msg, FutureWarning)\n"
          ]
        },
        {
          "output_type": "display_data",
          "data": {
            "text/plain": [
              "<Figure size 432x288 with 1 Axes>"
            ],
            "image/png": "[encoded data removed]"
          },
          "metadata": {}
        }
      ],
      "source": [
        "sn.distplot(cars_df[cars_df.Price < 10.30]['Price']);"
      ]
    },
    {
      "cell_type": "markdown",
      "metadata": {
        "id": "4zwpTk_mT8RE"
      },
      "source": [
        "### Creating new factors: Age of car\n",
        "\n",
        "This is not the actual age of the car.\n",
        "\n",
        "We are substracting the edition of the car from the current year."
      ]
    },
    {
      "cell_type": "code",
      "execution_count": 27,
      "metadata": {
        "id": "wFfRC3UMT8RE"
      },
      "outputs": [],
      "source": [
        "cars_df['age'] = 2019 - cars_df['Year']"
      ]
    },
    {
      "cell_type": "markdown",
      "metadata": {
        "id": "jt0Hr_WhT8RE"
      },
      "source": [
        "### Changing the Unit of KM Driven"
      ]
    },
    {
      "cell_type": "code",
      "execution_count": 28,
      "metadata": {
        "id": "4hzgnDzQT8RF"
      },
      "outputs": [],
      "source": [
        "cars_df['KM_Driven'] = cars_df['Kilometers_Driven'].map(lambda x: int(x/1000))"
      ]
    },
    {
      "cell_type": "markdown",
      "metadata": {
        "id": "uBWTnYK7T8RF"
      },
      "source": [
        "### Extracting Car Makes names from the name string\n",
        "We are assuming the first token to be the make and the second token to be the model."
      ]
    },
    {
      "cell_type": "code",
      "execution_count": 29,
      "metadata": {
        "id": "O_8E8A2PT8RF"
      },
      "outputs": [],
      "source": [
        "cars_df['make'] = cars_df['Name'].map( lambda x: x.lower().split()[0] )"
      ]
    },
    {
      "cell_type": "code",
      "execution_count": 30,
      "metadata": {
        "colab": {
          "base_uri": "https://localhost:8080/"
        },
        "id": "m9Orzs1sT8RF",
        "outputId": "0f43251e-67dc-4be0-bee6-fec0d5f07280"
      },
      "outputs": [
        {
          "output_type": "execute_result",
          "data": {
            "text/plain": [
              "maruti        1082\n",
              "hyundai        739\n",
              "honda          316\n",
              "ford           217\n",
              "tata           151\n",
              "volkswagen     151\n",
              "chevrolet       88\n",
              "renault         84\n",
              "toyota          78\n",
              "nissan          67\n",
              "mahindra        61\n",
              "skoda           21\n",
              "fiat            21\n",
              "datsun          13\n",
              "mitsubishi       2\n",
              "ambassador       1\n",
              "Name: make, dtype: int64"
            ]
          },
          "metadata": {},
          "execution_count": 30
        }
      ],
      "source": [
        "cars_df.make.value_counts()"
      ]
    },
    {
      "cell_type": "code",
      "execution_count": 31,
      "metadata": {
        "colab": {
          "base_uri": "https://localhost:8080/"
        },
        "id": "EbMU_pEFT8RF",
        "outputId": "5fb342f7-d875-4a2a-97fb-225657c4f026"
      },
      "outputs": [
        {
          "output_type": "stream",
          "name": "stdout",
          "text": [
            "<class 'pandas.core.frame.DataFrame'>\n",
            "RangeIndex: 3092 entries, 0 to 3091\n",
            "Data columns (total 17 columns):\n",
            " #   Column             Non-Null Count  Dtype  \n",
            "---  ------             --------------  -----  \n",
            " 0   index              3092 non-null   int64  \n",
            " 1   Name               3092 non-null   object \n",
            " 2   Location           3092 non-null   object \n",
            " 3   Year               3092 non-null   int64  \n",
            " 4   Kilometers_Driven  3092 non-null   int64  \n",
            " 5   Fuel_Type          3092 non-null   object \n",
            " 6   Transmission       3092 non-null   object \n",
            " 7   Owner_Type         3092 non-null   object \n",
            " 8   Mileage            3092 non-null   object \n",
            " 9   Engine             3092 non-null   object \n",
            " 10  Power              3092 non-null   object \n",
            " 11  Seats              3091 non-null   float64\n",
            " 12  New_Price          411 non-null    object \n",
            " 13  Price              3092 non-null   float64\n",
            " 14  age                3092 non-null   int64  \n",
            " 15  KM_Driven          3092 non-null   int64  \n",
            " 16  make               3092 non-null   object \n",
            "dtypes: float64(2), int64(5), object(10)\n",
            "memory usage: 410.8+ KB\n"
          ]
        }
      ],
      "source": [
        "cars_df.info()"
      ]
    },
    {
      "cell_type": "markdown",
      "metadata": {
        "id": "Hp1uOhP-T8RG"
      },
      "source": [
        "### Converting datatypes of columns\n",
        "\n",
        "- Engine capacity, power and mileage are not numerical values. \n",
        "- The values are specified along with unit names. \n",
        "- We need to convert them to numerical values by removing the unit names."
      ]
    },
    {
      "cell_type": "code",
      "execution_count": 32,
      "metadata": {
        "colab": {
          "base_uri": "https://localhost:8080/",
          "height": 245
        },
        "id": "S3XxW_2zT8RG",
        "outputId": "e23d2ad5-8c8d-4832-e88c-2883897baddb"
      },
      "outputs": [
        {
          "output_type": "execute_result",
          "data": {
            "text/plain": [
              "   index               Name Location  Year  Kilometers_Driven Fuel_Type  \\\n",
              "0      2       Honda Jazz V  Chennai  2011              46000    Petrol   \n",
              "1      3  Maruti Ertiga VDI  Chennai  2012              87000    Diesel   \n",
              "\n",
              "  Transmission Owner_Type     Mileage   Engine      Power  Seats  New_Price  \\\n",
              "0       Manual      First   18.2 kmpl  1199 CC   88.7 bhp    5.0  8.61 Lakh   \n",
              "1       Manual      First  20.77 kmpl  1248 CC  88.76 bhp    7.0        NaN   \n",
              "\n",
              "   Price  age  KM_Driven    make  \n",
              "0    4.5    8         46   honda  \n",
              "1    6.0    7         87  maruti  "
            ],
            "text/html": [
              "\n",
              "  <div id=\"df-03e64f54-69d8-4901-a0ee-afcab8020810\">\n",
              "    <div class=\"colab-df-container\">\n",
              "      <div>\n",
              "<style scoped>\n",
              "    .dataframe tbody tr th:only-of-type {\n",
              "        vertical-align: middle;\n",
              "    }\n",
              "\n",
              "    .dataframe tbody tr th {\n",
              "        vertical-align: top;\n",
              "    }\n",
              "\n",
              "    .dataframe thead th {\n",
              "        text-align: right;\n",
              "    }\n",
              "</style>\n",
              "<table border=\"1\" class=\"dataframe\">\n",
              "  <thead>\n",
              "    <tr style=\"text-align: right;\">\n",
              "      <th></th>\n",
              "      <th>index</th>\n",
              "      <th>Name</th>\n",
              "      <th>Location</th>\n",
              "      <th>Year</th>\n",
              "      <th>Kilometers_Driven</th>\n",
              "      <th>Fuel_Type</th>\n",
              "      <th>Transmission</th>\n",
              "      <th>Owner_Type</th>\n",
              "      <th>Mileage</th>\n",
              "      <th>Engine</th>\n",
              "      <th>Power</th>\n",
              "      <th>Seats</th>\n",
              "      <th>New_Price</th>\n",
              "      <th>Price</th>\n",
              "      <th>age</th>\n",
              "      <th>KM_Driven</th>\n",
              "      <th>make</th>\n",
              "    </tr>\n",
              "  </thead>\n",
              "  <tbody>\n",
              "    <tr>\n",
              "      <th>0</th>\n",
              "      <td>2</td>\n",
              "      <td>Honda Jazz V</td>\n",
              "      <td>Chennai</td>\n",
              "      <td>2011</td>\n",
              "      <td>46000</td>\n",
              "      <td>Petrol</td>\n",
              "      <td>Manual</td>\n",
              "      <td>First</td>\n",
              "      <td>18.2 kmpl</td>\n",
              "      <td>1199 CC</td>\n",
              "      <td>88.7 bhp</td>\n",
              "      <td>5.0</td>\n",
              "      <td>8.61 Lakh</td>\n",
              "      <td>4.5</td>\n",
              "      <td>8</td>\n",
              "      <td>46</td>\n",
              "      <td>honda</td>\n",
              "    </tr>\n",
              "    <tr>\n",
              "      <th>1</th>\n",
              "      <td>3</td>\n",
              "      <td>Maruti Ertiga VDI</td>\n",
              "      <td>Chennai</td>\n",
              "      <td>2012</td>\n",
              "      <td>87000</td>\n",
              "      <td>Diesel</td>\n",
              "      <td>Manual</td>\n",
              "      <td>First</td>\n",
              "      <td>20.77 kmpl</td>\n",
              "      <td>1248 CC</td>\n",
              "      <td>88.76 bhp</td>\n",
              "      <td>7.0</td>\n",
              "      <td>NaN</td>\n",
              "      <td>6.0</td>\n",
              "      <td>7</td>\n",
              "      <td>87</td>\n",
              "      <td>maruti</td>\n",
              "    </tr>\n",
              "  </tbody>\n",
              "</table>\n",
              "</div>\n",
              "      <button class=\"colab-df-convert\" onclick=\"convertToInteractive('df-03e64f54-69d8-4901-a0ee-afcab8020810')\"\n",
              "              title=\"Convert this dataframe to an interactive table.\"\n",
              "              style=\"display:none;\">\n",
              "        \n",
              "  <svg xmlns=\"http://www.w3.org/2000/svg\" height=\"24px\"viewBox=\"0 0 24 24\"\n",
              "       width=\"24px\">\n",
              "    <path d=\"M0 0h24v24H0V0z\" fill=\"none\"/>\n",
              "    <path d=\"M18.56 5.44l.94 2.06.94-2.06 2.06-.94-2.06-.94-.94-2.06-.94 2.06-2.06.94zm-11 1L8.5 8.5l.94-2.06 2.06-.94-2.06-.94L8.5 2.5l-.94 2.06-2.06.94zm10 10l.94 2.06.94-2.06 2.06-.94-2.06-.94-.94-2.06-.94 2.06-2.06.94z\"/><path d=\"M17.41 7.96l-1.37-1.37c-.4-.4-.92-.59-1.43-.59-.52 0-1.04.2-1.43.59L10.3 9.45l-7.72 7.72c-.78.78-.78 2.05 0 2.83L4 21.41c.39.39.9.59 1.41.59.51 0 1.02-.2 1.41-.59l7.78-7.78 2.81-2.81c.8-.78.8-2.07 0-2.86zM5.41 20L4 18.59l7.72-7.72 1.47 1.35L5.41 20z\"/>\n",
              "  </svg>\n",
              "      </button>\n",
              "      \n",
              "  <style>\n",
              "    .colab-df-container {\n",
              "      display:flex;\n",
              "      flex-wrap:wrap;\n",
              "      gap: 12px;\n",
              "    }\n",
              "\n",
              "    .colab-df-convert {\n",
              "      background-color: #E8F0FE;\n",
              "      border: none;\n",
              "      border-radius: 50%;\n",
              "      cursor: pointer;\n",
              "      display: none;\n",
              "      fill: #1967D2;\n",
              "      height: 32px;\n",
              "      padding: 0 0 0 0;\n",
              "      width: 32px;\n",
              "    }\n",
              "\n",
              "    .colab-df-convert:hover {\n",
              "      background-color: #E2EBFA;\n",
              "      box-shadow: 0px 1px 2px rgba(60, 64, 67, 0.3), 0px 1px 3px 1px rgba(60, 64, 67, 0.15);\n",
              "      fill: #174EA6;\n",
              "    }\n",
              "\n",
              "    [theme=dark] .colab-df-convert {\n",
              "      background-color: #3B4455;\n",
              "      fill: #D2E3FC;\n",
              "    }\n",
              "\n",
              "    [theme=dark] .colab-df-convert:hover {\n",
              "      background-color: #434B5C;\n",
              "      box-shadow: 0px 1px 3px 1px rgba(0, 0, 0, 0.15);\n",
              "      filter: drop-shadow(0px 1px 2px rgba(0, 0, 0, 0.3));\n",
              "      fill: #FFFFFF;\n",
              "    }\n",
              "  </style>\n",
              "\n",
              "      <script>\n",
              "        const buttonEl =\n",
              "          document.querySelector('#df-03e64f54-69d8-4901-a0ee-afcab8020810 button.colab-df-convert');\n",
              "        buttonEl.style.display =\n",
              "          google.colab.kernel.accessAllowed ? 'block' : 'none';\n",
              "\n",
              "        async function convertToInteractive(key) {\n",
              "          const element = document.querySelector('#df-03e64f54-69d8-4901-a0ee-afcab8020810');\n",
              "          const dataTable =\n",
              "            await google.colab.kernel.invokeFunction('convertToInteractive',\n",
              "                                                     [key], {});\n",
              "          if (!dataTable) return;\n",
              "\n",
              "          const docLinkHtml = 'Like what you see? Visit the ' +\n",
              "            '<a target=\"_blank\" href=https://colab.research.google.com/notebooks/data_table.ipynb>data table notebook</a>'\n",
              "            + ' to learn more about interactive tables.';\n",
              "          element.innerHTML = '';\n",
              "          dataTable['output_type'] = 'display_data';\n",
              "          await google.colab.output.renderOutput(dataTable, element);\n",
              "          const docLink = document.createElement('div');\n",
              "          docLink.innerHTML = docLinkHtml;\n",
              "          element.appendChild(docLink);\n",
              "        }\n",
              "      </script>\n",
              "    </div>\n",
              "  </div>\n",
              "  "
            ]
          },
          "metadata": {},
          "execution_count": 32
        }
      ],
      "source": [
        "cars_df[0:2]"
      ]
    },
    {
      "cell_type": "code",
      "execution_count": 33,
      "metadata": {
        "id": "NQckhfklT8RG"
      },
      "outputs": [],
      "source": [
        "import math"
      ]
    },
    {
      "cell_type": "code",
      "execution_count": 34,
      "metadata": {
        "id": "f6oiBZVRT8RG"
      },
      "outputs": [],
      "source": [
        "def get_float_val(x):\n",
        "    if x is None:\n",
        "        return None   \n",
        "    \n",
        "    val = str(x).split()[0]\n",
        "    \n",
        "    ## Check is all the characters except the dot are digits or not\n",
        "    if val.replace(\".\",\"\",1).isdigit():\n",
        "        return float(val)        \n",
        "    else:\n",
        "        return None"
      ]
    },
    {
      "cell_type": "code",
      "execution_count": 35,
      "metadata": {
        "id": "qJWDTAohT8RG"
      },
      "outputs": [],
      "source": [
        "cars_df['mileage_new'] = cars_df.Mileage.map(lambda x: get_float_val(x))"
      ]
    },
    {
      "cell_type": "code",
      "execution_count": 36,
      "metadata": {
        "colab": {
          "base_uri": "https://localhost:8080/"
        },
        "id": "pAIR8qTWT8RH",
        "outputId": "75a97d37-334c-4a34-b328-fba5e64bbaac"
      },
      "outputs": [
        {
          "output_type": "execute_result",
          "data": {
            "text/plain": [
              "0       18.20\n",
              "1       20.77\n",
              "2       23.08\n",
              "3       22.30\n",
              "4       25.20\n",
              "        ...  \n",
              "3087    25.80\n",
              "3088    28.40\n",
              "3089    24.40\n",
              "3090    18.90\n",
              "3091    25.44\n",
              "Name: mileage_new, Length: 3092, dtype: float64"
            ]
          },
          "metadata": {},
          "execution_count": 36
        }
      ],
      "source": [
        "cars_df.mileage_new"
      ]
    },
    {
      "cell_type": "code",
      "execution_count": 37,
      "metadata": {
        "id": "JZPkv-2PT8RH"
      },
      "outputs": [],
      "source": [
        "cars_df['engine_new'] = cars_df.Engine.map(lambda x: get_float_val(x))\n",
        "cars_df['power_new'] = cars_df.Power.map(lambda x: get_float_val(x))"
      ]
    },
    {
      "cell_type": "markdown",
      "metadata": {
        "id": "RYDtK8IrT8RH"
      },
      "source": [
        "### How engine power and mileage is effecting price of the used cars?"
      ]
    },
    {
      "cell_type": "code",
      "execution_count": 38,
      "metadata": {
        "colab": {
          "base_uri": "https://localhost:8080/",
          "height": 0
        },
        "id": "a4P6ZtjrT8RH",
        "outputId": "ae9ece03-3526-40c5-c086-d38d234c49fa"
      },
      "outputs": [
        {
          "output_type": "display_data",
          "data": {
            "text/plain": [
              "<Figure size 360x360 with 1 Axes>"
            ],
            "image/png": "[encoded data removed]"
          },
          "metadata": {}
        }
      ],
      "source": [
        "sn.lmplot(data = cars_df.sample(100),\n",
        "          x = 'power_new',\n",
        "          y = 'Price');"
      ]
    },
    {
      "cell_type": "code",
      "execution_count": 39,
      "metadata": {
        "colab": {
          "base_uri": "https://localhost:8080/",
          "height": 0
        },
        "id": "rG3cNA-BT8RH",
        "outputId": "76a97f14-34fd-4d70-d65b-8073b40cd283"
      },
      "outputs": [
        {
          "output_type": "display_data",
          "data": {
            "text/plain": [
              "<Figure size 360x360 with 1 Axes>"
            ],
            "image/png": "[encoded data removed]"
          },
          "metadata": {}
        }
      ],
      "source": [
        "sn.lmplot(data = cars_df.sample(200),\n",
        "          x = 'mileage_new',\n",
        "          y = 'Price');"
      ]
    },
    {
      "cell_type": "code",
      "execution_count": 40,
      "metadata": {
        "colab": {
          "base_uri": "https://localhost:8080/",
          "height": 0
        },
        "id": "xbziX_8AT8RH",
        "outputId": "f7fe302a-79e1-4737-a7f7-6e382716ccc1"
      },
      "outputs": [
        {
          "output_type": "display_data",
          "data": {
            "text/plain": [
              "<Figure size 360x360 with 1 Axes>"
            ],
            "image/png": "[encoded data removed]"
          },
          "metadata": {}
        }
      ],
      "source": [
        "sn.lmplot(data = cars_df.sample(100),\n",
        "          x = 'engine_new',\n",
        "          y = 'Price');"
      ]
    },
    {
      "cell_type": "code",
      "execution_count": 41,
      "metadata": {
        "colab": {
          "base_uri": "https://localhost:8080/",
          "height": 0
        },
        "id": "2-bp09nqT8RI",
        "outputId": "ae5c7dab-2ff7-4d71-d941-9f66a8cf2615"
      },
      "outputs": [
        {
          "output_type": "display_data",
          "data": {
            "text/plain": [
              "<Figure size 360x360 with 1 Axes>"
            ],
            "image/png": "[encoded data removed]"
          },
          "metadata": {}
        }
      ],
      "source": [
        "sn.lmplot(data = cars_df.sample(100),\n",
        "          x = 'KM_Driven',\n",
        "          y = 'Price');"
      ]
    },
    {
      "cell_type": "code",
      "execution_count": 42,
      "metadata": {
        "colab": {
          "base_uri": "https://localhost:8080/",
          "height": 0
        },
        "id": "OaW1eHMxT8RI",
        "outputId": "9fa7c58b-1b70-49a1-f95b-a0aa9e09622c"
      },
      "outputs": [
        {
          "output_type": "execute_result",
          "data": {
            "text/plain": [
              "      index                                          Name    Location  Year  \\\n",
              "147     315                               Tata Sumo Delux   Hyderabad  2000   \n",
              "209     442                           Mahindra Bolero ZLX  Coimbatore  2016   \n",
              "223     469        Toyota Innova 2.5 VX (Diesel) 7 Seater   Hyderabad  2012   \n",
              "259     546        Toyota Innova 2.5 VX (Diesel) 7 Seater      Mumbai  2012   \n",
              "271     573                           Mahindra Bolero ZLX      Jaipur  2012   \n",
              "275     579                      Mahindra Bolero VLX CRDe  Coimbatore  2012   \n",
              "288     613                     Mahindra Bolero ZLX BSIII     Kolkata  2000   \n",
              "295     629                       Mahindra Bolero DI BSII     Chennai  2006   \n",
              "388     814                           Toyota Qualis FS B2        Pune  2004   \n",
              "413     862                     Mahindra Bolero VLX BS IV     Chennai  2011   \n",
              "564    1146                           Mahindra Bolero ZLX      Mumbai  2016   \n",
              "588    1181  Toyota Innova 2.5 VX (Diesel) 8 Seater BS IV   Ahmedabad  2013   \n",
              "615    1243                              Mahindra Xylo D4     Chennai  2016   \n",
              "671    1353   Toyota Innova 2.5 G (Diesel) 7 Seater BS IV   Ahmedabad  2013   \n",
              "717    1439   Toyota Innova 2.5 G (Diesel) 7 Seater BS IV   Hyderabad  2012   \n",
              "784    1589                           Mahindra Bolero ZLX      Jaipur  2013   \n",
              "841    1686  Toyota Innova 2.5 VX (Diesel) 8 Seater BS IV        Pune  2011   \n",
              "859    1717                              Mahindra Xylo D4   Hyderabad  2015   \n",
              "863    1721  Toyota Innova 2.5 VX (Diesel) 8 Seater BS IV        Pune  2014   \n",
              "919    1808        Toyota Innova 2.5 GX (Diesel) 7 Seater       Kochi  2013   \n",
              "975    1907                           Toyota Qualis FS B3   Bangalore  2002   \n",
              "993    1949                                  Tata Sumo EX   Bangalore  2014   \n",
              "1037   2041                           Mahindra Bolero SLE   Hyderabad  2012   \n",
              "1075   2133                     Mahindra Bolero SLE BSIII        Pune  2007   \n",
              "1159   2312               Chevrolet Tavera LT 9 Str BS IV     Kolkata  2012   \n",
              "1180   2359                         Mahindra Xylo D2 Maxx     Chennai  2016   \n",
              "1204   2408                  Mahindra Scorpio S2 7 Seater        Pune  2014   \n",
              "1234   2463        Toyota Innova 2.5 GX (Diesel) 7 Seater       Delhi  2012   \n",
              "1283   2570         Toyota Innova 2.5 G (Diesel) 8 Seater   Hyderabad  2013   \n",
              "1285   2573   Toyota Innova 2.5 G (Diesel) 8 Seater BS IV      Mumbai  2008   \n",
              "1286   2575         Chevrolet Tavera LS B3 10 Seats BSIII   Hyderabad  2015   \n",
              "1480   2923                          Mahindra Thar DI 4X4      Mumbai  2018   \n",
              "1565   3076         Toyota Innova 2.5 G (Diesel) 8 Seater   Hyderabad  2013   \n",
              "1595   3131                       Mahindra Xylo D2 BS III   Ahmedabad  2010   \n",
              "1781   3475                       Mahindra Xylo D4 BS III   Hyderabad  2015   \n",
              "1899   3720   Toyota Innova 2.5 G (Diesel) 7 Seater BS IV     Kolkata  2012   \n",
              "1936   3782                          Mahindra Thar DI 4X4       Kochi  2019   \n",
              "2177   4239        Toyota Innova 2.5 GX (Diesel) 8 Seater       Delhi  2013   \n",
              "2456   4818                                  Tata Sumo EX  Coimbatore  2015   \n",
              "2538   4966        Toyota Innova 2.5 VX (Diesel) 8 Seater      Mumbai  2014   \n",
              "2672   5211                           Mahindra Bolero ZLX  Coimbatore  2017   \n",
              "2673   5213  Toyota Innova 2.5 VX (Diesel) 8 Seater BS IV        Pune  2015   \n",
              "2753   5357                           Mahindra Bolero ZLX      Jaipur  2016   \n",
              "3009   5850                       Mahindra Xylo D4 BS III   Hyderabad  2016   \n",
              "3054   5939         Toyota Innova 2.5 G (Diesel) 8 Seater      Mumbai  2012   \n",
              "3060   5956        Toyota Innova 2.5 GX (Diesel) 7 Seater     Chennai  2012   \n",
              "\n",
              "      Kilometers_Driven Fuel_Type Transmission Owner_Type     Mileage  \\\n",
              "147              158000    Diesel       Manual     Second  14.07 kmpl   \n",
              "209               82756    Diesel       Manual      First  15.96 kmpl   \n",
              "223              162663    Diesel       Manual      First  12.99 kmpl   \n",
              "259               55000    Diesel       Manual      First  12.99 kmpl   \n",
              "271              105000    Diesel       Manual     Second  15.96 kmpl   \n",
              "275               60271    Diesel       Manual      First   13.6 kmpl   \n",
              "288              124000    Diesel       Manual      First   13.6 kmpl   \n",
              "295               82453    Diesel       Manual      First   13.6 kmpl   \n",
              "388               77757    Diesel       Manual     Second   13.1 kmpl   \n",
              "413               99000    Diesel       Manual     Second   13.6 kmpl   \n",
              "564               40448    Diesel       Manual      First  15.96 kmpl   \n",
              "588              119000    Diesel       Manual      First  12.99 kmpl   \n",
              "615               85000    Diesel       Manual      First  14.95 kmpl   \n",
              "671               60000    Diesel       Manual      First  12.99 kmpl   \n",
              "717              131000    Diesel       Manual      First  12.99 kmpl   \n",
              "784               63000    Diesel       Manual      First  15.96 kmpl   \n",
              "841              156347    Diesel       Manual     Second  12.99 kmpl   \n",
              "859              169000    Diesel       Manual      First  14.95 kmpl   \n",
              "863              160000    Diesel       Manual      First  12.99 kmpl   \n",
              "919               62162    Diesel       Manual      First  12.99 kmpl   \n",
              "975               63000    Diesel       Manual      Third   13.1 kmpl   \n",
              "993               66000    Diesel       Manual      First   15.3 kmpl   \n",
              "1037              75000    Diesel       Manual      First  15.96 kmpl   \n",
              "1075              92000    Diesel       Manual      First   13.6 kmpl   \n",
              "1159              67132    Diesel       Manual      First  13.58 kmpl   \n",
              "1180             150000    Diesel       Manual      First  14.95 kmpl   \n",
              "1204              87200    Diesel       Manual      First   15.4 kmpl   \n",
              "1234              62000    Diesel       Manual      First  12.99 kmpl   \n",
              "1283             114708    Diesel       Manual      First  12.99 kmpl   \n",
              "1285              70700    Diesel       Manual      First  12.99 kmpl   \n",
              "1286             120000    Diesel       Manual      First   14.8 kmpl   \n",
              "1480               2500    Diesel       Manual      First  18.06 kmpl   \n",
              "1565              92000    Diesel       Manual      First  12.99 kmpl   \n",
              "1595              91596    Diesel       Manual      First  14.95 kmpl   \n",
              "1781             129750    Diesel       Manual     Second  14.95 kmpl   \n",
              "1899              85122    Diesel       Manual      First  12.99 kmpl   \n",
              "1936              13024    Diesel       Manual      First  18.06 kmpl   \n",
              "2177              91200    Diesel       Manual      First  12.99 kmpl   \n",
              "2456              84931    Diesel       Manual      First   15.3 kmpl   \n",
              "2538              87143    Diesel       Manual      First  12.99 kmpl   \n",
              "2672              68557    Diesel       Manual      First  15.96 kmpl   \n",
              "2673              77000    Diesel       Manual      First  12.99 kmpl   \n",
              "2753              65000    Diesel       Manual      First  15.96 kmpl   \n",
              "3009             132000    Diesel       Manual      First  14.95 kmpl   \n",
              "3054             106000    Diesel       Manual      First  12.99 kmpl   \n",
              "3060              96000    Diesel       Manual      First  12.99 kmpl   \n",
              "\n",
              "       Engine     Power  Seats   New_Price  Price  age  KM_Driven       make  \\\n",
              "147   2956 CC  83.1 bhp    7.0         NaN   1.50   19        158       tata   \n",
              "209   2523 CC  62.1 bhp    7.0  11.28 Lakh   7.70    3         82   mahindra   \n",
              "223   2494 CC   100 bhp    7.0         NaN  10.50    7        162     toyota   \n",
              "259   2494 CC   100 bhp    7.0         NaN   9.51    7         55     toyota   \n",
              "271   2523 CC  62.1 bhp    7.0  11.15 Lakh   6.00    7        105   mahindra   \n",
              "275   2523 CC    63 bhp    7.0         NaN   6.12    7         60   mahindra   \n",
              "288   2523 CC    63 bhp    7.0         NaN   1.95   19        124   mahindra   \n",
              "295   2523 CC    63 bhp    8.0         NaN   2.90   13         82   mahindra   \n",
              "388   2446 CC    75 bhp   10.0         NaN   3.50   15         77     toyota   \n",
              "413   2523 CC    63 bhp    7.0         NaN   4.50    8         99   mahindra   \n",
              "564   2523 CC  62.1 bhp    7.0  11.01 Lakh   3.50    3         40   mahindra   \n",
              "588   2494 CC   100 bhp    8.0         NaN   8.00    6        119     toyota   \n",
              "615   2489 CC  93.7 bhp    7.0  11.67 Lakh   6.15    3         85   mahindra   \n",
              "671   2494 CC   100 bhp    7.0         NaN   7.90    6         60     toyota   \n",
              "717   2494 CC   100 bhp    7.0         NaN   9.60    7        131     toyota   \n",
              "784   2523 CC  62.1 bhp    7.0  11.15 Lakh   5.50    6         63   mahindra   \n",
              "841   2494 CC   100 bhp    8.0         NaN   8.00    8        156     toyota   \n",
              "859   2489 CC  93.7 bhp    7.0  11.69 Lakh   5.00    4        169   mahindra   \n",
              "863   2494 CC   100 bhp    8.0         NaN  12.00    5        160     toyota   \n",
              "919   2494 CC   100 bhp    7.0         NaN   8.31    6         62     toyota   \n",
              "975   2446 CC    75 bhp   10.0         NaN   3.65   17         63     toyota   \n",
              "993   2956 CC  83.8 bhp    7.0         NaN   4.45    5         66       tata   \n",
              "1037  2523 CC  62.1 bhp    7.0  10.32 Lakh   4.30    7         75   mahindra   \n",
              "1075  2523 CC    63 bhp    7.0         NaN   2.70   12         92   mahindra   \n",
              "1159  2499 CC    78 bhp    9.0         NaN   4.75    7         67  chevrolet   \n",
              "1180  2489 CC  93.7 bhp    9.0         NaN   4.50    3        150   mahindra   \n",
              "1204  2523 CC    75 bhp    7.0         NaN   7.75    5         87   mahindra   \n",
              "1234  2494 CC   100 bhp    7.0         NaN   7.75    7         62     toyota   \n",
              "1283  2494 CC   100 bhp    8.0         NaN  12.60    6        114     toyota   \n",
              "1285  2494 CC   100 bhp    8.0         NaN   4.75   11         70     toyota   \n",
              "1286  2499 CC    80 bhp   10.0         NaN   5.50    4        120  chevrolet   \n",
              "1480  2523 CC    63 bhp    7.0         NaN   8.25    1          2   mahindra   \n",
              "1565  2494 CC   100 bhp    8.0         NaN  12.50    6         92     toyota   \n",
              "1595  2489 CC  93.7 bhp    7.0         NaN   1.85    9         91   mahindra   \n",
              "1781  2489 CC  93.7 bhp    7.0         NaN   6.80    4        129   mahindra   \n",
              "1899  2494 CC   100 bhp    7.0         NaN   8.20    7         85     toyota   \n",
              "1936  2523 CC    63 bhp    7.0         NaN   9.11    0         13   mahindra   \n",
              "2177  2494 CC   100 bhp    8.0         NaN   8.25    6         91     toyota   \n",
              "2456  2956 CC  83.8 bhp    7.0         NaN   5.29    4         84       tata   \n",
              "2538  2494 CC   100 bhp    8.0         NaN  12.50    5         87     toyota   \n",
              "2672  2523 CC  62.1 bhp    7.0  11.28 Lakh   8.14    2         68   mahindra   \n",
              "2673  2494 CC   100 bhp    8.0         NaN  12.50    4         77     toyota   \n",
              "2753  2523 CC  62.1 bhp    7.0  11.15 Lakh   7.21    3         65   mahindra   \n",
              "3009  2489 CC  93.7 bhp    7.0         NaN   5.50    3        132   mahindra   \n",
              "3054  2494 CC   100 bhp    8.0         NaN   8.40    7        106     toyota   \n",
              "3060  2494 CC   100 bhp    7.0         NaN  11.50    7         96     toyota   \n",
              "\n",
              "      mileage_new  engine_new  power_new  \n",
              "147         14.07      2956.0       83.1  \n",
              "209         15.96      2523.0       62.1  \n",
              "223         12.99      2494.0      100.0  \n",
              "259         12.99      2494.0      100.0  \n",
              "271         15.96      2523.0       62.1  \n",
              "275         13.60      2523.0       63.0  \n",
              "288         13.60      2523.0       63.0  \n",
              "295         13.60      2523.0       63.0  \n",
              "388         13.10      2446.0       75.0  \n",
              "413         13.60      2523.0       63.0  \n",
              "564         15.96      2523.0       62.1  \n",
              "588         12.99      2494.0      100.0  \n",
              "615         14.95      2489.0       93.7  \n",
              "671         12.99      2494.0      100.0  \n",
              "717         12.99      2494.0      100.0  \n",
              "784         15.96      2523.0       62.1  \n",
              "841         12.99      2494.0      100.0  \n",
              "859         14.95      2489.0       93.7  \n",
              "863         12.99      2494.0      100.0  \n",
              "919         12.99      2494.0      100.0  \n",
              "975         13.10      2446.0       75.0  \n",
              "993         15.30      2956.0       83.8  \n",
              "1037        15.96      2523.0       62.1  \n",
              "1075        13.60      2523.0       63.0  \n",
              "1159        13.58      2499.0       78.0  \n",
              "1180        14.95      2489.0       93.7  \n",
              "1204        15.40      2523.0       75.0  \n",
              "1234        12.99      2494.0      100.0  \n",
              "1283        12.99      2494.0      100.0  \n",
              "1285        12.99      2494.0      100.0  \n",
              "1286        14.80      2499.0       80.0  \n",
              "1480        18.06      2523.0       63.0  \n",
              "1565        12.99      2494.0      100.0  \n",
              "1595        14.95      2489.0       93.7  \n",
              "1781        14.95      2489.0       93.7  \n",
              "1899        12.99      2494.0      100.0  \n",
              "1936        18.06      2523.0       63.0  \n",
              "2177        12.99      2494.0      100.0  \n",
              "2456        15.30      2956.0       83.8  \n",
              "2538        12.99      2494.0      100.0  \n",
              "2672        15.96      2523.0       62.1  \n",
              "2673        12.99      2494.0      100.0  \n",
              "2753        15.96      2523.0       62.1  \n",
              "3009        14.95      2489.0       93.7  \n",
              "3054        12.99      2494.0      100.0  \n",
              "3060        12.99      2494.0      100.0  "
            ],
            "text/html": [
              "\n",
              "  <div id=\"df-24a448a6-f54d-42ff-b954-9ae25f60c926\">\n",
              "    <div class=\"colab-df-container\">\n",
              "      <div>\n",
              "<style scoped>\n",
              "    .dataframe tbody tr th:only-of-type {\n",
              "        vertical-align: middle;\n",
              "    }\n",
              "\n",
              "    .dataframe tbody tr th {\n",
              "        vertical-align: top;\n",
              "    }\n",
              "\n",
              "    .dataframe thead th {\n",
              "        text-align: right;\n",
              "    }\n",
              "</style>\n",
              "<table border=\"1\" class=\"dataframe\">\n",
              "  <thead>\n",
              "    <tr style=\"text-align: right;\">\n",
              "      <th></th>\n",
              "      <th>index</th>\n",
              "      <th>Name</th>\n",
              "      <th>Location</th>\n",
              "      <th>Year</th>\n",
              "      <th>Kilometers_Driven</th>\n",
              "      <th>Fuel_Type</th>\n",
              "      <th>Transmission</th>\n",
              "      <th>Owner_Type</th>\n",
              "      <th>Mileage</th>\n",
              "      <th>Engine</th>\n",
              "      <th>Power</th>\n",
              "      <th>Seats</th>\n",
              "      <th>New_Price</th>\n",
              "      <th>Price</th>\n",
              "      <th>age</th>\n",
              "      <th>KM_Driven</th>\n",
              "      <th>make</th>\n",
              "      <th>mileage_new</th>\n",
              "      <th>engine_new</th>\n",
              "      <th>power_new</th>\n",
              "    </tr>\n",
              "  </thead>\n",
              "  <tbody>\n",
              "    <tr>\n",
              "      <th>147</th>\n",
              "      <td>315</td>\n",
              "      <td>Tata Sumo Delux</td>\n",
              "      <td>Hyderabad</td>\n",
              "      <td>2000</td>\n",
              "      <td>158000</td>\n",
              "      <td>Diesel</td>\n",
              "      <td>Manual</td>\n",
              "      <td>Second</td>\n",
              "      <td>14.07 kmpl</td>\n",
              "      <td>2956 CC</td>\n",
              "      <td>83.1 bhp</td>\n",
              "      <td>7.0</td>\n",
              "      <td>NaN</td>\n",
              "      <td>1.50</td>\n",
              "      <td>19</td>\n",
              "      <td>158</td>\n",
              "      <td>tata</td>\n",
              "      <td>14.07</td>\n",
              "      <td>2956.0</td>\n",
              "      <td>83.1</td>\n",
              "    </tr>\n",
              "    <tr>\n",
              "      <th>209</th>\n",
              "      <td>442</td>\n",
              "      <td>Mahindra Bolero ZLX</td>\n",
              "      <td>Coimbatore</td>\n",
              "      <td>2016</td>\n",
              "      <td>82756</td>\n",
              "      <td>Diesel</td>\n",
              "      <td>Manual</td>\n",
              "      <td>First</td>\n",
              "      <td>15.96 kmpl</td>\n",
              "      <td>2523 CC</td>\n",
              "      <td>62.1 bhp</td>\n",
              "      <td>7.0</td>\n",
              "      <td>11.28 Lakh</td>\n",
              "      <td>7.70</td>\n",
              "      <td>3</td>\n",
              "      <td>82</td>\n",
              "      <td>mahindra</td>\n",
              "      <td>15.96</td>\n",
              "      <td>2523.0</td>\n",
              "      <td>62.1</td>\n",
              "    </tr>\n",
              "    <tr>\n",
              "      <th>223</th>\n",
              "      <td>469</td>\n",
              "      <td>Toyota Innova 2.5 VX (Diesel) 7 Seater</td>\n",
              "      <td>Hyderabad</td>\n",
              "      <td>2012</td>\n",
              "      <td>162663</td>\n",
              "      <td>Diesel</td>\n",
              "      <td>Manual</td>\n",
              "      <td>First</td>\n",
              "      <td>12.99 kmpl</td>\n",
              "      <td>2494 CC</td>\n",
              "      <td>100 bhp</td>\n",
              "      <td>7.0</td>\n",
              "      <td>NaN</td>\n",
              "      <td>10.50</td>\n",
              "      <td>7</td>\n",
              "      <td>162</td>\n",
              "      <td>toyota</td>\n",
              "      <td>12.99</td>\n",
              "      <td>2494.0</td>\n",
              "      <td>100.0</td>\n",
              "    </tr>\n",
              "    <tr>\n",
              "      <th>259</th>\n",
              "      <td>546</td>\n",
              "      <td>Toyota Innova 2.5 VX (Diesel) 7 Seater</td>\n",
              "      <td>Mumbai</td>\n",
              "      <td>2012</td>\n",
              "      <td>55000</td>\n",
              "      <td>Diesel</td>\n",
              "      <td>Manual</td>\n",
              "      <td>First</td>\n",
              "      <td>12.99 kmpl</td>\n",
              "      <td>2494 CC</td>\n",
              "      <td>100 bhp</td>\n",
              "      <td>7.0</td>\n",
              "      <td>NaN</td>\n",
              "      <td>9.51</td>\n",
              "      <td>7</td>\n",
              "      <td>55</td>\n",
              "      <td>toyota</td>\n",
              "      <td>12.99</td>\n",
              "      <td>2494.0</td>\n",
              "      <td>100.0</td>\n",
              "    </tr>\n",
              "    <tr>\n",
              "      <th>271</th>\n",
              "      <td>573</td>\n",
              "      <td>Mahindra Bolero ZLX</td>\n",
              "      <td>Jaipur</td>\n",
              "      <td>2012</td>\n",
              "      <td>105000</td>\n",
              "      <td>Diesel</td>\n",
              "      <td>Manual</td>\n",
              "      <td>Second</td>\n",
              "      <td>15.96 kmpl</td>\n",
              "      <td>2523 CC</td>\n",
              "      <td>62.1 bhp</td>\n",
              "      <td>7.0</td>\n",
              "      <td>11.15 Lakh</td>\n",
              "      <td>6.00</td>\n",
              "      <td>7</td>\n",
              "      <td>105</td>\n",
              "      <td>mahindra</td>\n",
              "      <td>15.96</td>\n",
              "      <td>2523.0</td>\n",
              "      <td>62.1</td>\n",
              "    </tr>\n",
              "    <tr>\n",
              "      <th>275</th>\n",
              "      <td>579</td>\n",
              "      <td>Mahindra Bolero VLX CRDe</td>\n",
              "      <td>Coimbatore</td>\n",
              "      <td>2012</td>\n",
              "      <td>60271</td>\n",
              "      <td>Diesel</td>\n",
              "      <td>Manual</td>\n",
              "      <td>First</td>\n",
              "      <td>13.6 kmpl</td>\n",
              "      <td>2523 CC</td>\n",
              "      <td>63 bhp</td>\n",
              "      <td>7.0</td>\n",
              "      <td>NaN</td>\n",
              "      <td>6.12</td>\n",
              "      <td>7</td>\n",
              "      <td>60</td>\n",
              "      <td>mahindra</td>\n",
              "      <td>13.60</td>\n",
              "      <td>2523.0</td>\n",
              "      <td>63.0</td>\n",
              "    </tr>\n",
              "    <tr>\n",
              "      <th>288</th>\n",
              "      <td>613</td>\n",
              "      <td>Mahindra Bolero ZLX BSIII</td>\n",
              "      <td>Kolkata</td>\n",
              "      <td>2000</td>\n",
              "      <td>124000</td>\n",
              "      <td>Diesel</td>\n",
              "      <td>Manual</td>\n",
              "      <td>First</td>\n",
              "      <td>13.6 kmpl</td>\n",
              "      <td>2523 CC</td>\n",
              "      <td>63 bhp</td>\n",
              "      <td>7.0</td>\n",
              "      <td>NaN</td>\n",
              "      <td>1.95</td>\n",
              "      <td>19</td>\n",
              "      <td>124</td>\n",
              "      <td>mahindra</td>\n",
              "      <td>13.60</td>\n",
              "      <td>2523.0</td>\n",
              "      <td>63.0</td>\n",
              "    </tr>\n",
              "    <tr>\n",
              "      <th>295</th>\n",
              "      <td>629</td>\n",
              "      <td>Mahindra Bolero DI BSII</td>\n",
              "      <td>Chennai</td>\n",
              "      <td>2006</td>\n",
              "      <td>82453</td>\n",
              "      <td>Diesel</td>\n",
              "      <td>Manual</td>\n",
              "      <td>First</td>\n",
              "      <td>13.6 kmpl</td>\n",
              "      <td>2523 CC</td>\n",
              "      <td>63 bhp</td>\n",
              "      <td>8.0</td>\n",
              "      <td>NaN</td>\n",
              "      <td>2.90</td>\n",
              "      <td>13</td>\n",
              "      <td>82</td>\n",
              "      <td>mahindra</td>\n",
              "      <td>13.60</td>\n",
              "      <td>2523.0</td>\n",
              "      <td>63.0</td>\n",
              "    </tr>\n",
              "    <tr>\n",
              "      <th>388</th>\n",
              "      <td>814</td>\n",
              "      <td>Toyota Qualis FS B2</td>\n",
              "      <td>Pune</td>\n",
              "      <td>2004</td>\n",
              "      <td>77757</td>\n",
              "      <td>Diesel</td>\n",
              "      <td>Manual</td>\n",
              "      <td>Second</td>\n",
              "      <td>13.1 kmpl</td>\n",
              "      <td>2446 CC</td>\n",
              "      <td>75 bhp</td>\n",
              "      <td>10.0</td>\n",
              "      <td>NaN</td>\n",
              "      <td>3.50</td>\n",
              "      <td>15</td>\n",
              "      <td>77</td>\n",
              "      <td>toyota</td>\n",
              "      <td>13.10</td>\n",
              "      <td>2446.0</td>\n",
              "      <td>75.0</td>\n",
              "    </tr>\n",
              "    <tr>\n",
              "      <th>413</th>\n",
              "      <td>862</td>\n",
              "      <td>Mahindra Bolero VLX BS IV</td>\n",
              "      <td>Chennai</td>\n",
              "      <td>2011</td>\n",
              "      <td>99000</td>\n",
              "      <td>Diesel</td>\n",
              "      <td>Manual</td>\n",
              "      <td>Second</td>\n",
              "      <td>13.6 kmpl</td>\n",
              "      <td>2523 CC</td>\n",
              "      <td>63 bhp</td>\n",
              "      <td>7.0</td>\n",
              "      <td>NaN</td>\n",
              "      <td>4.50</td>\n",
              "      <td>8</td>\n",
              "      <td>99</td>\n",
              "      <td>mahindra</td>\n",
              "      <td>13.60</td>\n",
              "      <td>2523.0</td>\n",
              "      <td>63.0</td>\n",
              "    </tr>\n",
              "    <tr>\n",
              "      <th>564</th>\n",
              "      <td>1146</td>\n",
              "      <td>Mahindra Bolero ZLX</td>\n",
              "      <td>Mumbai</td>\n",
              "      <td>2016</td>\n",
              "      <td>40448</td>\n",
              "      <td>Diesel</td>\n",
              "      <td>Manual</td>\n",
              "      <td>First</td>\n",
              "      <td>15.96 kmpl</td>\n",
              "      <td>2523 CC</td>\n",
              "      <td>62.1 bhp</td>\n",
              "      <td>7.0</td>\n",
              "      <td>11.01 Lakh</td>\n",
              "      <td>3.50</td>\n",
              "      <td>3</td>\n",
              "      <td>40</td>\n",
              "      <td>mahindra</td>\n",
              "      <td>15.96</td>\n",
              "      <td>2523.0</td>\n",
              "      <td>62.1</td>\n",
              "    </tr>\n",
              "    <tr>\n",
              "      <th>588</th>\n",
              "      <td>1181</td>\n",
              "      <td>Toyota Innova 2.5 VX (Diesel) 8 Seater BS IV</td>\n",
              "      <td>Ahmedabad</td>\n",
              "      <td>2013</td>\n",
              "      <td>119000</td>\n",
              "      <td>Diesel</td>\n",
              "      <td>Manual</td>\n",
              "      <td>First</td>\n",
              "      <td>12.99 kmpl</td>\n",
              "      <td>2494 CC</td>\n",
              "      <td>100 bhp</td>\n",
              "      <td>8.0</td>\n",
              "      <td>NaN</td>\n",
              "      <td>8.00</td>\n",
              "      <td>6</td>\n",
              "      <td>119</td>\n",
              "      <td>toyota</td>\n",
              "      <td>12.99</td>\n",
              "      <td>2494.0</td>\n",
              "      <td>100.0</td>\n",
              "    </tr>\n",
              "    <tr>\n",
              "      <th>615</th>\n",
              "      <td>1243</td>\n",
              "      <td>Mahindra Xylo D4</td>\n",
              "      <td>Chennai</td>\n",
              "      <td>2016</td>\n",
              "      <td>85000</td>\n",
              "      <td>Diesel</td>\n",
              "      <td>Manual</td>\n",
              "      <td>First</td>\n",
              "      <td>14.95 kmpl</td>\n",
              "      <td>2489 CC</td>\n",
              "      <td>93.7 bhp</td>\n",
              "      <td>7.0</td>\n",
              "      <td>11.67 Lakh</td>\n",
              "      <td>6.15</td>\n",
              "      <td>3</td>\n",
              "      <td>85</td>\n",
              "      <td>mahindra</td>\n",
              "      <td>14.95</td>\n",
              "      <td>2489.0</td>\n",
              "      <td>93.7</td>\n",
              "    </tr>\n",
              "    <tr>\n",
              "      <th>671</th>\n",
              "      <td>1353</td>\n",
              "      <td>Toyota Innova 2.5 G (Diesel) 7 Seater BS IV</td>\n",
              "      <td>Ahmedabad</td>\n",
              "      <td>2013</td>\n",
              "      <td>60000</td>\n",
              "      <td>Diesel</td>\n",
              "      <td>Manual</td>\n",
              "      <td>First</td>\n",
              "      <td>12.99 kmpl</td>\n",
              "      <td>2494 CC</td>\n",
              "      <td>100 bhp</td>\n",
              "      <td>7.0</td>\n",
              "      <td>NaN</td>\n",
              "      <td>7.90</td>\n",
              "      <td>6</td>\n",
              "      <td>60</td>\n",
              "      <td>toyota</td>\n",
              "      <td>12.99</td>\n",
              "      <td>2494.0</td>\n",
              "      <td>100.0</td>\n",
              "    </tr>\n",
              "    <tr>\n",
              "      <th>717</th>\n",
              "      <td>1439</td>\n",
              "      <td>Toyota Innova 2.5 G (Diesel) 7 Seater BS IV</td>\n",
              "      <td>Hyderabad</td>\n",
              "      <td>2012</td>\n",
              "      <td>131000</td>\n",
              "      <td>Diesel</td>\n",
              "      <td>Manual</td>\n",
              "      <td>First</td>\n",
              "      <td>12.99 kmpl</td>\n",
              "      <td>2494 CC</td>\n",
              "      <td>100 bhp</td>\n",
              "      <td>7.0</td>\n",
              "      <td>NaN</td>\n",
              "      <td>9.60</td>\n",
              "      <td>7</td>\n",
              "      <td>131</td>\n",
              "      <td>toyota</td>\n",
              "      <td>12.99</td>\n",
              "      <td>2494.0</td>\n",
              "      <td>100.0</td>\n",
              "    </tr>\n",
              "    <tr>\n",
              "      <th>784</th>\n",
              "      <td>1589</td>\n",
              "      <td>Mahindra Bolero ZLX</td>\n",
              "      <td>Jaipur</td>\n",
              "      <td>2013</td>\n",
              "      <td>63000</td>\n",
              "      <td>Diesel</td>\n",
              "      <td>Manual</td>\n",
              "      <td>First</td>\n",
              "      <td>15.96 kmpl</td>\n",
              "      <td>2523 CC</td>\n",
              "      <td>62.1 bhp</td>\n",
              "      <td>7.0</td>\n",
              "      <td>11.15 Lakh</td>\n",
              "      <td>5.50</td>\n",
              "      <td>6</td>\n",
              "      <td>63</td>\n",
              "      <td>mahindra</td>\n",
              "      <td>15.96</td>\n",
              "      <td>2523.0</td>\n",
              "      <td>62.1</td>\n",
              "    </tr>\n",
              "    <tr>\n",
              "      <th>841</th>\n",
              "      <td>1686</td>\n",
              "      <td>Toyota Innova 2.5 VX (Diesel) 8 Seater BS IV</td>\n",
              "      <td>Pune</td>\n",
              "      <td>2011</td>\n",
              "      <td>156347</td>\n",
              "      <td>Diesel</td>\n",
              "      <td>Manual</td>\n",
              "      <td>Second</td>\n",
              "      <td>12.99 kmpl</td>\n",
              "      <td>2494 CC</td>\n",
              "      <td>100 bhp</td>\n",
              "      <td>8.0</td>\n",
              "      <td>NaN</td>\n",
              "      <td>8.00</td>\n",
              "      <td>8</td>\n",
              "      <td>156</td>\n",
              "      <td>toyota</td>\n",
              "      <td>12.99</td>\n",
              "      <td>2494.0</td>\n",
              "      <td>100.0</td>\n",
              "    </tr>\n",
              "    <tr>\n",
              "      <th>859</th>\n",
              "      <td>1717</td>\n",
              "      <td>Mahindra Xylo D4</td>\n",
              "      <td>Hyderabad</td>\n",
              "      <td>2015</td>\n",
              "      <td>169000</td>\n",
              "      <td>Diesel</td>\n",
              "      <td>Manual</td>\n",
              "      <td>First</td>\n",
              "      <td>14.95 kmpl</td>\n",
              "      <td>2489 CC</td>\n",
              "      <td>93.7 bhp</td>\n",
              "      <td>7.0</td>\n",
              "      <td>11.69 Lakh</td>\n",
              "      <td>5.00</td>\n",
              "      <td>4</td>\n",
              "      <td>169</td>\n",
              "      <td>mahindra</td>\n",
              "      <td>14.95</td>\n",
              "      <td>2489.0</td>\n",
              "      <td>93.7</td>\n",
              "    </tr>\n",
              "    <tr>\n",
              "      <th>863</th>\n",
              "      <td>1721</td>\n",
              "      <td>Toyota Innova 2.5 VX (Diesel) 8 Seater BS IV</td>\n",
              "      <td>Pune</td>\n",
              "      <td>2014</td>\n",
              "      <td>160000</td>\n",
              "      <td>Diesel</td>\n",
              "      <td>Manual</td>\n",
              "      <td>First</td>\n",
              "      <td>12.99 kmpl</td>\n",
              "      <td>2494 CC</td>\n",
              "      <td>100 bhp</td>\n",
              "      <td>8.0</td>\n",
              "      <td>NaN</td>\n",
              "      <td>12.00</td>\n",
              "      <td>5</td>\n",
              "      <td>160</td>\n",
              "      <td>toyota</td>\n",
              "      <td>12.99</td>\n",
              "      <td>2494.0</td>\n",
              "      <td>100.0</td>\n",
              "    </tr>\n",
              "    <tr>\n",
              "      <th>919</th>\n",
              "      <td>1808</td>\n",
              "      <td>Toyota Innova 2.5 GX (Diesel) 7 Seater</td>\n",
              "      <td>Kochi</td>\n",
              "      <td>2013</td>\n",
              "      <td>62162</td>\n",
              "      <td>Diesel</td>\n",
              "      <td>Manual</td>\n",
              "      <td>First</td>\n",
              "      <td>12.99 kmpl</td>\n",
              "      <td>2494 CC</td>\n",
              "      <td>100 bhp</td>\n",
              "      <td>7.0</td>\n",
              "      <td>NaN</td>\n",
              "      <td>8.31</td>\n",
              "      <td>6</td>\n",
              "      <td>62</td>\n",
              "      <td>toyota</td>\n",
              "      <td>12.99</td>\n",
              "      <td>2494.0</td>\n",
              "      <td>100.0</td>\n",
              "    </tr>\n",
              "    <tr>\n",
              "      <th>975</th>\n",
              "      <td>1907</td>\n",
              "      <td>Toyota Qualis FS B3</td>\n",
              "      <td>Bangalore</td>\n",
              "      <td>2002</td>\n",
              "      <td>63000</td>\n",
              "      <td>Diesel</td>\n",
              "      <td>Manual</td>\n",
              "      <td>Third</td>\n",
              "      <td>13.1 kmpl</td>\n",
              "      <td>2446 CC</td>\n",
              "      <td>75 bhp</td>\n",
              "      <td>10.0</td>\n",
              "      <td>NaN</td>\n",
              "      <td>3.65</td>\n",
              "      <td>17</td>\n",
              "      <td>63</td>\n",
              "      <td>toyota</td>\n",
              "      <td>13.10</td>\n",
              "      <td>2446.0</td>\n",
              "      <td>75.0</td>\n",
              "    </tr>\n",
              "    <tr>\n",
              "      <th>993</th>\n",
              "      <td>1949</td>\n",
              "      <td>Tata Sumo EX</td>\n",
              "      <td>Bangalore</td>\n",
              "      <td>2014</td>\n",
              "      <td>66000</td>\n",
              "      <td>Diesel</td>\n",
              "      <td>Manual</td>\n",
              "      <td>First</td>\n",
              "      <td>15.3 kmpl</td>\n",
              "      <td>2956 CC</td>\n",
              "      <td>83.8 bhp</td>\n",
              "      <td>7.0</td>\n",
              "      <td>NaN</td>\n",
              "      <td>4.45</td>\n",
              "      <td>5</td>\n",
              "      <td>66</td>\n",
              "      <td>tata</td>\n",
              "      <td>15.30</td>\n",
              "      <td>2956.0</td>\n",
              "      <td>83.8</td>\n",
              "    </tr>\n",
              "    <tr>\n",
              "      <th>1037</th>\n",
              "      <td>2041</td>\n",
              "      <td>Mahindra Bolero SLE</td>\n",
              "      <td>Hyderabad</td>\n",
              "      <td>2012</td>\n",
              "      <td>75000</td>\n",
              "      <td>Diesel</td>\n",
              "      <td>Manual</td>\n",
              "      <td>First</td>\n",
              "      <td>15.96 kmpl</td>\n",
              "      <td>2523 CC</td>\n",
              "      <td>62.1 bhp</td>\n",
              "      <td>7.0</td>\n",
              "      <td>10.32 Lakh</td>\n",
              "      <td>4.30</td>\n",
              "      <td>7</td>\n",
              "      <td>75</td>\n",
              "      <td>mahindra</td>\n",
              "      <td>15.96</td>\n",
              "      <td>2523.0</td>\n",
              "      <td>62.1</td>\n",
              "    </tr>\n",
              "    <tr>\n",
              "      <th>1075</th>\n",
              "      <td>2133</td>\n",
              "      <td>Mahindra Bolero SLE BSIII</td>\n",
              "      <td>Pune</td>\n",
              "      <td>2007</td>\n",
              "      <td>92000</td>\n",
              "      <td>Diesel</td>\n",
              "      <td>Manual</td>\n",
              "      <td>First</td>\n",
              "      <td>13.6 kmpl</td>\n",
              "      <td>2523 CC</td>\n",
              "      <td>63 bhp</td>\n",
              "      <td>7.0</td>\n",
              "      <td>NaN</td>\n",
              "      <td>2.70</td>\n",
              "      <td>12</td>\n",
              "      <td>92</td>\n",
              "      <td>mahindra</td>\n",
              "      <td>13.60</td>\n",
              "      <td>2523.0</td>\n",
              "      <td>63.0</td>\n",
              "    </tr>\n",
              "    <tr>\n",
              "      <th>1159</th>\n",
              "      <td>2312</td>\n",
              "      <td>Chevrolet Tavera LT 9 Str BS IV</td>\n",
              "      <td>Kolkata</td>\n",
              "      <td>2012</td>\n",
              "      <td>67132</td>\n",
              "      <td>Diesel</td>\n",
              "      <td>Manual</td>\n",
              "      <td>First</td>\n",
              "      <td>13.58 kmpl</td>\n",
              "      <td>2499 CC</td>\n",
              "      <td>78 bhp</td>\n",
              "      <td>9.0</td>\n",
              "      <td>NaN</td>\n",
              "      <td>4.75</td>\n",
              "      <td>7</td>\n",
              "      <td>67</td>\n",
              "      <td>chevrolet</td>\n",
              "      <td>13.58</td>\n",
              "      <td>2499.0</td>\n",
              "      <td>78.0</td>\n",
              "    </tr>\n",
              "    <tr>\n",
              "      <th>1180</th>\n",
              "      <td>2359</td>\n",
              "      <td>Mahindra Xylo D2 Maxx</td>\n",
              "      <td>Chennai</td>\n",
              "      <td>2016</td>\n",
              "      <td>150000</td>\n",
              "      <td>Diesel</td>\n",
              "      <td>Manual</td>\n",
              "      <td>First</td>\n",
              "      <td>14.95 kmpl</td>\n",
              "      <td>2489 CC</td>\n",
              "      <td>93.7 bhp</td>\n",
              "      <td>9.0</td>\n",
              "      <td>NaN</td>\n",
              "      <td>4.50</td>\n",
              "      <td>3</td>\n",
              "      <td>150</td>\n",
              "      <td>mahindra</td>\n",
              "      <td>14.95</td>\n",
              "      <td>2489.0</td>\n",
              "      <td>93.7</td>\n",
              "    </tr>\n",
              "    <tr>\n",
              "      <th>1204</th>\n",
              "      <td>2408</td>\n",
              "      <td>Mahindra Scorpio S2 7 Seater</td>\n",
              "      <td>Pune</td>\n",
              "      <td>2014</td>\n",
              "      <td>87200</td>\n",
              "      <td>Diesel</td>\n",
              "      <td>Manual</td>\n",
              "      <td>First</td>\n",
              "      <td>15.4 kmpl</td>\n",
              "      <td>2523 CC</td>\n",
              "      <td>75 bhp</td>\n",
              "      <td>7.0</td>\n",
              "      <td>NaN</td>\n",
              "      <td>7.75</td>\n",
              "      <td>5</td>\n",
              "      <td>87</td>\n",
              "      <td>mahindra</td>\n",
              "      <td>15.40</td>\n",
              "      <td>2523.0</td>\n",
              "      <td>75.0</td>\n",
              "    </tr>\n",
              "    <tr>\n",
              "      <th>1234</th>\n",
              "      <td>2463</td>\n",
              "      <td>Toyota Innova 2.5 GX (Diesel) 7 Seater</td>\n",
              "      <td>Delhi</td>\n",
              "      <td>2012</td>\n",
              "      <td>62000</td>\n",
              "      <td>Diesel</td>\n",
              "      <td>Manual</td>\n",
              "      <td>First</td>\n",
              "      <td>12.99 kmpl</td>\n",
              "      <td>2494 CC</td>\n",
              "      <td>100 bhp</td>\n",
              "      <td>7.0</td>\n",
              "      <td>NaN</td>\n",
              "      <td>7.75</td>\n",
              "      <td>7</td>\n",
              "      <td>62</td>\n",
              "      <td>toyota</td>\n",
              "      <td>12.99</td>\n",
              "      <td>2494.0</td>\n",
              "      <td>100.0</td>\n",
              "    </tr>\n",
              "    <tr>\n",
              "      <th>1283</th>\n",
              "      <td>2570</td>\n",
              "      <td>Toyota Innova 2.5 G (Diesel) 8 Seater</td>\n",
              "      <td>Hyderabad</td>\n",
              "      <td>2013</td>\n",
              "      <td>114708</td>\n",
              "      <td>Diesel</td>\n",
              "      <td>Manual</td>\n",
              "      <td>First</td>\n",
              "      <td>12.99 kmpl</td>\n",
              "      <td>2494 CC</td>\n",
              "      <td>100 bhp</td>\n",
              "      <td>8.0</td>\n",
              "      <td>NaN</td>\n",
              "      <td>12.60</td>\n",
              "      <td>6</td>\n",
              "      <td>114</td>\n",
              "      <td>toyota</td>\n",
              "      <td>12.99</td>\n",
              "      <td>2494.0</td>\n",
              "      <td>100.0</td>\n",
              "    </tr>\n",
              "    <tr>\n",
              "      <th>1285</th>\n",
              "      <td>2573</td>\n",
              "      <td>Toyota Innova 2.5 G (Diesel) 8 Seater BS IV</td>\n",
              "      <td>Mumbai</td>\n",
              "      <td>2008</td>\n",
              "      <td>70700</td>\n",
              "      <td>Diesel</td>\n",
              "      <td>Manual</td>\n",
              "      <td>First</td>\n",
              "      <td>12.99 kmpl</td>\n",
              "      <td>2494 CC</td>\n",
              "      <td>100 bhp</td>\n",
              "      <td>8.0</td>\n",
              "      <td>NaN</td>\n",
              "      <td>4.75</td>\n",
              "      <td>11</td>\n",
              "      <td>70</td>\n",
              "      <td>toyota</td>\n",
              "      <td>12.99</td>\n",
              "      <td>2494.0</td>\n",
              "      <td>100.0</td>\n",
              "    </tr>\n",
              "    <tr>\n",
              "      <th>1286</th>\n",
              "      <td>2575</td>\n",
              "      <td>Chevrolet Tavera LS B3 10 Seats BSIII</td>\n",
              "      <td>Hyderabad</td>\n",
              "      <td>2015</td>\n",
              "      <td>120000</td>\n",
              "      <td>Diesel</td>\n",
              "      <td>Manual</td>\n",
              "      <td>First</td>\n",
              "      <td>14.8 kmpl</td>\n",
              "      <td>2499 CC</td>\n",
              "      <td>80 bhp</td>\n",
              "      <td>10.0</td>\n",
              "      <td>NaN</td>\n",
              "      <td>5.50</td>\n",
              "      <td>4</td>\n",
              "      <td>120</td>\n",
              "      <td>chevrolet</td>\n",
              "      <td>14.80</td>\n",
              "      <td>2499.0</td>\n",
              "      <td>80.0</td>\n",
              "    </tr>\n",
              "    <tr>\n",
              "      <th>1480</th>\n",
              "      <td>2923</td>\n",
              "      <td>Mahindra Thar DI 4X4</td>\n",
              "      <td>Mumbai</td>\n",
              "      <td>2018</td>\n",
              "      <td>2500</td>\n",
              "      <td>Diesel</td>\n",
              "      <td>Manual</td>\n",
              "      <td>First</td>\n",
              "      <td>18.06 kmpl</td>\n",
              "      <td>2523 CC</td>\n",
              "      <td>63 bhp</td>\n",
              "      <td>7.0</td>\n",
              "      <td>NaN</td>\n",
              "      <td>8.25</td>\n",
              "      <td>1</td>\n",
              "      <td>2</td>\n",
              "      <td>mahindra</td>\n",
              "      <td>18.06</td>\n",
              "      <td>2523.0</td>\n",
              "      <td>63.0</td>\n",
              "    </tr>\n",
              "    <tr>\n",
              "      <th>1565</th>\n",
              "      <td>3076</td>\n",
              "      <td>Toyota Innova 2.5 G (Diesel) 8 Seater</td>\n",
              "      <td>Hyderabad</td>\n",
              "      <td>2013</td>\n",
              "      <td>92000</td>\n",
              "      <td>Diesel</td>\n",
              "      <td>Manual</td>\n",
              "      <td>First</td>\n",
              "      <td>12.99 kmpl</td>\n",
              "      <td>2494 CC</td>\n",
              "      <td>100 bhp</td>\n",
              "      <td>8.0</td>\n",
              "      <td>NaN</td>\n",
              "      <td>12.50</td>\n",
              "      <td>6</td>\n",
              "      <td>92</td>\n",
              "      <td>toyota</td>\n",
              "      <td>12.99</td>\n",
              "      <td>2494.0</td>\n",
              "      <td>100.0</td>\n",
              "    </tr>\n",
              "    <tr>\n",
              "      <th>1595</th>\n",
              "      <td>3131</td>\n",
              "      <td>Mahindra Xylo D2 BS III</td>\n",
              "      <td>Ahmedabad</td>\n",
              "      <td>2010</td>\n",
              "      <td>91596</td>\n",
              "      <td>Diesel</td>\n",
              "      <td>Manual</td>\n",
              "      <td>First</td>\n",
              "      <td>14.95 kmpl</td>\n",
              "      <td>2489 CC</td>\n",
              "      <td>93.7 bhp</td>\n",
              "      <td>7.0</td>\n",
              "      <td>NaN</td>\n",
              "      <td>1.85</td>\n",
              "      <td>9</td>\n",
              "      <td>91</td>\n",
              "      <td>mahindra</td>\n",
              "      <td>14.95</td>\n",
              "      <td>2489.0</td>\n",
              "      <td>93.7</td>\n",
              "    </tr>\n",
              "    <tr>\n",
              "      <th>1781</th>\n",
              "      <td>3475</td>\n",
              "      <td>Mahindra Xylo D4 BS III</td>\n",
              "      <td>Hyderabad</td>\n",
              "      <td>2015</td>\n",
              "      <td>129750</td>\n",
              "      <td>Diesel</td>\n",
              "      <td>Manual</td>\n",
              "      <td>Second</td>\n",
              "      <td>14.95 kmpl</td>\n",
              "      <td>2489 CC</td>\n",
              "      <td>93.7 bhp</td>\n",
              "      <td>7.0</td>\n",
              "      <td>NaN</td>\n",
              "      <td>6.80</td>\n",
              "      <td>4</td>\n",
              "      <td>129</td>\n",
              "      <td>mahindra</td>\n",
              "      <td>14.95</td>\n",
              "      <td>2489.0</td>\n",
              "      <td>93.7</td>\n",
              "    </tr>\n",
              "    <tr>\n",
              "      <th>1899</th>\n",
              "      <td>3720</td>\n",
              "      <td>Toyota Innova 2.5 G (Diesel) 7 Seater BS IV</td>\n",
              "      <td>Kolkata</td>\n",
              "      <td>2012</td>\n",
              "      <td>85122</td>\n",
              "      <td>Diesel</td>\n",
              "      <td>Manual</td>\n",
              "      <td>First</td>\n",
              "      <td>12.99 kmpl</td>\n",
              "      <td>2494 CC</td>\n",
              "      <td>100 bhp</td>\n",
              "      <td>7.0</td>\n",
              "      <td>NaN</td>\n",
              "      <td>8.20</td>\n",
              "      <td>7</td>\n",
              "      <td>85</td>\n",
              "      <td>toyota</td>\n",
              "      <td>12.99</td>\n",
              "      <td>2494.0</td>\n",
              "      <td>100.0</td>\n",
              "    </tr>\n",
              "    <tr>\n",
              "      <th>1936</th>\n",
              "      <td>3782</td>\n",
              "      <td>Mahindra Thar DI 4X4</td>\n",
              "      <td>Kochi</td>\n",
              "      <td>2019</td>\n",
              "      <td>13024</td>\n",
              "      <td>Diesel</td>\n",
              "      <td>Manual</td>\n",
              "      <td>First</td>\n",
              "      <td>18.06 kmpl</td>\n",
              "      <td>2523 CC</td>\n",
              "      <td>63 bhp</td>\n",
              "      <td>7.0</td>\n",
              "      <td>NaN</td>\n",
              "      <td>9.11</td>\n",
              "      <td>0</td>\n",
              "      <td>13</td>\n",
              "      <td>mahindra</td>\n",
              "      <td>18.06</td>\n",
              "      <td>2523.0</td>\n",
              "      <td>63.0</td>\n",
              "    </tr>\n",
              "    <tr>\n",
              "      <th>2177</th>\n",
              "      <td>4239</td>\n",
              "      <td>Toyota Innova 2.5 GX (Diesel) 8 Seater</td>\n",
              "      <td>Delhi</td>\n",
              "      <td>2013</td>\n",
              "      <td>91200</td>\n",
              "      <td>Diesel</td>\n",
              "      <td>Manual</td>\n",
              "      <td>First</td>\n",
              "      <td>12.99 kmpl</td>\n",
              "      <td>2494 CC</td>\n",
              "      <td>100 bhp</td>\n",
              "      <td>8.0</td>\n",
              "      <td>NaN</td>\n",
              "      <td>8.25</td>\n",
              "      <td>6</td>\n",
              "      <td>91</td>\n",
              "      <td>toyota</td>\n",
              "      <td>12.99</td>\n",
              "      <td>2494.0</td>\n",
              "      <td>100.0</td>\n",
              "    </tr>\n",
              "    <tr>\n",
              "      <th>2456</th>\n",
              "      <td>4818</td>\n",
              "      <td>Tata Sumo EX</td>\n",
              "      <td>Coimbatore</td>\n",
              "      <td>2015</td>\n",
              "      <td>84931</td>\n",
              "      <td>Diesel</td>\n",
              "      <td>Manual</td>\n",
              "      <td>First</td>\n",
              "      <td>15.3 kmpl</td>\n",
              "      <td>2956 CC</td>\n",
              "      <td>83.8 bhp</td>\n",
              "      <td>7.0</td>\n",
              "      <td>NaN</td>\n",
              "      <td>5.29</td>\n",
              "      <td>4</td>\n",
              "      <td>84</td>\n",
              "      <td>tata</td>\n",
              "      <td>15.30</td>\n",
              "      <td>2956.0</td>\n",
              "      <td>83.8</td>\n",
              "    </tr>\n",
              "    <tr>\n",
              "      <th>2538</th>\n",
              "      <td>4966</td>\n",
              "      <td>Toyota Innova 2.5 VX (Diesel) 8 Seater</td>\n",
              "      <td>Mumbai</td>\n",
              "      <td>2014</td>\n",
              "      <td>87143</td>\n",
              "      <td>Diesel</td>\n",
              "      <td>Manual</td>\n",
              "      <td>First</td>\n",
              "      <td>12.99 kmpl</td>\n",
              "      <td>2494 CC</td>\n",
              "      <td>100 bhp</td>\n",
              "      <td>8.0</td>\n",
              "      <td>NaN</td>\n",
              "      <td>12.50</td>\n",
              "      <td>5</td>\n",
              "      <td>87</td>\n",
              "      <td>toyota</td>\n",
              "      <td>12.99</td>\n",
              "      <td>2494.0</td>\n",
              "      <td>100.0</td>\n",
              "    </tr>\n",
              "    <tr>\n",
              "      <th>2672</th>\n",
              "      <td>5211</td>\n",
              "      <td>Mahindra Bolero ZLX</td>\n",
              "      <td>Coimbatore</td>\n",
              "      <td>2017</td>\n",
              "      <td>68557</td>\n",
              "      <td>Diesel</td>\n",
              "      <td>Manual</td>\n",
              "      <td>First</td>\n",
              "      <td>15.96 kmpl</td>\n",
              "      <td>2523 CC</td>\n",
              "      <td>62.1 bhp</td>\n",
              "      <td>7.0</td>\n",
              "      <td>11.28 Lakh</td>\n",
              "      <td>8.14</td>\n",
              "      <td>2</td>\n",
              "      <td>68</td>\n",
              "      <td>mahindra</td>\n",
              "      <td>15.96</td>\n",
              "      <td>2523.0</td>\n",
              "      <td>62.1</td>\n",
              "    </tr>\n",
              "    <tr>\n",
              "      <th>2673</th>\n",
              "      <td>5213</td>\n",
              "      <td>Toyota Innova 2.5 VX (Diesel) 8 Seater BS IV</td>\n",
              "      <td>Pune</td>\n",
              "      <td>2015</td>\n",
              "      <td>77000</td>\n",
              "      <td>Diesel</td>\n",
              "      <td>Manual</td>\n",
              "      <td>First</td>\n",
              "      <td>12.99 kmpl</td>\n",
              "      <td>2494 CC</td>\n",
              "      <td>100 bhp</td>\n",
              "      <td>8.0</td>\n",
              "      <td>NaN</td>\n",
              "      <td>12.50</td>\n",
              "      <td>4</td>\n",
              "      <td>77</td>\n",
              "      <td>toyota</td>\n",
              "      <td>12.99</td>\n",
              "      <td>2494.0</td>\n",
              "      <td>100.0</td>\n",
              "    </tr>\n",
              "    <tr>\n",
              "      <th>2753</th>\n",
              "      <td>5357</td>\n",
              "      <td>Mahindra Bolero ZLX</td>\n",
              "      <td>Jaipur</td>\n",
              "      <td>2016</td>\n",
              "      <td>65000</td>\n",
              "      <td>Diesel</td>\n",
              "      <td>Manual</td>\n",
              "      <td>First</td>\n",
              "      <td>15.96 kmpl</td>\n",
              "      <td>2523 CC</td>\n",
              "      <td>62.1 bhp</td>\n",
              "      <td>7.0</td>\n",
              "      <td>11.15 Lakh</td>\n",
              "      <td>7.21</td>\n",
              "      <td>3</td>\n",
              "      <td>65</td>\n",
              "      <td>mahindra</td>\n",
              "      <td>15.96</td>\n",
              "      <td>2523.0</td>\n",
              "      <td>62.1</td>\n",
              "    </tr>\n",
              "    <tr>\n",
              "      <th>3009</th>\n",
              "      <td>5850</td>\n",
              "      <td>Mahindra Xylo D4 BS III</td>\n",
              "      <td>Hyderabad</td>\n",
              "      <td>2016</td>\n",
              "      <td>132000</td>\n",
              "      <td>Diesel</td>\n",
              "      <td>Manual</td>\n",
              "      <td>First</td>\n",
              "      <td>14.95 kmpl</td>\n",
              "      <td>2489 CC</td>\n",
              "      <td>93.7 bhp</td>\n",
              "      <td>7.0</td>\n",
              "      <td>NaN</td>\n",
              "      <td>5.50</td>\n",
              "      <td>3</td>\n",
              "      <td>132</td>\n",
              "      <td>mahindra</td>\n",
              "      <td>14.95</td>\n",
              "      <td>2489.0</td>\n",
              "      <td>93.7</td>\n",
              "    </tr>\n",
              "    <tr>\n",
              "      <th>3054</th>\n",
              "      <td>5939</td>\n",
              "      <td>Toyota Innova 2.5 G (Diesel) 8 Seater</td>\n",
              "      <td>Mumbai</td>\n",
              "      <td>2012</td>\n",
              "      <td>106000</td>\n",
              "      <td>Diesel</td>\n",
              "      <td>Manual</td>\n",
              "      <td>First</td>\n",
              "      <td>12.99 kmpl</td>\n",
              "      <td>2494 CC</td>\n",
              "      <td>100 bhp</td>\n",
              "      <td>8.0</td>\n",
              "      <td>NaN</td>\n",
              "      <td>8.40</td>\n",
              "      <td>7</td>\n",
              "      <td>106</td>\n",
              "      <td>toyota</td>\n",
              "      <td>12.99</td>\n",
              "      <td>2494.0</td>\n",
              "      <td>100.0</td>\n",
              "    </tr>\n",
              "    <tr>\n",
              "      <th>3060</th>\n",
              "      <td>5956</td>\n",
              "      <td>Toyota Innova 2.5 GX (Diesel) 7 Seater</td>\n",
              "      <td>Chennai</td>\n",
              "      <td>2012</td>\n",
              "      <td>96000</td>\n",
              "      <td>Diesel</td>\n",
              "      <td>Manual</td>\n",
              "      <td>First</td>\n",
              "      <td>12.99 kmpl</td>\n",
              "      <td>2494 CC</td>\n",
              "      <td>100 bhp</td>\n",
              "      <td>7.0</td>\n",
              "      <td>NaN</td>\n",
              "      <td>11.50</td>\n",
              "      <td>7</td>\n",
              "      <td>96</td>\n",
              "      <td>toyota</td>\n",
              "      <td>12.99</td>\n",
              "      <td>2494.0</td>\n",
              "      <td>100.0</td>\n",
              "    </tr>\n",
              "  </tbody>\n",
              "</table>\n",
              "</div>\n",
              "      <button class=\"colab-df-convert\" onclick=\"convertToInteractive('df-24a448a6-f54d-42ff-b954-9ae25f60c926')\"\n",
              "              title=\"Convert this dataframe to an interactive table.\"\n",
              "              style=\"display:none;\">\n",
              "        \n",
              "  <svg xmlns=\"http://www.w3.org/2000/svg\" height=\"24px\"viewBox=\"0 0 24 24\"\n",
              "       width=\"24px\">\n",
              "    <path d=\"M0 0h24v24H0V0z\" fill=\"none\"/>\n",
              "    <path d=\"M18.56 5.44l.94 2.06.94-2.06 2.06-.94-2.06-.94-.94-2.06-.94 2.06-2.06.94zm-11 1L8.5 8.5l.94-2.06 2.06-.94-2.06-.94L8.5 2.5l-.94 2.06-2.06.94zm10 10l.94 2.06.94-2.06 2.06-.94-2.06-.94-.94-2.06-.94 2.06-2.06.94z\"/><path d=\"M17.41 7.96l-1.37-1.37c-.4-.4-.92-.59-1.43-.59-.52 0-1.04.2-1.43.59L10.3 9.45l-7.72 7.72c-.78.78-.78 2.05 0 2.83L4 21.41c.39.39.9.59 1.41.59.51 0 1.02-.2 1.41-.59l7.78-7.78 2.81-2.81c.8-.78.8-2.07 0-2.86zM5.41 20L4 18.59l7.72-7.72 1.47 1.35L5.41 20z\"/>\n",
              "  </svg>\n",
              "      </button>\n",
              "      \n",
              "  <style>\n",
              "    .colab-df-container {\n",
              "      display:flex;\n",
              "      flex-wrap:wrap;\n",
              "      gap: 12px;\n",
              "    }\n",
              "\n",
              "    .colab-df-convert {\n",
              "      background-color: #E8F0FE;\n",
              "      border: none;\n",
              "      border-radius: 50%;\n",
              "      cursor: pointer;\n",
              "      display: none;\n",
              "      fill: #1967D2;\n",
              "      height: 32px;\n",
              "      padding: 0 0 0 0;\n",
              "      width: 32px;\n",
              "    }\n",
              "\n",
              "    .colab-df-convert:hover {\n",
              "      background-color: #E2EBFA;\n",
              "      box-shadow: 0px 1px 2px rgba(60, 64, 67, 0.3), 0px 1px 3px 1px rgba(60, 64, 67, 0.15);\n",
              "      fill: #174EA6;\n",
              "    }\n",
              "\n",
              "    [theme=dark] .colab-df-convert {\n",
              "      background-color: #3B4455;\n",
              "      fill: #D2E3FC;\n",
              "    }\n",
              "\n",
              "    [theme=dark] .colab-df-convert:hover {\n",
              "      background-color: #434B5C;\n",
              "      box-shadow: 0px 1px 3px 1px rgba(0, 0, 0, 0.15);\n",
              "      filter: drop-shadow(0px 1px 2px rgba(0, 0, 0, 0.3));\n",
              "      fill: #FFFFFF;\n",
              "    }\n",
              "  </style>\n",
              "\n",
              "      <script>\n",
              "        const buttonEl =\n",
              "          document.querySelector('#df-24a448a6-f54d-42ff-b954-9ae25f60c926 button.colab-df-convert');\n",
              "        buttonEl.style.display =\n",
              "          google.colab.kernel.accessAllowed ? 'block' : 'none';\n",
              "\n",
              "        async function convertToInteractive(key) {\n",
              "          const element = document.querySelector('#df-24a448a6-f54d-42ff-b954-9ae25f60c926');\n",
              "          const dataTable =\n",
              "            await google.colab.kernel.invokeFunction('convertToInteractive',\n",
              "                                                     [key], {});\n",
              "          if (!dataTable) return;\n",
              "\n",
              "          const docLinkHtml = 'Like what you see? Visit the ' +\n",
              "            '<a target=\"_blank\" href=https://colab.research.google.com/notebooks/data_table.ipynb>data table notebook</a>'\n",
              "            + ' to learn more about interactive tables.';\n",
              "          element.innerHTML = '';\n",
              "          dataTable['output_type'] = 'display_data';\n",
              "          await google.colab.output.renderOutput(dataTable, element);\n",
              "          const docLink = document.createElement('div');\n",
              "          docLink.innerHTML = docLinkHtml;\n",
              "          element.appendChild(docLink);\n",
              "        }\n",
              "      </script>\n",
              "    </div>\n",
              "  </div>\n",
              "  "
            ]
          },
          "metadata": {},
          "execution_count": 42
        }
      ],
      "source": [
        "cars_df[cars_df.engine_new > 2400]"
      ]
    },
    {
      "cell_type": "code",
      "execution_count": 43,
      "metadata": {
        "colab": {
          "base_uri": "https://localhost:8080/"
        },
        "id": "TdaPLfvxT8RI",
        "outputId": "da33f3a1-c2b2-416c-d11f-ffaed399b612"
      },
      "outputs": [
        {
          "output_type": "execute_result",
          "data": {
            "text/plain": [
              "0       18.20\n",
              "1       20.77\n",
              "2       23.08\n",
              "3       22.30\n",
              "4       25.20\n",
              "        ...  \n",
              "3087    25.80\n",
              "3088    28.40\n",
              "3089    24.40\n",
              "3090    18.90\n",
              "3091    25.44\n",
              "Name: mileage_new, Length: 3092, dtype: float64"
            ]
          },
          "metadata": {},
          "execution_count": 43
        }
      ],
      "source": [
        "cars_df.mileage_new"
      ]
    },
    {
      "cell_type": "markdown",
      "metadata": {
        "id": "rdC5jAbFT8RI"
      },
      "source": [
        "### Finding corrleation between multiple variables (numerical)"
      ]
    },
    {
      "cell_type": "code",
      "execution_count": 44,
      "metadata": {
        "id": "2GccgB4LT8RI"
      },
      "outputs": [],
      "source": [
        "corr_mat = cars_df[['Price', 'mileage_new', 'engine_new', 'power_new', 'KM_Driven']].corr()"
      ]
    },
    {
      "cell_type": "code",
      "execution_count": 45,
      "metadata": {
        "colab": {
          "base_uri": "https://localhost:8080/",
          "height": 0
        },
        "id": "pPld3xn-T8RI",
        "outputId": "3214e9a6-0c35-4616-81db-19b7045dce5a"
      },
      "outputs": [
        {
          "output_type": "execute_result",
          "data": {
            "text/plain": [
              "                Price  mileage_new  engine_new  power_new  KM_Driven\n",
              "Price        1.000000     0.303392    0.329355   0.519470  -0.280577\n",
              "mileage_new  0.303392     1.000000   -0.156949  -0.022680  -0.079414\n",
              "engine_new   0.329355    -0.156949    1.000000   0.607726   0.282310\n",
              "power_new    0.519470    -0.022680    0.607726   1.000000   0.010005\n",
              "KM_Driven   -0.280577    -0.079414    0.282310   0.010005   1.000000"
            ],
            "text/html": [
              "\n",
              "  <div id=\"df-2a1bf140-09ef-45c6-8f90-4ca667c28eef\">\n",
              "    <div class=\"colab-df-container\">\n",
              "      <div>\n",
              "<style scoped>\n",
              "    .dataframe tbody tr th:only-of-type {\n",
              "        vertical-align: middle;\n",
              "    }\n",
              "\n",
              "    .dataframe tbody tr th {\n",
              "        vertical-align: top;\n",
              "    }\n",
              "\n",
              "    .dataframe thead th {\n",
              "        text-align: right;\n",
              "    }\n",
              "</style>\n",
              "<table border=\"1\" class=\"dataframe\">\n",
              "  <thead>\n",
              "    <tr style=\"text-align: right;\">\n",
              "      <th></th>\n",
              "      <th>Price</th>\n",
              "      <th>mileage_new</th>\n",
              "      <th>engine_new</th>\n",
              "      <th>power_new</th>\n",
              "      <th>KM_Driven</th>\n",
              "    </tr>\n",
              "  </thead>\n",
              "  <tbody>\n",
              "    <tr>\n",
              "      <th>Price</th>\n",
              "      <td>1.000000</td>\n",
              "      <td>0.303392</td>\n",
              "      <td>0.329355</td>\n",
              "      <td>0.519470</td>\n",
              "      <td>-0.280577</td>\n",
              "    </tr>\n",
              "    <tr>\n",
              "      <th>mileage_new</th>\n",
              "      <td>0.303392</td>\n",
              "      <td>1.000000</td>\n",
              "      <td>-0.156949</td>\n",
              "      <td>-0.022680</td>\n",
              "      <td>-0.079414</td>\n",
              "    </tr>\n",
              "    <tr>\n",
              "      <th>engine_new</th>\n",
              "      <td>0.329355</td>\n",
              "      <td>-0.156949</td>\n",
              "      <td>1.000000</td>\n",
              "      <td>0.607726</td>\n",
              "      <td>0.282310</td>\n",
              "    </tr>\n",
              "    <tr>\n",
              "      <th>power_new</th>\n",
              "      <td>0.519470</td>\n",
              "      <td>-0.022680</td>\n",
              "      <td>0.607726</td>\n",
              "      <td>1.000000</td>\n",
              "      <td>0.010005</td>\n",
              "    </tr>\n",
              "    <tr>\n",
              "      <th>KM_Driven</th>\n",
              "      <td>-0.280577</td>\n",
              "      <td>-0.079414</td>\n",
              "      <td>0.282310</td>\n",
              "      <td>0.010005</td>\n",
              "      <td>1.000000</td>\n",
              "    </tr>\n",
              "  </tbody>\n",
              "</table>\n",
              "</div>\n",
              "      <button class=\"colab-df-convert\" onclick=\"convertToInteractive('df-2a1bf140-09ef-45c6-8f90-4ca667c28eef')\"\n",
              "              title=\"Convert this dataframe to an interactive table.\"\n",
              "              style=\"display:none;\">\n",
              "        \n",
              "  <svg xmlns=\"http://www.w3.org/2000/svg\" height=\"24px\"viewBox=\"0 0 24 24\"\n",
              "       width=\"24px\">\n",
              "    <path d=\"M0 0h24v24H0V0z\" fill=\"none\"/>\n",
              "    <path d=\"M18.56 5.44l.94 2.06.94-2.06 2.06-.94-2.06-.94-.94-2.06-.94 2.06-2.06.94zm-11 1L8.5 8.5l.94-2.06 2.06-.94-2.06-.94L8.5 2.5l-.94 2.06-2.06.94zm10 10l.94 2.06.94-2.06 2.06-.94-2.06-.94-.94-2.06-.94 2.06-2.06.94z\"/><path d=\"M17.41 7.96l-1.37-1.37c-.4-.4-.92-.59-1.43-.59-.52 0-1.04.2-1.43.59L10.3 9.45l-7.72 7.72c-.78.78-.78 2.05 0 2.83L4 21.41c.39.39.9.59 1.41.59.51 0 1.02-.2 1.41-.59l7.78-7.78 2.81-2.81c.8-.78.8-2.07 0-2.86zM5.41 20L4 18.59l7.72-7.72 1.47 1.35L5.41 20z\"/>\n",
              "  </svg>\n",
              "      </button>\n",
              "      \n",
              "  <style>\n",
              "    .colab-df-container {\n",
              "      display:flex;\n",
              "      flex-wrap:wrap;\n",
              "      gap: 12px;\n",
              "    }\n",
              "\n",
              "    .colab-df-convert {\n",
              "      background-color: #E8F0FE;\n",
              "      border: none;\n",
              "      border-radius: 50%;\n",
              "      cursor: pointer;\n",
              "      display: none;\n",
              "      fill: #1967D2;\n",
              "      height: 32px;\n",
              "      padding: 0 0 0 0;\n",
              "      width: 32px;\n",
              "    }\n",
              "\n",
              "    .colab-df-convert:hover {\n",
              "      background-color: #E2EBFA;\n",
              "      box-shadow: 0px 1px 2px rgba(60, 64, 67, 0.3), 0px 1px 3px 1px rgba(60, 64, 67, 0.15);\n",
              "      fill: #174EA6;\n",
              "    }\n",
              "\n",
              "    [theme=dark] .colab-df-convert {\n",
              "      background-color: #3B4455;\n",
              "      fill: #D2E3FC;\n",
              "    }\n",
              "\n",
              "    [theme=dark] .colab-df-convert:hover {\n",
              "      background-color: #434B5C;\n",
              "      box-shadow: 0px 1px 3px 1px rgba(0, 0, 0, 0.15);\n",
              "      filter: drop-shadow(0px 1px 2px rgba(0, 0, 0, 0.3));\n",
              "      fill: #FFFFFF;\n",
              "    }\n",
              "  </style>\n",
              "\n",
              "      <script>\n",
              "        const buttonEl =\n",
              "          document.querySelector('#df-2a1bf140-09ef-45c6-8f90-4ca667c28eef button.colab-df-convert');\n",
              "        buttonEl.style.display =\n",
              "          google.colab.kernel.accessAllowed ? 'block' : 'none';\n",
              "\n",
              "        async function convertToInteractive(key) {\n",
              "          const element = document.querySelector('#df-2a1bf140-09ef-45c6-8f90-4ca667c28eef');\n",
              "          const dataTable =\n",
              "            await google.colab.kernel.invokeFunction('convertToInteractive',\n",
              "                                                     [key], {});\n",
              "          if (!dataTable) return;\n",
              "\n",
              "          const docLinkHtml = 'Like what you see? Visit the ' +\n",
              "            '<a target=\"_blank\" href=https://colab.research.google.com/notebooks/data_table.ipynb>data table notebook</a>'\n",
              "            + ' to learn more about interactive tables.';\n",
              "          element.innerHTML = '';\n",
              "          dataTable['output_type'] = 'display_data';\n",
              "          await google.colab.output.renderOutput(dataTable, element);\n",
              "          const docLink = document.createElement('div');\n",
              "          docLink.innerHTML = docLinkHtml;\n",
              "          element.appendChild(docLink);\n",
              "        }\n",
              "      </script>\n",
              "    </div>\n",
              "  </div>\n",
              "  "
            ]
          },
          "metadata": {},
          "execution_count": 45
        }
      ],
      "source": [
        "corr_mat"
      ]
    },
    {
      "cell_type": "code",
      "execution_count": 46,
      "metadata": {
        "colab": {
          "base_uri": "https://localhost:8080/",
          "height": 0
        },
        "id": "ulqQ9wqYT8RJ",
        "outputId": "ee38ea62-deaa-4aba-8ca3-6e30ffbbc9d7"
      },
      "outputs": [
        {
          "output_type": "display_data",
          "data": {
            "text/plain": [
              "<Figure size 432x288 with 2 Axes>"
            ],
            "image/png": "[encoded data removed]"
          },
          "metadata": {}
        }
      ],
      "source": [
        "sn.heatmap(corr_mat,\n",
        "           annot=True,\n",
        "           vmin = -1.0,\n",
        "           vmax = 1.0,\n",
        "           cmap = sn.diverging_palette(240, 10));"
      ]
    },
    {
      "cell_type": "code",
      "execution_count": 47,
      "metadata": {
        "colab": {
          "base_uri": "https://localhost:8080/"
        },
        "id": "S09x6msZT8RJ",
        "outputId": "b189a800-8e39-4fa3-adee-635ee7d6b0c2"
      },
      "outputs": [
        {
          "output_type": "execute_result",
          "data": {
            "text/plain": [
              "(3092, 20)"
            ]
          },
          "metadata": {},
          "execution_count": 47
        }
      ],
      "source": [
        "cars_df.shape"
      ]
    },
    {
      "cell_type": "markdown",
      "metadata": {
        "id": "O9F-2_e1T8RJ"
      },
      "source": [
        "### Saving the dataset (with new features) "
      ]
    },
    {
      "cell_type": "code",
      "execution_count": 48,
      "metadata": {
        "id": "X-wIg79WT8RJ"
      },
      "outputs": [],
      "source": [
        "cars_df.to_csv( \"usecar_latest.csv\", index = False)"
      ]
    }
  ],
  "metadata": {
    "kernelspec": {
      "display_name": "Python 3",
      "language": "python",
      "name": "python3"
    },
    "language_info": {
      "codemirror_mode": {
        "name": "ipython",
        "version": 3
      },
      "file_extension": ".py",
      "mimetype": "text/x-python",
      "name": "python",
      "nbconvert_exporter": "python",
      "pygments_lexer": "ipython3",
      "version": "3.8.3"
    },
    "colab": {
      "name": "Used Car Price Exploration ISB 1.0.ipynb",
      "provenance": [],
      "collapsed_sections": [
        "RYDtK8IrT8RH",
        "rdC5jAbFT8RI"
      ]
    }
  },
  "nbformat": 4,
  "nbformat_minor": 0
}