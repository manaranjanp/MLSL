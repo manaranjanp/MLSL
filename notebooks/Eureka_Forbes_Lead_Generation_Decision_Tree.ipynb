{
 "cells": [
  {
   "cell_type": "markdown",
   "metadata": {},
   "source": [
    "# IMPROVING LEAD GENERATION AT EUREKA FORBES \n",
    "\n",
    "Eureka Forbes, part of the conglomerate Shapoorji Pallonji Group, is currently one of the world's largest direct sales company known for its water purifier brand Aquaguard with a turnover of more than INR 30 billion. The company is estimated to have a customer base of 20 million across 53 countries. The company's distribution channel includes a direct sales force of dealers, institutional channels, business partner network and a rural channel across 1500 cities and towns in India. The company's previous customer acquisition model ensured that interested customers were individually visited for demonstration of the product and for completion of purchase. While this made the company a household name, it kept the acquisition costs on the higher side. With the imminence of online retailing, the brand had been taking steps to establish their digital presence and build a stable online sales channel. The company website (www.eurekaforbes.com) attracts online traffic from various sources such as organic searches, google ads, email campaigns, etc. The company has started to use this click stream data to build a rich database of visitor acquisition factors and behavioral variables such as session duration, device category, pages visited, lead forms filled, etc. using the Google Analytics Reporting API. The company identifies these visitors as potential customers and is actively deploying remarketing campaigns with optimism to convert them. \n",
    "\n",
    "**Source**: https://store.hbr.org/product/improving-lead-generation-at-eureka-forbes-using-machine-learning-algorithms/IMB779\n",
    "\n",
    "The business goal is clearly defined for the company – they want to target potential customers while keeping\n",
    "the cost per lead (CPL) as low as possible. For Kashif Kudalkar, the Deputy General Manager for Digital\n",
    "Marketing and Analytics, the task is to achieve better conversion at lower costs. This is achievable when\n",
    "the target audience is narrowed down to a sizeable number for remarketing campaigns. Kashif wants to use\n",
    "the collected behavioral and visitor data to achieve the following objectives:\n",
    "\n",
    "1. Find the target audience with a high probability of submitting a lead and eventually converting.\n",
    "2. Segment the visitor audience into buckets based on their activity for designing better advertising and\n",
    "remarketing campaigns.\n",
    "3. Finally, have a probability score that can be used to run a personalized campaign for users/segments"
   ]
  },
  {
   "cell_type": "markdown",
   "metadata": {},
   "source": [
    "## Loading Dataset"
   ]
  },
  {
   "cell_type": "code",
   "execution_count": 1,
   "metadata": {},
   "outputs": [],
   "source": [
    "import warnings\n",
    "warnings.filterwarnings('ignore')"
   ]
  },
  {
   "cell_type": "code",
   "execution_count": 2,
   "metadata": {},
   "outputs": [],
   "source": [
    "import pandas as pd"
   ]
  },
  {
   "cell_type": "code",
   "execution_count": 3,
   "metadata": {},
   "outputs": [],
   "source": [
    "eureka_df_v3 = pd.read_csv('https://raw.githubusercontent.com/manaranjanp/IIMBClasses/main/classification/eureka_encoded_csv.zip')"
   ]
  },
  {
   "cell_type": "code",
   "execution_count": 4,
   "metadata": {},
   "outputs": [
    {
     "data": {
      "text/html": [
       "<div>\n",
       "<style scoped>\n",
       "    .dataframe tbody tr th:only-of-type {\n",
       "        vertical-align: middle;\n",
       "    }\n",
       "\n",
       "    .dataframe tbody tr th {\n",
       "        vertical-align: top;\n",
       "    }\n",
       "\n",
       "    .dataframe thead th {\n",
       "        text-align: right;\n",
       "    }\n",
       "</style>\n",
       "<table border=\"1\" class=\"dataframe\">\n",
       "  <thead>\n",
       "    <tr style=\"text-align: right;\">\n",
       "      <th></th>\n",
       "      <th>DemoReqPg_CallClicks_evt_count</th>\n",
       "      <th>air_purifier_page_top</th>\n",
       "      <th>bookdemo_in_7days</th>\n",
       "      <th>bounces</th>\n",
       "      <th>checkout_page_top</th>\n",
       "      <th>contactus_top</th>\n",
       "      <th>customer_service_amc_login_top</th>\n",
       "      <th>customer_service_request_login_top</th>\n",
       "      <th>demo_page_top</th>\n",
       "      <th>dsls</th>\n",
       "      <th>...</th>\n",
       "      <th>region_Rajasthan</th>\n",
       "      <th>region_Tamil Nadu</th>\n",
       "      <th>region_Telangana</th>\n",
       "      <th>region_Uttar Pradesh</th>\n",
       "      <th>region_Uttarakhand</th>\n",
       "      <th>region_West Bengal</th>\n",
       "      <th>sourceMediumFinal_facebook_social</th>\n",
       "      <th>sourceMediumFinal_google_cpc</th>\n",
       "      <th>sourceMediumFinal_google_organic</th>\n",
       "      <th>sourceMediumFinal_referral</th>\n",
       "    </tr>\n",
       "  </thead>\n",
       "  <tbody>\n",
       "    <tr>\n",
       "      <th>0</th>\n",
       "      <td>0.0</td>\n",
       "      <td>0.0</td>\n",
       "      <td>0</td>\n",
       "      <td>0.0</td>\n",
       "      <td>0.0</td>\n",
       "      <td>0.0</td>\n",
       "      <td>0.0</td>\n",
       "      <td>0.0</td>\n",
       "      <td>0.0</td>\n",
       "      <td>0</td>\n",
       "      <td>...</td>\n",
       "      <td>0</td>\n",
       "      <td>0</td>\n",
       "      <td>1</td>\n",
       "      <td>0</td>\n",
       "      <td>0</td>\n",
       "      <td>0</td>\n",
       "      <td>0</td>\n",
       "      <td>0</td>\n",
       "      <td>1</td>\n",
       "      <td>0</td>\n",
       "    </tr>\n",
       "    <tr>\n",
       "      <th>1</th>\n",
       "      <td>0.0</td>\n",
       "      <td>0.0</td>\n",
       "      <td>0</td>\n",
       "      <td>0.0</td>\n",
       "      <td>0.0</td>\n",
       "      <td>0.0</td>\n",
       "      <td>0.0</td>\n",
       "      <td>0.0</td>\n",
       "      <td>7.0</td>\n",
       "      <td>6</td>\n",
       "      <td>...</td>\n",
       "      <td>0</td>\n",
       "      <td>0</td>\n",
       "      <td>0</td>\n",
       "      <td>0</td>\n",
       "      <td>0</td>\n",
       "      <td>0</td>\n",
       "      <td>0</td>\n",
       "      <td>1</td>\n",
       "      <td>0</td>\n",
       "      <td>0</td>\n",
       "    </tr>\n",
       "    <tr>\n",
       "      <th>2</th>\n",
       "      <td>0.0</td>\n",
       "      <td>0.0</td>\n",
       "      <td>0</td>\n",
       "      <td>0.0</td>\n",
       "      <td>0.0</td>\n",
       "      <td>0.0</td>\n",
       "      <td>0.0</td>\n",
       "      <td>0.0</td>\n",
       "      <td>0.0</td>\n",
       "      <td>0</td>\n",
       "      <td>...</td>\n",
       "      <td>0</td>\n",
       "      <td>1</td>\n",
       "      <td>0</td>\n",
       "      <td>0</td>\n",
       "      <td>0</td>\n",
       "      <td>0</td>\n",
       "      <td>0</td>\n",
       "      <td>0</td>\n",
       "      <td>1</td>\n",
       "      <td>0</td>\n",
       "    </tr>\n",
       "    <tr>\n",
       "      <th>3</th>\n",
       "      <td>0.0</td>\n",
       "      <td>0.0</td>\n",
       "      <td>0</td>\n",
       "      <td>0.0</td>\n",
       "      <td>0.0</td>\n",
       "      <td>0.0</td>\n",
       "      <td>64.0</td>\n",
       "      <td>0.0</td>\n",
       "      <td>49.0</td>\n",
       "      <td>0</td>\n",
       "      <td>...</td>\n",
       "      <td>0</td>\n",
       "      <td>0</td>\n",
       "      <td>0</td>\n",
       "      <td>0</td>\n",
       "      <td>0</td>\n",
       "      <td>0</td>\n",
       "      <td>0</td>\n",
       "      <td>1</td>\n",
       "      <td>0</td>\n",
       "      <td>0</td>\n",
       "    </tr>\n",
       "    <tr>\n",
       "      <th>4</th>\n",
       "      <td>1.0</td>\n",
       "      <td>0.0</td>\n",
       "      <td>0</td>\n",
       "      <td>0.0</td>\n",
       "      <td>0.0</td>\n",
       "      <td>0.0</td>\n",
       "      <td>0.0</td>\n",
       "      <td>0.0</td>\n",
       "      <td>36.0</td>\n",
       "      <td>0</td>\n",
       "      <td>...</td>\n",
       "      <td>0</td>\n",
       "      <td>0</td>\n",
       "      <td>0</td>\n",
       "      <td>0</td>\n",
       "      <td>0</td>\n",
       "      <td>0</td>\n",
       "      <td>0</td>\n",
       "      <td>1</td>\n",
       "      <td>0</td>\n",
       "      <td>0</td>\n",
       "    </tr>\n",
       "  </tbody>\n",
       "</table>\n",
       "<p>5 rows × 75 columns</p>\n",
       "</div>"
      ],
      "text/plain": [
       "   DemoReqPg_CallClicks_evt_count  air_purifier_page_top  bookdemo_in_7days  \\\n",
       "0                             0.0                    0.0                  0   \n",
       "1                             0.0                    0.0                  0   \n",
       "2                             0.0                    0.0                  0   \n",
       "3                             0.0                    0.0                  0   \n",
       "4                             1.0                    0.0                  0   \n",
       "\n",
       "   bounces  checkout_page_top  contactus_top  customer_service_amc_login_top  \\\n",
       "0      0.0                0.0            0.0                             0.0   \n",
       "1      0.0                0.0            0.0                             0.0   \n",
       "2      0.0                0.0            0.0                             0.0   \n",
       "3      0.0                0.0            0.0                            64.0   \n",
       "4      0.0                0.0            0.0                             0.0   \n",
       "\n",
       "   customer_service_request_login_top  demo_page_top  dsls  ...  \\\n",
       "0                                 0.0            0.0     0  ...   \n",
       "1                                 0.0            7.0     6  ...   \n",
       "2                                 0.0            0.0     0  ...   \n",
       "3                                 0.0           49.0     0  ...   \n",
       "4                                 0.0           36.0     0  ...   \n",
       "\n",
       "   region_Rajasthan  region_Tamil Nadu  region_Telangana  \\\n",
       "0                 0                  0                 1   \n",
       "1                 0                  0                 0   \n",
       "2                 0                  1                 0   \n",
       "3                 0                  0                 0   \n",
       "4                 0                  0                 0   \n",
       "\n",
       "   region_Uttar Pradesh  region_Uttarakhand  region_West Bengal  \\\n",
       "0                     0                   0                   0   \n",
       "1                     0                   0                   0   \n",
       "2                     0                   0                   0   \n",
       "3                     0                   0                   0   \n",
       "4                     0                   0                   0   \n",
       "\n",
       "   sourceMediumFinal_facebook_social  sourceMediumFinal_google_cpc  \\\n",
       "0                                  0                             0   \n",
       "1                                  0                             1   \n",
       "2                                  0                             0   \n",
       "3                                  0                             1   \n",
       "4                                  0                             1   \n",
       "\n",
       "   sourceMediumFinal_google_organic  sourceMediumFinal_referral  \n",
       "0                                 1                           0  \n",
       "1                                 0                           0  \n",
       "2                                 1                           0  \n",
       "3                                 0                           0  \n",
       "4                                 0                           0  \n",
       "\n",
       "[5 rows x 75 columns]"
      ]
     },
     "execution_count": 4,
     "metadata": {},
     "output_type": "execute_result"
    }
   ],
   "source": [
    "eureka_df_v3.head(5)"
   ]
  },
  {
   "cell_type": "code",
   "execution_count": 5,
   "metadata": {},
   "outputs": [
    {
     "name": "stdout",
     "output_type": "stream",
     "text": [
      "<class 'pandas.core.frame.DataFrame'>\n",
      "RangeIndex: 682037 entries, 0 to 682036\n",
      "Data columns (total 75 columns):\n",
      " #   Column                                  Non-Null Count   Dtype  \n",
      "---  ------                                  --------------   -----  \n",
      " 0   DemoReqPg_CallClicks_evt_count          682037 non-null  float64\n",
      " 1   air_purifier_page_top                   682037 non-null  float64\n",
      " 2   bookdemo_in_7days                       682037 non-null  int64  \n",
      " 3   bounces                                 682037 non-null  float64\n",
      " 4   checkout_page_top                       682037 non-null  float64\n",
      " 5   contactus_top                           682037 non-null  float64\n",
      " 6   customer_service_amc_login_top          682037 non-null  float64\n",
      " 7   customer_service_request_login_top      682037 non-null  float64\n",
      " 8   demo_page_top                           682037 non-null  float64\n",
      " 9   dsls                                    682037 non-null  int64  \n",
      " 10  fired_DemoReqPg_CallClicks_evt          682037 non-null  float64\n",
      " 11  fired_help_me_buy_evt                   682037 non-null  float64\n",
      " 12  fired_phone_clicks_evt                  682037 non-null  float64\n",
      " 13  goal3Completions                        682037 non-null  float64\n",
      " 14  goal4Completions                        682037 non-null  float64\n",
      " 15  goal7Completions                        682037 non-null  float64\n",
      " 16  help_me_buy_evt_count                   682037 non-null  float64\n",
      " 17  newUser                                 682037 non-null  int64  \n",
      " 18  offer_page_top                          682037 non-null  float64\n",
      " 19  pageviews                               682037 non-null  float64\n",
      " 20  paid                                    682037 non-null  int64  \n",
      " 21  phone_clicks_evt_count                  682037 non-null  float64\n",
      " 22  security_solutions_page_top             682037 non-null  float64\n",
      " 23  sessionDuration                         682037 non-null  float64\n",
      " 24  sessions                                682037 non-null  float64\n",
      " 25  storelocator_top                        682037 non-null  float64\n",
      " 26  successbookdemo_top                     682037 non-null  float64\n",
      " 27  vacuum_cleaner_page_top                 682037 non-null  float64\n",
      " 28  visited_air_purifier_page               682037 non-null  float64\n",
      " 29  visited_checkout_page                   682037 non-null  float64\n",
      " 30  visited_contactus                       682037 non-null  float64\n",
      " 31  visited_customer_service_amc_login      682037 non-null  float64\n",
      " 32  visited_customer_service_request_login  682037 non-null  float64\n",
      " 33  visited_demo_page                       682037 non-null  float64\n",
      " 34  visited_offer_page                      682037 non-null  float64\n",
      " 35  visited_security_solutions_page         682037 non-null  float64\n",
      " 36  visited_storelocator                    682037 non-null  float64\n",
      " 37  visited_successbookdemo                 682037 non-null  float64\n",
      " 38  visited_vacuum_cleaner_page             682037 non-null  float64\n",
      " 39  visited_water_purifier_page             682037 non-null  float64\n",
      " 40  water_purifier_page_top                 682037 non-null  float64\n",
      " 41  callclick_in_7days                      682037 non-null  int64  \n",
      " 42  converted                               682037 non-null  int64  \n",
      " 43  device_mobile                           682037 non-null  int64  \n",
      " 44  device_tablet                           682037 non-null  int64  \n",
      " 45  region_Andhra Pradesh                   682037 non-null  int64  \n",
      " 46  region_Assam                            682037 non-null  int64  \n",
      " 47  region_Bihar                            682037 non-null  int64  \n",
      " 48  region_Chandigarh                       682037 non-null  int64  \n",
      " 49  region_Chhattisgarh                     682037 non-null  int64  \n",
      " 50  region_Delhi                            682037 non-null  int64  \n",
      " 51  region_Gujarat                          682037 non-null  int64  \n",
      " 52  region_Haryana                          682037 non-null  int64  \n",
      " 53  region_Himachal Pradesh                 682037 non-null  int64  \n",
      " 54  region_Jammu and Kashmir                682037 non-null  int64  \n",
      " 55  region_Jharkhand                        682037 non-null  int64  \n",
      " 56  region_Karnataka                        682037 non-null  int64  \n",
      " 57  region_Kerala                           682037 non-null  int64  \n",
      " 58  region_Madhya Pradesh                   682037 non-null  int64  \n",
      " 59  region_Maharashtra                      682037 non-null  int64  \n",
      " 60  region_Manipur                          682037 non-null  int64  \n",
      " 61  region_Michigan                         682037 non-null  int64  \n",
      " 62  region_Nagaland                         682037 non-null  int64  \n",
      " 63  region_Odisha                           682037 non-null  int64  \n",
      " 64  region_Punjab                           682037 non-null  int64  \n",
      " 65  region_Rajasthan                        682037 non-null  int64  \n",
      " 66  region_Tamil Nadu                       682037 non-null  int64  \n",
      " 67  region_Telangana                        682037 non-null  int64  \n",
      " 68  region_Uttar Pradesh                    682037 non-null  int64  \n",
      " 69  region_Uttarakhand                      682037 non-null  int64  \n",
      " 70  region_West Bengal                      682037 non-null  int64  \n",
      " 71  sourceMediumFinal_facebook_social       682037 non-null  int64  \n",
      " 72  sourceMediumFinal_google_cpc            682037 non-null  int64  \n",
      " 73  sourceMediumFinal_google_organic        682037 non-null  int64  \n",
      " 74  sourceMediumFinal_referral              682037 non-null  int64  \n",
      "dtypes: float64(37), int64(38)\n",
      "memory usage: 390.3 MB\n"
     ]
    }
   ],
   "source": [
    "eureka_df_v3.info()"
   ]
  },
  {
   "cell_type": "code",
   "execution_count": 6,
   "metadata": {},
   "outputs": [
    {
     "data": {
      "text/plain": [
       "array([0, 1])"
      ]
     },
     "execution_count": 6,
     "metadata": {},
     "output_type": "execute_result"
    }
   ],
   "source": [
    "eureka_df_v3.converted.unique()"
   ]
  },
  {
   "cell_type": "code",
   "execution_count": 7,
   "metadata": {},
   "outputs": [
    {
     "data": {
      "text/plain": [
       "0    679322\n",
       "1      2715\n",
       "Name: converted, dtype: int64"
      ]
     },
     "execution_count": 7,
     "metadata": {},
     "output_type": "execute_result"
    }
   ],
   "source": [
    "eureka_df_v3.converted.value_counts()"
   ]
  },
  {
   "cell_type": "markdown",
   "metadata": {},
   "source": [
    "## All Features"
   ]
  },
  {
   "cell_type": "code",
   "execution_count": 8,
   "metadata": {},
   "outputs": [],
   "source": [
    "X_features = list(eureka_df_v3.columns)\n",
    "X_features.remove('converted')"
   ]
  },
  {
   "cell_type": "markdown",
   "metadata": {},
   "source": [
    "## Splitting Dataset"
   ]
  },
  {
   "cell_type": "code",
   "execution_count": 9,
   "metadata": {},
   "outputs": [],
   "source": [
    "from sklearn.model_selection import train_test_split"
   ]
  },
  {
   "cell_type": "code",
   "execution_count": 10,
   "metadata": {},
   "outputs": [],
   "source": [
    "train_set_0, test_set_0 = train_test_split(eureka_df_v3[eureka_df_v3.converted == 0],\n",
    "                                       train_size = 0.99)\n",
    "\n",
    "train_set_1, test_set_1 = train_test_split(eureka_df_v3[eureka_df_v3.converted == 1],\n",
    "                                       train_size = 0.8)"
   ]
  },
  {
   "cell_type": "code",
   "execution_count": 11,
   "metadata": {},
   "outputs": [],
   "source": [
    "train_set = pd.concat([train_set_0, train_set_1])\n",
    "test_set = pd.concat([test_set_0, test_set_1])"
   ]
  },
  {
   "cell_type": "code",
   "execution_count": 12,
   "metadata": {},
   "outputs": [
    {
     "data": {
      "text/plain": [
       "0    672528\n",
       "1      2172\n",
       "Name: converted, dtype: int64"
      ]
     },
     "execution_count": 12,
     "metadata": {},
     "output_type": "execute_result"
    }
   ],
   "source": [
    "train_set.converted.value_counts()"
   ]
  },
  {
   "cell_type": "code",
   "execution_count": 13,
   "metadata": {},
   "outputs": [
    {
     "data": {
      "text/plain": [
       "0    6794\n",
       "1     543\n",
       "Name: converted, dtype: int64"
      ]
     },
     "execution_count": 13,
     "metadata": {},
     "output_type": "execute_result"
    }
   ],
   "source": [
    "test_set.converted.value_counts()"
   ]
  },
  {
   "cell_type": "markdown",
   "metadata": {},
   "source": [
    "## Resampling to create balanced dataset"
   ]
  },
  {
   "cell_type": "code",
   "execution_count": 14,
   "metadata": {},
   "outputs": [],
   "source": [
    "from sklearn.utils import resample, shuffle"
   ]
  },
  {
   "cell_type": "code",
   "execution_count": 15,
   "metadata": {},
   "outputs": [],
   "source": [
    "train_label_1 = resample(train_set[train_set.converted == 1],\n",
    "                             replace = True,\n",
    "                             n_samples=50000)\n",
    "\n",
    "train_label_0 = resample(train_set[train_set.converted == 0],\n",
    "                             replace = False,\n",
    "                             n_samples=50000)  \n",
    "\n",
    "#train_label_0 = train_set[train_set.converted == 0]\n"
   ]
  },
  {
   "cell_type": "code",
   "execution_count": 16,
   "metadata": {},
   "outputs": [],
   "source": [
    "# Combine majority class with upsampled minority class\n",
    "train_set_resampled = pd.concat([train_label_1, train_label_0])"
   ]
  },
  {
   "cell_type": "code",
   "execution_count": 17,
   "metadata": {},
   "outputs": [],
   "source": [
    "train_set_resampled = shuffle(train_set_resampled)"
   ]
  },
  {
   "cell_type": "code",
   "execution_count": 18,
   "metadata": {},
   "outputs": [
    {
     "data": {
      "text/plain": [
       "1    50000\n",
       "0    50000\n",
       "Name: converted, dtype: int64"
      ]
     },
     "execution_count": 18,
     "metadata": {},
     "output_type": "execute_result"
    }
   ],
   "source": [
    "train_set_resampled.converted.value_counts()"
   ]
  },
  {
   "cell_type": "markdown",
   "metadata": {},
   "source": [
    "## Decision Tree Model\n",
    "\n",
    "### Buidling the model"
   ]
  },
  {
   "cell_type": "code",
   "execution_count": 19,
   "metadata": {},
   "outputs": [],
   "source": [
    "from sklearn.tree import DecisionTreeClassifier"
   ]
  },
  {
   "cell_type": "code",
   "execution_count": 20,
   "metadata": {},
   "outputs": [],
   "source": [
    "tree_v1 = DecisionTreeClassifier(max_depth=8, \n",
    "                                 criterion = 'gini')"
   ]
  },
  {
   "cell_type": "code",
   "execution_count": 21,
   "metadata": {},
   "outputs": [
    {
     "data": {
      "text/plain": [
       "DecisionTreeClassifier(max_depth=8)"
      ]
     },
     "execution_count": 21,
     "metadata": {},
     "output_type": "execute_result"
    }
   ],
   "source": [
    "tree_v1.fit(train_set_resampled[X_features], \n",
    "            train_set_resampled['converted'])"
   ]
  },
  {
   "cell_type": "markdown",
   "metadata": {},
   "source": [
    "### Predicting on test set"
   ]
  },
  {
   "cell_type": "code",
   "execution_count": 22,
   "metadata": {},
   "outputs": [],
   "source": [
    "y_tree_pred = tree_v1.predict(test_set[X_features])"
   ]
  },
  {
   "cell_type": "code",
   "execution_count": 23,
   "metadata": {},
   "outputs": [],
   "source": [
    "from sklearn.metrics import confusion_matrix, ConfusionMatrixDisplay"
   ]
  },
  {
   "cell_type": "code",
   "execution_count": 24,
   "metadata": {},
   "outputs": [],
   "source": [
    "cm_dt = confusion_matrix(test_set['converted'], y_tree_pred, labels = [1,0])"
   ]
  },
  {
   "cell_type": "code",
   "execution_count": 25,
   "metadata": {},
   "outputs": [],
   "source": [
    "cm_plot = ConfusionMatrixDisplay(cm_dt, display_labels=['Converted', 'Not Converted'])"
   ]
  },
  {
   "cell_type": "code",
   "execution_count": 26,
   "metadata": {},
   "outputs": [
    {
     "data": {
      "image/png": "[encoded data removed]",
      "text/plain": [
       "<Figure size 432x288 with 2 Axes>"
      ]
     },
     "metadata": {
      "needs_background": "light"
     },
     "output_type": "display_data"
    }
   ],
   "source": [
    "cm_plot.plot();"
   ]
  },
  {
   "cell_type": "code",
   "execution_count": 27,
   "metadata": {},
   "outputs": [],
   "source": [
    "from sklearn.metrics import roc_auc_score, plot_roc_curve"
   ]
  },
  {
   "cell_type": "code",
   "execution_count": 28,
   "metadata": {},
   "outputs": [],
   "source": [
    "y_rf_pred_prob = tree_v1.predict_proba(test_set[X_features])"
   ]
  },
  {
   "cell_type": "code",
   "execution_count": 29,
   "metadata": {},
   "outputs": [],
   "source": [
    "auc_score = roc_auc_score(test_set['converted'], y_rf_pred_prob[:,1])"
   ]
  },
  {
   "cell_type": "code",
   "execution_count": 30,
   "metadata": {},
   "outputs": [
    {
     "data": {
      "text/plain": [
       "0.7116050290284299"
      ]
     },
     "execution_count": 30,
     "metadata": {},
     "output_type": "execute_result"
    }
   ],
   "source": [
    "auc_score"
   ]
  },
  {
   "cell_type": "code",
   "execution_count": 31,
   "metadata": {
    "scrolled": false
   },
   "outputs": [
    {
     "data": {
      "image/png": "[encoded data removed]",
      "text/plain": [
       "<Figure size 432x288 with 1 Axes>"
      ]
     },
     "metadata": {
      "needs_background": "light"
     },
     "output_type": "display_data"
    }
   ],
   "source": [
    "plot_roc_curve(tree_v1, test_set[X_features], \n",
    "               test_set['converted']);"
   ]
  },
  {
   "cell_type": "markdown",
   "metadata": {},
   "source": [
    "### Finding Important Features"
   ]
  },
  {
   "cell_type": "code",
   "execution_count": 32,
   "metadata": {},
   "outputs": [],
   "source": [
    "import numpy as np"
   ]
  },
  {
   "cell_type": "code",
   "execution_count": 33,
   "metadata": {},
   "outputs": [],
   "source": [
    "features_df = pd.DataFrame({'feature': X_features,\n",
    "                            'importance': np.round(tree_v1.feature_importances_, 3) })"
   ]
  },
  {
   "cell_type": "code",
   "execution_count": 34,
   "metadata": {},
   "outputs": [],
   "source": [
    "features_df = features_df.sort_values('importance', \n",
    "                                      ascending = False)"
   ]
  },
  {
   "cell_type": "code",
   "execution_count": 35,
   "metadata": {},
   "outputs": [],
   "source": [
    "import matplotlib.pyplot as plt\n",
    "import seaborn as sn\n",
    "%matplotlib inline"
   ]
  },
  {
   "cell_type": "code",
   "execution_count": 36,
   "metadata": {},
   "outputs": [
    {
     "data": {
      "image/png": "[encoded data removed]",
      "text/plain": [
       "<Figure size 432x864 with 1 Axes>"
      ]
     },
     "metadata": {
      "needs_background": "light"
     },
     "output_type": "display_data"
    }
   ],
   "source": [
    "plt.figure(figsize=(6,12))\n",
    "sn.barplot(y = 'feature', \n",
    "           x = 'importance', \n",
    "           data = features_df[0:50]);"
   ]
  },
  {
   "cell_type": "code",
   "execution_count": 37,
   "metadata": {},
   "outputs": [],
   "source": [
    "features_df['cumsum'] = features_df.importance.cumsum()"
   ]
  },
  {
   "cell_type": "code",
   "execution_count": 38,
   "metadata": {},
   "outputs": [],
   "source": [
    "imp_cumsum_df = features_df.sort_values('cumsum', ascending=True)"
   ]
  },
  {
   "cell_type": "code",
   "execution_count": 39,
   "metadata": {},
   "outputs": [],
   "source": [
    "imp_cumsum_df = imp_cumsum_df.reset_index()"
   ]
  },
  {
   "cell_type": "code",
   "execution_count": 41,
   "metadata": {},
   "outputs": [
    {
     "data": {
      "text/html": [
       "<div>\n",
       "<style scoped>\n",
       "    .dataframe tbody tr th:only-of-type {\n",
       "        vertical-align: middle;\n",
       "    }\n",
       "\n",
       "    .dataframe tbody tr th {\n",
       "        vertical-align: top;\n",
       "    }\n",
       "\n",
       "    .dataframe thead th {\n",
       "        text-align: right;\n",
       "    }\n",
       "</style>\n",
       "<table border=\"1\" class=\"dataframe\">\n",
       "  <thead>\n",
       "    <tr style=\"text-align: right;\">\n",
       "      <th></th>\n",
       "      <th>index</th>\n",
       "      <th>feature</th>\n",
       "      <th>importance</th>\n",
       "      <th>cumsum</th>\n",
       "    </tr>\n",
       "  </thead>\n",
       "  <tbody>\n",
       "    <tr>\n",
       "      <th>0</th>\n",
       "      <td>8</td>\n",
       "      <td>demo_page_top</td>\n",
       "      <td>0.287</td>\n",
       "      <td>0.287</td>\n",
       "    </tr>\n",
       "    <tr>\n",
       "      <th>1</th>\n",
       "      <td>17</td>\n",
       "      <td>newUser</td>\n",
       "      <td>0.120</td>\n",
       "      <td>0.407</td>\n",
       "    </tr>\n",
       "    <tr>\n",
       "      <th>2</th>\n",
       "      <td>14</td>\n",
       "      <td>goal4Completions</td>\n",
       "      <td>0.097</td>\n",
       "      <td>0.504</td>\n",
       "    </tr>\n",
       "    <tr>\n",
       "      <th>3</th>\n",
       "      <td>10</td>\n",
       "      <td>fired_DemoReqPg_CallClicks_evt</td>\n",
       "      <td>0.095</td>\n",
       "      <td>0.599</td>\n",
       "    </tr>\n",
       "    <tr>\n",
       "      <th>4</th>\n",
       "      <td>23</td>\n",
       "      <td>sessionDuration</td>\n",
       "      <td>0.067</td>\n",
       "      <td>0.666</td>\n",
       "    </tr>\n",
       "    <tr>\n",
       "      <th>...</th>\n",
       "      <td>...</td>\n",
       "      <td>...</td>\n",
       "      <td>...</td>\n",
       "      <td>...</td>\n",
       "    </tr>\n",
       "    <tr>\n",
       "      <th>69</th>\n",
       "      <td>16</td>\n",
       "      <td>help_me_buy_evt_count</td>\n",
       "      <td>0.000</td>\n",
       "      <td>0.998</td>\n",
       "    </tr>\n",
       "    <tr>\n",
       "      <th>70</th>\n",
       "      <td>51</td>\n",
       "      <td>region_Haryana</td>\n",
       "      <td>0.000</td>\n",
       "      <td>0.998</td>\n",
       "    </tr>\n",
       "    <tr>\n",
       "      <th>71</th>\n",
       "      <td>48</td>\n",
       "      <td>region_Chhattisgarh</td>\n",
       "      <td>0.000</td>\n",
       "      <td>0.998</td>\n",
       "    </tr>\n",
       "    <tr>\n",
       "      <th>72</th>\n",
       "      <td>2</td>\n",
       "      <td>bookdemo_in_7days</td>\n",
       "      <td>0.000</td>\n",
       "      <td>0.998</td>\n",
       "    </tr>\n",
       "    <tr>\n",
       "      <th>73</th>\n",
       "      <td>45</td>\n",
       "      <td>region_Assam</td>\n",
       "      <td>0.000</td>\n",
       "      <td>0.998</td>\n",
       "    </tr>\n",
       "  </tbody>\n",
       "</table>\n",
       "<p>74 rows × 4 columns</p>\n",
       "</div>"
      ],
      "text/plain": [
       "    index                         feature  importance  cumsum\n",
       "0       8                   demo_page_top       0.287   0.287\n",
       "1      17                         newUser       0.120   0.407\n",
       "2      14                goal4Completions       0.097   0.504\n",
       "3      10  fired_DemoReqPg_CallClicks_evt       0.095   0.599\n",
       "4      23                 sessionDuration       0.067   0.666\n",
       "..    ...                             ...         ...     ...\n",
       "69     16           help_me_buy_evt_count       0.000   0.998\n",
       "70     51                  region_Haryana       0.000   0.998\n",
       "71     48             region_Chhattisgarh       0.000   0.998\n",
       "72      2               bookdemo_in_7days       0.000   0.998\n",
       "73     45                    region_Assam       0.000   0.998\n",
       "\n",
       "[74 rows x 4 columns]"
      ]
     },
     "execution_count": 41,
     "metadata": {},
     "output_type": "execute_result"
    }
   ],
   "source": [
    "imp_cumsum_df"
   ]
  },
  {
   "cell_type": "code",
   "execution_count": null,
   "metadata": {},
   "outputs": [],
   "source": []
  }
 ],
 "metadata": {
  "kernelspec": {
   "display_name": "Python 3",
   "language": "python",
   "name": "python3"
  },
  "language_info": {
   "codemirror_mode": {
    "name": "ipython",
    "version": 3
   },
   "file_extension": ".py",
   "mimetype": "text/x-python",
   "name": "python",
   "nbconvert_exporter": "python",
   "pygments_lexer": "ipython3",
   "version": "3.8.3"
  }
 },
 "nbformat": 4,
 "nbformat_minor": 2
}
