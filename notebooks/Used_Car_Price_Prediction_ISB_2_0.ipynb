{
  "cells": [
    {
      "cell_type": "markdown",
      "metadata": {
        "id": "uZnuc2S5bNr0"
      },
      "source": [
        "# Used Car Price Prediction"
      ]
    },
    {
      "cell_type": "markdown",
      "metadata": {
        "id": "94kASjaEbNr3"
      },
      "source": [
        "### Load Dataset"
      ]
    },
    {
      "cell_type": "code",
      "execution_count": 51,
      "metadata": {
        "id": "jNtgdwU-bNr4"
      },
      "outputs": [],
      "source": [
        "import pandas as pd\n",
        "import numpy as np\n",
        "import matplotlib.pyplot as plt\n",
        "import seaborn as sn"
      ]
    },
    {
      "cell_type": "code",
      "execution_count": 52,
      "metadata": {
        "id": "TL-XPFwgbNr5"
      },
      "outputs": [],
      "source": [
        "cars_df = pd.read_csv( \"https://drive.google.com/uc?export=download&id=1FFxZhi8p_cZM2bbSJRvnb3sev6dRCbsb\" )"
      ]
    },
    {
      "cell_type": "code",
      "execution_count": 53,
      "metadata": {
        "id": "4gpAwWHVbNr5",
        "outputId": "95e9403c-d2ec-4cae-d55f-592a07cd2aeb",
        "colab": {
          "base_uri": "https://localhost:8080/",
          "height": 461
        }
      },
      "outputs": [
        {
          "output_type": "execute_result",
          "data": {
            "text/plain": [
              "      index                                   Name   Location  Year Fuel_Type  \\\n",
              "407     847                   Ford Figo Diesel ZXI  Hyderabad  2013    Diesel   \n",
              "1895   3710               Ford Fiesta 1.4 TDCi EXI  Bangalore  2011    Diesel   \n",
              "686    1382               Maruti Wagon R LXI Minor       Pune  2009    Petrol   \n",
              "2561   5008  Hyundai Grand i10 CRDi SportZ Edition      Delhi  2014    Diesel   \n",
              "1455   2869           Volkswagen CrossPolo 1.5 TDI  Hyderabad  2014    Diesel   \n",
              "\n",
              "     Transmission Owner_Type  Seats  Price  age  KM_Driven        make  \\\n",
              "407        Manual      First    5.0   3.20    6         51        ford   \n",
              "1895       Manual      First    5.0   3.20    8         85        ford   \n",
              "686        Manual      First    5.0   1.69   10        120      maruti   \n",
              "2561       Manual      First    5.0   3.25    5         58     hyundai   \n",
              "1455       Manual      First    5.0   5.70    5         75  volkswagen   \n",
              "\n",
              "      mileage_new  engine_new  power_new  \n",
              "407         20.00        1399      68.05  \n",
              "1895        17.80        1399      68.00  \n",
              "686         18.90         998      67.10  \n",
              "2561        24.00        1120      70.00  \n",
              "1455        20.14        1498      88.50  "
            ],
            "text/html": [
              "\n",
              "  <div id=\"df-f0d84c53-1d65-461c-9005-ea9b0ab3ac85\">\n",
              "    <div class=\"colab-df-container\">\n",
              "      <div>\n",
              "<style scoped>\n",
              "    .dataframe tbody tr th:only-of-type {\n",
              "        vertical-align: middle;\n",
              "    }\n",
              "\n",
              "    .dataframe tbody tr th {\n",
              "        vertical-align: top;\n",
              "    }\n",
              "\n",
              "    .dataframe thead th {\n",
              "        text-align: right;\n",
              "    }\n",
              "</style>\n",
              "<table border=\"1\" class=\"dataframe\">\n",
              "  <thead>\n",
              "    <tr style=\"text-align: right;\">\n",
              "      <th></th>\n",
              "      <th>index</th>\n",
              "      <th>Name</th>\n",
              "      <th>Location</th>\n",
              "      <th>Year</th>\n",
              "      <th>Fuel_Type</th>\n",
              "      <th>Transmission</th>\n",
              "      <th>Owner_Type</th>\n",
              "      <th>Seats</th>\n",
              "      <th>Price</th>\n",
              "      <th>age</th>\n",
              "      <th>KM_Driven</th>\n",
              "      <th>make</th>\n",
              "      <th>mileage_new</th>\n",
              "      <th>engine_new</th>\n",
              "      <th>power_new</th>\n",
              "    </tr>\n",
              "  </thead>\n",
              "  <tbody>\n",
              "    <tr>\n",
              "      <th>407</th>\n",
              "      <td>847</td>\n",
              "      <td>Ford Figo Diesel ZXI</td>\n",
              "      <td>Hyderabad</td>\n",
              "      <td>2013</td>\n",
              "      <td>Diesel</td>\n",
              "      <td>Manual</td>\n",
              "      <td>First</td>\n",
              "      <td>5.0</td>\n",
              "      <td>3.20</td>\n",
              "      <td>6</td>\n",
              "      <td>51</td>\n",
              "      <td>ford</td>\n",
              "      <td>20.00</td>\n",
              "      <td>1399</td>\n",
              "      <td>68.05</td>\n",
              "    </tr>\n",
              "    <tr>\n",
              "      <th>1895</th>\n",
              "      <td>3710</td>\n",
              "      <td>Ford Fiesta 1.4 TDCi EXI</td>\n",
              "      <td>Bangalore</td>\n",
              "      <td>2011</td>\n",
              "      <td>Diesel</td>\n",
              "      <td>Manual</td>\n",
              "      <td>First</td>\n",
              "      <td>5.0</td>\n",
              "      <td>3.20</td>\n",
              "      <td>8</td>\n",
              "      <td>85</td>\n",
              "      <td>ford</td>\n",
              "      <td>17.80</td>\n",
              "      <td>1399</td>\n",
              "      <td>68.00</td>\n",
              "    </tr>\n",
              "    <tr>\n",
              "      <th>686</th>\n",
              "      <td>1382</td>\n",
              "      <td>Maruti Wagon R LXI Minor</td>\n",
              "      <td>Pune</td>\n",
              "      <td>2009</td>\n",
              "      <td>Petrol</td>\n",
              "      <td>Manual</td>\n",
              "      <td>First</td>\n",
              "      <td>5.0</td>\n",
              "      <td>1.69</td>\n",
              "      <td>10</td>\n",
              "      <td>120</td>\n",
              "      <td>maruti</td>\n",
              "      <td>18.90</td>\n",
              "      <td>998</td>\n",
              "      <td>67.10</td>\n",
              "    </tr>\n",
              "    <tr>\n",
              "      <th>2561</th>\n",
              "      <td>5008</td>\n",
              "      <td>Hyundai Grand i10 CRDi SportZ Edition</td>\n",
              "      <td>Delhi</td>\n",
              "      <td>2014</td>\n",
              "      <td>Diesel</td>\n",
              "      <td>Manual</td>\n",
              "      <td>First</td>\n",
              "      <td>5.0</td>\n",
              "      <td>3.25</td>\n",
              "      <td>5</td>\n",
              "      <td>58</td>\n",
              "      <td>hyundai</td>\n",
              "      <td>24.00</td>\n",
              "      <td>1120</td>\n",
              "      <td>70.00</td>\n",
              "    </tr>\n",
              "    <tr>\n",
              "      <th>1455</th>\n",
              "      <td>2869</td>\n",
              "      <td>Volkswagen CrossPolo 1.5 TDI</td>\n",
              "      <td>Hyderabad</td>\n",
              "      <td>2014</td>\n",
              "      <td>Diesel</td>\n",
              "      <td>Manual</td>\n",
              "      <td>First</td>\n",
              "      <td>5.0</td>\n",
              "      <td>5.70</td>\n",
              "      <td>5</td>\n",
              "      <td>75</td>\n",
              "      <td>volkswagen</td>\n",
              "      <td>20.14</td>\n",
              "      <td>1498</td>\n",
              "      <td>88.50</td>\n",
              "    </tr>\n",
              "  </tbody>\n",
              "</table>\n",
              "</div>\n",
              "      <button class=\"colab-df-convert\" onclick=\"convertToInteractive('df-f0d84c53-1d65-461c-9005-ea9b0ab3ac85')\"\n",
              "              title=\"Convert this dataframe to an interactive table.\"\n",
              "              style=\"display:none;\">\n",
              "        \n",
              "  <svg xmlns=\"http://www.w3.org/2000/svg\" height=\"24px\"viewBox=\"0 0 24 24\"\n",
              "       width=\"24px\">\n",
              "    <path d=\"M0 0h24v24H0V0z\" fill=\"none\"/>\n",
              "    <path d=\"M18.56 5.44l.94 2.06.94-2.06 2.06-.94-2.06-.94-.94-2.06-.94 2.06-2.06.94zm-11 1L8.5 8.5l.94-2.06 2.06-.94-2.06-.94L8.5 2.5l-.94 2.06-2.06.94zm10 10l.94 2.06.94-2.06 2.06-.94-2.06-.94-.94-2.06-.94 2.06-2.06.94z\"/><path d=\"M17.41 7.96l-1.37-1.37c-.4-.4-.92-.59-1.43-.59-.52 0-1.04.2-1.43.59L10.3 9.45l-7.72 7.72c-.78.78-.78 2.05 0 2.83L4 21.41c.39.39.9.59 1.41.59.51 0 1.02-.2 1.41-.59l7.78-7.78 2.81-2.81c.8-.78.8-2.07 0-2.86zM5.41 20L4 18.59l7.72-7.72 1.47 1.35L5.41 20z\"/>\n",
              "  </svg>\n",
              "      </button>\n",
              "      \n",
              "  <style>\n",
              "    .colab-df-container {\n",
              "      display:flex;\n",
              "      flex-wrap:wrap;\n",
              "      gap: 12px;\n",
              "    }\n",
              "\n",
              "    .colab-df-convert {\n",
              "      background-color: #E8F0FE;\n",
              "      border: none;\n",
              "      border-radius: 50%;\n",
              "      cursor: pointer;\n",
              "      display: none;\n",
              "      fill: #1967D2;\n",
              "      height: 32px;\n",
              "      padding: 0 0 0 0;\n",
              "      width: 32px;\n",
              "    }\n",
              "\n",
              "    .colab-df-convert:hover {\n",
              "      background-color: #E2EBFA;\n",
              "      box-shadow: 0px 1px 2px rgba(60, 64, 67, 0.3), 0px 1px 3px 1px rgba(60, 64, 67, 0.15);\n",
              "      fill: #174EA6;\n",
              "    }\n",
              "\n",
              "    [theme=dark] .colab-df-convert {\n",
              "      background-color: #3B4455;\n",
              "      fill: #D2E3FC;\n",
              "    }\n",
              "\n",
              "    [theme=dark] .colab-df-convert:hover {\n",
              "      background-color: #434B5C;\n",
              "      box-shadow: 0px 1px 3px 1px rgba(0, 0, 0, 0.15);\n",
              "      filter: drop-shadow(0px 1px 2px rgba(0, 0, 0, 0.3));\n",
              "      fill: #FFFFFF;\n",
              "    }\n",
              "  </style>\n",
              "\n",
              "      <script>\n",
              "        const buttonEl =\n",
              "          document.querySelector('#df-f0d84c53-1d65-461c-9005-ea9b0ab3ac85 button.colab-df-convert');\n",
              "        buttonEl.style.display =\n",
              "          google.colab.kernel.accessAllowed ? 'block' : 'none';\n",
              "\n",
              "        async function convertToInteractive(key) {\n",
              "          const element = document.querySelector('#df-f0d84c53-1d65-461c-9005-ea9b0ab3ac85');\n",
              "          const dataTable =\n",
              "            await google.colab.kernel.invokeFunction('convertToInteractive',\n",
              "                                                     [key], {});\n",
              "          if (!dataTable) return;\n",
              "\n",
              "          const docLinkHtml = 'Like what you see? Visit the ' +\n",
              "            '<a target=\"_blank\" href=https://colab.research.google.com/notebooks/data_table.ipynb>data table notebook</a>'\n",
              "            + ' to learn more about interactive tables.';\n",
              "          element.innerHTML = '';\n",
              "          dataTable['output_type'] = 'display_data';\n",
              "          await google.colab.output.renderOutput(dataTable, element);\n",
              "          const docLink = document.createElement('div');\n",
              "          docLink.innerHTML = docLinkHtml;\n",
              "          element.appendChild(docLink);\n",
              "        }\n",
              "      </script>\n",
              "    </div>\n",
              "  </div>\n",
              "  "
            ]
          },
          "metadata": {},
          "execution_count": 53
        }
      ],
      "source": [
        "cars_df.sample(5)"
      ]
    },
    {
      "cell_type": "code",
      "execution_count": 5,
      "metadata": {
        "id": "bj9B1UiUbNr6",
        "outputId": "5509ef80-9271-455d-90ae-30a872fdf0cb",
        "colab": {
          "base_uri": "https://localhost:8080/"
        }
      },
      "outputs": [
        {
          "output_type": "stream",
          "name": "stdout",
          "text": [
            "<class 'pandas.core.frame.DataFrame'>\n",
            "RangeIndex: 3092 entries, 0 to 3091\n",
            "Data columns (total 15 columns):\n",
            " #   Column        Non-Null Count  Dtype  \n",
            "---  ------        --------------  -----  \n",
            " 0   index         3092 non-null   int64  \n",
            " 1   Name          3092 non-null   object \n",
            " 2   Location      3092 non-null   object \n",
            " 3   Year          3092 non-null   int64  \n",
            " 4   Fuel_Type     3092 non-null   object \n",
            " 5   Transmission  3092 non-null   object \n",
            " 6   Owner_Type    3092 non-null   object \n",
            " 7   Seats         3091 non-null   float64\n",
            " 8   Price         3092 non-null   float64\n",
            " 9   age           3092 non-null   int64  \n",
            " 10  KM_Driven     3092 non-null   int64  \n",
            " 11  make          3092 non-null   object \n",
            " 12  mileage_new   3092 non-null   float64\n",
            " 13  engine_new    3092 non-null   int64  \n",
            " 14  power_new     3092 non-null   float64\n",
            "dtypes: float64(4), int64(5), object(6)\n",
            "memory usage: 362.5+ KB\n"
          ]
        }
      ],
      "source": [
        "cars_df.info()"
      ]
    },
    {
      "cell_type": "code",
      "execution_count": 6,
      "metadata": {
        "id": "9mlPx7xibNr6",
        "outputId": "e432544b-d9e6-4d8e-d6dd-5381dba731c0",
        "colab": {
          "base_uri": "https://localhost:8080/",
          "height": 520
        }
      },
      "outputs": [
        {
          "output_type": "execute_result",
          "data": {
            "text/plain": [
              "                    0\n",
              "index           int64\n",
              "Name           object\n",
              "Location       object\n",
              "Year            int64\n",
              "Fuel_Type      object\n",
              "Transmission   object\n",
              "Owner_Type     object\n",
              "Seats         float64\n",
              "Price         float64\n",
              "age             int64\n",
              "KM_Driven       int64\n",
              "make           object\n",
              "mileage_new   float64\n",
              "engine_new      int64\n",
              "power_new     float64"
            ],
            "text/html": [
              "\n",
              "  <div id=\"df-d839ebe4-a2ff-4586-b61b-caf1a993153d\">\n",
              "    <div class=\"colab-df-container\">\n",
              "      <div>\n",
              "<style scoped>\n",
              "    .dataframe tbody tr th:only-of-type {\n",
              "        vertical-align: middle;\n",
              "    }\n",
              "\n",
              "    .dataframe tbody tr th {\n",
              "        vertical-align: top;\n",
              "    }\n",
              "\n",
              "    .dataframe thead th {\n",
              "        text-align: right;\n",
              "    }\n",
              "</style>\n",
              "<table border=\"1\" class=\"dataframe\">\n",
              "  <thead>\n",
              "    <tr style=\"text-align: right;\">\n",
              "      <th></th>\n",
              "      <th>0</th>\n",
              "    </tr>\n",
              "  </thead>\n",
              "  <tbody>\n",
              "    <tr>\n",
              "      <th>index</th>\n",
              "      <td>int64</td>\n",
              "    </tr>\n",
              "    <tr>\n",
              "      <th>Name</th>\n",
              "      <td>object</td>\n",
              "    </tr>\n",
              "    <tr>\n",
              "      <th>Location</th>\n",
              "      <td>object</td>\n",
              "    </tr>\n",
              "    <tr>\n",
              "      <th>Year</th>\n",
              "      <td>int64</td>\n",
              "    </tr>\n",
              "    <tr>\n",
              "      <th>Fuel_Type</th>\n",
              "      <td>object</td>\n",
              "    </tr>\n",
              "    <tr>\n",
              "      <th>Transmission</th>\n",
              "      <td>object</td>\n",
              "    </tr>\n",
              "    <tr>\n",
              "      <th>Owner_Type</th>\n",
              "      <td>object</td>\n",
              "    </tr>\n",
              "    <tr>\n",
              "      <th>Seats</th>\n",
              "      <td>float64</td>\n",
              "    </tr>\n",
              "    <tr>\n",
              "      <th>Price</th>\n",
              "      <td>float64</td>\n",
              "    </tr>\n",
              "    <tr>\n",
              "      <th>age</th>\n",
              "      <td>int64</td>\n",
              "    </tr>\n",
              "    <tr>\n",
              "      <th>KM_Driven</th>\n",
              "      <td>int64</td>\n",
              "    </tr>\n",
              "    <tr>\n",
              "      <th>make</th>\n",
              "      <td>object</td>\n",
              "    </tr>\n",
              "    <tr>\n",
              "      <th>mileage_new</th>\n",
              "      <td>float64</td>\n",
              "    </tr>\n",
              "    <tr>\n",
              "      <th>engine_new</th>\n",
              "      <td>int64</td>\n",
              "    </tr>\n",
              "    <tr>\n",
              "      <th>power_new</th>\n",
              "      <td>float64</td>\n",
              "    </tr>\n",
              "  </tbody>\n",
              "</table>\n",
              "</div>\n",
              "      <button class=\"colab-df-convert\" onclick=\"convertToInteractive('df-d839ebe4-a2ff-4586-b61b-caf1a993153d')\"\n",
              "              title=\"Convert this dataframe to an interactive table.\"\n",
              "              style=\"display:none;\">\n",
              "        \n",
              "  <svg xmlns=\"http://www.w3.org/2000/svg\" height=\"24px\"viewBox=\"0 0 24 24\"\n",
              "       width=\"24px\">\n",
              "    <path d=\"M0 0h24v24H0V0z\" fill=\"none\"/>\n",
              "    <path d=\"M18.56 5.44l.94 2.06.94-2.06 2.06-.94-2.06-.94-.94-2.06-.94 2.06-2.06.94zm-11 1L8.5 8.5l.94-2.06 2.06-.94-2.06-.94L8.5 2.5l-.94 2.06-2.06.94zm10 10l.94 2.06.94-2.06 2.06-.94-2.06-.94-.94-2.06-.94 2.06-2.06.94z\"/><path d=\"M17.41 7.96l-1.37-1.37c-.4-.4-.92-.59-1.43-.59-.52 0-1.04.2-1.43.59L10.3 9.45l-7.72 7.72c-.78.78-.78 2.05 0 2.83L4 21.41c.39.39.9.59 1.41.59.51 0 1.02-.2 1.41-.59l7.78-7.78 2.81-2.81c.8-.78.8-2.07 0-2.86zM5.41 20L4 18.59l7.72-7.72 1.47 1.35L5.41 20z\"/>\n",
              "  </svg>\n",
              "      </button>\n",
              "      \n",
              "  <style>\n",
              "    .colab-df-container {\n",
              "      display:flex;\n",
              "      flex-wrap:wrap;\n",
              "      gap: 12px;\n",
              "    }\n",
              "\n",
              "    .colab-df-convert {\n",
              "      background-color: #E8F0FE;\n",
              "      border: none;\n",
              "      border-radius: 50%;\n",
              "      cursor: pointer;\n",
              "      display: none;\n",
              "      fill: #1967D2;\n",
              "      height: 32px;\n",
              "      padding: 0 0 0 0;\n",
              "      width: 32px;\n",
              "    }\n",
              "\n",
              "    .colab-df-convert:hover {\n",
              "      background-color: #E2EBFA;\n",
              "      box-shadow: 0px 1px 2px rgba(60, 64, 67, 0.3), 0px 1px 3px 1px rgba(60, 64, 67, 0.15);\n",
              "      fill: #174EA6;\n",
              "    }\n",
              "\n",
              "    [theme=dark] .colab-df-convert {\n",
              "      background-color: #3B4455;\n",
              "      fill: #D2E3FC;\n",
              "    }\n",
              "\n",
              "    [theme=dark] .colab-df-convert:hover {\n",
              "      background-color: #434B5C;\n",
              "      box-shadow: 0px 1px 3px 1px rgba(0, 0, 0, 0.15);\n",
              "      filter: drop-shadow(0px 1px 2px rgba(0, 0, 0, 0.3));\n",
              "      fill: #FFFFFF;\n",
              "    }\n",
              "  </style>\n",
              "\n",
              "      <script>\n",
              "        const buttonEl =\n",
              "          document.querySelector('#df-d839ebe4-a2ff-4586-b61b-caf1a993153d button.colab-df-convert');\n",
              "        buttonEl.style.display =\n",
              "          google.colab.kernel.accessAllowed ? 'block' : 'none';\n",
              "\n",
              "        async function convertToInteractive(key) {\n",
              "          const element = document.querySelector('#df-d839ebe4-a2ff-4586-b61b-caf1a993153d');\n",
              "          const dataTable =\n",
              "            await google.colab.kernel.invokeFunction('convertToInteractive',\n",
              "                                                     [key], {});\n",
              "          if (!dataTable) return;\n",
              "\n",
              "          const docLinkHtml = 'Like what you see? Visit the ' +\n",
              "            '<a target=\"_blank\" href=https://colab.research.google.com/notebooks/data_table.ipynb>data table notebook</a>'\n",
              "            + ' to learn more about interactive tables.';\n",
              "          element.innerHTML = '';\n",
              "          dataTable['output_type'] = 'display_data';\n",
              "          await google.colab.output.renderOutput(dataTable, element);\n",
              "          const docLink = document.createElement('div');\n",
              "          docLink.innerHTML = docLinkHtml;\n",
              "          element.appendChild(docLink);\n",
              "        }\n",
              "      </script>\n",
              "    </div>\n",
              "  </div>\n",
              "  "
            ]
          },
          "metadata": {},
          "execution_count": 6
        }
      ],
      "source": [
        "pd.DataFrame(cars_df.dtypes)"
      ]
    },
    {
      "cell_type": "markdown",
      "metadata": {
        "id": "TsG-3ywabNr7"
      },
      "source": [
        "### Feature Set Selection"
      ]
    },
    {
      "cell_type": "code",
      "execution_count": 7,
      "metadata": {
        "id": "Rg7SFQFxbNr8"
      },
      "outputs": [],
      "source": [
        "features = list(cars_df.columns)"
      ]
    },
    {
      "cell_type": "code",
      "execution_count": 8,
      "metadata": {
        "id": "KibKA36qbNr8"
      },
      "outputs": [],
      "source": [
        "x_features = ['KM_Driven', 'Fuel_Type', 'age',\n",
        "              'Transmission', 'Owner_Type', 'Seats', \n",
        "              'make', 'mileage_new', 'engine_new', \n",
        "              'power_new', 'Location']"
      ]
    },
    {
      "cell_type": "code",
      "execution_count": 9,
      "metadata": {
        "id": "Wcf9GnEXbNr9"
      },
      "outputs": [],
      "source": [
        "cat_features = ['Fuel_Type', \n",
        "                'Transmission', 'Owner_Type',\n",
        "                'make', 'Location']"
      ]
    },
    {
      "cell_type": "code",
      "execution_count": 10,
      "metadata": {
        "id": "7PZjGQPUbNr9"
      },
      "outputs": [],
      "source": [
        "num_features = list(set(x_features) - set(cat_features))"
      ]
    },
    {
      "cell_type": "code",
      "execution_count": 11,
      "metadata": {
        "id": "ZFH9HMRDbNr9",
        "outputId": "d1055d4a-b981-411a-c222-21e8c12f25a5",
        "colab": {
          "base_uri": "https://localhost:8080/"
        }
      },
      "outputs": [
        {
          "output_type": "execute_result",
          "data": {
            "text/plain": [
              "['KM_Driven', 'engine_new', 'mileage_new', 'age', 'Seats', 'power_new']"
            ]
          },
          "metadata": {},
          "execution_count": 11
        }
      ],
      "source": [
        "num_features"
      ]
    },
    {
      "cell_type": "code",
      "execution_count": 12,
      "metadata": {
        "id": "B4hNTUGkbNr-",
        "outputId": "5ad8b0f7-9969-4317-b11c-79979bcd36f4",
        "colab": {
          "base_uri": "https://localhost:8080/"
        }
      },
      "outputs": [
        {
          "output_type": "stream",
          "name": "stdout",
          "text": [
            "<class 'pandas.core.frame.DataFrame'>\n",
            "RangeIndex: 3092 entries, 0 to 3091\n",
            "Data columns (total 11 columns):\n",
            " #   Column        Non-Null Count  Dtype  \n",
            "---  ------        --------------  -----  \n",
            " 0   KM_Driven     3092 non-null   int64  \n",
            " 1   Fuel_Type     3092 non-null   object \n",
            " 2   age           3092 non-null   int64  \n",
            " 3   Transmission  3092 non-null   object \n",
            " 4   Owner_Type    3092 non-null   object \n",
            " 5   Seats         3091 non-null   float64\n",
            " 6   make          3092 non-null   object \n",
            " 7   mileage_new   3092 non-null   float64\n",
            " 8   engine_new    3092 non-null   int64  \n",
            " 9   power_new     3092 non-null   float64\n",
            " 10  Location      3092 non-null   object \n",
            "dtypes: float64(3), int64(3), object(5)\n",
            "memory usage: 265.8+ KB\n"
          ]
        }
      ],
      "source": [
        "cars_df[x_features].info()"
      ]
    },
    {
      "cell_type": "markdown",
      "metadata": {
        "id": "36E3HoAMbNr-"
      },
      "source": [
        "### Dropping Null Values"
      ]
    },
    {
      "cell_type": "code",
      "execution_count": 13,
      "metadata": {
        "id": "yIti-1aTbNr-"
      },
      "outputs": [],
      "source": [
        "cars_df = cars_df[x_features + ['Price']].dropna()"
      ]
    },
    {
      "cell_type": "code",
      "execution_count": 14,
      "metadata": {
        "id": "X_b0ldn3bNr-",
        "outputId": "099f60c8-9ea6-48c0-cd88-6e5bbccb3364",
        "colab": {
          "base_uri": "https://localhost:8080/"
        }
      },
      "outputs": [
        {
          "output_type": "execute_result",
          "data": {
            "text/plain": [
              "(3091, 12)"
            ]
          },
          "metadata": {},
          "execution_count": 14
        }
      ],
      "source": [
        "cars_df.shape"
      ]
    },
    {
      "cell_type": "code",
      "execution_count": 15,
      "metadata": {
        "id": "vD5ryCxybNr_",
        "outputId": "0a900358-c1a2-45e8-9cd6-852f21d248d6",
        "colab": {
          "base_uri": "https://localhost:8080/",
          "height": 270
        }
      },
      "outputs": [
        {
          "output_type": "execute_result",
          "data": {
            "text/plain": [
              "      KM_Driven Fuel_Type  age Transmission Owner_Type  Seats       make  \\\n",
              "2271         75    Diesel    5       Manual      First    5.0       tata   \n",
              "381          23    Petrol    3       Manual      First    5.0      honda   \n",
              "1503         41    Petrol    3       Manual      First    5.0     nissan   \n",
              "536         120    Petrol    4       Manual      First    5.0  chevrolet   \n",
              "1189         50    Diesel    2       Manual     Second    7.0      honda   \n",
              "\n",
              "      mileage_new  engine_new  power_new    Location  Price  \n",
              "2271        19.10        1405      70.00      Mumbai   3.30  \n",
              "381         18.70        1199      88.70     Chennai   6.50  \n",
              "1503        19.69        1198      67.04   Ahmedabad   4.25  \n",
              "536         18.60        1199      76.80     Kolkata   2.50  \n",
              "1189        24.20        1498      98.60  Coimbatore   6.68  "
            ],
            "text/html": [
              "\n",
              "  <div id=\"df-4096bb2b-0f9b-46ff-bb6a-b4bc53bfddd9\">\n",
              "    <div class=\"colab-df-container\">\n",
              "      <div>\n",
              "<style scoped>\n",
              "    .dataframe tbody tr th:only-of-type {\n",
              "        vertical-align: middle;\n",
              "    }\n",
              "\n",
              "    .dataframe tbody tr th {\n",
              "        vertical-align: top;\n",
              "    }\n",
              "\n",
              "    .dataframe thead th {\n",
              "        text-align: right;\n",
              "    }\n",
              "</style>\n",
              "<table border=\"1\" class=\"dataframe\">\n",
              "  <thead>\n",
              "    <tr style=\"text-align: right;\">\n",
              "      <th></th>\n",
              "      <th>KM_Driven</th>\n",
              "      <th>Fuel_Type</th>\n",
              "      <th>age</th>\n",
              "      <th>Transmission</th>\n",
              "      <th>Owner_Type</th>\n",
              "      <th>Seats</th>\n",
              "      <th>make</th>\n",
              "      <th>mileage_new</th>\n",
              "      <th>engine_new</th>\n",
              "      <th>power_new</th>\n",
              "      <th>Location</th>\n",
              "      <th>Price</th>\n",
              "    </tr>\n",
              "  </thead>\n",
              "  <tbody>\n",
              "    <tr>\n",
              "      <th>2271</th>\n",
              "      <td>75</td>\n",
              "      <td>Diesel</td>\n",
              "      <td>5</td>\n",
              "      <td>Manual</td>\n",
              "      <td>First</td>\n",
              "      <td>5.0</td>\n",
              "      <td>tata</td>\n",
              "      <td>19.10</td>\n",
              "      <td>1405</td>\n",
              "      <td>70.00</td>\n",
              "      <td>Mumbai</td>\n",
              "      <td>3.30</td>\n",
              "    </tr>\n",
              "    <tr>\n",
              "      <th>381</th>\n",
              "      <td>23</td>\n",
              "      <td>Petrol</td>\n",
              "      <td>3</td>\n",
              "      <td>Manual</td>\n",
              "      <td>First</td>\n",
              "      <td>5.0</td>\n",
              "      <td>honda</td>\n",
              "      <td>18.70</td>\n",
              "      <td>1199</td>\n",
              "      <td>88.70</td>\n",
              "      <td>Chennai</td>\n",
              "      <td>6.50</td>\n",
              "    </tr>\n",
              "    <tr>\n",
              "      <th>1503</th>\n",
              "      <td>41</td>\n",
              "      <td>Petrol</td>\n",
              "      <td>3</td>\n",
              "      <td>Manual</td>\n",
              "      <td>First</td>\n",
              "      <td>5.0</td>\n",
              "      <td>nissan</td>\n",
              "      <td>19.69</td>\n",
              "      <td>1198</td>\n",
              "      <td>67.04</td>\n",
              "      <td>Ahmedabad</td>\n",
              "      <td>4.25</td>\n",
              "    </tr>\n",
              "    <tr>\n",
              "      <th>536</th>\n",
              "      <td>120</td>\n",
              "      <td>Petrol</td>\n",
              "      <td>4</td>\n",
              "      <td>Manual</td>\n",
              "      <td>First</td>\n",
              "      <td>5.0</td>\n",
              "      <td>chevrolet</td>\n",
              "      <td>18.60</td>\n",
              "      <td>1199</td>\n",
              "      <td>76.80</td>\n",
              "      <td>Kolkata</td>\n",
              "      <td>2.50</td>\n",
              "    </tr>\n",
              "    <tr>\n",
              "      <th>1189</th>\n",
              "      <td>50</td>\n",
              "      <td>Diesel</td>\n",
              "      <td>2</td>\n",
              "      <td>Manual</td>\n",
              "      <td>Second</td>\n",
              "      <td>7.0</td>\n",
              "      <td>honda</td>\n",
              "      <td>24.20</td>\n",
              "      <td>1498</td>\n",
              "      <td>98.60</td>\n",
              "      <td>Coimbatore</td>\n",
              "      <td>6.68</td>\n",
              "    </tr>\n",
              "  </tbody>\n",
              "</table>\n",
              "</div>\n",
              "      <button class=\"colab-df-convert\" onclick=\"convertToInteractive('df-4096bb2b-0f9b-46ff-bb6a-b4bc53bfddd9')\"\n",
              "              title=\"Convert this dataframe to an interactive table.\"\n",
              "              style=\"display:none;\">\n",
              "        \n",
              "  <svg xmlns=\"http://www.w3.org/2000/svg\" height=\"24px\"viewBox=\"0 0 24 24\"\n",
              "       width=\"24px\">\n",
              "    <path d=\"M0 0h24v24H0V0z\" fill=\"none\"/>\n",
              "    <path d=\"M18.56 5.44l.94 2.06.94-2.06 2.06-.94-2.06-.94-.94-2.06-.94 2.06-2.06.94zm-11 1L8.5 8.5l.94-2.06 2.06-.94-2.06-.94L8.5 2.5l-.94 2.06-2.06.94zm10 10l.94 2.06.94-2.06 2.06-.94-2.06-.94-.94-2.06-.94 2.06-2.06.94z\"/><path d=\"M17.41 7.96l-1.37-1.37c-.4-.4-.92-.59-1.43-.59-.52 0-1.04.2-1.43.59L10.3 9.45l-7.72 7.72c-.78.78-.78 2.05 0 2.83L4 21.41c.39.39.9.59 1.41.59.51 0 1.02-.2 1.41-.59l7.78-7.78 2.81-2.81c.8-.78.8-2.07 0-2.86zM5.41 20L4 18.59l7.72-7.72 1.47 1.35L5.41 20z\"/>\n",
              "  </svg>\n",
              "      </button>\n",
              "      \n",
              "  <style>\n",
              "    .colab-df-container {\n",
              "      display:flex;\n",
              "      flex-wrap:wrap;\n",
              "      gap: 12px;\n",
              "    }\n",
              "\n",
              "    .colab-df-convert {\n",
              "      background-color: #E8F0FE;\n",
              "      border: none;\n",
              "      border-radius: 50%;\n",
              "      cursor: pointer;\n",
              "      display: none;\n",
              "      fill: #1967D2;\n",
              "      height: 32px;\n",
              "      padding: 0 0 0 0;\n",
              "      width: 32px;\n",
              "    }\n",
              "\n",
              "    .colab-df-convert:hover {\n",
              "      background-color: #E2EBFA;\n",
              "      box-shadow: 0px 1px 2px rgba(60, 64, 67, 0.3), 0px 1px 3px 1px rgba(60, 64, 67, 0.15);\n",
              "      fill: #174EA6;\n",
              "    }\n",
              "\n",
              "    [theme=dark] .colab-df-convert {\n",
              "      background-color: #3B4455;\n",
              "      fill: #D2E3FC;\n",
              "    }\n",
              "\n",
              "    [theme=dark] .colab-df-convert:hover {\n",
              "      background-color: #434B5C;\n",
              "      box-shadow: 0px 1px 3px 1px rgba(0, 0, 0, 0.15);\n",
              "      filter: drop-shadow(0px 1px 2px rgba(0, 0, 0, 0.3));\n",
              "      fill: #FFFFFF;\n",
              "    }\n",
              "  </style>\n",
              "\n",
              "      <script>\n",
              "        const buttonEl =\n",
              "          document.querySelector('#df-4096bb2b-0f9b-46ff-bb6a-b4bc53bfddd9 button.colab-df-convert');\n",
              "        buttonEl.style.display =\n",
              "          google.colab.kernel.accessAllowed ? 'block' : 'none';\n",
              "\n",
              "        async function convertToInteractive(key) {\n",
              "          const element = document.querySelector('#df-4096bb2b-0f9b-46ff-bb6a-b4bc53bfddd9');\n",
              "          const dataTable =\n",
              "            await google.colab.kernel.invokeFunction('convertToInteractive',\n",
              "                                                     [key], {});\n",
              "          if (!dataTable) return;\n",
              "\n",
              "          const docLinkHtml = 'Like what you see? Visit the ' +\n",
              "            '<a target=\"_blank\" href=https://colab.research.google.com/notebooks/data_table.ipynb>data table notebook</a>'\n",
              "            + ' to learn more about interactive tables.';\n",
              "          element.innerHTML = '';\n",
              "          dataTable['output_type'] = 'display_data';\n",
              "          await google.colab.output.renderOutput(dataTable, element);\n",
              "          const docLink = document.createElement('div');\n",
              "          docLink.innerHTML = docLinkHtml;\n",
              "          element.appendChild(docLink);\n",
              "        }\n",
              "      </script>\n",
              "    </div>\n",
              "  </div>\n",
              "  "
            ]
          },
          "metadata": {},
          "execution_count": 15
        }
      ],
      "source": [
        "cars_df.sample(5)"
      ]
    },
    {
      "cell_type": "markdown",
      "metadata": {
        "id": "k63N768lbNr_"
      },
      "source": [
        "### Setting X and y variables"
      ]
    },
    {
      "cell_type": "code",
      "execution_count": 16,
      "metadata": {
        "id": "Re-kPp4MbNr_"
      },
      "outputs": [],
      "source": [
        "X = cars_df[x_features]\n",
        "y = cars_df['Price']"
      ]
    },
    {
      "cell_type": "markdown",
      "metadata": {
        "id": "zrtqxWiobNr_"
      },
      "source": [
        "### Data Splitting"
      ]
    },
    {
      "cell_type": "code",
      "execution_count": 17,
      "metadata": {
        "id": "Xd2EJ2WwbNsA"
      },
      "outputs": [],
      "source": [
        "from sklearn.model_selection import train_test_split"
      ]
    },
    {
      "cell_type": "code",
      "execution_count": 18,
      "metadata": {
        "id": "FMPYwycbbNsA"
      },
      "outputs": [],
      "source": [
        "X_train, X_test, y_train, y_test = train_test_split(X,\n",
        "                                                    y,\n",
        "                                                    train_size = 0.8,\n",
        "                                                    random_state = 80)"
      ]
    },
    {
      "cell_type": "code",
      "execution_count": 19,
      "metadata": {
        "id": "xPDNsU_ebNsA",
        "outputId": "d7024e0a-2fae-4fbc-d16c-0b9e65cc0f7c",
        "colab": {
          "base_uri": "https://localhost:8080/",
          "height": 468
        }
      },
      "outputs": [
        {
          "output_type": "execute_result",
          "data": {
            "text/plain": [
              "      KM_Driven Fuel_Type  age Transmission Owner_Type  Seats        make  \\\n",
              "1458         81    Diesel    5       Manual      First    5.0  volkswagen   \n",
              "3079         70    Petrol    9       Manual     Second    5.0  volkswagen   \n",
              "2276         75    Petrol    4       Manual      First    5.0     hyundai   \n",
              "1599         95    Petrol   21       Manual      Third    5.0      maruti   \n",
              "2356         14    Petrol    2       Manual      First    5.0     hyundai   \n",
              "...         ...       ...  ...          ...        ...    ...         ...   \n",
              "522          45    Diesel    5       Manual      First    5.0      maruti   \n",
              "2260         16    Petrol    2       Manual      First    5.0        tata   \n",
              "2983         21    Petrol    4       Manual      First    5.0     hyundai   \n",
              "1213         83    Petrol   12       Manual      First    5.0      maruti   \n",
              "1200         33    Petrol    4    Automatic      First    5.0       honda   \n",
              "\n",
              "      mileage_new  engine_new  power_new   Location  \n",
              "1458        20.14        1498      88.80  Hyderabad  \n",
              "3079        17.24        1198      73.90       Pune  \n",
              "2276        20.36        1197      78.90     Mumbai  \n",
              "1599        17.30         993      60.00     Jaipur  \n",
              "2356        18.60        1197      81.83      Kochi  \n",
              "...           ...         ...        ...        ...  \n",
              "522         23.40        1248      74.00    Kolkata  \n",
              "2260        23.84        1199      84.00  Hyderabad  \n",
              "2983        18.90        1197      82.00       Pune  \n",
              "1213        14.00        1061      64.00       Pune  \n",
              "1200        19.00        1199      88.70  Hyderabad  \n",
              "\n",
              "[2472 rows x 11 columns]"
            ],
            "text/html": [
              "\n",
              "  <div id=\"df-5f6f7e49-9047-4fd9-aa0c-ab60e3d99830\">\n",
              "    <div class=\"colab-df-container\">\n",
              "      <div>\n",
              "<style scoped>\n",
              "    .dataframe tbody tr th:only-of-type {\n",
              "        vertical-align: middle;\n",
              "    }\n",
              "\n",
              "    .dataframe tbody tr th {\n",
              "        vertical-align: top;\n",
              "    }\n",
              "\n",
              "    .dataframe thead th {\n",
              "        text-align: right;\n",
              "    }\n",
              "</style>\n",
              "<table border=\"1\" class=\"dataframe\">\n",
              "  <thead>\n",
              "    <tr style=\"text-align: right;\">\n",
              "      <th></th>\n",
              "      <th>KM_Driven</th>\n",
              "      <th>Fuel_Type</th>\n",
              "      <th>age</th>\n",
              "      <th>Transmission</th>\n",
              "      <th>Owner_Type</th>\n",
              "      <th>Seats</th>\n",
              "      <th>make</th>\n",
              "      <th>mileage_new</th>\n",
              "      <th>engine_new</th>\n",
              "      <th>power_new</th>\n",
              "      <th>Location</th>\n",
              "    </tr>\n",
              "  </thead>\n",
              "  <tbody>\n",
              "    <tr>\n",
              "      <th>1458</th>\n",
              "      <td>81</td>\n",
              "      <td>Diesel</td>\n",
              "      <td>5</td>\n",
              "      <td>Manual</td>\n",
              "      <td>First</td>\n",
              "      <td>5.0</td>\n",
              "      <td>volkswagen</td>\n",
              "      <td>20.14</td>\n",
              "      <td>1498</td>\n",
              "      <td>88.80</td>\n",
              "      <td>Hyderabad</td>\n",
              "    </tr>\n",
              "    <tr>\n",
              "      <th>3079</th>\n",
              "      <td>70</td>\n",
              "      <td>Petrol</td>\n",
              "      <td>9</td>\n",
              "      <td>Manual</td>\n",
              "      <td>Second</td>\n",
              "      <td>5.0</td>\n",
              "      <td>volkswagen</td>\n",
              "      <td>17.24</td>\n",
              "      <td>1198</td>\n",
              "      <td>73.90</td>\n",
              "      <td>Pune</td>\n",
              "    </tr>\n",
              "    <tr>\n",
              "      <th>2276</th>\n",
              "      <td>75</td>\n",
              "      <td>Petrol</td>\n",
              "      <td>4</td>\n",
              "      <td>Manual</td>\n",
              "      <td>First</td>\n",
              "      <td>5.0</td>\n",
              "      <td>hyundai</td>\n",
              "      <td>20.36</td>\n",
              "      <td>1197</td>\n",
              "      <td>78.90</td>\n",
              "      <td>Mumbai</td>\n",
              "    </tr>\n",
              "    <tr>\n",
              "      <th>1599</th>\n",
              "      <td>95</td>\n",
              "      <td>Petrol</td>\n",
              "      <td>21</td>\n",
              "      <td>Manual</td>\n",
              "      <td>Third</td>\n",
              "      <td>5.0</td>\n",
              "      <td>maruti</td>\n",
              "      <td>17.30</td>\n",
              "      <td>993</td>\n",
              "      <td>60.00</td>\n",
              "      <td>Jaipur</td>\n",
              "    </tr>\n",
              "    <tr>\n",
              "      <th>2356</th>\n",
              "      <td>14</td>\n",
              "      <td>Petrol</td>\n",
              "      <td>2</td>\n",
              "      <td>Manual</td>\n",
              "      <td>First</td>\n",
              "      <td>5.0</td>\n",
              "      <td>hyundai</td>\n",
              "      <td>18.60</td>\n",
              "      <td>1197</td>\n",
              "      <td>81.83</td>\n",
              "      <td>Kochi</td>\n",
              "    </tr>\n",
              "    <tr>\n",
              "      <th>...</th>\n",
              "      <td>...</td>\n",
              "      <td>...</td>\n",
              "      <td>...</td>\n",
              "      <td>...</td>\n",
              "      <td>...</td>\n",
              "      <td>...</td>\n",
              "      <td>...</td>\n",
              "      <td>...</td>\n",
              "      <td>...</td>\n",
              "      <td>...</td>\n",
              "      <td>...</td>\n",
              "    </tr>\n",
              "    <tr>\n",
              "      <th>522</th>\n",
              "      <td>45</td>\n",
              "      <td>Diesel</td>\n",
              "      <td>5</td>\n",
              "      <td>Manual</td>\n",
              "      <td>First</td>\n",
              "      <td>5.0</td>\n",
              "      <td>maruti</td>\n",
              "      <td>23.40</td>\n",
              "      <td>1248</td>\n",
              "      <td>74.00</td>\n",
              "      <td>Kolkata</td>\n",
              "    </tr>\n",
              "    <tr>\n",
              "      <th>2260</th>\n",
              "      <td>16</td>\n",
              "      <td>Petrol</td>\n",
              "      <td>2</td>\n",
              "      <td>Manual</td>\n",
              "      <td>First</td>\n",
              "      <td>5.0</td>\n",
              "      <td>tata</td>\n",
              "      <td>23.84</td>\n",
              "      <td>1199</td>\n",
              "      <td>84.00</td>\n",
              "      <td>Hyderabad</td>\n",
              "    </tr>\n",
              "    <tr>\n",
              "      <th>2983</th>\n",
              "      <td>21</td>\n",
              "      <td>Petrol</td>\n",
              "      <td>4</td>\n",
              "      <td>Manual</td>\n",
              "      <td>First</td>\n",
              "      <td>5.0</td>\n",
              "      <td>hyundai</td>\n",
              "      <td>18.90</td>\n",
              "      <td>1197</td>\n",
              "      <td>82.00</td>\n",
              "      <td>Pune</td>\n",
              "    </tr>\n",
              "    <tr>\n",
              "      <th>1213</th>\n",
              "      <td>83</td>\n",
              "      <td>Petrol</td>\n",
              "      <td>12</td>\n",
              "      <td>Manual</td>\n",
              "      <td>First</td>\n",
              "      <td>5.0</td>\n",
              "      <td>maruti</td>\n",
              "      <td>14.00</td>\n",
              "      <td>1061</td>\n",
              "      <td>64.00</td>\n",
              "      <td>Pune</td>\n",
              "    </tr>\n",
              "    <tr>\n",
              "      <th>1200</th>\n",
              "      <td>33</td>\n",
              "      <td>Petrol</td>\n",
              "      <td>4</td>\n",
              "      <td>Automatic</td>\n",
              "      <td>First</td>\n",
              "      <td>5.0</td>\n",
              "      <td>honda</td>\n",
              "      <td>19.00</td>\n",
              "      <td>1199</td>\n",
              "      <td>88.70</td>\n",
              "      <td>Hyderabad</td>\n",
              "    </tr>\n",
              "  </tbody>\n",
              "</table>\n",
              "<p>2472 rows × 11 columns</p>\n",
              "</div>\n",
              "      <button class=\"colab-df-convert\" onclick=\"convertToInteractive('df-5f6f7e49-9047-4fd9-aa0c-ab60e3d99830')\"\n",
              "              title=\"Convert this dataframe to an interactive table.\"\n",
              "              style=\"display:none;\">\n",
              "        \n",
              "  <svg xmlns=\"http://www.w3.org/2000/svg\" height=\"24px\"viewBox=\"0 0 24 24\"\n",
              "       width=\"24px\">\n",
              "    <path d=\"M0 0h24v24H0V0z\" fill=\"none\"/>\n",
              "    <path d=\"M18.56 5.44l.94 2.06.94-2.06 2.06-.94-2.06-.94-.94-2.06-.94 2.06-2.06.94zm-11 1L8.5 8.5l.94-2.06 2.06-.94-2.06-.94L8.5 2.5l-.94 2.06-2.06.94zm10 10l.94 2.06.94-2.06 2.06-.94-2.06-.94-.94-2.06-.94 2.06-2.06.94z\"/><path d=\"M17.41 7.96l-1.37-1.37c-.4-.4-.92-.59-1.43-.59-.52 0-1.04.2-1.43.59L10.3 9.45l-7.72 7.72c-.78.78-.78 2.05 0 2.83L4 21.41c.39.39.9.59 1.41.59.51 0 1.02-.2 1.41-.59l7.78-7.78 2.81-2.81c.8-.78.8-2.07 0-2.86zM5.41 20L4 18.59l7.72-7.72 1.47 1.35L5.41 20z\"/>\n",
              "  </svg>\n",
              "      </button>\n",
              "      \n",
              "  <style>\n",
              "    .colab-df-container {\n",
              "      display:flex;\n",
              "      flex-wrap:wrap;\n",
              "      gap: 12px;\n",
              "    }\n",
              "\n",
              "    .colab-df-convert {\n",
              "      background-color: #E8F0FE;\n",
              "      border: none;\n",
              "      border-radius: 50%;\n",
              "      cursor: pointer;\n",
              "      display: none;\n",
              "      fill: #1967D2;\n",
              "      height: 32px;\n",
              "      padding: 0 0 0 0;\n",
              "      width: 32px;\n",
              "    }\n",
              "\n",
              "    .colab-df-convert:hover {\n",
              "      background-color: #E2EBFA;\n",
              "      box-shadow: 0px 1px 2px rgba(60, 64, 67, 0.3), 0px 1px 3px 1px rgba(60, 64, 67, 0.15);\n",
              "      fill: #174EA6;\n",
              "    }\n",
              "\n",
              "    [theme=dark] .colab-df-convert {\n",
              "      background-color: #3B4455;\n",
              "      fill: #D2E3FC;\n",
              "    }\n",
              "\n",
              "    [theme=dark] .colab-df-convert:hover {\n",
              "      background-color: #434B5C;\n",
              "      box-shadow: 0px 1px 3px 1px rgba(0, 0, 0, 0.15);\n",
              "      filter: drop-shadow(0px 1px 2px rgba(0, 0, 0, 0.3));\n",
              "      fill: #FFFFFF;\n",
              "    }\n",
              "  </style>\n",
              "\n",
              "      <script>\n",
              "        const buttonEl =\n",
              "          document.querySelector('#df-5f6f7e49-9047-4fd9-aa0c-ab60e3d99830 button.colab-df-convert');\n",
              "        buttonEl.style.display =\n",
              "          google.colab.kernel.accessAllowed ? 'block' : 'none';\n",
              "\n",
              "        async function convertToInteractive(key) {\n",
              "          const element = document.querySelector('#df-5f6f7e49-9047-4fd9-aa0c-ab60e3d99830');\n",
              "          const dataTable =\n",
              "            await google.colab.kernel.invokeFunction('convertToInteractive',\n",
              "                                                     [key], {});\n",
              "          if (!dataTable) return;\n",
              "\n",
              "          const docLinkHtml = 'Like what you see? Visit the ' +\n",
              "            '<a target=\"_blank\" href=https://colab.research.google.com/notebooks/data_table.ipynb>data table notebook</a>'\n",
              "            + ' to learn more about interactive tables.';\n",
              "          element.innerHTML = '';\n",
              "          dataTable['output_type'] = 'display_data';\n",
              "          await google.colab.output.renderOutput(dataTable, element);\n",
              "          const docLink = document.createElement('div');\n",
              "          docLink.innerHTML = docLinkHtml;\n",
              "          element.appendChild(docLink);\n",
              "        }\n",
              "      </script>\n",
              "    </div>\n",
              "  </div>\n",
              "  "
            ]
          },
          "metadata": {},
          "execution_count": 19
        }
      ],
      "source": [
        "X_train"
      ]
    },
    {
      "cell_type": "code",
      "execution_count": 20,
      "metadata": {
        "id": "vH6vpDcsbNsA",
        "outputId": "2b259375-492b-48db-f698-91abf13c5f08",
        "colab": {
          "base_uri": "https://localhost:8080/",
          "height": 407
        }
      },
      "outputs": [
        {
          "output_type": "execute_result",
          "data": {
            "text/plain": [
              "      KM_Driven Fuel_Type  age Transmission Owner_Type  Seats        make  \\\n",
              "1458         81    Diesel    5       Manual      First    5.0  volkswagen   \n",
              "3079         70    Petrol    9       Manual     Second    5.0  volkswagen   \n",
              "2276         75    Petrol    4       Manual      First    5.0     hyundai   \n",
              "1599         95    Petrol   21       Manual      Third    5.0      maruti   \n",
              "2356         14    Petrol    2       Manual      First    5.0     hyundai   \n",
              "737          12    Petrol    3       Manual      First    5.0      maruti   \n",
              "265          50    Diesel    4       Manual      First    5.0  volkswagen   \n",
              "713          59    Petrol   12       Manual      First    4.0      maruti   \n",
              "82           88    Diesel    7       Manual      First    5.0   chevrolet   \n",
              "2918         27    Petrol    2       Manual      First    5.0      maruti   \n",
              "\n",
              "      mileage_new  engine_new  power_new   Location  \n",
              "1458        20.14        1498      88.80  Hyderabad  \n",
              "3079        17.24        1198      73.90       Pune  \n",
              "2276        20.36        1197      78.90     Mumbai  \n",
              "1599        17.30         993      60.00     Jaipur  \n",
              "2356        18.60        1197      81.83      Kochi  \n",
              "737         21.40        1197      83.10     Mumbai  \n",
              "265         20.14        1498      88.80  Hyderabad  \n",
              "713         16.10         796      37.00     Jaipur  \n",
              "82          25.44         936      57.60     Jaipur  \n",
              "2918        22.74         796      47.30      Kochi  "
            ],
            "text/html": [
              "\n",
              "  <div id=\"df-cb16dd05-3ef6-42ef-9c69-a8c47a163c48\">\n",
              "    <div class=\"colab-df-container\">\n",
              "      <div>\n",
              "<style scoped>\n",
              "    .dataframe tbody tr th:only-of-type {\n",
              "        vertical-align: middle;\n",
              "    }\n",
              "\n",
              "    .dataframe tbody tr th {\n",
              "        vertical-align: top;\n",
              "    }\n",
              "\n",
              "    .dataframe thead th {\n",
              "        text-align: right;\n",
              "    }\n",
              "</style>\n",
              "<table border=\"1\" class=\"dataframe\">\n",
              "  <thead>\n",
              "    <tr style=\"text-align: right;\">\n",
              "      <th></th>\n",
              "      <th>KM_Driven</th>\n",
              "      <th>Fuel_Type</th>\n",
              "      <th>age</th>\n",
              "      <th>Transmission</th>\n",
              "      <th>Owner_Type</th>\n",
              "      <th>Seats</th>\n",
              "      <th>make</th>\n",
              "      <th>mileage_new</th>\n",
              "      <th>engine_new</th>\n",
              "      <th>power_new</th>\n",
              "      <th>Location</th>\n",
              "    </tr>\n",
              "  </thead>\n",
              "  <tbody>\n",
              "    <tr>\n",
              "      <th>1458</th>\n",
              "      <td>81</td>\n",
              "      <td>Diesel</td>\n",
              "      <td>5</td>\n",
              "      <td>Manual</td>\n",
              "      <td>First</td>\n",
              "      <td>5.0</td>\n",
              "      <td>volkswagen</td>\n",
              "      <td>20.14</td>\n",
              "      <td>1498</td>\n",
              "      <td>88.80</td>\n",
              "      <td>Hyderabad</td>\n",
              "    </tr>\n",
              "    <tr>\n",
              "      <th>3079</th>\n",
              "      <td>70</td>\n",
              "      <td>Petrol</td>\n",
              "      <td>9</td>\n",
              "      <td>Manual</td>\n",
              "      <td>Second</td>\n",
              "      <td>5.0</td>\n",
              "      <td>volkswagen</td>\n",
              "      <td>17.24</td>\n",
              "      <td>1198</td>\n",
              "      <td>73.90</td>\n",
              "      <td>Pune</td>\n",
              "    </tr>\n",
              "    <tr>\n",
              "      <th>2276</th>\n",
              "      <td>75</td>\n",
              "      <td>Petrol</td>\n",
              "      <td>4</td>\n",
              "      <td>Manual</td>\n",
              "      <td>First</td>\n",
              "      <td>5.0</td>\n",
              "      <td>hyundai</td>\n",
              "      <td>20.36</td>\n",
              "      <td>1197</td>\n",
              "      <td>78.90</td>\n",
              "      <td>Mumbai</td>\n",
              "    </tr>\n",
              "    <tr>\n",
              "      <th>1599</th>\n",
              "      <td>95</td>\n",
              "      <td>Petrol</td>\n",
              "      <td>21</td>\n",
              "      <td>Manual</td>\n",
              "      <td>Third</td>\n",
              "      <td>5.0</td>\n",
              "      <td>maruti</td>\n",
              "      <td>17.30</td>\n",
              "      <td>993</td>\n",
              "      <td>60.00</td>\n",
              "      <td>Jaipur</td>\n",
              "    </tr>\n",
              "    <tr>\n",
              "      <th>2356</th>\n",
              "      <td>14</td>\n",
              "      <td>Petrol</td>\n",
              "      <td>2</td>\n",
              "      <td>Manual</td>\n",
              "      <td>First</td>\n",
              "      <td>5.0</td>\n",
              "      <td>hyundai</td>\n",
              "      <td>18.60</td>\n",
              "      <td>1197</td>\n",
              "      <td>81.83</td>\n",
              "      <td>Kochi</td>\n",
              "    </tr>\n",
              "    <tr>\n",
              "      <th>737</th>\n",
              "      <td>12</td>\n",
              "      <td>Petrol</td>\n",
              "      <td>3</td>\n",
              "      <td>Manual</td>\n",
              "      <td>First</td>\n",
              "      <td>5.0</td>\n",
              "      <td>maruti</td>\n",
              "      <td>21.40</td>\n",
              "      <td>1197</td>\n",
              "      <td>83.10</td>\n",
              "      <td>Mumbai</td>\n",
              "    </tr>\n",
              "    <tr>\n",
              "      <th>265</th>\n",
              "      <td>50</td>\n",
              "      <td>Diesel</td>\n",
              "      <td>4</td>\n",
              "      <td>Manual</td>\n",
              "      <td>First</td>\n",
              "      <td>5.0</td>\n",
              "      <td>volkswagen</td>\n",
              "      <td>20.14</td>\n",
              "      <td>1498</td>\n",
              "      <td>88.80</td>\n",
              "      <td>Hyderabad</td>\n",
              "    </tr>\n",
              "    <tr>\n",
              "      <th>713</th>\n",
              "      <td>59</td>\n",
              "      <td>Petrol</td>\n",
              "      <td>12</td>\n",
              "      <td>Manual</td>\n",
              "      <td>First</td>\n",
              "      <td>4.0</td>\n",
              "      <td>maruti</td>\n",
              "      <td>16.10</td>\n",
              "      <td>796</td>\n",
              "      <td>37.00</td>\n",
              "      <td>Jaipur</td>\n",
              "    </tr>\n",
              "    <tr>\n",
              "      <th>82</th>\n",
              "      <td>88</td>\n",
              "      <td>Diesel</td>\n",
              "      <td>7</td>\n",
              "      <td>Manual</td>\n",
              "      <td>First</td>\n",
              "      <td>5.0</td>\n",
              "      <td>chevrolet</td>\n",
              "      <td>25.44</td>\n",
              "      <td>936</td>\n",
              "      <td>57.60</td>\n",
              "      <td>Jaipur</td>\n",
              "    </tr>\n",
              "    <tr>\n",
              "      <th>2918</th>\n",
              "      <td>27</td>\n",
              "      <td>Petrol</td>\n",
              "      <td>2</td>\n",
              "      <td>Manual</td>\n",
              "      <td>First</td>\n",
              "      <td>5.0</td>\n",
              "      <td>maruti</td>\n",
              "      <td>22.74</td>\n",
              "      <td>796</td>\n",
              "      <td>47.30</td>\n",
              "      <td>Kochi</td>\n",
              "    </tr>\n",
              "  </tbody>\n",
              "</table>\n",
              "</div>\n",
              "      <button class=\"colab-df-convert\" onclick=\"convertToInteractive('df-cb16dd05-3ef6-42ef-9c69-a8c47a163c48')\"\n",
              "              title=\"Convert this dataframe to an interactive table.\"\n",
              "              style=\"display:none;\">\n",
              "        \n",
              "  <svg xmlns=\"http://www.w3.org/2000/svg\" height=\"24px\"viewBox=\"0 0 24 24\"\n",
              "       width=\"24px\">\n",
              "    <path d=\"M0 0h24v24H0V0z\" fill=\"none\"/>\n",
              "    <path d=\"M18.56 5.44l.94 2.06.94-2.06 2.06-.94-2.06-.94-.94-2.06-.94 2.06-2.06.94zm-11 1L8.5 8.5l.94-2.06 2.06-.94-2.06-.94L8.5 2.5l-.94 2.06-2.06.94zm10 10l.94 2.06.94-2.06 2.06-.94-2.06-.94-.94-2.06-.94 2.06-2.06.94z\"/><path d=\"M17.41 7.96l-1.37-1.37c-.4-.4-.92-.59-1.43-.59-.52 0-1.04.2-1.43.59L10.3 9.45l-7.72 7.72c-.78.78-.78 2.05 0 2.83L4 21.41c.39.39.9.59 1.41.59.51 0 1.02-.2 1.41-.59l7.78-7.78 2.81-2.81c.8-.78.8-2.07 0-2.86zM5.41 20L4 18.59l7.72-7.72 1.47 1.35L5.41 20z\"/>\n",
              "  </svg>\n",
              "      </button>\n",
              "      \n",
              "  <style>\n",
              "    .colab-df-container {\n",
              "      display:flex;\n",
              "      flex-wrap:wrap;\n",
              "      gap: 12px;\n",
              "    }\n",
              "\n",
              "    .colab-df-convert {\n",
              "      background-color: #E8F0FE;\n",
              "      border: none;\n",
              "      border-radius: 50%;\n",
              "      cursor: pointer;\n",
              "      display: none;\n",
              "      fill: #1967D2;\n",
              "      height: 32px;\n",
              "      padding: 0 0 0 0;\n",
              "      width: 32px;\n",
              "    }\n",
              "\n",
              "    .colab-df-convert:hover {\n",
              "      background-color: #E2EBFA;\n",
              "      box-shadow: 0px 1px 2px rgba(60, 64, 67, 0.3), 0px 1px 3px 1px rgba(60, 64, 67, 0.15);\n",
              "      fill: #174EA6;\n",
              "    }\n",
              "\n",
              "    [theme=dark] .colab-df-convert {\n",
              "      background-color: #3B4455;\n",
              "      fill: #D2E3FC;\n",
              "    }\n",
              "\n",
              "    [theme=dark] .colab-df-convert:hover {\n",
              "      background-color: #434B5C;\n",
              "      box-shadow: 0px 1px 3px 1px rgba(0, 0, 0, 0.15);\n",
              "      filter: drop-shadow(0px 1px 2px rgba(0, 0, 0, 0.3));\n",
              "      fill: #FFFFFF;\n",
              "    }\n",
              "  </style>\n",
              "\n",
              "      <script>\n",
              "        const buttonEl =\n",
              "          document.querySelector('#df-cb16dd05-3ef6-42ef-9c69-a8c47a163c48 button.colab-df-convert');\n",
              "        buttonEl.style.display =\n",
              "          google.colab.kernel.accessAllowed ? 'block' : 'none';\n",
              "\n",
              "        async function convertToInteractive(key) {\n",
              "          const element = document.querySelector('#df-cb16dd05-3ef6-42ef-9c69-a8c47a163c48');\n",
              "          const dataTable =\n",
              "            await google.colab.kernel.invokeFunction('convertToInteractive',\n",
              "                                                     [key], {});\n",
              "          if (!dataTable) return;\n",
              "\n",
              "          const docLinkHtml = 'Like what you see? Visit the ' +\n",
              "            '<a target=\"_blank\" href=https://colab.research.google.com/notebooks/data_table.ipynb>data table notebook</a>'\n",
              "            + ' to learn more about interactive tables.';\n",
              "          element.innerHTML = '';\n",
              "          dataTable['output_type'] = 'display_data';\n",
              "          await google.colab.output.renderOutput(dataTable, element);\n",
              "          const docLink = document.createElement('div');\n",
              "          docLink.innerHTML = docLinkHtml;\n",
              "          element.appendChild(docLink);\n",
              "        }\n",
              "      </script>\n",
              "    </div>\n",
              "  </div>\n",
              "  "
            ]
          },
          "metadata": {},
          "execution_count": 20
        }
      ],
      "source": [
        "X_train[0:10]"
      ]
    },
    {
      "cell_type": "code",
      "execution_count": 21,
      "metadata": {
        "id": "LDih4eesbNsB",
        "outputId": "863f7467-6203-4c4e-e3ca-d0fd36fa6e80",
        "colab": {
          "base_uri": "https://localhost:8080/"
        }
      },
      "outputs": [
        {
          "output_type": "execute_result",
          "data": {
            "text/plain": [
              "(619, 11)"
            ]
          },
          "metadata": {},
          "execution_count": 21
        }
      ],
      "source": [
        "X_test.shape"
      ]
    },
    {
      "cell_type": "markdown",
      "metadata": {
        "id": "_XDuL5RtbNsB"
      },
      "source": [
        "### Encode Categorical Variables"
      ]
    },
    {
      "cell_type": "code",
      "execution_count": 22,
      "metadata": {
        "id": "0lLEkbaibNsB"
      },
      "outputs": [],
      "source": [
        "from sklearn.preprocessing import OneHotEncoder"
      ]
    },
    {
      "cell_type": "code",
      "execution_count": 23,
      "metadata": {
        "id": "WBaN-CuRbNsB"
      },
      "outputs": [],
      "source": [
        "ohe_encoder = OneHotEncoder(handle_unknown='ignore')"
      ]
    },
    {
      "cell_type": "code",
      "execution_count": 24,
      "metadata": {
        "id": "3NDyprO2bNsC",
        "outputId": "2f2b0fad-36c7-4fdd-f3d3-0bd22def5082",
        "colab": {
          "base_uri": "https://localhost:8080/"
        }
      },
      "outputs": [
        {
          "output_type": "execute_result",
          "data": {
            "text/plain": [
              "OneHotEncoder(handle_unknown='ignore')"
            ]
          },
          "metadata": {},
          "execution_count": 24
        }
      ],
      "source": [
        "ohe_encoder.fit(X_train[cat_features])"
      ]
    },
    {
      "cell_type": "code",
      "execution_count": 25,
      "metadata": {
        "id": "oORqdQNcbNsC",
        "outputId": "81ad095f-cb18-4bf9-a7bd-d0f22ad4f223",
        "colab": {
          "base_uri": "https://localhost:8080/"
        }
      },
      "outputs": [
        {
          "output_type": "execute_result",
          "data": {
            "text/plain": [
              "[array(['Diesel', 'Petrol'], dtype=object),\n",
              " array(['Automatic', 'Manual'], dtype=object),\n",
              " array(['First', 'Fourth & Above', 'Second', 'Third'], dtype=object),\n",
              " array(['chevrolet', 'datsun', 'fiat', 'ford', 'honda', 'hyundai',\n",
              "        'mahindra', 'maruti', 'mitsubishi', 'nissan', 'renault', 'skoda',\n",
              "        'tata', 'toyota', 'volkswagen'], dtype=object),\n",
              " array(['Ahmedabad', 'Bangalore', 'Chennai', 'Coimbatore', 'Delhi',\n",
              "        'Hyderabad', 'Jaipur', 'Kochi', 'Kolkata', 'Mumbai', 'Pune'],\n",
              "       dtype=object)]"
            ]
          },
          "metadata": {},
          "execution_count": 25
        }
      ],
      "source": [
        "ohe_encoder.categories_"
      ]
    },
    {
      "cell_type": "code",
      "execution_count": 26,
      "metadata": {
        "id": "GQib8XvPbNsC",
        "outputId": "6b51ebc5-d409-4fcc-a9e6-872911dda082",
        "colab": {
          "base_uri": "https://localhost:8080/"
        }
      },
      "outputs": [
        {
          "output_type": "stream",
          "name": "stderr",
          "text": [
            "/usr/local/lib/python3.7/dist-packages/sklearn/utils/deprecation.py:87: FutureWarning: Function get_feature_names is deprecated; get_feature_names is deprecated in 1.0 and will be removed in 1.2. Please use get_feature_names_out instead.\n",
            "  warnings.warn(msg, category=FutureWarning)\n"
          ]
        },
        {
          "output_type": "execute_result",
          "data": {
            "text/plain": [
              "['Fuel_Type_Diesel',\n",
              " 'Fuel_Type_Petrol',\n",
              " 'Transmission_Automatic',\n",
              " 'Transmission_Manual',\n",
              " 'Owner_Type_First',\n",
              " 'Owner_Type_Fourth & Above',\n",
              " 'Owner_Type_Second',\n",
              " 'Owner_Type_Third',\n",
              " 'make_chevrolet',\n",
              " 'make_datsun',\n",
              " 'make_fiat',\n",
              " 'make_ford',\n",
              " 'make_honda',\n",
              " 'make_hyundai',\n",
              " 'make_mahindra',\n",
              " 'make_maruti',\n",
              " 'make_mitsubishi',\n",
              " 'make_nissan',\n",
              " 'make_renault',\n",
              " 'make_skoda',\n",
              " 'make_tata',\n",
              " 'make_toyota',\n",
              " 'make_volkswagen',\n",
              " 'Location_Ahmedabad',\n",
              " 'Location_Bangalore',\n",
              " 'Location_Chennai',\n",
              " 'Location_Coimbatore',\n",
              " 'Location_Delhi',\n",
              " 'Location_Hyderabad',\n",
              " 'Location_Jaipur',\n",
              " 'Location_Kochi',\n",
              " 'Location_Kolkata',\n",
              " 'Location_Mumbai',\n",
              " 'Location_Pune']"
            ]
          },
          "metadata": {},
          "execution_count": 26
        }
      ],
      "source": [
        "encoded_cat_names = list(ohe_encoder.get_feature_names(cat_features))\n",
        "encoded_cat_names"
      ]
    },
    {
      "cell_type": "code",
      "execution_count": 27,
      "metadata": {
        "id": "rfo_nlaebNsC"
      },
      "outputs": [],
      "source": [
        "from sklearn.compose import ColumnTransformer\n",
        "from sklearn.pipeline import Pipeline\n",
        "from sklearn.preprocessing import StandardScaler"
      ]
    },
    {
      "cell_type": "code",
      "execution_count": 28,
      "metadata": {
        "id": "ILVd48hJbNsC"
      },
      "outputs": [],
      "source": [
        "preprocessor = ColumnTransformer(\n",
        "    transformers=[        \n",
        "        ('cat', ohe_encoder, cat_features)],\n",
        "remainder='passthrough')"
      ]
    },
    {
      "cell_type": "markdown",
      "metadata": {
        "id": "uTgRCWrkbNsC"
      },
      "source": [
        "### Linear Models\n",
        "\n",
        "Assumes linear relationship between features and outcome variable."
      ]
    },
    {
      "cell_type": "code",
      "execution_count": 29,
      "metadata": {
        "id": "dG0mb1_EbNsD",
        "outputId": "d6cccd52-fc09-49ad-f47e-bdb5581b9466",
        "colab": {
          "base_uri": "https://localhost:8080/",
          "height": 369
        }
      },
      "outputs": [
        {
          "output_type": "display_data",
          "data": {
            "text/plain": [
              "<Figure size 360x360 with 1 Axes>"
            ],
            "image/png": "[encoded data removed]"
          },
          "metadata": {
            "needs_background": "light"
          }
        }
      ],
      "source": [
        "sn.lmplot( data = cars_df.sample(100),\n",
        "           x = 'power_new',\n",
        "           y = 'Price');"
      ]
    },
    {
      "cell_type": "code",
      "execution_count": 30,
      "metadata": {
        "id": "Ka3-qehIbNsD"
      },
      "outputs": [],
      "source": [
        "from sklearn.linear_model import LinearRegression"
      ]
    },
    {
      "cell_type": "code",
      "execution_count": 31,
      "metadata": {
        "id": "fEDySeOZbNsD"
      },
      "outputs": [],
      "source": [
        "lreg_v1 = Pipeline(steps=[('preprocessor', preprocessor),\n",
        "                          ('regressor', LinearRegression())])"
      ]
    },
    {
      "cell_type": "code",
      "execution_count": 32,
      "metadata": {
        "id": "L-cVgX7obNsD",
        "outputId": "32f7184f-1b6d-4bc6-b4d9-d8757f24d6fa",
        "colab": {
          "base_uri": "https://localhost:8080/"
        }
      },
      "outputs": [
        {
          "output_type": "execute_result",
          "data": {
            "text/plain": [
              "Pipeline(steps=[('preprocessor',\n",
              "                 ColumnTransformer(remainder='passthrough',\n",
              "                                   transformers=[('cat',\n",
              "                                                  OneHotEncoder(handle_unknown='ignore'),\n",
              "                                                  ['Fuel_Type', 'Transmission',\n",
              "                                                   'Owner_Type', 'make',\n",
              "                                                   'Location'])])),\n",
              "                ('regressor', LinearRegression())])"
            ]
          },
          "metadata": {},
          "execution_count": 32
        }
      ],
      "source": [
        "lreg_v1.fit(X_train, y_train)"
      ]
    },
    {
      "cell_type": "code",
      "execution_count": 33,
      "metadata": {
        "id": "dxNcU_3obNsD",
        "colab": {
          "base_uri": "https://localhost:8080/"
        },
        "outputId": "633baa42-2b31-4075-af72-d48011d36360"
      },
      "outputs": [
        {
          "output_type": "stream",
          "name": "stderr",
          "text": [
            "/usr/local/lib/python3.7/dist-packages/sklearn/utils/deprecation.py:87: FutureWarning: Function get_feature_names is deprecated; get_feature_names is deprecated in 1.0 and will be removed in 1.2. Please use get_feature_names_out instead.\n",
            "  warnings.warn(msg, category=FutureWarning)\n"
          ]
        }
      ],
      "source": [
        "final_feature_names = lreg_v1['preprocessor'].get_feature_names()"
      ]
    },
    {
      "cell_type": "code",
      "execution_count": 34,
      "metadata": {
        "id": "nLPzE118bNsE",
        "outputId": "dfb5e493-acf8-4b05-ed0d-198b01557842",
        "colab": {
          "base_uri": "https://localhost:8080/"
        }
      },
      "outputs": [
        {
          "output_type": "execute_result",
          "data": {
            "text/plain": [
              "['cat__x0_Diesel',\n",
              " 'cat__x0_Petrol',\n",
              " 'cat__x1_Automatic',\n",
              " 'cat__x1_Manual',\n",
              " 'cat__x2_First',\n",
              " 'cat__x2_Fourth & Above',\n",
              " 'cat__x2_Second',\n",
              " 'cat__x2_Third',\n",
              " 'cat__x3_chevrolet',\n",
              " 'cat__x3_datsun',\n",
              " 'cat__x3_fiat',\n",
              " 'cat__x3_ford',\n",
              " 'cat__x3_honda',\n",
              " 'cat__x3_hyundai',\n",
              " 'cat__x3_mahindra',\n",
              " 'cat__x3_maruti',\n",
              " 'cat__x3_mitsubishi',\n",
              " 'cat__x3_nissan',\n",
              " 'cat__x3_renault',\n",
              " 'cat__x3_skoda',\n",
              " 'cat__x3_tata',\n",
              " 'cat__x3_toyota',\n",
              " 'cat__x3_volkswagen',\n",
              " 'cat__x4_Ahmedabad',\n",
              " 'cat__x4_Bangalore',\n",
              " 'cat__x4_Chennai',\n",
              " 'cat__x4_Coimbatore',\n",
              " 'cat__x4_Delhi',\n",
              " 'cat__x4_Hyderabad',\n",
              " 'cat__x4_Jaipur',\n",
              " 'cat__x4_Kochi',\n",
              " 'cat__x4_Kolkata',\n",
              " 'cat__x4_Mumbai',\n",
              " 'cat__x4_Pune',\n",
              " 'KM_Driven',\n",
              " 'age',\n",
              " 'Seats',\n",
              " 'mileage_new',\n",
              " 'engine_new',\n",
              " 'power_new']"
            ]
          },
          "metadata": {},
          "execution_count": 34
        }
      ],
      "source": [
        "final_feature_names"
      ]
    },
    {
      "cell_type": "markdown",
      "metadata": {
        "id": "B8Sn3bH5bNsE"
      },
      "source": [
        "### Understanding model parameters"
      ]
    },
    {
      "cell_type": "code",
      "execution_count": 35,
      "metadata": {
        "id": "aC2C1n-jbNsE",
        "outputId": "0ae2c131-1ed4-4f16-8ca0-38a32bb7ef86",
        "colab": {
          "base_uri": "https://localhost:8080/"
        }
      },
      "outputs": [
        {
          "output_type": "execute_result",
          "data": {
            "text/plain": [
              "1.1401420555276136"
            ]
          },
          "metadata": {},
          "execution_count": 35
        }
      ],
      "source": [
        "lreg_v1['regressor'].intercept_"
      ]
    },
    {
      "cell_type": "code",
      "execution_count": 36,
      "metadata": {
        "id": "XIF9rK9BbNsE",
        "outputId": "8936b593-d58c-4a94-fd57-dbbef22d1363",
        "colab": {
          "base_uri": "https://localhost:8080/"
        }
      },
      "outputs": [
        {
          "output_type": "execute_result",
          "data": {
            "text/plain": [
              "array([ 4.98688190e-01, -4.98688190e-01,  1.24627161e-01, -1.24627161e-01,\n",
              "        1.49318988e-01, -4.90114061e-01, -7.77504232e-03,  3.48570115e-01,\n",
              "       -6.83143502e-01, -8.76919847e-01, -6.39617940e-01, -2.19120347e-02,\n",
              "       -5.49070755e-03,  2.08279675e-01, -6.69617929e-01,  7.21181490e-01,\n",
              "        1.34235493e+00, -5.32513444e-02,  1.53682094e-01,  7.16399904e-02,\n",
              "       -8.21719401e-01,  1.09746304e+00,  1.77071485e-01, -6.66843929e-02,\n",
              "        4.18189623e-01,  9.05320190e-02,  8.41383561e-01, -4.90271899e-01,\n",
              "        4.45717586e-01, -8.96474779e-02,  2.67309548e-01, -1.07632530e+00,\n",
              "       -2.44021401e-01, -9.61818643e-02, -1.07838943e-02, -3.37985779e-01,\n",
              "        1.78722268e-01, -2.58392528e-02,  1.10238869e-03,  4.87353179e-02])"
            ]
          },
          "metadata": {},
          "execution_count": 36
        }
      ],
      "source": [
        "lreg_v1['regressor'].coef_"
      ]
    },
    {
      "cell_type": "code",
      "execution_count": 37,
      "metadata": {
        "id": "kACV3MfubNsE",
        "outputId": "9fe3280b-c3d8-460d-b733-517e48cc2c7c",
        "colab": {
          "base_uri": "https://localhost:8080/"
        }
      },
      "outputs": [
        {
          "output_type": "execute_result",
          "data": {
            "text/plain": [
              "{'KM_Driven': -0.01,\n",
              " 'Seats': 0.18,\n",
              " 'age': -0.34,\n",
              " 'cat__x0_Diesel': 0.5,\n",
              " 'cat__x0_Petrol': -0.5,\n",
              " 'cat__x1_Automatic': 0.12,\n",
              " 'cat__x1_Manual': -0.12,\n",
              " 'cat__x2_First': 0.15,\n",
              " 'cat__x2_Fourth & Above': -0.49,\n",
              " 'cat__x2_Second': -0.01,\n",
              " 'cat__x2_Third': 0.35,\n",
              " 'cat__x3_chevrolet': -0.68,\n",
              " 'cat__x3_datsun': -0.88,\n",
              " 'cat__x3_fiat': -0.64,\n",
              " 'cat__x3_ford': -0.02,\n",
              " 'cat__x3_honda': -0.01,\n",
              " 'cat__x3_hyundai': 0.21,\n",
              " 'cat__x3_mahindra': -0.67,\n",
              " 'cat__x3_maruti': 0.72,\n",
              " 'cat__x3_mitsubishi': 1.34,\n",
              " 'cat__x3_nissan': -0.05,\n",
              " 'cat__x3_renault': 0.15,\n",
              " 'cat__x3_skoda': 0.07,\n",
              " 'cat__x3_tata': -0.82,\n",
              " 'cat__x3_toyota': 1.1,\n",
              " 'cat__x3_volkswagen': 0.18,\n",
              " 'cat__x4_Ahmedabad': -0.07,\n",
              " 'cat__x4_Bangalore': 0.42,\n",
              " 'cat__x4_Chennai': 0.09,\n",
              " 'cat__x4_Coimbatore': 0.84,\n",
              " 'cat__x4_Delhi': -0.49,\n",
              " 'cat__x4_Hyderabad': 0.45,\n",
              " 'cat__x4_Jaipur': -0.09,\n",
              " 'cat__x4_Kochi': 0.27,\n",
              " 'cat__x4_Kolkata': -1.08,\n",
              " 'cat__x4_Mumbai': -0.24,\n",
              " 'cat__x4_Pune': -0.1,\n",
              " 'engine_new': 0.0,\n",
              " 'mileage_new': -0.03,\n",
              " 'power_new': 0.05}"
            ]
          },
          "metadata": {},
          "execution_count": 37
        }
      ],
      "source": [
        "dict(zip(final_feature_names, np.round(lreg_v1['regressor'].coef_, 2)))"
      ]
    },
    {
      "cell_type": "markdown",
      "metadata": {
        "id": "ZpaVemBsbNsE"
      },
      "source": [
        "### Predict on test set"
      ]
    },
    {
      "cell_type": "code",
      "execution_count": 38,
      "metadata": {
        "id": "IgOOTgKmbNsE"
      },
      "outputs": [],
      "source": [
        "y_pred = lreg_v1.predict(X_test)"
      ]
    },
    {
      "cell_type": "code",
      "execution_count": 39,
      "metadata": {
        "id": "FzpQmpAVbNsF"
      },
      "outputs": [],
      "source": [
        "y_df = pd.DataFrame({\"actual\": y_test,\n",
        "                     \"predicted\": y_pred,\n",
        "                     \"residual\": y_pred - y_test})"
      ]
    },
    {
      "cell_type": "code",
      "execution_count": 40,
      "metadata": {
        "id": "BrJhMRrUbNsF",
        "outputId": "d3d14ba4-ce27-4ad2-f4b6-e35b3decb973",
        "colab": {
          "base_uri": "https://localhost:8080/",
          "height": 363
        }
      },
      "outputs": [
        {
          "output_type": "execute_result",
          "data": {
            "text/plain": [
              "      actual  predicted  residual\n",
              "770     7.23   6.140619 -1.089381\n",
              "1540    6.43   5.415039 -1.014961\n",
              "2962    6.25   5.942801 -0.307199\n",
              "2040    4.69   5.412764  0.722764\n",
              "640     2.65   2.718549  0.068549\n",
              "81      8.35   6.461743 -1.888257\n",
              "2773    6.75   5.823360 -0.926640\n",
              "816     3.00   4.077798  1.077798\n",
              "305     1.96   1.310980 -0.649020\n",
              "2907    4.00   4.425299  0.425299"
            ],
            "text/html": [
              "\n",
              "  <div id=\"df-f40d50bc-f645-4382-ad26-ba102935dd73\">\n",
              "    <div class=\"colab-df-container\">\n",
              "      <div>\n",
              "<style scoped>\n",
              "    .dataframe tbody tr th:only-of-type {\n",
              "        vertical-align: middle;\n",
              "    }\n",
              "\n",
              "    .dataframe tbody tr th {\n",
              "        vertical-align: top;\n",
              "    }\n",
              "\n",
              "    .dataframe thead th {\n",
              "        text-align: right;\n",
              "    }\n",
              "</style>\n",
              "<table border=\"1\" class=\"dataframe\">\n",
              "  <thead>\n",
              "    <tr style=\"text-align: right;\">\n",
              "      <th></th>\n",
              "      <th>actual</th>\n",
              "      <th>predicted</th>\n",
              "      <th>residual</th>\n",
              "    </tr>\n",
              "  </thead>\n",
              "  <tbody>\n",
              "    <tr>\n",
              "      <th>770</th>\n",
              "      <td>7.23</td>\n",
              "      <td>6.140619</td>\n",
              "      <td>-1.089381</td>\n",
              "    </tr>\n",
              "    <tr>\n",
              "      <th>1540</th>\n",
              "      <td>6.43</td>\n",
              "      <td>5.415039</td>\n",
              "      <td>-1.014961</td>\n",
              "    </tr>\n",
              "    <tr>\n",
              "      <th>2962</th>\n",
              "      <td>6.25</td>\n",
              "      <td>5.942801</td>\n",
              "      <td>-0.307199</td>\n",
              "    </tr>\n",
              "    <tr>\n",
              "      <th>2040</th>\n",
              "      <td>4.69</td>\n",
              "      <td>5.412764</td>\n",
              "      <td>0.722764</td>\n",
              "    </tr>\n",
              "    <tr>\n",
              "      <th>640</th>\n",
              "      <td>2.65</td>\n",
              "      <td>2.718549</td>\n",
              "      <td>0.068549</td>\n",
              "    </tr>\n",
              "    <tr>\n",
              "      <th>81</th>\n",
              "      <td>8.35</td>\n",
              "      <td>6.461743</td>\n",
              "      <td>-1.888257</td>\n",
              "    </tr>\n",
              "    <tr>\n",
              "      <th>2773</th>\n",
              "      <td>6.75</td>\n",
              "      <td>5.823360</td>\n",
              "      <td>-0.926640</td>\n",
              "    </tr>\n",
              "    <tr>\n",
              "      <th>816</th>\n",
              "      <td>3.00</td>\n",
              "      <td>4.077798</td>\n",
              "      <td>1.077798</td>\n",
              "    </tr>\n",
              "    <tr>\n",
              "      <th>305</th>\n",
              "      <td>1.96</td>\n",
              "      <td>1.310980</td>\n",
              "      <td>-0.649020</td>\n",
              "    </tr>\n",
              "    <tr>\n",
              "      <th>2907</th>\n",
              "      <td>4.00</td>\n",
              "      <td>4.425299</td>\n",
              "      <td>0.425299</td>\n",
              "    </tr>\n",
              "  </tbody>\n",
              "</table>\n",
              "</div>\n",
              "      <button class=\"colab-df-convert\" onclick=\"convertToInteractive('df-f40d50bc-f645-4382-ad26-ba102935dd73')\"\n",
              "              title=\"Convert this dataframe to an interactive table.\"\n",
              "              style=\"display:none;\">\n",
              "        \n",
              "  <svg xmlns=\"http://www.w3.org/2000/svg\" height=\"24px\"viewBox=\"0 0 24 24\"\n",
              "       width=\"24px\">\n",
              "    <path d=\"M0 0h24v24H0V0z\" fill=\"none\"/>\n",
              "    <path d=\"M18.56 5.44l.94 2.06.94-2.06 2.06-.94-2.06-.94-.94-2.06-.94 2.06-2.06.94zm-11 1L8.5 8.5l.94-2.06 2.06-.94-2.06-.94L8.5 2.5l-.94 2.06-2.06.94zm10 10l.94 2.06.94-2.06 2.06-.94-2.06-.94-.94-2.06-.94 2.06-2.06.94z\"/><path d=\"M17.41 7.96l-1.37-1.37c-.4-.4-.92-.59-1.43-.59-.52 0-1.04.2-1.43.59L10.3 9.45l-7.72 7.72c-.78.78-.78 2.05 0 2.83L4 21.41c.39.39.9.59 1.41.59.51 0 1.02-.2 1.41-.59l7.78-7.78 2.81-2.81c.8-.78.8-2.07 0-2.86zM5.41 20L4 18.59l7.72-7.72 1.47 1.35L5.41 20z\"/>\n",
              "  </svg>\n",
              "      </button>\n",
              "      \n",
              "  <style>\n",
              "    .colab-df-container {\n",
              "      display:flex;\n",
              "      flex-wrap:wrap;\n",
              "      gap: 12px;\n",
              "    }\n",
              "\n",
              "    .colab-df-convert {\n",
              "      background-color: #E8F0FE;\n",
              "      border: none;\n",
              "      border-radius: 50%;\n",
              "      cursor: pointer;\n",
              "      display: none;\n",
              "      fill: #1967D2;\n",
              "      height: 32px;\n",
              "      padding: 0 0 0 0;\n",
              "      width: 32px;\n",
              "    }\n",
              "\n",
              "    .colab-df-convert:hover {\n",
              "      background-color: #E2EBFA;\n",
              "      box-shadow: 0px 1px 2px rgba(60, 64, 67, 0.3), 0px 1px 3px 1px rgba(60, 64, 67, 0.15);\n",
              "      fill: #174EA6;\n",
              "    }\n",
              "\n",
              "    [theme=dark] .colab-df-convert {\n",
              "      background-color: #3B4455;\n",
              "      fill: #D2E3FC;\n",
              "    }\n",
              "\n",
              "    [theme=dark] .colab-df-convert:hover {\n",
              "      background-color: #434B5C;\n",
              "      box-shadow: 0px 1px 3px 1px rgba(0, 0, 0, 0.15);\n",
              "      filter: drop-shadow(0px 1px 2px rgba(0, 0, 0, 0.3));\n",
              "      fill: #FFFFFF;\n",
              "    }\n",
              "  </style>\n",
              "\n",
              "      <script>\n",
              "        const buttonEl =\n",
              "          document.querySelector('#df-f40d50bc-f645-4382-ad26-ba102935dd73 button.colab-df-convert');\n",
              "        buttonEl.style.display =\n",
              "          google.colab.kernel.accessAllowed ? 'block' : 'none';\n",
              "\n",
              "        async function convertToInteractive(key) {\n",
              "          const element = document.querySelector('#df-f40d50bc-f645-4382-ad26-ba102935dd73');\n",
              "          const dataTable =\n",
              "            await google.colab.kernel.invokeFunction('convertToInteractive',\n",
              "                                                     [key], {});\n",
              "          if (!dataTable) return;\n",
              "\n",
              "          const docLinkHtml = 'Like what you see? Visit the ' +\n",
              "            '<a target=\"_blank\" href=https://colab.research.google.com/notebooks/data_table.ipynb>data table notebook</a>'\n",
              "            + ' to learn more about interactive tables.';\n",
              "          element.innerHTML = '';\n",
              "          dataTable['output_type'] = 'display_data';\n",
              "          await google.colab.output.renderOutput(dataTable, element);\n",
              "          const docLink = document.createElement('div');\n",
              "          docLink.innerHTML = docLinkHtml;\n",
              "          element.appendChild(docLink);\n",
              "        }\n",
              "      </script>\n",
              "    </div>\n",
              "  </div>\n",
              "  "
            ]
          },
          "metadata": {},
          "execution_count": 40
        }
      ],
      "source": [
        "y_df.sample(10, random_state = 100)"
      ]
    },
    {
      "cell_type": "markdown",
      "metadata": {
        "id": "yGfPiDFdbNsF"
      },
      "source": [
        "### Measuring Accuracy"
      ]
    },
    {
      "cell_type": "code",
      "execution_count": 41,
      "metadata": {
        "id": "RnAtUQZAbNsF"
      },
      "outputs": [],
      "source": [
        "from sklearn.metrics import mean_squared_error, r2_score"
      ]
    },
    {
      "cell_type": "code",
      "execution_count": 42,
      "metadata": {
        "id": "sdXW26s2bNsF"
      },
      "outputs": [],
      "source": [
        "mse_v1 = mean_squared_error(y_test, y_pred)"
      ]
    },
    {
      "cell_type": "code",
      "execution_count": 43,
      "metadata": {
        "id": "ih-objc5bNsF",
        "outputId": "9db72e42-fcd4-40fc-8420-d0d6da7b34f8",
        "colab": {
          "base_uri": "https://localhost:8080/"
        }
      },
      "outputs": [
        {
          "output_type": "execute_result",
          "data": {
            "text/plain": [
              "0.9756488695977443"
            ]
          },
          "metadata": {},
          "execution_count": 43
        }
      ],
      "source": [
        "mse_v1"
      ]
    },
    {
      "cell_type": "code",
      "execution_count": 44,
      "metadata": {
        "id": "rU4lRsJjbNsF"
      },
      "outputs": [],
      "source": [
        "rmse_v1 = np.sqrt(mse_v1)"
      ]
    },
    {
      "cell_type": "code",
      "execution_count": 45,
      "metadata": {
        "id": "TvNKGzc2bNsG",
        "outputId": "e449c87f-67fa-4f4c-81ca-ddd1c4e7fa39",
        "colab": {
          "base_uri": "https://localhost:8080/"
        }
      },
      "outputs": [
        {
          "output_type": "execute_result",
          "data": {
            "text/plain": [
              "0.9877493961515463"
            ]
          },
          "metadata": {},
          "execution_count": 45
        }
      ],
      "source": [
        "rmse_v1"
      ]
    },
    {
      "cell_type": "code",
      "execution_count": 46,
      "metadata": {
        "id": "lkb5u5rLbNsG",
        "outputId": "af30b7b6-dddd-4a23-8c7a-d143a376386f",
        "colab": {
          "base_uri": "https://localhost:8080/"
        }
      },
      "outputs": [
        {
          "output_type": "execute_result",
          "data": {
            "text/plain": [
              "0.7855630825732653"
            ]
          },
          "metadata": {},
          "execution_count": 46
        }
      ],
      "source": [
        "r2_score(y_test, y_pred)"
      ]
    },
    {
      "cell_type": "markdown",
      "metadata": {
        "id": "V5nVvTkQbNsG"
      },
      "source": [
        "### What are the reasons for the remaining error\n",
        "\n",
        "1. More factors \n",
        "2. More samples \n",
        "3. Complex Models : Try other models\n",
        "4. Feature Engineering - Derive new features (factors) from existing features (factors)\n",
        "5. Noise (randomness)\n",
        "   "
      ]
    },
    {
      "cell_type": "markdown",
      "metadata": {
        "id": "RBcNgD5wbNsG"
      },
      "source": [
        "### Error Analysis"
      ]
    },
    {
      "cell_type": "code",
      "execution_count": 47,
      "metadata": {
        "id": "0gto8uSLbNsG",
        "outputId": "24a31d5a-cc6d-49e0-8f83-033c5b5ca458",
        "colab": {
          "base_uri": "https://localhost:8080/",
          "height": 265
        }
      },
      "outputs": [
        {
          "output_type": "display_data",
          "data": {
            "text/plain": [
              "<Figure size 432x288 with 1 Axes>"
            ],
            "image/png": "[encoded data removed]"
          },
          "metadata": {
            "needs_background": "light"
          }
        }
      ],
      "source": [
        "y_df.residual.hist();"
      ]
    },
    {
      "cell_type": "code",
      "execution_count": 48,
      "metadata": {
        "id": "sz6WZg_5bNsG",
        "outputId": "82dd949d-e548-435d-bf0f-fbbef86f38dc",
        "colab": {
          "base_uri": "https://localhost:8080/",
          "height": 424
        }
      },
      "outputs": [
        {
          "output_type": "execute_result",
          "data": {
            "text/plain": [
              "      actual  predicted  residual\n",
              "1324    5.91   5.821262 -0.088738\n",
              "328     3.95   5.778714  1.828714\n",
              "1361   10.34   8.235092 -2.104908\n",
              "1657    1.20   1.679362  0.479362\n",
              "1786    1.55   1.881246  0.331246\n",
              "...      ...        ...       ...\n",
              "112     2.65   1.985685 -0.664315\n",
              "2893    5.65   5.972072  0.322072\n",
              "2093    2.25   2.660128  0.410128\n",
              "2038    6.10   7.260181  1.160181\n",
              "474     3.30   3.147852 -0.152148\n",
              "\n",
              "[619 rows x 3 columns]"
            ],
            "text/html": [
              "\n",
              "  <div id=\"df-11d092f8-74c7-435d-b685-ceee1ed55cd4\">\n",
              "    <div class=\"colab-df-container\">\n",
              "      <div>\n",
              "<style scoped>\n",
              "    .dataframe tbody tr th:only-of-type {\n",
              "        vertical-align: middle;\n",
              "    }\n",
              "\n",
              "    .dataframe tbody tr th {\n",
              "        vertical-align: top;\n",
              "    }\n",
              "\n",
              "    .dataframe thead th {\n",
              "        text-align: right;\n",
              "    }\n",
              "</style>\n",
              "<table border=\"1\" class=\"dataframe\">\n",
              "  <thead>\n",
              "    <tr style=\"text-align: right;\">\n",
              "      <th></th>\n",
              "      <th>actual</th>\n",
              "      <th>predicted</th>\n",
              "      <th>residual</th>\n",
              "    </tr>\n",
              "  </thead>\n",
              "  <tbody>\n",
              "    <tr>\n",
              "      <th>1324</th>\n",
              "      <td>5.91</td>\n",
              "      <td>5.821262</td>\n",
              "      <td>-0.088738</td>\n",
              "    </tr>\n",
              "    <tr>\n",
              "      <th>328</th>\n",
              "      <td>3.95</td>\n",
              "      <td>5.778714</td>\n",
              "      <td>1.828714</td>\n",
              "    </tr>\n",
              "    <tr>\n",
              "      <th>1361</th>\n",
              "      <td>10.34</td>\n",
              "      <td>8.235092</td>\n",
              "      <td>-2.104908</td>\n",
              "    </tr>\n",
              "    <tr>\n",
              "      <th>1657</th>\n",
              "      <td>1.20</td>\n",
              "      <td>1.679362</td>\n",
              "      <td>0.479362</td>\n",
              "    </tr>\n",
              "    <tr>\n",
              "      <th>1786</th>\n",
              "      <td>1.55</td>\n",
              "      <td>1.881246</td>\n",
              "      <td>0.331246</td>\n",
              "    </tr>\n",
              "    <tr>\n",
              "      <th>...</th>\n",
              "      <td>...</td>\n",
              "      <td>...</td>\n",
              "      <td>...</td>\n",
              "    </tr>\n",
              "    <tr>\n",
              "      <th>112</th>\n",
              "      <td>2.65</td>\n",
              "      <td>1.985685</td>\n",
              "      <td>-0.664315</td>\n",
              "    </tr>\n",
              "    <tr>\n",
              "      <th>2893</th>\n",
              "      <td>5.65</td>\n",
              "      <td>5.972072</td>\n",
              "      <td>0.322072</td>\n",
              "    </tr>\n",
              "    <tr>\n",
              "      <th>2093</th>\n",
              "      <td>2.25</td>\n",
              "      <td>2.660128</td>\n",
              "      <td>0.410128</td>\n",
              "    </tr>\n",
              "    <tr>\n",
              "      <th>2038</th>\n",
              "      <td>6.10</td>\n",
              "      <td>7.260181</td>\n",
              "      <td>1.160181</td>\n",
              "    </tr>\n",
              "    <tr>\n",
              "      <th>474</th>\n",
              "      <td>3.30</td>\n",
              "      <td>3.147852</td>\n",
              "      <td>-0.152148</td>\n",
              "    </tr>\n",
              "  </tbody>\n",
              "</table>\n",
              "<p>619 rows × 3 columns</p>\n",
              "</div>\n",
              "      <button class=\"colab-df-convert\" onclick=\"convertToInteractive('df-11d092f8-74c7-435d-b685-ceee1ed55cd4')\"\n",
              "              title=\"Convert this dataframe to an interactive table.\"\n",
              "              style=\"display:none;\">\n",
              "        \n",
              "  <svg xmlns=\"http://www.w3.org/2000/svg\" height=\"24px\"viewBox=\"0 0 24 24\"\n",
              "       width=\"24px\">\n",
              "    <path d=\"M0 0h24v24H0V0z\" fill=\"none\"/>\n",
              "    <path d=\"M18.56 5.44l.94 2.06.94-2.06 2.06-.94-2.06-.94-.94-2.06-.94 2.06-2.06.94zm-11 1L8.5 8.5l.94-2.06 2.06-.94-2.06-.94L8.5 2.5l-.94 2.06-2.06.94zm10 10l.94 2.06.94-2.06 2.06-.94-2.06-.94-.94-2.06-.94 2.06-2.06.94z\"/><path d=\"M17.41 7.96l-1.37-1.37c-.4-.4-.92-.59-1.43-.59-.52 0-1.04.2-1.43.59L10.3 9.45l-7.72 7.72c-.78.78-.78 2.05 0 2.83L4 21.41c.39.39.9.59 1.41.59.51 0 1.02-.2 1.41-.59l7.78-7.78 2.81-2.81c.8-.78.8-2.07 0-2.86zM5.41 20L4 18.59l7.72-7.72 1.47 1.35L5.41 20z\"/>\n",
              "  </svg>\n",
              "      </button>\n",
              "      \n",
              "  <style>\n",
              "    .colab-df-container {\n",
              "      display:flex;\n",
              "      flex-wrap:wrap;\n",
              "      gap: 12px;\n",
              "    }\n",
              "\n",
              "    .colab-df-convert {\n",
              "      background-color: #E8F0FE;\n",
              "      border: none;\n",
              "      border-radius: 50%;\n",
              "      cursor: pointer;\n",
              "      display: none;\n",
              "      fill: #1967D2;\n",
              "      height: 32px;\n",
              "      padding: 0 0 0 0;\n",
              "      width: 32px;\n",
              "    }\n",
              "\n",
              "    .colab-df-convert:hover {\n",
              "      background-color: #E2EBFA;\n",
              "      box-shadow: 0px 1px 2px rgba(60, 64, 67, 0.3), 0px 1px 3px 1px rgba(60, 64, 67, 0.15);\n",
              "      fill: #174EA6;\n",
              "    }\n",
              "\n",
              "    [theme=dark] .colab-df-convert {\n",
              "      background-color: #3B4455;\n",
              "      fill: #D2E3FC;\n",
              "    }\n",
              "\n",
              "    [theme=dark] .colab-df-convert:hover {\n",
              "      background-color: #434B5C;\n",
              "      box-shadow: 0px 1px 3px 1px rgba(0, 0, 0, 0.15);\n",
              "      filter: drop-shadow(0px 1px 2px rgba(0, 0, 0, 0.3));\n",
              "      fill: #FFFFFF;\n",
              "    }\n",
              "  </style>\n",
              "\n",
              "      <script>\n",
              "        const buttonEl =\n",
              "          document.querySelector('#df-11d092f8-74c7-435d-b685-ceee1ed55cd4 button.colab-df-convert');\n",
              "        buttonEl.style.display =\n",
              "          google.colab.kernel.accessAllowed ? 'block' : 'none';\n",
              "\n",
              "        async function convertToInteractive(key) {\n",
              "          const element = document.querySelector('#df-11d092f8-74c7-435d-b685-ceee1ed55cd4');\n",
              "          const dataTable =\n",
              "            await google.colab.kernel.invokeFunction('convertToInteractive',\n",
              "                                                     [key], {});\n",
              "          if (!dataTable) return;\n",
              "\n",
              "          const docLinkHtml = 'Like what you see? Visit the ' +\n",
              "            '<a target=\"_blank\" href=https://colab.research.google.com/notebooks/data_table.ipynb>data table notebook</a>'\n",
              "            + ' to learn more about interactive tables.';\n",
              "          element.innerHTML = '';\n",
              "          dataTable['output_type'] = 'display_data';\n",
              "          await google.colab.output.renderOutput(dataTable, element);\n",
              "          const docLink = document.createElement('div');\n",
              "          docLink.innerHTML = docLinkHtml;\n",
              "          element.appendChild(docLink);\n",
              "        }\n",
              "      </script>\n",
              "    </div>\n",
              "  </div>\n",
              "  "
            ]
          },
          "metadata": {},
          "execution_count": 48
        }
      ],
      "source": [
        "y_df"
      ]
    },
    {
      "cell_type": "code",
      "execution_count": 49,
      "metadata": {
        "id": "hREOv6vUbNsH"
      },
      "outputs": [],
      "source": [
        "test_cars_df = y_df.join(X_test)"
      ]
    },
    {
      "cell_type": "code",
      "execution_count": 50,
      "metadata": {
        "id": "RC85kzNBbNsH",
        "outputId": "80aa4722-e7e3-4f65-c114-187afcbfee67",
        "colab": {
          "base_uri": "https://localhost:8080/",
          "height": 270
        }
      },
      "outputs": [
        {
          "output_type": "execute_result",
          "data": {
            "text/plain": [
              "      actual  predicted  residual  KM_Driven Fuel_Type  age Transmission  \\\n",
              "487     4.30   4.793758  0.493758         55    Petrol    6       Manual   \n",
              "773     2.96   2.069114 -0.890886         59    Petrol    9       Manual   \n",
              "2327    1.35   1.346350 -0.003650         60    Petrol    9       Manual   \n",
              "1149    2.20   3.557958  1.357958         90    Petrol    6       Manual   \n",
              "2449    6.50   6.057963 -0.442037         90    Diesel    4       Manual   \n",
              "\n",
              "     Owner_Type  Seats    make  mileage_new  engine_new  power_new    Location  \n",
              "487      Second    5.0  nissan        16.95        1498       97.7     Chennai  \n",
              "773       First    5.0  maruti        19.70         796       46.3  Coimbatore  \n",
              "2327      First    5.0  maruti        19.00         998       66.1     Kolkata  \n",
              "1149      First    5.0  maruti        20.92         998       67.1   Hyderabad  \n",
              "2449      First    5.0  maruti        26.21        1248       88.5     Chennai  "
            ],
            "text/html": [
              "\n",
              "  <div id=\"df-316bc1e6-fb39-4324-a272-4a57cfc93232\">\n",
              "    <div class=\"colab-df-container\">\n",
              "      <div>\n",
              "<style scoped>\n",
              "    .dataframe tbody tr th:only-of-type {\n",
              "        vertical-align: middle;\n",
              "    }\n",
              "\n",
              "    .dataframe tbody tr th {\n",
              "        vertical-align: top;\n",
              "    }\n",
              "\n",
              "    .dataframe thead th {\n",
              "        text-align: right;\n",
              "    }\n",
              "</style>\n",
              "<table border=\"1\" class=\"dataframe\">\n",
              "  <thead>\n",
              "    <tr style=\"text-align: right;\">\n",
              "      <th></th>\n",
              "      <th>actual</th>\n",
              "      <th>predicted</th>\n",
              "      <th>residual</th>\n",
              "      <th>KM_Driven</th>\n",
              "      <th>Fuel_Type</th>\n",
              "      <th>age</th>\n",
              "      <th>Transmission</th>\n",
              "      <th>Owner_Type</th>\n",
              "      <th>Seats</th>\n",
              "      <th>make</th>\n",
              "      <th>mileage_new</th>\n",
              "      <th>engine_new</th>\n",
              "      <th>power_new</th>\n",
              "      <th>Location</th>\n",
              "    </tr>\n",
              "  </thead>\n",
              "  <tbody>\n",
              "    <tr>\n",
              "      <th>487</th>\n",
              "      <td>4.30</td>\n",
              "      <td>4.793758</td>\n",
              "      <td>0.493758</td>\n",
              "      <td>55</td>\n",
              "      <td>Petrol</td>\n",
              "      <td>6</td>\n",
              "      <td>Manual</td>\n",
              "      <td>Second</td>\n",
              "      <td>5.0</td>\n",
              "      <td>nissan</td>\n",
              "      <td>16.95</td>\n",
              "      <td>1498</td>\n",
              "      <td>97.7</td>\n",
              "      <td>Chennai</td>\n",
              "    </tr>\n",
              "    <tr>\n",
              "      <th>773</th>\n",
              "      <td>2.96</td>\n",
              "      <td>2.069114</td>\n",
              "      <td>-0.890886</td>\n",
              "      <td>59</td>\n",
              "      <td>Petrol</td>\n",
              "      <td>9</td>\n",
              "      <td>Manual</td>\n",
              "      <td>First</td>\n",
              "      <td>5.0</td>\n",
              "      <td>maruti</td>\n",
              "      <td>19.70</td>\n",
              "      <td>796</td>\n",
              "      <td>46.3</td>\n",
              "      <td>Coimbatore</td>\n",
              "    </tr>\n",
              "    <tr>\n",
              "      <th>2327</th>\n",
              "      <td>1.35</td>\n",
              "      <td>1.346350</td>\n",
              "      <td>-0.003650</td>\n",
              "      <td>60</td>\n",
              "      <td>Petrol</td>\n",
              "      <td>9</td>\n",
              "      <td>Manual</td>\n",
              "      <td>First</td>\n",
              "      <td>5.0</td>\n",
              "      <td>maruti</td>\n",
              "      <td>19.00</td>\n",
              "      <td>998</td>\n",
              "      <td>66.1</td>\n",
              "      <td>Kolkata</td>\n",
              "    </tr>\n",
              "    <tr>\n",
              "      <th>1149</th>\n",
              "      <td>2.20</td>\n",
              "      <td>3.557958</td>\n",
              "      <td>1.357958</td>\n",
              "      <td>90</td>\n",
              "      <td>Petrol</td>\n",
              "      <td>6</td>\n",
              "      <td>Manual</td>\n",
              "      <td>First</td>\n",
              "      <td>5.0</td>\n",
              "      <td>maruti</td>\n",
              "      <td>20.92</td>\n",
              "      <td>998</td>\n",
              "      <td>67.1</td>\n",
              "      <td>Hyderabad</td>\n",
              "    </tr>\n",
              "    <tr>\n",
              "      <th>2449</th>\n",
              "      <td>6.50</td>\n",
              "      <td>6.057963</td>\n",
              "      <td>-0.442037</td>\n",
              "      <td>90</td>\n",
              "      <td>Diesel</td>\n",
              "      <td>4</td>\n",
              "      <td>Manual</td>\n",
              "      <td>First</td>\n",
              "      <td>5.0</td>\n",
              "      <td>maruti</td>\n",
              "      <td>26.21</td>\n",
              "      <td>1248</td>\n",
              "      <td>88.5</td>\n",
              "      <td>Chennai</td>\n",
              "    </tr>\n",
              "  </tbody>\n",
              "</table>\n",
              "</div>\n",
              "      <button class=\"colab-df-convert\" onclick=\"convertToInteractive('df-316bc1e6-fb39-4324-a272-4a57cfc93232')\"\n",
              "              title=\"Convert this dataframe to an interactive table.\"\n",
              "              style=\"display:none;\">\n",
              "        \n",
              "  <svg xmlns=\"http://www.w3.org/2000/svg\" height=\"24px\"viewBox=\"0 0 24 24\"\n",
              "       width=\"24px\">\n",
              "    <path d=\"M0 0h24v24H0V0z\" fill=\"none\"/>\n",
              "    <path d=\"M18.56 5.44l.94 2.06.94-2.06 2.06-.94-2.06-.94-.94-2.06-.94 2.06-2.06.94zm-11 1L8.5 8.5l.94-2.06 2.06-.94-2.06-.94L8.5 2.5l-.94 2.06-2.06.94zm10 10l.94 2.06.94-2.06 2.06-.94-2.06-.94-.94-2.06-.94 2.06-2.06.94z\"/><path d=\"M17.41 7.96l-1.37-1.37c-.4-.4-.92-.59-1.43-.59-.52 0-1.04.2-1.43.59L10.3 9.45l-7.72 7.72c-.78.78-.78 2.05 0 2.83L4 21.41c.39.39.9.59 1.41.59.51 0 1.02-.2 1.41-.59l7.78-7.78 2.81-2.81c.8-.78.8-2.07 0-2.86zM5.41 20L4 18.59l7.72-7.72 1.47 1.35L5.41 20z\"/>\n",
              "  </svg>\n",
              "      </button>\n",
              "      \n",
              "  <style>\n",
              "    .colab-df-container {\n",
              "      display:flex;\n",
              "      flex-wrap:wrap;\n",
              "      gap: 12px;\n",
              "    }\n",
              "\n",
              "    .colab-df-convert {\n",
              "      background-color: #E8F0FE;\n",
              "      border: none;\n",
              "      border-radius: 50%;\n",
              "      cursor: pointer;\n",
              "      display: none;\n",
              "      fill: #1967D2;\n",
              "      height: 32px;\n",
              "      padding: 0 0 0 0;\n",
              "      width: 32px;\n",
              "    }\n",
              "\n",
              "    .colab-df-convert:hover {\n",
              "      background-color: #E2EBFA;\n",
              "      box-shadow: 0px 1px 2px rgba(60, 64, 67, 0.3), 0px 1px 3px 1px rgba(60, 64, 67, 0.15);\n",
              "      fill: #174EA6;\n",
              "    }\n",
              "\n",
              "    [theme=dark] .colab-df-convert {\n",
              "      background-color: #3B4455;\n",
              "      fill: #D2E3FC;\n",
              "    }\n",
              "\n",
              "    [theme=dark] .colab-df-convert:hover {\n",
              "      background-color: #434B5C;\n",
              "      box-shadow: 0px 1px 3px 1px rgba(0, 0, 0, 0.15);\n",
              "      filter: drop-shadow(0px 1px 2px rgba(0, 0, 0, 0.3));\n",
              "      fill: #FFFFFF;\n",
              "    }\n",
              "  </style>\n",
              "\n",
              "      <script>\n",
              "        const buttonEl =\n",
              "          document.querySelector('#df-316bc1e6-fb39-4324-a272-4a57cfc93232 button.colab-df-convert');\n",
              "        buttonEl.style.display =\n",
              "          google.colab.kernel.accessAllowed ? 'block' : 'none';\n",
              "\n",
              "        async function convertToInteractive(key) {\n",
              "          const element = document.querySelector('#df-316bc1e6-fb39-4324-a272-4a57cfc93232');\n",
              "          const dataTable =\n",
              "            await google.colab.kernel.invokeFunction('convertToInteractive',\n",
              "                                                     [key], {});\n",
              "          if (!dataTable) return;\n",
              "\n",
              "          const docLinkHtml = 'Like what you see? Visit the ' +\n",
              "            '<a target=\"_blank\" href=https://colab.research.google.com/notebooks/data_table.ipynb>data table notebook</a>'\n",
              "            + ' to learn more about interactive tables.';\n",
              "          element.innerHTML = '';\n",
              "          dataTable['output_type'] = 'display_data';\n",
              "          await google.colab.output.renderOutput(dataTable, element);\n",
              "          const docLink = document.createElement('div');\n",
              "          docLink.innerHTML = docLinkHtml;\n",
              "          element.appendChild(docLink);\n",
              "        }\n",
              "      </script>\n",
              "    </div>\n",
              "  </div>\n",
              "  "
            ]
          },
          "metadata": {},
          "execution_count": 50
        }
      ],
      "source": [
        "test_cars_df.sample(5)"
      ]
    },
    {
      "cell_type": "code",
      "execution_count": null,
      "metadata": {
        "id": "baUldiJgbNsH",
        "outputId": "3728580c-bfa0-4021-e037-8a73e1b7b52a"
      },
      "outputs": [
        {
          "data": {
            "image/png": "[encoded data removed]",
            "text/plain": [
              "<Figure size 1080x432 with 1 Axes>"
            ]
          },
          "metadata": {
            "needs_background": "light"
          },
          "output_type": "display_data"
        }
      ],
      "source": [
        "plt.figure(figsize=(15, 6))\n",
        "sn.boxplot(data = test_cars_df, x = 'make', y = 'residual');"
      ]
    },
    {
      "cell_type": "code",
      "execution_count": null,
      "metadata": {
        "id": "U5T4_KVGbNsH",
        "outputId": "c19eb170-d0e4-49de-99aa-c81f72a54415"
      },
      "outputs": [
        {
          "data": {
            "image/png": "[encoded data removed]",
            "text/plain": [
              "<Figure size 720x576 with 2 Axes>"
            ]
          },
          "metadata": {
            "needs_background": "light"
          },
          "output_type": "display_data"
        }
      ],
      "source": [
        "make_mean = pd.crosstab(test_cars_df.Location,\n",
        "                        test_cars_df.make,\n",
        "                        values = test_cars_df.residual,\n",
        "                        aggfunc = 'median')\n",
        "\n",
        "plt.figure(figsize=(10, 8))\n",
        "sn.heatmap(make_mean, \n",
        "           annot=True, \n",
        "           cmap=sn.diverging_palette(240, 10),\n",
        "           vmax = 2.0,\n",
        "           vmin = -2.0,\n",
        "           fmt='1.2f');"
      ]
    },
    {
      "cell_type": "markdown",
      "metadata": {
        "id": "63EFafOWbNsH"
      },
      "source": [
        "### Saving the model"
      ]
    },
    {
      "cell_type": "code",
      "execution_count": null,
      "metadata": {
        "id": "LlzE_Ps9bNsH"
      },
      "outputs": [],
      "source": [
        "class CarPredictionModel():\n",
        "    \n",
        "    def __init__(self, model, features, rmse):\n",
        "        self.model = model\n",
        "        self.features = features\n",
        "        self.rmse = rmse"
      ]
    },
    {
      "cell_type": "code",
      "execution_count": null,
      "metadata": {
        "id": "B0iIF672bNsI"
      },
      "outputs": [],
      "source": [
        "my_model = CarPredictionModel(lreg_v1, list(X_train.columns), rmse_v1)"
      ]
    },
    {
      "cell_type": "code",
      "execution_count": null,
      "metadata": {
        "id": "WhXifYEkbNsI"
      },
      "outputs": [],
      "source": [
        "# Uncomment this code for older version of sklearn\n",
        "#from sklearn.externals import joblib\n",
        "#joblib.dump(my_model, './cars.pkl')"
      ]
    },
    {
      "cell_type": "code",
      "execution_count": null,
      "metadata": {
        "id": "MMivoHsBbNsI"
      },
      "outputs": [],
      "source": [
        "from joblib import dump"
      ]
    },
    {
      "cell_type": "code",
      "execution_count": null,
      "metadata": {
        "id": "AZoOGBTFbNsI",
        "outputId": "de9eb6f5-906a-46be-8d65-b26016dca608"
      },
      "outputs": [
        {
          "data": {
            "text/plain": [
              "['./cars.pkl']"
            ]
          },
          "execution_count": 57,
          "metadata": {},
          "output_type": "execute_result"
        }
      ],
      "source": [
        "dump(my_model, './cars.pkl')"
      ]
    },
    {
      "cell_type": "code",
      "execution_count": null,
      "metadata": {
        "id": "uWVVECe_bNsI"
      },
      "outputs": [],
      "source": [
        ""
      ]
    }
  ],
  "metadata": {
    "kernelspec": {
      "display_name": "Python 3",
      "language": "python",
      "name": "python3"
    },
    "language_info": {
      "codemirror_mode": {
        "name": "ipython",
        "version": 3
      },
      "file_extension": ".py",
      "mimetype": "text/x-python",
      "name": "python",
      "nbconvert_exporter": "python",
      "pygments_lexer": "ipython3",
      "version": "3.8.3"
    },
    "colab": {
      "name": "Used_Car_Price_Prediction_ISB_2_0.ipynb",
      "provenance": [],
      "collapsed_sections": [
        "V5nVvTkQbNsG",
        "63EFafOWbNsH"
      ]
    }
  },
  "nbformat": 4,
  "nbformat_minor": 0
}