{
  "cells": [
    {
      "cell_type": "markdown",
      "metadata": {
        "id": "JYM-rZFwz7fa"
      },
      "source": [
        "# Used Car Price Prediction: Stochastic Regressor"
      ]
    },
    {
      "cell_type": "markdown",
      "metadata": {
        "id": "M0epOs4Qz7fe"
      },
      "source": [
        "### Load Dataset"
      ]
    },
    {
      "cell_type": "code",
      "execution_count": 1,
      "metadata": {
        "id": "o6-9xxqoz7fe"
      },
      "outputs": [],
      "source": [
        "import pandas as pd\n",
        "import numpy as np\n",
        "import matplotlib.pyplot as plt\n",
        "import seaborn as sn"
      ]
    },
    {
      "cell_type": "code",
      "execution_count": 2,
      "metadata": {
        "id": "2c-nSM_qz7fg"
      },
      "outputs": [],
      "source": [
        "cars_df = pd.read_csv( \"https://drive.google.com/uc?export=download&id=1FFxZhi8p_cZM2bbSJRvnb3sev6dRCbsb\" )"
      ]
    },
    {
      "cell_type": "code",
      "execution_count": 3,
      "metadata": {
        "id": "5sqx5g5Wz7fg",
        "outputId": "5b7ffaad-130d-4532-b66e-b1554c7b41b1",
        "colab": {
          "base_uri": "https://localhost:8080/",
          "height": 530
        }
      },
      "outputs": [
        {
          "output_type": "execute_result",
          "data": {
            "text/plain": [
              "      index                                    Name    Location  Year  \\\n",
              "2311   4494           Fiat Grande Punto 1.4 Emotion  Coimbatore  2015   \n",
              "950    1865                         Maruti Ritz LDi       Delhi  2014   \n",
              "1311   2614                  Maruti Swift Dzire VDI   Hyderabad  2013   \n",
              "2402   4693                        Maruti Swift VDI      Mumbai  2013   \n",
              "3078   5995  Renault Duster 85PS Diesel RxL Explore        Pune  2015   \n",
              "\n",
              "     Fuel_Type Transmission Owner_Type  Seats  Price  age  KM_Driven     make  \\\n",
              "2311    Petrol       Manual     Second    5.0   5.41    4         44     fiat   \n",
              "950     Diesel       Manual      First    5.0   3.60    5         32   maruti   \n",
              "1311    Diesel       Manual      First    5.0   6.95    6         84   maruti   \n",
              "2402    Diesel       Manual      First    5.0   4.65    6         35   maruti   \n",
              "3078    Diesel       Manual      First    5.0   7.75    4         30  renault   \n",
              "\n",
              "      mileage_new  engine_new  power_new  \n",
              "2311        14.60        1368      88.70  \n",
              "950         23.20        1248      73.94  \n",
              "1311        23.40        1248      74.00  \n",
              "2402        22.90        1248      74.00  \n",
              "3078        19.87        1461      83.80  "
            ],
            "text/html": [
              "\n",
              "  <div id=\"df-f1d022a5-6541-4bfd-9ba0-7733d81ff835\">\n",
              "    <div class=\"colab-df-container\">\n",
              "      <div>\n",
              "<style scoped>\n",
              "    .dataframe tbody tr th:only-of-type {\n",
              "        vertical-align: middle;\n",
              "    }\n",
              "\n",
              "    .dataframe tbody tr th {\n",
              "        vertical-align: top;\n",
              "    }\n",
              "\n",
              "    .dataframe thead th {\n",
              "        text-align: right;\n",
              "    }\n",
              "</style>\n",
              "<table border=\"1\" class=\"dataframe\">\n",
              "  <thead>\n",
              "    <tr style=\"text-align: right;\">\n",
              "      <th></th>\n",
              "      <th>index</th>\n",
              "      <th>Name</th>\n",
              "      <th>Location</th>\n",
              "      <th>Year</th>\n",
              "      <th>Fuel_Type</th>\n",
              "      <th>Transmission</th>\n",
              "      <th>Owner_Type</th>\n",
              "      <th>Seats</th>\n",
              "      <th>Price</th>\n",
              "      <th>age</th>\n",
              "      <th>KM_Driven</th>\n",
              "      <th>make</th>\n",
              "      <th>mileage_new</th>\n",
              "      <th>engine_new</th>\n",
              "      <th>power_new</th>\n",
              "    </tr>\n",
              "  </thead>\n",
              "  <tbody>\n",
              "    <tr>\n",
              "      <th>2311</th>\n",
              "      <td>4494</td>\n",
              "      <td>Fiat Grande Punto 1.4 Emotion</td>\n",
              "      <td>Coimbatore</td>\n",
              "      <td>2015</td>\n",
              "      <td>Petrol</td>\n",
              "      <td>Manual</td>\n",
              "      <td>Second</td>\n",
              "      <td>5.0</td>\n",
              "      <td>5.41</td>\n",
              "      <td>4</td>\n",
              "      <td>44</td>\n",
              "      <td>fiat</td>\n",
              "      <td>14.60</td>\n",
              "      <td>1368</td>\n",
              "      <td>88.70</td>\n",
              "    </tr>\n",
              "    <tr>\n",
              "      <th>950</th>\n",
              "      <td>1865</td>\n",
              "      <td>Maruti Ritz LDi</td>\n",
              "      <td>Delhi</td>\n",
              "      <td>2014</td>\n",
              "      <td>Diesel</td>\n",
              "      <td>Manual</td>\n",
              "      <td>First</td>\n",
              "      <td>5.0</td>\n",
              "      <td>3.60</td>\n",
              "      <td>5</td>\n",
              "      <td>32</td>\n",
              "      <td>maruti</td>\n",
              "      <td>23.20</td>\n",
              "      <td>1248</td>\n",
              "      <td>73.94</td>\n",
              "    </tr>\n",
              "    <tr>\n",
              "      <th>1311</th>\n",
              "      <td>2614</td>\n",
              "      <td>Maruti Swift Dzire VDI</td>\n",
              "      <td>Hyderabad</td>\n",
              "      <td>2013</td>\n",
              "      <td>Diesel</td>\n",
              "      <td>Manual</td>\n",
              "      <td>First</td>\n",
              "      <td>5.0</td>\n",
              "      <td>6.95</td>\n",
              "      <td>6</td>\n",
              "      <td>84</td>\n",
              "      <td>maruti</td>\n",
              "      <td>23.40</td>\n",
              "      <td>1248</td>\n",
              "      <td>74.00</td>\n",
              "    </tr>\n",
              "    <tr>\n",
              "      <th>2402</th>\n",
              "      <td>4693</td>\n",
              "      <td>Maruti Swift VDI</td>\n",
              "      <td>Mumbai</td>\n",
              "      <td>2013</td>\n",
              "      <td>Diesel</td>\n",
              "      <td>Manual</td>\n",
              "      <td>First</td>\n",
              "      <td>5.0</td>\n",
              "      <td>4.65</td>\n",
              "      <td>6</td>\n",
              "      <td>35</td>\n",
              "      <td>maruti</td>\n",
              "      <td>22.90</td>\n",
              "      <td>1248</td>\n",
              "      <td>74.00</td>\n",
              "    </tr>\n",
              "    <tr>\n",
              "      <th>3078</th>\n",
              "      <td>5995</td>\n",
              "      <td>Renault Duster 85PS Diesel RxL Explore</td>\n",
              "      <td>Pune</td>\n",
              "      <td>2015</td>\n",
              "      <td>Diesel</td>\n",
              "      <td>Manual</td>\n",
              "      <td>First</td>\n",
              "      <td>5.0</td>\n",
              "      <td>7.75</td>\n",
              "      <td>4</td>\n",
              "      <td>30</td>\n",
              "      <td>renault</td>\n",
              "      <td>19.87</td>\n",
              "      <td>1461</td>\n",
              "      <td>83.80</td>\n",
              "    </tr>\n",
              "  </tbody>\n",
              "</table>\n",
              "</div>\n",
              "      <button class=\"colab-df-convert\" onclick=\"convertToInteractive('df-f1d022a5-6541-4bfd-9ba0-7733d81ff835')\"\n",
              "              title=\"Convert this dataframe to an interactive table.\"\n",
              "              style=\"display:none;\">\n",
              "        \n",
              "  <svg xmlns=\"http://www.w3.org/2000/svg\" height=\"24px\"viewBox=\"0 0 24 24\"\n",
              "       width=\"24px\">\n",
              "    <path d=\"M0 0h24v24H0V0z\" fill=\"none\"/>\n",
              "    <path d=\"M18.56 5.44l.94 2.06.94-2.06 2.06-.94-2.06-.94-.94-2.06-.94 2.06-2.06.94zm-11 1L8.5 8.5l.94-2.06 2.06-.94-2.06-.94L8.5 2.5l-.94 2.06-2.06.94zm10 10l.94 2.06.94-2.06 2.06-.94-2.06-.94-.94-2.06-.94 2.06-2.06.94z\"/><path d=\"M17.41 7.96l-1.37-1.37c-.4-.4-.92-.59-1.43-.59-.52 0-1.04.2-1.43.59L10.3 9.45l-7.72 7.72c-.78.78-.78 2.05 0 2.83L4 21.41c.39.39.9.59 1.41.59.51 0 1.02-.2 1.41-.59l7.78-7.78 2.81-2.81c.8-.78.8-2.07 0-2.86zM5.41 20L4 18.59l7.72-7.72 1.47 1.35L5.41 20z\"/>\n",
              "  </svg>\n",
              "      </button>\n",
              "      \n",
              "  <style>\n",
              "    .colab-df-container {\n",
              "      display:flex;\n",
              "      flex-wrap:wrap;\n",
              "      gap: 12px;\n",
              "    }\n",
              "\n",
              "    .colab-df-convert {\n",
              "      background-color: #E8F0FE;\n",
              "      border: none;\n",
              "      border-radius: 50%;\n",
              "      cursor: pointer;\n",
              "      display: none;\n",
              "      fill: #1967D2;\n",
              "      height: 32px;\n",
              "      padding: 0 0 0 0;\n",
              "      width: 32px;\n",
              "    }\n",
              "\n",
              "    .colab-df-convert:hover {\n",
              "      background-color: #E2EBFA;\n",
              "      box-shadow: 0px 1px 2px rgba(60, 64, 67, 0.3), 0px 1px 3px 1px rgba(60, 64, 67, 0.15);\n",
              "      fill: #174EA6;\n",
              "    }\n",
              "\n",
              "    [theme=dark] .colab-df-convert {\n",
              "      background-color: #3B4455;\n",
              "      fill: #D2E3FC;\n",
              "    }\n",
              "\n",
              "    [theme=dark] .colab-df-convert:hover {\n",
              "      background-color: #434B5C;\n",
              "      box-shadow: 0px 1px 3px 1px rgba(0, 0, 0, 0.15);\n",
              "      filter: drop-shadow(0px 1px 2px rgba(0, 0, 0, 0.3));\n",
              "      fill: #FFFFFF;\n",
              "    }\n",
              "  </style>\n",
              "\n",
              "      <script>\n",
              "        const buttonEl =\n",
              "          document.querySelector('#df-f1d022a5-6541-4bfd-9ba0-7733d81ff835 button.colab-df-convert');\n",
              "        buttonEl.style.display =\n",
              "          google.colab.kernel.accessAllowed ? 'block' : 'none';\n",
              "\n",
              "        async function convertToInteractive(key) {\n",
              "          const element = document.querySelector('#df-f1d022a5-6541-4bfd-9ba0-7733d81ff835');\n",
              "          const dataTable =\n",
              "            await google.colab.kernel.invokeFunction('convertToInteractive',\n",
              "                                                     [key], {});\n",
              "          if (!dataTable) return;\n",
              "\n",
              "          const docLinkHtml = 'Like what you see? Visit the ' +\n",
              "            '<a target=\"_blank\" href=https://colab.research.google.com/notebooks/data_table.ipynb>data table notebook</a>'\n",
              "            + ' to learn more about interactive tables.';\n",
              "          element.innerHTML = '';\n",
              "          dataTable['output_type'] = 'display_data';\n",
              "          await google.colab.output.renderOutput(dataTable, element);\n",
              "          const docLink = document.createElement('div');\n",
              "          docLink.innerHTML = docLinkHtml;\n",
              "          element.appendChild(docLink);\n",
              "        }\n",
              "      </script>\n",
              "    </div>\n",
              "  </div>\n",
              "  "
            ]
          },
          "metadata": {},
          "execution_count": 3
        }
      ],
      "source": [
        "cars_df.sample(5)"
      ]
    },
    {
      "cell_type": "code",
      "execution_count": 4,
      "metadata": {
        "id": "oHa042XFz7fh",
        "outputId": "8f25a0ba-230d-4e52-defa-5dd59b294432",
        "colab": {
          "base_uri": "https://localhost:8080/"
        }
      },
      "outputs": [
        {
          "output_type": "stream",
          "name": "stdout",
          "text": [
            "<class 'pandas.core.frame.DataFrame'>\n",
            "RangeIndex: 3092 entries, 0 to 3091\n",
            "Data columns (total 15 columns):\n",
            " #   Column        Non-Null Count  Dtype  \n",
            "---  ------        --------------  -----  \n",
            " 0   index         3092 non-null   int64  \n",
            " 1   Name          3092 non-null   object \n",
            " 2   Location      3092 non-null   object \n",
            " 3   Year          3092 non-null   int64  \n",
            " 4   Fuel_Type     3092 non-null   object \n",
            " 5   Transmission  3092 non-null   object \n",
            " 6   Owner_Type    3092 non-null   object \n",
            " 7   Seats         3091 non-null   float64\n",
            " 8   Price         3092 non-null   float64\n",
            " 9   age           3092 non-null   int64  \n",
            " 10  KM_Driven     3092 non-null   int64  \n",
            " 11  make          3092 non-null   object \n",
            " 12  mileage_new   3092 non-null   float64\n",
            " 13  engine_new    3092 non-null   int64  \n",
            " 14  power_new     3092 non-null   float64\n",
            "dtypes: float64(4), int64(5), object(6)\n",
            "memory usage: 362.5+ KB\n"
          ]
        }
      ],
      "source": [
        "cars_df.info()"
      ]
    },
    {
      "cell_type": "markdown",
      "metadata": {
        "id": "0Mh8iD9hz7fh"
      },
      "source": [
        "### Feature Set Selection"
      ]
    },
    {
      "cell_type": "code",
      "execution_count": 5,
      "metadata": {
        "id": "LxKJwMuOz7fi",
        "outputId": "ef7f8638-895b-47f2-e5b4-98170c40836d",
        "colab": {
          "base_uri": "https://localhost:8080/"
        }
      },
      "outputs": [
        {
          "output_type": "execute_result",
          "data": {
            "text/plain": [
              "Index(['index', 'Name', 'Location', 'Year', 'Fuel_Type', 'Transmission',\n",
              "       'Owner_Type', 'Seats', 'Price', 'age', 'KM_Driven', 'make',\n",
              "       'mileage_new', 'engine_new', 'power_new'],\n",
              "      dtype='object')"
            ]
          },
          "metadata": {},
          "execution_count": 5
        }
      ],
      "source": [
        "cars_df.columns"
      ]
    },
    {
      "cell_type": "code",
      "execution_count": 6,
      "metadata": {
        "id": "xaUqL4aez7fj"
      },
      "outputs": [],
      "source": [
        "x_features = ['KM_Driven', 'Fuel_Type', 'age',\n",
        "              'Transmission', 'Owner_Type', 'Seats', \n",
        "              'make', 'mileage_new', 'engine_new', \n",
        "              'power_new', 'Location']"
      ]
    },
    {
      "cell_type": "code",
      "execution_count": 7,
      "metadata": {
        "id": "41m6dxn2z7fj"
      },
      "outputs": [],
      "source": [
        "cat_features = ['Fuel_Type', \n",
        "                'Transmission', 'Owner_Type',\n",
        "                'make', 'Location']"
      ]
    },
    {
      "cell_type": "code",
      "execution_count": 8,
      "metadata": {
        "id": "pQX4OOTmz7fk"
      },
      "outputs": [],
      "source": [
        "num_features = list(set(x_features) - set(cat_features))"
      ]
    },
    {
      "cell_type": "code",
      "execution_count": 9,
      "metadata": {
        "id": "UOTWvXLiz7fk",
        "outputId": "6b5ede58-a18d-47b0-8c17-dce0b6246a35",
        "colab": {
          "base_uri": "https://localhost:8080/"
        }
      },
      "outputs": [
        {
          "output_type": "execute_result",
          "data": {
            "text/plain": [
              "['power_new', 'Seats', 'age', 'engine_new', 'KM_Driven', 'mileage_new']"
            ]
          },
          "metadata": {},
          "execution_count": 9
        }
      ],
      "source": [
        "num_features"
      ]
    },
    {
      "cell_type": "code",
      "execution_count": 10,
      "metadata": {
        "id": "I-WBd3Fnz7fk",
        "outputId": "63f1b3c2-8654-4283-a03f-a9d41170deed",
        "colab": {
          "base_uri": "https://localhost:8080/"
        }
      },
      "outputs": [
        {
          "output_type": "stream",
          "name": "stdout",
          "text": [
            "<class 'pandas.core.frame.DataFrame'>\n",
            "RangeIndex: 3092 entries, 0 to 3091\n",
            "Data columns (total 11 columns):\n",
            " #   Column        Non-Null Count  Dtype  \n",
            "---  ------        --------------  -----  \n",
            " 0   KM_Driven     3092 non-null   int64  \n",
            " 1   Fuel_Type     3092 non-null   object \n",
            " 2   age           3092 non-null   int64  \n",
            " 3   Transmission  3092 non-null   object \n",
            " 4   Owner_Type    3092 non-null   object \n",
            " 5   Seats         3091 non-null   float64\n",
            " 6   make          3092 non-null   object \n",
            " 7   mileage_new   3092 non-null   float64\n",
            " 8   engine_new    3092 non-null   int64  \n",
            " 9   power_new     3092 non-null   float64\n",
            " 10  Location      3092 non-null   object \n",
            "dtypes: float64(3), int64(3), object(5)\n",
            "memory usage: 265.8+ KB\n"
          ]
        }
      ],
      "source": [
        "cars_df[x_features].info()"
      ]
    },
    {
      "cell_type": "markdown",
      "metadata": {
        "id": "C2vOoSf9z7fl"
      },
      "source": [
        "### Dropping Null Values"
      ]
    },
    {
      "cell_type": "code",
      "execution_count": 11,
      "metadata": {
        "id": "JDr-hx-xz7fl"
      },
      "outputs": [],
      "source": [
        "cars_df = cars_df[x_features + ['Price']].dropna()"
      ]
    },
    {
      "cell_type": "code",
      "execution_count": 12,
      "metadata": {
        "id": "0HtU_NOqz7fl",
        "outputId": "80382e7a-04df-428f-bbbd-1d6e4647c85e",
        "colab": {
          "base_uri": "https://localhost:8080/"
        }
      },
      "outputs": [
        {
          "output_type": "execute_result",
          "data": {
            "text/plain": [
              "(3091, 12)"
            ]
          },
          "metadata": {},
          "execution_count": 12
        }
      ],
      "source": [
        "cars_df.shape"
      ]
    },
    {
      "cell_type": "code",
      "execution_count": 13,
      "metadata": {
        "id": "HfNada47z7fm",
        "outputId": "572461b3-062d-4345-939c-59c11b3e7440",
        "colab": {
          "base_uri": "https://localhost:8080/",
          "height": 206
        }
      },
      "outputs": [
        {
          "output_type": "execute_result",
          "data": {
            "text/plain": [
              "      KM_Driven Fuel_Type  age Transmission Owner_Type  Seats     make  \\\n",
              "562           8    Petrol    2       Manual      First    5.0  hyundai   \n",
              "2877         86    Petrol   13       Manual     Second    5.0   maruti   \n",
              "2329         68    Petrol    6       Manual      First    5.0   nissan   \n",
              "1922         59    Diesel    5       Manual      First    5.0   toyota   \n",
              "1309         23    Diesel    7       Manual      First    5.0   maruti   \n",
              "\n",
              "      mileage_new  engine_new  power_new   Location  Price  \n",
              "562         18.90        1197      81.86      Delhi   5.00  \n",
              "2877        18.90         998      67.10      Delhi   1.00  \n",
              "2329        16.95        1498      97.70      Kochi   3.97  \n",
              "1922        23.59        1364      67.10  Hyderabad   5.60  \n",
              "1309        23.20        1248      73.94       Pune   3.52  "
            ],
            "text/html": [
              "\n",
              "  <div id=\"df-e0ecb143-150b-40b3-ad59-2037570c314c\">\n",
              "    <div class=\"colab-df-container\">\n",
              "      <div>\n",
              "<style scoped>\n",
              "    .dataframe tbody tr th:only-of-type {\n",
              "        vertical-align: middle;\n",
              "    }\n",
              "\n",
              "    .dataframe tbody tr th {\n",
              "        vertical-align: top;\n",
              "    }\n",
              "\n",
              "    .dataframe thead th {\n",
              "        text-align: right;\n",
              "    }\n",
              "</style>\n",
              "<table border=\"1\" class=\"dataframe\">\n",
              "  <thead>\n",
              "    <tr style=\"text-align: right;\">\n",
              "      <th></th>\n",
              "      <th>KM_Driven</th>\n",
              "      <th>Fuel_Type</th>\n",
              "      <th>age</th>\n",
              "      <th>Transmission</th>\n",
              "      <th>Owner_Type</th>\n",
              "      <th>Seats</th>\n",
              "      <th>make</th>\n",
              "      <th>mileage_new</th>\n",
              "      <th>engine_new</th>\n",
              "      <th>power_new</th>\n",
              "      <th>Location</th>\n",
              "      <th>Price</th>\n",
              "    </tr>\n",
              "  </thead>\n",
              "  <tbody>\n",
              "    <tr>\n",
              "      <th>562</th>\n",
              "      <td>8</td>\n",
              "      <td>Petrol</td>\n",
              "      <td>2</td>\n",
              "      <td>Manual</td>\n",
              "      <td>First</td>\n",
              "      <td>5.0</td>\n",
              "      <td>hyundai</td>\n",
              "      <td>18.90</td>\n",
              "      <td>1197</td>\n",
              "      <td>81.86</td>\n",
              "      <td>Delhi</td>\n",
              "      <td>5.00</td>\n",
              "    </tr>\n",
              "    <tr>\n",
              "      <th>2877</th>\n",
              "      <td>86</td>\n",
              "      <td>Petrol</td>\n",
              "      <td>13</td>\n",
              "      <td>Manual</td>\n",
              "      <td>Second</td>\n",
              "      <td>5.0</td>\n",
              "      <td>maruti</td>\n",
              "      <td>18.90</td>\n",
              "      <td>998</td>\n",
              "      <td>67.10</td>\n",
              "      <td>Delhi</td>\n",
              "      <td>1.00</td>\n",
              "    </tr>\n",
              "    <tr>\n",
              "      <th>2329</th>\n",
              "      <td>68</td>\n",
              "      <td>Petrol</td>\n",
              "      <td>6</td>\n",
              "      <td>Manual</td>\n",
              "      <td>First</td>\n",
              "      <td>5.0</td>\n",
              "      <td>nissan</td>\n",
              "      <td>16.95</td>\n",
              "      <td>1498</td>\n",
              "      <td>97.70</td>\n",
              "      <td>Kochi</td>\n",
              "      <td>3.97</td>\n",
              "    </tr>\n",
              "    <tr>\n",
              "      <th>1922</th>\n",
              "      <td>59</td>\n",
              "      <td>Diesel</td>\n",
              "      <td>5</td>\n",
              "      <td>Manual</td>\n",
              "      <td>First</td>\n",
              "      <td>5.0</td>\n",
              "      <td>toyota</td>\n",
              "      <td>23.59</td>\n",
              "      <td>1364</td>\n",
              "      <td>67.10</td>\n",
              "      <td>Hyderabad</td>\n",
              "      <td>5.60</td>\n",
              "    </tr>\n",
              "    <tr>\n",
              "      <th>1309</th>\n",
              "      <td>23</td>\n",
              "      <td>Diesel</td>\n",
              "      <td>7</td>\n",
              "      <td>Manual</td>\n",
              "      <td>First</td>\n",
              "      <td>5.0</td>\n",
              "      <td>maruti</td>\n",
              "      <td>23.20</td>\n",
              "      <td>1248</td>\n",
              "      <td>73.94</td>\n",
              "      <td>Pune</td>\n",
              "      <td>3.52</td>\n",
              "    </tr>\n",
              "  </tbody>\n",
              "</table>\n",
              "</div>\n",
              "      <button class=\"colab-df-convert\" onclick=\"convertToInteractive('df-e0ecb143-150b-40b3-ad59-2037570c314c')\"\n",
              "              title=\"Convert this dataframe to an interactive table.\"\n",
              "              style=\"display:none;\">\n",
              "        \n",
              "  <svg xmlns=\"http://www.w3.org/2000/svg\" height=\"24px\"viewBox=\"0 0 24 24\"\n",
              "       width=\"24px\">\n",
              "    <path d=\"M0 0h24v24H0V0z\" fill=\"none\"/>\n",
              "    <path d=\"M18.56 5.44l.94 2.06.94-2.06 2.06-.94-2.06-.94-.94-2.06-.94 2.06-2.06.94zm-11 1L8.5 8.5l.94-2.06 2.06-.94-2.06-.94L8.5 2.5l-.94 2.06-2.06.94zm10 10l.94 2.06.94-2.06 2.06-.94-2.06-.94-.94-2.06-.94 2.06-2.06.94z\"/><path d=\"M17.41 7.96l-1.37-1.37c-.4-.4-.92-.59-1.43-.59-.52 0-1.04.2-1.43.59L10.3 9.45l-7.72 7.72c-.78.78-.78 2.05 0 2.83L4 21.41c.39.39.9.59 1.41.59.51 0 1.02-.2 1.41-.59l7.78-7.78 2.81-2.81c.8-.78.8-2.07 0-2.86zM5.41 20L4 18.59l7.72-7.72 1.47 1.35L5.41 20z\"/>\n",
              "  </svg>\n",
              "      </button>\n",
              "      \n",
              "  <style>\n",
              "    .colab-df-container {\n",
              "      display:flex;\n",
              "      flex-wrap:wrap;\n",
              "      gap: 12px;\n",
              "    }\n",
              "\n",
              "    .colab-df-convert {\n",
              "      background-color: #E8F0FE;\n",
              "      border: none;\n",
              "      border-radius: 50%;\n",
              "      cursor: pointer;\n",
              "      display: none;\n",
              "      fill: #1967D2;\n",
              "      height: 32px;\n",
              "      padding: 0 0 0 0;\n",
              "      width: 32px;\n",
              "    }\n",
              "\n",
              "    .colab-df-convert:hover {\n",
              "      background-color: #E2EBFA;\n",
              "      box-shadow: 0px 1px 2px rgba(60, 64, 67, 0.3), 0px 1px 3px 1px rgba(60, 64, 67, 0.15);\n",
              "      fill: #174EA6;\n",
              "    }\n",
              "\n",
              "    [theme=dark] .colab-df-convert {\n",
              "      background-color: #3B4455;\n",
              "      fill: #D2E3FC;\n",
              "    }\n",
              "\n",
              "    [theme=dark] .colab-df-convert:hover {\n",
              "      background-color: #434B5C;\n",
              "      box-shadow: 0px 1px 3px 1px rgba(0, 0, 0, 0.15);\n",
              "      filter: drop-shadow(0px 1px 2px rgba(0, 0, 0, 0.3));\n",
              "      fill: #FFFFFF;\n",
              "    }\n",
              "  </style>\n",
              "\n",
              "      <script>\n",
              "        const buttonEl =\n",
              "          document.querySelector('#df-e0ecb143-150b-40b3-ad59-2037570c314c button.colab-df-convert');\n",
              "        buttonEl.style.display =\n",
              "          google.colab.kernel.accessAllowed ? 'block' : 'none';\n",
              "\n",
              "        async function convertToInteractive(key) {\n",
              "          const element = document.querySelector('#df-e0ecb143-150b-40b3-ad59-2037570c314c');\n",
              "          const dataTable =\n",
              "            await google.colab.kernel.invokeFunction('convertToInteractive',\n",
              "                                                     [key], {});\n",
              "          if (!dataTable) return;\n",
              "\n",
              "          const docLinkHtml = 'Like what you see? Visit the ' +\n",
              "            '<a target=\"_blank\" href=https://colab.research.google.com/notebooks/data_table.ipynb>data table notebook</a>'\n",
              "            + ' to learn more about interactive tables.';\n",
              "          element.innerHTML = '';\n",
              "          dataTable['output_type'] = 'display_data';\n",
              "          await google.colab.output.renderOutput(dataTable, element);\n",
              "          const docLink = document.createElement('div');\n",
              "          docLink.innerHTML = docLinkHtml;\n",
              "          element.appendChild(docLink);\n",
              "        }\n",
              "      </script>\n",
              "    </div>\n",
              "  </div>\n",
              "  "
            ]
          },
          "metadata": {},
          "execution_count": 13
        }
      ],
      "source": [
        "cars_df.sample(5)"
      ]
    },
    {
      "cell_type": "markdown",
      "metadata": {
        "id": "m7V_tZNCz7fm"
      },
      "source": [
        "### Setting X and y variables"
      ]
    },
    {
      "cell_type": "code",
      "execution_count": 14,
      "metadata": {
        "id": "u8AsT_NRz7fm"
      },
      "outputs": [],
      "source": [
        "X = cars_df[x_features]\n",
        "y = cars_df['Price']"
      ]
    },
    {
      "cell_type": "markdown",
      "metadata": {
        "id": "8xUNjAbOz7fn"
      },
      "source": [
        "### Data Splitting"
      ]
    },
    {
      "cell_type": "code",
      "execution_count": 15,
      "metadata": {
        "id": "iMEP07GSz7fn"
      },
      "outputs": [],
      "source": [
        "from sklearn.model_selection import train_test_split"
      ]
    },
    {
      "cell_type": "code",
      "execution_count": 16,
      "metadata": {
        "id": "9m5vbxhwz7fn"
      },
      "outputs": [],
      "source": [
        "X_train, X_test, y_train, y_test = train_test_split(X,\n",
        "                                                    y,\n",
        "                                                    train_size = 0.8,\n",
        "                                                    random_state = 80)"
      ]
    },
    {
      "cell_type": "code",
      "execution_count": 17,
      "metadata": {
        "id": "fRsbiH8sz7fn",
        "outputId": "b9b91399-310f-49ce-9bf0-9eb1560ce1a1",
        "colab": {
          "base_uri": "https://localhost:8080/",
          "height": 424
        }
      },
      "outputs": [
        {
          "output_type": "execute_result",
          "data": {
            "text/plain": [
              "      KM_Driven Fuel_Type  age Transmission Owner_Type  Seats        make  \\\n",
              "1458         81    Diesel    5       Manual      First    5.0  volkswagen   \n",
              "3079         70    Petrol    9       Manual     Second    5.0  volkswagen   \n",
              "2276         75    Petrol    4       Manual      First    5.0     hyundai   \n",
              "1599         95    Petrol   21       Manual      Third    5.0      maruti   \n",
              "2356         14    Petrol    2       Manual      First    5.0     hyundai   \n",
              "...         ...       ...  ...          ...        ...    ...         ...   \n",
              "522          45    Diesel    5       Manual      First    5.0      maruti   \n",
              "2260         16    Petrol    2       Manual      First    5.0        tata   \n",
              "2983         21    Petrol    4       Manual      First    5.0     hyundai   \n",
              "1213         83    Petrol   12       Manual      First    5.0      maruti   \n",
              "1200         33    Petrol    4    Automatic      First    5.0       honda   \n",
              "\n",
              "      mileage_new  engine_new  power_new   Location  \n",
              "1458        20.14        1498      88.80  Hyderabad  \n",
              "3079        17.24        1198      73.90       Pune  \n",
              "2276        20.36        1197      78.90     Mumbai  \n",
              "1599        17.30         993      60.00     Jaipur  \n",
              "2356        18.60        1197      81.83      Kochi  \n",
              "...           ...         ...        ...        ...  \n",
              "522         23.40        1248      74.00    Kolkata  \n",
              "2260        23.84        1199      84.00  Hyderabad  \n",
              "2983        18.90        1197      82.00       Pune  \n",
              "1213        14.00        1061      64.00       Pune  \n",
              "1200        19.00        1199      88.70  Hyderabad  \n",
              "\n",
              "[2472 rows x 11 columns]"
            ],
            "text/html": [
              "\n",
              "  <div id=\"df-fca1ef01-8b97-47e8-a982-afdb2ea109bb\">\n",
              "    <div class=\"colab-df-container\">\n",
              "      <div>\n",
              "<style scoped>\n",
              "    .dataframe tbody tr th:only-of-type {\n",
              "        vertical-align: middle;\n",
              "    }\n",
              "\n",
              "    .dataframe tbody tr th {\n",
              "        vertical-align: top;\n",
              "    }\n",
              "\n",
              "    .dataframe thead th {\n",
              "        text-align: right;\n",
              "    }\n",
              "</style>\n",
              "<table border=\"1\" class=\"dataframe\">\n",
              "  <thead>\n",
              "    <tr style=\"text-align: right;\">\n",
              "      <th></th>\n",
              "      <th>KM_Driven</th>\n",
              "      <th>Fuel_Type</th>\n",
              "      <th>age</th>\n",
              "      <th>Transmission</th>\n",
              "      <th>Owner_Type</th>\n",
              "      <th>Seats</th>\n",
              "      <th>make</th>\n",
              "      <th>mileage_new</th>\n",
              "      <th>engine_new</th>\n",
              "      <th>power_new</th>\n",
              "      <th>Location</th>\n",
              "    </tr>\n",
              "  </thead>\n",
              "  <tbody>\n",
              "    <tr>\n",
              "      <th>1458</th>\n",
              "      <td>81</td>\n",
              "      <td>Diesel</td>\n",
              "      <td>5</td>\n",
              "      <td>Manual</td>\n",
              "      <td>First</td>\n",
              "      <td>5.0</td>\n",
              "      <td>volkswagen</td>\n",
              "      <td>20.14</td>\n",
              "      <td>1498</td>\n",
              "      <td>88.80</td>\n",
              "      <td>Hyderabad</td>\n",
              "    </tr>\n",
              "    <tr>\n",
              "      <th>3079</th>\n",
              "      <td>70</td>\n",
              "      <td>Petrol</td>\n",
              "      <td>9</td>\n",
              "      <td>Manual</td>\n",
              "      <td>Second</td>\n",
              "      <td>5.0</td>\n",
              "      <td>volkswagen</td>\n",
              "      <td>17.24</td>\n",
              "      <td>1198</td>\n",
              "      <td>73.90</td>\n",
              "      <td>Pune</td>\n",
              "    </tr>\n",
              "    <tr>\n",
              "      <th>2276</th>\n",
              "      <td>75</td>\n",
              "      <td>Petrol</td>\n",
              "      <td>4</td>\n",
              "      <td>Manual</td>\n",
              "      <td>First</td>\n",
              "      <td>5.0</td>\n",
              "      <td>hyundai</td>\n",
              "      <td>20.36</td>\n",
              "      <td>1197</td>\n",
              "      <td>78.90</td>\n",
              "      <td>Mumbai</td>\n",
              "    </tr>\n",
              "    <tr>\n",
              "      <th>1599</th>\n",
              "      <td>95</td>\n",
              "      <td>Petrol</td>\n",
              "      <td>21</td>\n",
              "      <td>Manual</td>\n",
              "      <td>Third</td>\n",
              "      <td>5.0</td>\n",
              "      <td>maruti</td>\n",
              "      <td>17.30</td>\n",
              "      <td>993</td>\n",
              "      <td>60.00</td>\n",
              "      <td>Jaipur</td>\n",
              "    </tr>\n",
              "    <tr>\n",
              "      <th>2356</th>\n",
              "      <td>14</td>\n",
              "      <td>Petrol</td>\n",
              "      <td>2</td>\n",
              "      <td>Manual</td>\n",
              "      <td>First</td>\n",
              "      <td>5.0</td>\n",
              "      <td>hyundai</td>\n",
              "      <td>18.60</td>\n",
              "      <td>1197</td>\n",
              "      <td>81.83</td>\n",
              "      <td>Kochi</td>\n",
              "    </tr>\n",
              "    <tr>\n",
              "      <th>...</th>\n",
              "      <td>...</td>\n",
              "      <td>...</td>\n",
              "      <td>...</td>\n",
              "      <td>...</td>\n",
              "      <td>...</td>\n",
              "      <td>...</td>\n",
              "      <td>...</td>\n",
              "      <td>...</td>\n",
              "      <td>...</td>\n",
              "      <td>...</td>\n",
              "      <td>...</td>\n",
              "    </tr>\n",
              "    <tr>\n",
              "      <th>522</th>\n",
              "      <td>45</td>\n",
              "      <td>Diesel</td>\n",
              "      <td>5</td>\n",
              "      <td>Manual</td>\n",
              "      <td>First</td>\n",
              "      <td>5.0</td>\n",
              "      <td>maruti</td>\n",
              "      <td>23.40</td>\n",
              "      <td>1248</td>\n",
              "      <td>74.00</td>\n",
              "      <td>Kolkata</td>\n",
              "    </tr>\n",
              "    <tr>\n",
              "      <th>2260</th>\n",
              "      <td>16</td>\n",
              "      <td>Petrol</td>\n",
              "      <td>2</td>\n",
              "      <td>Manual</td>\n",
              "      <td>First</td>\n",
              "      <td>5.0</td>\n",
              "      <td>tata</td>\n",
              "      <td>23.84</td>\n",
              "      <td>1199</td>\n",
              "      <td>84.00</td>\n",
              "      <td>Hyderabad</td>\n",
              "    </tr>\n",
              "    <tr>\n",
              "      <th>2983</th>\n",
              "      <td>21</td>\n",
              "      <td>Petrol</td>\n",
              "      <td>4</td>\n",
              "      <td>Manual</td>\n",
              "      <td>First</td>\n",
              "      <td>5.0</td>\n",
              "      <td>hyundai</td>\n",
              "      <td>18.90</td>\n",
              "      <td>1197</td>\n",
              "      <td>82.00</td>\n",
              "      <td>Pune</td>\n",
              "    </tr>\n",
              "    <tr>\n",
              "      <th>1213</th>\n",
              "      <td>83</td>\n",
              "      <td>Petrol</td>\n",
              "      <td>12</td>\n",
              "      <td>Manual</td>\n",
              "      <td>First</td>\n",
              "      <td>5.0</td>\n",
              "      <td>maruti</td>\n",
              "      <td>14.00</td>\n",
              "      <td>1061</td>\n",
              "      <td>64.00</td>\n",
              "      <td>Pune</td>\n",
              "    </tr>\n",
              "    <tr>\n",
              "      <th>1200</th>\n",
              "      <td>33</td>\n",
              "      <td>Petrol</td>\n",
              "      <td>4</td>\n",
              "      <td>Automatic</td>\n",
              "      <td>First</td>\n",
              "      <td>5.0</td>\n",
              "      <td>honda</td>\n",
              "      <td>19.00</td>\n",
              "      <td>1199</td>\n",
              "      <td>88.70</td>\n",
              "      <td>Hyderabad</td>\n",
              "    </tr>\n",
              "  </tbody>\n",
              "</table>\n",
              "<p>2472 rows × 11 columns</p>\n",
              "</div>\n",
              "      <button class=\"colab-df-convert\" onclick=\"convertToInteractive('df-fca1ef01-8b97-47e8-a982-afdb2ea109bb')\"\n",
              "              title=\"Convert this dataframe to an interactive table.\"\n",
              "              style=\"display:none;\">\n",
              "        \n",
              "  <svg xmlns=\"http://www.w3.org/2000/svg\" height=\"24px\"viewBox=\"0 0 24 24\"\n",
              "       width=\"24px\">\n",
              "    <path d=\"M0 0h24v24H0V0z\" fill=\"none\"/>\n",
              "    <path d=\"M18.56 5.44l.94 2.06.94-2.06 2.06-.94-2.06-.94-.94-2.06-.94 2.06-2.06.94zm-11 1L8.5 8.5l.94-2.06 2.06-.94-2.06-.94L8.5 2.5l-.94 2.06-2.06.94zm10 10l.94 2.06.94-2.06 2.06-.94-2.06-.94-.94-2.06-.94 2.06-2.06.94z\"/><path d=\"M17.41 7.96l-1.37-1.37c-.4-.4-.92-.59-1.43-.59-.52 0-1.04.2-1.43.59L10.3 9.45l-7.72 7.72c-.78.78-.78 2.05 0 2.83L4 21.41c.39.39.9.59 1.41.59.51 0 1.02-.2 1.41-.59l7.78-7.78 2.81-2.81c.8-.78.8-2.07 0-2.86zM5.41 20L4 18.59l7.72-7.72 1.47 1.35L5.41 20z\"/>\n",
              "  </svg>\n",
              "      </button>\n",
              "      \n",
              "  <style>\n",
              "    .colab-df-container {\n",
              "      display:flex;\n",
              "      flex-wrap:wrap;\n",
              "      gap: 12px;\n",
              "    }\n",
              "\n",
              "    .colab-df-convert {\n",
              "      background-color: #E8F0FE;\n",
              "      border: none;\n",
              "      border-radius: 50%;\n",
              "      cursor: pointer;\n",
              "      display: none;\n",
              "      fill: #1967D2;\n",
              "      height: 32px;\n",
              "      padding: 0 0 0 0;\n",
              "      width: 32px;\n",
              "    }\n",
              "\n",
              "    .colab-df-convert:hover {\n",
              "      background-color: #E2EBFA;\n",
              "      box-shadow: 0px 1px 2px rgba(60, 64, 67, 0.3), 0px 1px 3px 1px rgba(60, 64, 67, 0.15);\n",
              "      fill: #174EA6;\n",
              "    }\n",
              "\n",
              "    [theme=dark] .colab-df-convert {\n",
              "      background-color: #3B4455;\n",
              "      fill: #D2E3FC;\n",
              "    }\n",
              "\n",
              "    [theme=dark] .colab-df-convert:hover {\n",
              "      background-color: #434B5C;\n",
              "      box-shadow: 0px 1px 3px 1px rgba(0, 0, 0, 0.15);\n",
              "      filter: drop-shadow(0px 1px 2px rgba(0, 0, 0, 0.3));\n",
              "      fill: #FFFFFF;\n",
              "    }\n",
              "  </style>\n",
              "\n",
              "      <script>\n",
              "        const buttonEl =\n",
              "          document.querySelector('#df-fca1ef01-8b97-47e8-a982-afdb2ea109bb button.colab-df-convert');\n",
              "        buttonEl.style.display =\n",
              "          google.colab.kernel.accessAllowed ? 'block' : 'none';\n",
              "\n",
              "        async function convertToInteractive(key) {\n",
              "          const element = document.querySelector('#df-fca1ef01-8b97-47e8-a982-afdb2ea109bb');\n",
              "          const dataTable =\n",
              "            await google.colab.kernel.invokeFunction('convertToInteractive',\n",
              "                                                     [key], {});\n",
              "          if (!dataTable) return;\n",
              "\n",
              "          const docLinkHtml = 'Like what you see? Visit the ' +\n",
              "            '<a target=\"_blank\" href=https://colab.research.google.com/notebooks/data_table.ipynb>data table notebook</a>'\n",
              "            + ' to learn more about interactive tables.';\n",
              "          element.innerHTML = '';\n",
              "          dataTable['output_type'] = 'display_data';\n",
              "          await google.colab.output.renderOutput(dataTable, element);\n",
              "          const docLink = document.createElement('div');\n",
              "          docLink.innerHTML = docLinkHtml;\n",
              "          element.appendChild(docLink);\n",
              "        }\n",
              "      </script>\n",
              "    </div>\n",
              "  </div>\n",
              "  "
            ]
          },
          "metadata": {},
          "execution_count": 17
        }
      ],
      "source": [
        "X_train"
      ]
    },
    {
      "cell_type": "code",
      "execution_count": 18,
      "metadata": {
        "id": "Noo2l9Ekz7fo",
        "outputId": "f9d3783c-5ebc-47bd-b0c6-245c39133707",
        "colab": {
          "base_uri": "https://localhost:8080/",
          "height": 363
        }
      },
      "outputs": [
        {
          "output_type": "execute_result",
          "data": {
            "text/plain": [
              "      KM_Driven Fuel_Type  age Transmission Owner_Type  Seats        make  \\\n",
              "1458         81    Diesel    5       Manual      First    5.0  volkswagen   \n",
              "3079         70    Petrol    9       Manual     Second    5.0  volkswagen   \n",
              "2276         75    Petrol    4       Manual      First    5.0     hyundai   \n",
              "1599         95    Petrol   21       Manual      Third    5.0      maruti   \n",
              "2356         14    Petrol    2       Manual      First    5.0     hyundai   \n",
              "737          12    Petrol    3       Manual      First    5.0      maruti   \n",
              "265          50    Diesel    4       Manual      First    5.0  volkswagen   \n",
              "713          59    Petrol   12       Manual      First    4.0      maruti   \n",
              "82           88    Diesel    7       Manual      First    5.0   chevrolet   \n",
              "2918         27    Petrol    2       Manual      First    5.0      maruti   \n",
              "\n",
              "      mileage_new  engine_new  power_new   Location  \n",
              "1458        20.14        1498      88.80  Hyderabad  \n",
              "3079        17.24        1198      73.90       Pune  \n",
              "2276        20.36        1197      78.90     Mumbai  \n",
              "1599        17.30         993      60.00     Jaipur  \n",
              "2356        18.60        1197      81.83      Kochi  \n",
              "737         21.40        1197      83.10     Mumbai  \n",
              "265         20.14        1498      88.80  Hyderabad  \n",
              "713         16.10         796      37.00     Jaipur  \n",
              "82          25.44         936      57.60     Jaipur  \n",
              "2918        22.74         796      47.30      Kochi  "
            ],
            "text/html": [
              "\n",
              "  <div id=\"df-d4159c20-d251-4e1b-beec-1ba05f81df6e\">\n",
              "    <div class=\"colab-df-container\">\n",
              "      <div>\n",
              "<style scoped>\n",
              "    .dataframe tbody tr th:only-of-type {\n",
              "        vertical-align: middle;\n",
              "    }\n",
              "\n",
              "    .dataframe tbody tr th {\n",
              "        vertical-align: top;\n",
              "    }\n",
              "\n",
              "    .dataframe thead th {\n",
              "        text-align: right;\n",
              "    }\n",
              "</style>\n",
              "<table border=\"1\" class=\"dataframe\">\n",
              "  <thead>\n",
              "    <tr style=\"text-align: right;\">\n",
              "      <th></th>\n",
              "      <th>KM_Driven</th>\n",
              "      <th>Fuel_Type</th>\n",
              "      <th>age</th>\n",
              "      <th>Transmission</th>\n",
              "      <th>Owner_Type</th>\n",
              "      <th>Seats</th>\n",
              "      <th>make</th>\n",
              "      <th>mileage_new</th>\n",
              "      <th>engine_new</th>\n",
              "      <th>power_new</th>\n",
              "      <th>Location</th>\n",
              "    </tr>\n",
              "  </thead>\n",
              "  <tbody>\n",
              "    <tr>\n",
              "      <th>1458</th>\n",
              "      <td>81</td>\n",
              "      <td>Diesel</td>\n",
              "      <td>5</td>\n",
              "      <td>Manual</td>\n",
              "      <td>First</td>\n",
              "      <td>5.0</td>\n",
              "      <td>volkswagen</td>\n",
              "      <td>20.14</td>\n",
              "      <td>1498</td>\n",
              "      <td>88.80</td>\n",
              "      <td>Hyderabad</td>\n",
              "    </tr>\n",
              "    <tr>\n",
              "      <th>3079</th>\n",
              "      <td>70</td>\n",
              "      <td>Petrol</td>\n",
              "      <td>9</td>\n",
              "      <td>Manual</td>\n",
              "      <td>Second</td>\n",
              "      <td>5.0</td>\n",
              "      <td>volkswagen</td>\n",
              "      <td>17.24</td>\n",
              "      <td>1198</td>\n",
              "      <td>73.90</td>\n",
              "      <td>Pune</td>\n",
              "    </tr>\n",
              "    <tr>\n",
              "      <th>2276</th>\n",
              "      <td>75</td>\n",
              "      <td>Petrol</td>\n",
              "      <td>4</td>\n",
              "      <td>Manual</td>\n",
              "      <td>First</td>\n",
              "      <td>5.0</td>\n",
              "      <td>hyundai</td>\n",
              "      <td>20.36</td>\n",
              "      <td>1197</td>\n",
              "      <td>78.90</td>\n",
              "      <td>Mumbai</td>\n",
              "    </tr>\n",
              "    <tr>\n",
              "      <th>1599</th>\n",
              "      <td>95</td>\n",
              "      <td>Petrol</td>\n",
              "      <td>21</td>\n",
              "      <td>Manual</td>\n",
              "      <td>Third</td>\n",
              "      <td>5.0</td>\n",
              "      <td>maruti</td>\n",
              "      <td>17.30</td>\n",
              "      <td>993</td>\n",
              "      <td>60.00</td>\n",
              "      <td>Jaipur</td>\n",
              "    </tr>\n",
              "    <tr>\n",
              "      <th>2356</th>\n",
              "      <td>14</td>\n",
              "      <td>Petrol</td>\n",
              "      <td>2</td>\n",
              "      <td>Manual</td>\n",
              "      <td>First</td>\n",
              "      <td>5.0</td>\n",
              "      <td>hyundai</td>\n",
              "      <td>18.60</td>\n",
              "      <td>1197</td>\n",
              "      <td>81.83</td>\n",
              "      <td>Kochi</td>\n",
              "    </tr>\n",
              "    <tr>\n",
              "      <th>737</th>\n",
              "      <td>12</td>\n",
              "      <td>Petrol</td>\n",
              "      <td>3</td>\n",
              "      <td>Manual</td>\n",
              "      <td>First</td>\n",
              "      <td>5.0</td>\n",
              "      <td>maruti</td>\n",
              "      <td>21.40</td>\n",
              "      <td>1197</td>\n",
              "      <td>83.10</td>\n",
              "      <td>Mumbai</td>\n",
              "    </tr>\n",
              "    <tr>\n",
              "      <th>265</th>\n",
              "      <td>50</td>\n",
              "      <td>Diesel</td>\n",
              "      <td>4</td>\n",
              "      <td>Manual</td>\n",
              "      <td>First</td>\n",
              "      <td>5.0</td>\n",
              "      <td>volkswagen</td>\n",
              "      <td>20.14</td>\n",
              "      <td>1498</td>\n",
              "      <td>88.80</td>\n",
              "      <td>Hyderabad</td>\n",
              "    </tr>\n",
              "    <tr>\n",
              "      <th>713</th>\n",
              "      <td>59</td>\n",
              "      <td>Petrol</td>\n",
              "      <td>12</td>\n",
              "      <td>Manual</td>\n",
              "      <td>First</td>\n",
              "      <td>4.0</td>\n",
              "      <td>maruti</td>\n",
              "      <td>16.10</td>\n",
              "      <td>796</td>\n",
              "      <td>37.00</td>\n",
              "      <td>Jaipur</td>\n",
              "    </tr>\n",
              "    <tr>\n",
              "      <th>82</th>\n",
              "      <td>88</td>\n",
              "      <td>Diesel</td>\n",
              "      <td>7</td>\n",
              "      <td>Manual</td>\n",
              "      <td>First</td>\n",
              "      <td>5.0</td>\n",
              "      <td>chevrolet</td>\n",
              "      <td>25.44</td>\n",
              "      <td>936</td>\n",
              "      <td>57.60</td>\n",
              "      <td>Jaipur</td>\n",
              "    </tr>\n",
              "    <tr>\n",
              "      <th>2918</th>\n",
              "      <td>27</td>\n",
              "      <td>Petrol</td>\n",
              "      <td>2</td>\n",
              "      <td>Manual</td>\n",
              "      <td>First</td>\n",
              "      <td>5.0</td>\n",
              "      <td>maruti</td>\n",
              "      <td>22.74</td>\n",
              "      <td>796</td>\n",
              "      <td>47.30</td>\n",
              "      <td>Kochi</td>\n",
              "    </tr>\n",
              "  </tbody>\n",
              "</table>\n",
              "</div>\n",
              "      <button class=\"colab-df-convert\" onclick=\"convertToInteractive('df-d4159c20-d251-4e1b-beec-1ba05f81df6e')\"\n",
              "              title=\"Convert this dataframe to an interactive table.\"\n",
              "              style=\"display:none;\">\n",
              "        \n",
              "  <svg xmlns=\"http://www.w3.org/2000/svg\" height=\"24px\"viewBox=\"0 0 24 24\"\n",
              "       width=\"24px\">\n",
              "    <path d=\"M0 0h24v24H0V0z\" fill=\"none\"/>\n",
              "    <path d=\"M18.56 5.44l.94 2.06.94-2.06 2.06-.94-2.06-.94-.94-2.06-.94 2.06-2.06.94zm-11 1L8.5 8.5l.94-2.06 2.06-.94-2.06-.94L8.5 2.5l-.94 2.06-2.06.94zm10 10l.94 2.06.94-2.06 2.06-.94-2.06-.94-.94-2.06-.94 2.06-2.06.94z\"/><path d=\"M17.41 7.96l-1.37-1.37c-.4-.4-.92-.59-1.43-.59-.52 0-1.04.2-1.43.59L10.3 9.45l-7.72 7.72c-.78.78-.78 2.05 0 2.83L4 21.41c.39.39.9.59 1.41.59.51 0 1.02-.2 1.41-.59l7.78-7.78 2.81-2.81c.8-.78.8-2.07 0-2.86zM5.41 20L4 18.59l7.72-7.72 1.47 1.35L5.41 20z\"/>\n",
              "  </svg>\n",
              "      </button>\n",
              "      \n",
              "  <style>\n",
              "    .colab-df-container {\n",
              "      display:flex;\n",
              "      flex-wrap:wrap;\n",
              "      gap: 12px;\n",
              "    }\n",
              "\n",
              "    .colab-df-convert {\n",
              "      background-color: #E8F0FE;\n",
              "      border: none;\n",
              "      border-radius: 50%;\n",
              "      cursor: pointer;\n",
              "      display: none;\n",
              "      fill: #1967D2;\n",
              "      height: 32px;\n",
              "      padding: 0 0 0 0;\n",
              "      width: 32px;\n",
              "    }\n",
              "\n",
              "    .colab-df-convert:hover {\n",
              "      background-color: #E2EBFA;\n",
              "      box-shadow: 0px 1px 2px rgba(60, 64, 67, 0.3), 0px 1px 3px 1px rgba(60, 64, 67, 0.15);\n",
              "      fill: #174EA6;\n",
              "    }\n",
              "\n",
              "    [theme=dark] .colab-df-convert {\n",
              "      background-color: #3B4455;\n",
              "      fill: #D2E3FC;\n",
              "    }\n",
              "\n",
              "    [theme=dark] .colab-df-convert:hover {\n",
              "      background-color: #434B5C;\n",
              "      box-shadow: 0px 1px 3px 1px rgba(0, 0, 0, 0.15);\n",
              "      filter: drop-shadow(0px 1px 2px rgba(0, 0, 0, 0.3));\n",
              "      fill: #FFFFFF;\n",
              "    }\n",
              "  </style>\n",
              "\n",
              "      <script>\n",
              "        const buttonEl =\n",
              "          document.querySelector('#df-d4159c20-d251-4e1b-beec-1ba05f81df6e button.colab-df-convert');\n",
              "        buttonEl.style.display =\n",
              "          google.colab.kernel.accessAllowed ? 'block' : 'none';\n",
              "\n",
              "        async function convertToInteractive(key) {\n",
              "          const element = document.querySelector('#df-d4159c20-d251-4e1b-beec-1ba05f81df6e');\n",
              "          const dataTable =\n",
              "            await google.colab.kernel.invokeFunction('convertToInteractive',\n",
              "                                                     [key], {});\n",
              "          if (!dataTable) return;\n",
              "\n",
              "          const docLinkHtml = 'Like what you see? Visit the ' +\n",
              "            '<a target=\"_blank\" href=https://colab.research.google.com/notebooks/data_table.ipynb>data table notebook</a>'\n",
              "            + ' to learn more about interactive tables.';\n",
              "          element.innerHTML = '';\n",
              "          dataTable['output_type'] = 'display_data';\n",
              "          await google.colab.output.renderOutput(dataTable, element);\n",
              "          const docLink = document.createElement('div');\n",
              "          docLink.innerHTML = docLinkHtml;\n",
              "          element.appendChild(docLink);\n",
              "        }\n",
              "      </script>\n",
              "    </div>\n",
              "  </div>\n",
              "  "
            ]
          },
          "metadata": {},
          "execution_count": 18
        }
      ],
      "source": [
        "X_train[0:10]"
      ]
    },
    {
      "cell_type": "code",
      "execution_count": 19,
      "metadata": {
        "id": "7K0R4rq9z7fo",
        "outputId": "4c03da65-4417-4908-d1d2-8dea32ce1486",
        "colab": {
          "base_uri": "https://localhost:8080/"
        }
      },
      "outputs": [
        {
          "output_type": "execute_result",
          "data": {
            "text/plain": [
              "(619, 11)"
            ]
          },
          "metadata": {},
          "execution_count": 19
        }
      ],
      "source": [
        "X_test.shape"
      ]
    },
    {
      "cell_type": "markdown",
      "metadata": {
        "id": "PuzUruMfz7fo"
      },
      "source": [
        "### Defining Transformations\n",
        "\n",
        "1. Data imputation for Seats Column\n",
        "    - Mean imputation \n",
        "2. Categorical Encoding for categorical columns\n",
        "    - OHE Encoding\n",
        "3. Data scaling\n",
        "    - Standard scaling"
      ]
    },
    {
      "cell_type": "code",
      "execution_count": 20,
      "metadata": {
        "id": "jbEcpDgNz7fo"
      },
      "outputs": [],
      "source": [
        "from sklearn.preprocessing import OneHotEncoder\n",
        "\n",
        "ohe_encoder = OneHotEncoder(handle_unknown='ignore')"
      ]
    },
    {
      "cell_type": "code",
      "source": [
        "from sklearn.preprocessing import StandardScaler\n",
        "\n",
        "scaler = StandardScaler()"
      ],
      "metadata": {
        "id": "EBvCf_Gkuhdt"
      },
      "execution_count": 21,
      "outputs": []
    },
    {
      "cell_type": "code",
      "source": [
        "from sklearn.impute import SimpleImputer\n",
        "\n",
        "mean_imputer = SimpleImputer(strategy='mean')"
      ],
      "metadata": {
        "id": "PIuP8Vc-vH3q"
      },
      "execution_count": 22,
      "outputs": []
    },
    {
      "cell_type": "code",
      "source": [
        "imputed_num_features = ['Seats']\n",
        "non_imputed_num_features = list(set(num_features) - set(imputed_num_features))"
      ],
      "metadata": {
        "id": "2lQMewlBvMyp"
      },
      "execution_count": 23,
      "outputs": []
    },
    {
      "cell_type": "code",
      "execution_count": 24,
      "metadata": {
        "id": "nV7uzMgxz7fp"
      },
      "outputs": [],
      "source": [
        "from sklearn.compose import ColumnTransformer\n",
        "from sklearn.pipeline import Pipeline"
      ]
    },
    {
      "cell_type": "code",
      "execution_count": 25,
      "metadata": {
        "id": "c6tjiA6Uz7fq"
      },
      "outputs": [],
      "source": [
        "imputed_num_transformer = Pipeline( steps = [  \n",
        "        ('imputation', mean_imputer),\n",
        "        ('scaler', scaler)])"
      ]
    },
    {
      "cell_type": "code",
      "source": [
        "non_imputed_num_transformer = Pipeline( steps = [('scaler', scaler)])"
      ],
      "metadata": {
        "id": "E8-9peP-um3t"
      },
      "execution_count": 26,
      "outputs": []
    },
    {
      "cell_type": "code",
      "source": [
        "cat_transformer = Pipeline( steps = [('ohencoder', ohe_encoder)])"
      ],
      "metadata": {
        "id": "Q-boHIAWunbO"
      },
      "execution_count": 27,
      "outputs": []
    },
    {
      "cell_type": "code",
      "source": [
        "preprocessor = ColumnTransformer(\n",
        "    transformers=[  \n",
        "        ('num_imputed', imputed_num_transformer, imputed_num_features),\n",
        "        ('num_not_imputed', non_imputed_num_transformer, non_imputed_num_features),\n",
        "        ('catvars', cat_transformer, cat_features)])"
      ],
      "metadata": {
        "id": "F0MrJRKJupoF"
      },
      "execution_count": 28,
      "outputs": []
    },
    {
      "cell_type": "markdown",
      "metadata": {
        "id": "CYGjVDoez7fq"
      },
      "source": [
        "### Linear Models\n",
        "\n",
        "Assumes linear relationship between features and outcome variable."
      ]
    },
    {
      "cell_type": "code",
      "execution_count": 29,
      "metadata": {
        "id": "G9LaDPC4z7fq"
      },
      "outputs": [],
      "source": [
        "from sklearn.linear_model import SGDRegressor"
      ]
    },
    {
      "cell_type": "code",
      "execution_count": 30,
      "metadata": {
        "id": "zxOHIxAHz7fr"
      },
      "outputs": [],
      "source": [
        "lreg_v1 = Pipeline(steps=[('preprocessor', preprocessor),\n",
        "                          ('regressor', SGDRegressor(max_iter=100, eta0=0.01))])"
      ]
    },
    {
      "cell_type": "code",
      "source": [
        "from sklearn import set_config\n",
        "set_config(display='diagram') "
      ],
      "metadata": {
        "id": "2L08RSeSvxWU"
      },
      "execution_count": 31,
      "outputs": []
    },
    {
      "cell_type": "code",
      "execution_count": 32,
      "metadata": {
        "id": "NtDTyrZKz7fr",
        "outputId": "b87bc273-c2b8-4135-ac2d-0a7407d3c252",
        "colab": {
          "base_uri": "https://localhost:8080/",
          "height": 227
        }
      },
      "outputs": [
        {
          "output_type": "execute_result",
          "data": {
            "text/plain": [
              "Pipeline(steps=[('preprocessor',\n",
              "                 ColumnTransformer(transformers=[('num_imputed',\n",
              "                                                  Pipeline(steps=[('imputation',\n",
              "                                                                   SimpleImputer()),\n",
              "                                                                  ('scaler',\n",
              "                                                                   StandardScaler())]),\n",
              "                                                  ['Seats']),\n",
              "                                                 ('num_not_imputed',\n",
              "                                                  Pipeline(steps=[('scaler',\n",
              "                                                                   StandardScaler())]),\n",
              "                                                  ['power_new', 'age',\n",
              "                                                   'engine_new', 'KM_Driven',\n",
              "                                                   'mileage_new']),\n",
              "                                                 ('catvars',\n",
              "                                                  Pipeline(steps=[('ohencoder',\n",
              "                                                                   OneHotEncoder(handle_unknown='ignore'))]),\n",
              "                                                  ['Fuel_Type', 'Transmission',\n",
              "                                                   'Owner_Type', 'make',\n",
              "                                                   'Location'])])),\n",
              "                ('regressor', SGDRegressor(max_iter=100))])"
            ],
            "text/html": [
              "<style>#sk-71272eb3-2436-4b70-a259-e26faf8e5de1 {color: black;background-color: white;}#sk-71272eb3-2436-4b70-a259-e26faf8e5de1 pre{padding: 0;}#sk-71272eb3-2436-4b70-a259-e26faf8e5de1 div.sk-toggleable {background-color: white;}#sk-71272eb3-2436-4b70-a259-e26faf8e5de1 label.sk-toggleable__label {cursor: pointer;display: block;width: 100%;margin-bottom: 0;padding: 0.3em;box-sizing: border-box;text-align: center;}#sk-71272eb3-2436-4b70-a259-e26faf8e5de1 label.sk-toggleable__label-arrow:before {content: \"▸\";float: left;margin-right: 0.25em;color: #696969;}#sk-71272eb3-2436-4b70-a259-e26faf8e5de1 label.sk-toggleable__label-arrow:hover:before {color: black;}#sk-71272eb3-2436-4b70-a259-e26faf8e5de1 div.sk-estimator:hover label.sk-toggleable__label-arrow:before {color: black;}#sk-71272eb3-2436-4b70-a259-e26faf8e5de1 div.sk-toggleable__content {max-height: 0;max-width: 0;overflow: hidden;text-align: left;background-color: #f0f8ff;}#sk-71272eb3-2436-4b70-a259-e26faf8e5de1 div.sk-toggleable__content pre {margin: 0.2em;color: black;border-radius: 0.25em;background-color: #f0f8ff;}#sk-71272eb3-2436-4b70-a259-e26faf8e5de1 input.sk-toggleable__control:checked~div.sk-toggleable__content {max-height: 200px;max-width: 100%;overflow: auto;}#sk-71272eb3-2436-4b70-a259-e26faf8e5de1 input.sk-toggleable__control:checked~label.sk-toggleable__label-arrow:before {content: \"▾\";}#sk-71272eb3-2436-4b70-a259-e26faf8e5de1 div.sk-estimator input.sk-toggleable__control:checked~label.sk-toggleable__label {background-color: #d4ebff;}#sk-71272eb3-2436-4b70-a259-e26faf8e5de1 div.sk-label input.sk-toggleable__control:checked~label.sk-toggleable__label {background-color: #d4ebff;}#sk-71272eb3-2436-4b70-a259-e26faf8e5de1 input.sk-hidden--visually {border: 0;clip: rect(1px 1px 1px 1px);clip: rect(1px, 1px, 1px, 1px);height: 1px;margin: -1px;overflow: hidden;padding: 0;position: absolute;width: 1px;}#sk-71272eb3-2436-4b70-a259-e26faf8e5de1 div.sk-estimator {font-family: monospace;background-color: #f0f8ff;border: 1px dotted black;border-radius: 0.25em;box-sizing: border-box;margin-bottom: 0.5em;}#sk-71272eb3-2436-4b70-a259-e26faf8e5de1 div.sk-estimator:hover {background-color: #d4ebff;}#sk-71272eb3-2436-4b70-a259-e26faf8e5de1 div.sk-parallel-item::after {content: \"\";width: 100%;border-bottom: 1px solid gray;flex-grow: 1;}#sk-71272eb3-2436-4b70-a259-e26faf8e5de1 div.sk-label:hover label.sk-toggleable__label {background-color: #d4ebff;}#sk-71272eb3-2436-4b70-a259-e26faf8e5de1 div.sk-serial::before {content: \"\";position: absolute;border-left: 1px solid gray;box-sizing: border-box;top: 2em;bottom: 0;left: 50%;}#sk-71272eb3-2436-4b70-a259-e26faf8e5de1 div.sk-serial {display: flex;flex-direction: column;align-items: center;background-color: white;padding-right: 0.2em;padding-left: 0.2em;}#sk-71272eb3-2436-4b70-a259-e26faf8e5de1 div.sk-item {z-index: 1;}#sk-71272eb3-2436-4b70-a259-e26faf8e5de1 div.sk-parallel {display: flex;align-items: stretch;justify-content: center;background-color: white;}#sk-71272eb3-2436-4b70-a259-e26faf8e5de1 div.sk-parallel::before {content: \"\";position: absolute;border-left: 1px solid gray;box-sizing: border-box;top: 2em;bottom: 0;left: 50%;}#sk-71272eb3-2436-4b70-a259-e26faf8e5de1 div.sk-parallel-item {display: flex;flex-direction: column;position: relative;background-color: white;}#sk-71272eb3-2436-4b70-a259-e26faf8e5de1 div.sk-parallel-item:first-child::after {align-self: flex-end;width: 50%;}#sk-71272eb3-2436-4b70-a259-e26faf8e5de1 div.sk-parallel-item:last-child::after {align-self: flex-start;width: 50%;}#sk-71272eb3-2436-4b70-a259-e26faf8e5de1 div.sk-parallel-item:only-child::after {width: 0;}#sk-71272eb3-2436-4b70-a259-e26faf8e5de1 div.sk-dashed-wrapped {border: 1px dashed gray;margin: 0 0.4em 0.5em 0.4em;box-sizing: border-box;padding-bottom: 0.4em;background-color: white;position: relative;}#sk-71272eb3-2436-4b70-a259-e26faf8e5de1 div.sk-label label {font-family: monospace;font-weight: bold;background-color: white;display: inline-block;line-height: 1.2em;}#sk-71272eb3-2436-4b70-a259-e26faf8e5de1 div.sk-label-container {position: relative;z-index: 2;text-align: center;}#sk-71272eb3-2436-4b70-a259-e26faf8e5de1 div.sk-container {/* jupyter's `normalize.less` sets `[hidden] { display: none; }` but bootstrap.min.css set `[hidden] { display: none !important; }` so we also need the `!important` here to be able to override the default hidden behavior on the sphinx rendered scikit-learn.org. See: https://github.com/scikit-learn/scikit-learn/issues/21755 */display: inline-block !important;position: relative;}#sk-71272eb3-2436-4b70-a259-e26faf8e5de1 div.sk-text-repr-fallback {display: none;}</style><div id=\"sk-71272eb3-2436-4b70-a259-e26faf8e5de1\" class=\"sk-top-container\"><div class=\"sk-text-repr-fallback\"><pre>Pipeline(steps=[(&#x27;preprocessor&#x27;,\n",
              "                 ColumnTransformer(transformers=[(&#x27;num_imputed&#x27;,\n",
              "                                                  Pipeline(steps=[(&#x27;imputation&#x27;,\n",
              "                                                                   SimpleImputer()),\n",
              "                                                                  (&#x27;scaler&#x27;,\n",
              "                                                                   StandardScaler())]),\n",
              "                                                  [&#x27;Seats&#x27;]),\n",
              "                                                 (&#x27;num_not_imputed&#x27;,\n",
              "                                                  Pipeline(steps=[(&#x27;scaler&#x27;,\n",
              "                                                                   StandardScaler())]),\n",
              "                                                  [&#x27;power_new&#x27;, &#x27;age&#x27;,\n",
              "                                                   &#x27;engine_new&#x27;, &#x27;KM_Driven&#x27;,\n",
              "                                                   &#x27;mileage_new&#x27;]),\n",
              "                                                 (&#x27;catvars&#x27;,\n",
              "                                                  Pipeline(steps=[(&#x27;ohencoder&#x27;,\n",
              "                                                                   OneHotEncoder(handle_unknown=&#x27;ignore&#x27;))]),\n",
              "                                                  [&#x27;Fuel_Type&#x27;, &#x27;Transmission&#x27;,\n",
              "                                                   &#x27;Owner_Type&#x27;, &#x27;make&#x27;,\n",
              "                                                   &#x27;Location&#x27;])])),\n",
              "                (&#x27;regressor&#x27;, SGDRegressor(max_iter=100))])</pre><b>Please rerun this cell to show the HTML repr or trust the notebook.</b></div><div class=\"sk-container\" hidden><div class=\"sk-item sk-dashed-wrapped\"><div class=\"sk-label-container\"><div class=\"sk-label sk-toggleable\"><input class=\"sk-toggleable__control sk-hidden--visually\" id=\"87f9e6fa-3f08-4b53-aaeb-65eaf30ea454\" type=\"checkbox\" ><label for=\"87f9e6fa-3f08-4b53-aaeb-65eaf30ea454\" class=\"sk-toggleable__label sk-toggleable__label-arrow\">Pipeline</label><div class=\"sk-toggleable__content\"><pre>Pipeline(steps=[(&#x27;preprocessor&#x27;,\n",
              "                 ColumnTransformer(transformers=[(&#x27;num_imputed&#x27;,\n",
              "                                                  Pipeline(steps=[(&#x27;imputation&#x27;,\n",
              "                                                                   SimpleImputer()),\n",
              "                                                                  (&#x27;scaler&#x27;,\n",
              "                                                                   StandardScaler())]),\n",
              "                                                  [&#x27;Seats&#x27;]),\n",
              "                                                 (&#x27;num_not_imputed&#x27;,\n",
              "                                                  Pipeline(steps=[(&#x27;scaler&#x27;,\n",
              "                                                                   StandardScaler())]),\n",
              "                                                  [&#x27;power_new&#x27;, &#x27;age&#x27;,\n",
              "                                                   &#x27;engine_new&#x27;, &#x27;KM_Driven&#x27;,\n",
              "                                                   &#x27;mileage_new&#x27;]),\n",
              "                                                 (&#x27;catvars&#x27;,\n",
              "                                                  Pipeline(steps=[(&#x27;ohencoder&#x27;,\n",
              "                                                                   OneHotEncoder(handle_unknown=&#x27;ignore&#x27;))]),\n",
              "                                                  [&#x27;Fuel_Type&#x27;, &#x27;Transmission&#x27;,\n",
              "                                                   &#x27;Owner_Type&#x27;, &#x27;make&#x27;,\n",
              "                                                   &#x27;Location&#x27;])])),\n",
              "                (&#x27;regressor&#x27;, SGDRegressor(max_iter=100))])</pre></div></div></div><div class=\"sk-serial\"><div class=\"sk-item sk-dashed-wrapped\"><div class=\"sk-label-container\"><div class=\"sk-label sk-toggleable\"><input class=\"sk-toggleable__control sk-hidden--visually\" id=\"0afe149a-49ad-4684-ae20-c71c2ab0156d\" type=\"checkbox\" ><label for=\"0afe149a-49ad-4684-ae20-c71c2ab0156d\" class=\"sk-toggleable__label sk-toggleable__label-arrow\">preprocessor: ColumnTransformer</label><div class=\"sk-toggleable__content\"><pre>ColumnTransformer(transformers=[(&#x27;num_imputed&#x27;,\n",
              "                                 Pipeline(steps=[(&#x27;imputation&#x27;,\n",
              "                                                  SimpleImputer()),\n",
              "                                                 (&#x27;scaler&#x27;, StandardScaler())]),\n",
              "                                 [&#x27;Seats&#x27;]),\n",
              "                                (&#x27;num_not_imputed&#x27;,\n",
              "                                 Pipeline(steps=[(&#x27;scaler&#x27;, StandardScaler())]),\n",
              "                                 [&#x27;power_new&#x27;, &#x27;age&#x27;, &#x27;engine_new&#x27;, &#x27;KM_Driven&#x27;,\n",
              "                                  &#x27;mileage_new&#x27;]),\n",
              "                                (&#x27;catvars&#x27;,\n",
              "                                 Pipeline(steps=[(&#x27;ohencoder&#x27;,\n",
              "                                                  OneHotEncoder(handle_unknown=&#x27;ignore&#x27;))]),\n",
              "                                 [&#x27;Fuel_Type&#x27;, &#x27;Transmission&#x27;, &#x27;Owner_Type&#x27;,\n",
              "                                  &#x27;make&#x27;, &#x27;Location&#x27;])])</pre></div></div></div><div class=\"sk-parallel\"><div class=\"sk-parallel-item\"><div class=\"sk-item\"><div class=\"sk-label-container\"><div class=\"sk-label sk-toggleable\"><input class=\"sk-toggleable__control sk-hidden--visually\" id=\"c4ad5762-3729-4861-aa10-aa2a7a34a3ed\" type=\"checkbox\" ><label for=\"c4ad5762-3729-4861-aa10-aa2a7a34a3ed\" class=\"sk-toggleable__label sk-toggleable__label-arrow\">num_imputed</label><div class=\"sk-toggleable__content\"><pre>[&#x27;Seats&#x27;]</pre></div></div></div><div class=\"sk-serial\"><div class=\"sk-item\"><div class=\"sk-serial\"><div class=\"sk-item\"><div class=\"sk-estimator sk-toggleable\"><input class=\"sk-toggleable__control sk-hidden--visually\" id=\"12ed693b-5a80-4acd-b221-8b2100942ddb\" type=\"checkbox\" ><label for=\"12ed693b-5a80-4acd-b221-8b2100942ddb\" class=\"sk-toggleable__label sk-toggleable__label-arrow\">SimpleImputer</label><div class=\"sk-toggleable__content\"><pre>SimpleImputer()</pre></div></div></div><div class=\"sk-item\"><div class=\"sk-estimator sk-toggleable\"><input class=\"sk-toggleable__control sk-hidden--visually\" id=\"923e5320-6a9b-4aa6-9d95-16bf53cdc971\" type=\"checkbox\" ><label for=\"923e5320-6a9b-4aa6-9d95-16bf53cdc971\" class=\"sk-toggleable__label sk-toggleable__label-arrow\">StandardScaler</label><div class=\"sk-toggleable__content\"><pre>StandardScaler()</pre></div></div></div></div></div></div></div></div><div class=\"sk-parallel-item\"><div class=\"sk-item\"><div class=\"sk-label-container\"><div class=\"sk-label sk-toggleable\"><input class=\"sk-toggleable__control sk-hidden--visually\" id=\"fb132c5d-0643-423b-a2dd-95a02f53df61\" type=\"checkbox\" ><label for=\"fb132c5d-0643-423b-a2dd-95a02f53df61\" class=\"sk-toggleable__label sk-toggleable__label-arrow\">num_not_imputed</label><div class=\"sk-toggleable__content\"><pre>[&#x27;power_new&#x27;, &#x27;age&#x27;, &#x27;engine_new&#x27;, &#x27;KM_Driven&#x27;, &#x27;mileage_new&#x27;]</pre></div></div></div><div class=\"sk-serial\"><div class=\"sk-item\"><div class=\"sk-serial\"><div class=\"sk-item\"><div class=\"sk-estimator sk-toggleable\"><input class=\"sk-toggleable__control sk-hidden--visually\" id=\"5e4e6c9e-e77c-4347-b0a8-628111d6e459\" type=\"checkbox\" ><label for=\"5e4e6c9e-e77c-4347-b0a8-628111d6e459\" class=\"sk-toggleable__label sk-toggleable__label-arrow\">StandardScaler</label><div class=\"sk-toggleable__content\"><pre>StandardScaler()</pre></div></div></div></div></div></div></div></div><div class=\"sk-parallel-item\"><div class=\"sk-item\"><div class=\"sk-label-container\"><div class=\"sk-label sk-toggleable\"><input class=\"sk-toggleable__control sk-hidden--visually\" id=\"221ef1a8-bbef-4d87-af26-44970f334ecd\" type=\"checkbox\" ><label for=\"221ef1a8-bbef-4d87-af26-44970f334ecd\" class=\"sk-toggleable__label sk-toggleable__label-arrow\">catvars</label><div class=\"sk-toggleable__content\"><pre>[&#x27;Fuel_Type&#x27;, &#x27;Transmission&#x27;, &#x27;Owner_Type&#x27;, &#x27;make&#x27;, &#x27;Location&#x27;]</pre></div></div></div><div class=\"sk-serial\"><div class=\"sk-item\"><div class=\"sk-serial\"><div class=\"sk-item\"><div class=\"sk-estimator sk-toggleable\"><input class=\"sk-toggleable__control sk-hidden--visually\" id=\"6267274e-bfac-4f60-9244-d6070f77e90e\" type=\"checkbox\" ><label for=\"6267274e-bfac-4f60-9244-d6070f77e90e\" class=\"sk-toggleable__label sk-toggleable__label-arrow\">OneHotEncoder</label><div class=\"sk-toggleable__content\"><pre>OneHotEncoder(handle_unknown=&#x27;ignore&#x27;)</pre></div></div></div></div></div></div></div></div></div></div><div class=\"sk-item\"><div class=\"sk-estimator sk-toggleable\"><input class=\"sk-toggleable__control sk-hidden--visually\" id=\"aeed486c-fa53-4d49-ade3-992084941cb2\" type=\"checkbox\" ><label for=\"aeed486c-fa53-4d49-ade3-992084941cb2\" class=\"sk-toggleable__label sk-toggleable__label-arrow\">SGDRegressor</label><div class=\"sk-toggleable__content\"><pre>SGDRegressor(max_iter=100)</pre></div></div></div></div></div></div></div>"
            ]
          },
          "metadata": {},
          "execution_count": 32
        }
      ],
      "source": [
        "lreg_v1.fit(X_train, y_train)"
      ]
    },
    {
      "cell_type": "code",
      "source": [
        "column_names = (imputed_num_features + \n",
        "                non_imputed_num_features + \n",
        "                list(lreg_v1['preprocessor'].transformers_[2][1].get_feature_names_out()))"
      ],
      "metadata": {
        "id": "cZ39rpqQxWbb"
      },
      "execution_count": 33,
      "outputs": []
    },
    {
      "cell_type": "code",
      "source": [
        "column_names"
      ],
      "metadata": {
        "colab": {
          "base_uri": "https://localhost:8080/"
        },
        "id": "1BNo-kWlx0BB",
        "outputId": "f37794bb-1389-4979-dfa3-19e9aa6a3569"
      },
      "execution_count": 34,
      "outputs": [
        {
          "output_type": "execute_result",
          "data": {
            "text/plain": [
              "['Seats',\n",
              " 'power_new',\n",
              " 'age',\n",
              " 'engine_new',\n",
              " 'KM_Driven',\n",
              " 'mileage_new',\n",
              " 'Fuel_Type_Diesel',\n",
              " 'Fuel_Type_Petrol',\n",
              " 'Transmission_Automatic',\n",
              " 'Transmission_Manual',\n",
              " 'Owner_Type_First',\n",
              " 'Owner_Type_Fourth & Above',\n",
              " 'Owner_Type_Second',\n",
              " 'Owner_Type_Third',\n",
              " 'make_chevrolet',\n",
              " 'make_datsun',\n",
              " 'make_fiat',\n",
              " 'make_ford',\n",
              " 'make_honda',\n",
              " 'make_hyundai',\n",
              " 'make_mahindra',\n",
              " 'make_maruti',\n",
              " 'make_mitsubishi',\n",
              " 'make_nissan',\n",
              " 'make_renault',\n",
              " 'make_skoda',\n",
              " 'make_tata',\n",
              " 'make_toyota',\n",
              " 'make_volkswagen',\n",
              " 'Location_Ahmedabad',\n",
              " 'Location_Bangalore',\n",
              " 'Location_Chennai',\n",
              " 'Location_Coimbatore',\n",
              " 'Location_Delhi',\n",
              " 'Location_Hyderabad',\n",
              " 'Location_Jaipur',\n",
              " 'Location_Kochi',\n",
              " 'Location_Kolkata',\n",
              " 'Location_Mumbai',\n",
              " 'Location_Pune']"
            ]
          },
          "metadata": {},
          "execution_count": 34
        }
      ]
    },
    {
      "cell_type": "markdown",
      "metadata": {
        "id": "mroUeJbiz7fr"
      },
      "source": [
        "### Understanding model parameters"
      ]
    },
    {
      "cell_type": "code",
      "execution_count": 35,
      "metadata": {
        "id": "xs0LdUFKz7fr",
        "outputId": "7fb72184-747b-4d3c-bf43-9f338a676b61",
        "colab": {
          "base_uri": "https://localhost:8080/"
        }
      },
      "outputs": [
        {
          "output_type": "execute_result",
          "data": {
            "text/plain": [
              "array([0.02750958])"
            ]
          },
          "metadata": {},
          "execution_count": 35
        }
      ],
      "source": [
        "lreg_v1['regressor'].intercept_"
      ]
    },
    {
      "cell_type": "code",
      "execution_count": 36,
      "metadata": {
        "id": "0wyBqNAvz7fr",
        "outputId": "e91516d6-9c77-4951-8eac-9db3ae9e3d08",
        "colab": {
          "base_uri": "https://localhost:8080/"
        }
      },
      "outputs": [
        {
          "output_type": "execute_result",
          "data": {
            "text/plain": [
              "array([ 0.08318122,  0.62098982, -1.08301444,  0.30718744, -0.32234573,\n",
              "       -0.08460021,  1.83265074,  0.90570177,  1.47730343,  1.26104907,\n",
              "        1.07639139,  0.03461399,  0.90527879,  0.72206833, -0.28203036,\n",
              "       -0.12564927, -0.0587081 ,  0.25202933,  0.24480123,  0.48573597,\n",
              "       -0.22692982,  1.00952366,  0.08702958,  0.11626947,  0.32133233,\n",
              "        0.06570771, -0.487497  ,  0.90889667,  0.42784111,  0.16158221,\n",
              "        0.61530639,  0.38195242,  1.09469312, -0.22482504,  0.68411588,\n",
              "        0.16643074,  0.5197492 , -0.8450688 ,  0.01205206,  0.17236433])"
            ]
          },
          "metadata": {},
          "execution_count": 36
        }
      ],
      "source": [
        "lreg_v1['regressor'].coef_"
      ]
    },
    {
      "cell_type": "code",
      "source": [
        "dict(zip(column_names, np.round(lreg_v1['regressor'].coef_, 2)))"
      ],
      "metadata": {
        "colab": {
          "base_uri": "https://localhost:8080/"
        },
        "id": "uSg50izh0R0j",
        "outputId": "7abe92a5-fbb6-4e5d-d4d6-603f4b5048fe"
      },
      "execution_count": 37,
      "outputs": [
        {
          "output_type": "execute_result",
          "data": {
            "text/plain": [
              "{'Fuel_Type_Diesel': 1.83,\n",
              " 'Fuel_Type_Petrol': 0.91,\n",
              " 'KM_Driven': -0.32,\n",
              " 'Location_Ahmedabad': 0.16,\n",
              " 'Location_Bangalore': 0.62,\n",
              " 'Location_Chennai': 0.38,\n",
              " 'Location_Coimbatore': 1.09,\n",
              " 'Location_Delhi': -0.22,\n",
              " 'Location_Hyderabad': 0.68,\n",
              " 'Location_Jaipur': 0.17,\n",
              " 'Location_Kochi': 0.52,\n",
              " 'Location_Kolkata': -0.85,\n",
              " 'Location_Mumbai': 0.01,\n",
              " 'Location_Pune': 0.17,\n",
              " 'Owner_Type_First': 1.08,\n",
              " 'Owner_Type_Fourth & Above': 0.03,\n",
              " 'Owner_Type_Second': 0.91,\n",
              " 'Owner_Type_Third': 0.72,\n",
              " 'Seats': 0.08,\n",
              " 'Transmission_Automatic': 1.48,\n",
              " 'Transmission_Manual': 1.26,\n",
              " 'age': -1.08,\n",
              " 'engine_new': 0.31,\n",
              " 'make_chevrolet': -0.28,\n",
              " 'make_datsun': -0.13,\n",
              " 'make_fiat': -0.06,\n",
              " 'make_ford': 0.25,\n",
              " 'make_honda': 0.24,\n",
              " 'make_hyundai': 0.49,\n",
              " 'make_mahindra': -0.23,\n",
              " 'make_maruti': 1.01,\n",
              " 'make_mitsubishi': 0.09,\n",
              " 'make_nissan': 0.12,\n",
              " 'make_renault': 0.32,\n",
              " 'make_skoda': 0.07,\n",
              " 'make_tata': -0.49,\n",
              " 'make_toyota': 0.91,\n",
              " 'make_volkswagen': 0.43,\n",
              " 'mileage_new': -0.08,\n",
              " 'power_new': 0.62}"
            ]
          },
          "metadata": {},
          "execution_count": 37
        }
      ]
    },
    {
      "cell_type": "markdown",
      "metadata": {
        "id": "iIm18Ifaz7fs"
      },
      "source": [
        "### Predict on test set"
      ]
    },
    {
      "cell_type": "code",
      "execution_count": 38,
      "metadata": {
        "id": "m3tkHqwXz7fs"
      },
      "outputs": [],
      "source": [
        "y_pred = lreg_v1.predict(X_test)"
      ]
    },
    {
      "cell_type": "code",
      "execution_count": 39,
      "metadata": {
        "id": "0lKHcRBIz7fs"
      },
      "outputs": [],
      "source": [
        "y_df = pd.DataFrame({\"actual\": y_test,\n",
        "                     \"predicted\": y_pred,\n",
        "                     \"residual\": y_pred - y_test})"
      ]
    },
    {
      "cell_type": "code",
      "execution_count": 40,
      "metadata": {
        "id": "weWc1eJYz7fs",
        "outputId": "3e5aeb19-2a40-4330-bad6-337fca6451a7",
        "colab": {
          "base_uri": "https://localhost:8080/",
          "height": 363
        }
      },
      "outputs": [
        {
          "output_type": "execute_result",
          "data": {
            "text/plain": [
              "      actual  predicted  residual\n",
              "770     7.23   6.107342 -1.122658\n",
              "1540    6.43   5.400535 -1.029465\n",
              "2962    6.25   5.803981 -0.446019\n",
              "2040    4.69   5.348265  0.658265\n",
              "640     2.65   2.768402  0.118402\n",
              "81      8.35   6.360655 -1.989345\n",
              "2773    6.75   5.822801 -0.927199\n",
              "816     3.00   4.009055  1.009055\n",
              "305     1.96   0.887004 -1.072996\n",
              "2907    4.00   4.418604  0.418604"
            ],
            "text/html": [
              "\n",
              "  <div id=\"df-ecc192e7-0a74-451c-8a9a-897876c9962f\">\n",
              "    <div class=\"colab-df-container\">\n",
              "      <div>\n",
              "<style scoped>\n",
              "    .dataframe tbody tr th:only-of-type {\n",
              "        vertical-align: middle;\n",
              "    }\n",
              "\n",
              "    .dataframe tbody tr th {\n",
              "        vertical-align: top;\n",
              "    }\n",
              "\n",
              "    .dataframe thead th {\n",
              "        text-align: right;\n",
              "    }\n",
              "</style>\n",
              "<table border=\"1\" class=\"dataframe\">\n",
              "  <thead>\n",
              "    <tr style=\"text-align: right;\">\n",
              "      <th></th>\n",
              "      <th>actual</th>\n",
              "      <th>predicted</th>\n",
              "      <th>residual</th>\n",
              "    </tr>\n",
              "  </thead>\n",
              "  <tbody>\n",
              "    <tr>\n",
              "      <th>770</th>\n",
              "      <td>7.23</td>\n",
              "      <td>6.107342</td>\n",
              "      <td>-1.122658</td>\n",
              "    </tr>\n",
              "    <tr>\n",
              "      <th>1540</th>\n",
              "      <td>6.43</td>\n",
              "      <td>5.400535</td>\n",
              "      <td>-1.029465</td>\n",
              "    </tr>\n",
              "    <tr>\n",
              "      <th>2962</th>\n",
              "      <td>6.25</td>\n",
              "      <td>5.803981</td>\n",
              "      <td>-0.446019</td>\n",
              "    </tr>\n",
              "    <tr>\n",
              "      <th>2040</th>\n",
              "      <td>4.69</td>\n",
              "      <td>5.348265</td>\n",
              "      <td>0.658265</td>\n",
              "    </tr>\n",
              "    <tr>\n",
              "      <th>640</th>\n",
              "      <td>2.65</td>\n",
              "      <td>2.768402</td>\n",
              "      <td>0.118402</td>\n",
              "    </tr>\n",
              "    <tr>\n",
              "      <th>81</th>\n",
              "      <td>8.35</td>\n",
              "      <td>6.360655</td>\n",
              "      <td>-1.989345</td>\n",
              "    </tr>\n",
              "    <tr>\n",
              "      <th>2773</th>\n",
              "      <td>6.75</td>\n",
              "      <td>5.822801</td>\n",
              "      <td>-0.927199</td>\n",
              "    </tr>\n",
              "    <tr>\n",
              "      <th>816</th>\n",
              "      <td>3.00</td>\n",
              "      <td>4.009055</td>\n",
              "      <td>1.009055</td>\n",
              "    </tr>\n",
              "    <tr>\n",
              "      <th>305</th>\n",
              "      <td>1.96</td>\n",
              "      <td>0.887004</td>\n",
              "      <td>-1.072996</td>\n",
              "    </tr>\n",
              "    <tr>\n",
              "      <th>2907</th>\n",
              "      <td>4.00</td>\n",
              "      <td>4.418604</td>\n",
              "      <td>0.418604</td>\n",
              "    </tr>\n",
              "  </tbody>\n",
              "</table>\n",
              "</div>\n",
              "      <button class=\"colab-df-convert\" onclick=\"convertToInteractive('df-ecc192e7-0a74-451c-8a9a-897876c9962f')\"\n",
              "              title=\"Convert this dataframe to an interactive table.\"\n",
              "              style=\"display:none;\">\n",
              "        \n",
              "  <svg xmlns=\"http://www.w3.org/2000/svg\" height=\"24px\"viewBox=\"0 0 24 24\"\n",
              "       width=\"24px\">\n",
              "    <path d=\"M0 0h24v24H0V0z\" fill=\"none\"/>\n",
              "    <path d=\"M18.56 5.44l.94 2.06.94-2.06 2.06-.94-2.06-.94-.94-2.06-.94 2.06-2.06.94zm-11 1L8.5 8.5l.94-2.06 2.06-.94-2.06-.94L8.5 2.5l-.94 2.06-2.06.94zm10 10l.94 2.06.94-2.06 2.06-.94-2.06-.94-.94-2.06-.94 2.06-2.06.94z\"/><path d=\"M17.41 7.96l-1.37-1.37c-.4-.4-.92-.59-1.43-.59-.52 0-1.04.2-1.43.59L10.3 9.45l-7.72 7.72c-.78.78-.78 2.05 0 2.83L4 21.41c.39.39.9.59 1.41.59.51 0 1.02-.2 1.41-.59l7.78-7.78 2.81-2.81c.8-.78.8-2.07 0-2.86zM5.41 20L4 18.59l7.72-7.72 1.47 1.35L5.41 20z\"/>\n",
              "  </svg>\n",
              "      </button>\n",
              "      \n",
              "  <style>\n",
              "    .colab-df-container {\n",
              "      display:flex;\n",
              "      flex-wrap:wrap;\n",
              "      gap: 12px;\n",
              "    }\n",
              "\n",
              "    .colab-df-convert {\n",
              "      background-color: #E8F0FE;\n",
              "      border: none;\n",
              "      border-radius: 50%;\n",
              "      cursor: pointer;\n",
              "      display: none;\n",
              "      fill: #1967D2;\n",
              "      height: 32px;\n",
              "      padding: 0 0 0 0;\n",
              "      width: 32px;\n",
              "    }\n",
              "\n",
              "    .colab-df-convert:hover {\n",
              "      background-color: #E2EBFA;\n",
              "      box-shadow: 0px 1px 2px rgba(60, 64, 67, 0.3), 0px 1px 3px 1px rgba(60, 64, 67, 0.15);\n",
              "      fill: #174EA6;\n",
              "    }\n",
              "\n",
              "    [theme=dark] .colab-df-convert {\n",
              "      background-color: #3B4455;\n",
              "      fill: #D2E3FC;\n",
              "    }\n",
              "\n",
              "    [theme=dark] .colab-df-convert:hover {\n",
              "      background-color: #434B5C;\n",
              "      box-shadow: 0px 1px 3px 1px rgba(0, 0, 0, 0.15);\n",
              "      filter: drop-shadow(0px 1px 2px rgba(0, 0, 0, 0.3));\n",
              "      fill: #FFFFFF;\n",
              "    }\n",
              "  </style>\n",
              "\n",
              "      <script>\n",
              "        const buttonEl =\n",
              "          document.querySelector('#df-ecc192e7-0a74-451c-8a9a-897876c9962f button.colab-df-convert');\n",
              "        buttonEl.style.display =\n",
              "          google.colab.kernel.accessAllowed ? 'block' : 'none';\n",
              "\n",
              "        async function convertToInteractive(key) {\n",
              "          const element = document.querySelector('#df-ecc192e7-0a74-451c-8a9a-897876c9962f');\n",
              "          const dataTable =\n",
              "            await google.colab.kernel.invokeFunction('convertToInteractive',\n",
              "                                                     [key], {});\n",
              "          if (!dataTable) return;\n",
              "\n",
              "          const docLinkHtml = 'Like what you see? Visit the ' +\n",
              "            '<a target=\"_blank\" href=https://colab.research.google.com/notebooks/data_table.ipynb>data table notebook</a>'\n",
              "            + ' to learn more about interactive tables.';\n",
              "          element.innerHTML = '';\n",
              "          dataTable['output_type'] = 'display_data';\n",
              "          await google.colab.output.renderOutput(dataTable, element);\n",
              "          const docLink = document.createElement('div');\n",
              "          docLink.innerHTML = docLinkHtml;\n",
              "          element.appendChild(docLink);\n",
              "        }\n",
              "      </script>\n",
              "    </div>\n",
              "  </div>\n",
              "  "
            ]
          },
          "metadata": {},
          "execution_count": 40
        }
      ],
      "source": [
        "y_df.sample(10, random_state = 100)"
      ]
    },
    {
      "cell_type": "markdown",
      "metadata": {
        "id": "CzSuJRmpz7fs"
      },
      "source": [
        "### Measuring Accuracy"
      ]
    },
    {
      "cell_type": "code",
      "execution_count": 41,
      "metadata": {
        "id": "nyQlJN2bz7ft"
      },
      "outputs": [],
      "source": [
        "from sklearn.metrics import mean_squared_error, r2_score"
      ]
    },
    {
      "cell_type": "code",
      "execution_count": 42,
      "metadata": {
        "id": "KO_CvrN6z7ft"
      },
      "outputs": [],
      "source": [
        "mse_v1 = mean_squared_error(y_test, y_pred)"
      ]
    },
    {
      "cell_type": "code",
      "execution_count": 43,
      "metadata": {
        "id": "W4gmoOKXz7ft",
        "outputId": "2dc139f9-a8f1-4560-cb99-838b6f521bf9",
        "colab": {
          "base_uri": "https://localhost:8080/"
        }
      },
      "outputs": [
        {
          "output_type": "execute_result",
          "data": {
            "text/plain": [
              "0.9940316675353137"
            ]
          },
          "metadata": {},
          "execution_count": 43
        }
      ],
      "source": [
        "mse_v1"
      ]
    },
    {
      "cell_type": "code",
      "execution_count": 44,
      "metadata": {
        "id": "BwrcTfoDz7ft"
      },
      "outputs": [],
      "source": [
        "rmse_v1 = np.sqrt(mse_v1)"
      ]
    },
    {
      "cell_type": "code",
      "execution_count": 45,
      "metadata": {
        "id": "xWBrfIAAz7ft",
        "outputId": "09714db1-a5cc-4e37-ada6-31d7d9e01c6f",
        "colab": {
          "base_uri": "https://localhost:8080/"
        }
      },
      "outputs": [
        {
          "output_type": "execute_result",
          "data": {
            "text/plain": [
              "0.9970113678064627"
            ]
          },
          "metadata": {},
          "execution_count": 45
        }
      ],
      "source": [
        "rmse_v1"
      ]
    },
    {
      "cell_type": "code",
      "execution_count": 46,
      "metadata": {
        "id": "ckisqW1yz7ft",
        "outputId": "bcc77cfb-51f9-46a5-e1ac-8399750b12c9",
        "colab": {
          "base_uri": "https://localhost:8080/"
        }
      },
      "outputs": [
        {
          "output_type": "execute_result",
          "data": {
            "text/plain": [
              "0.7815227452692964"
            ]
          },
          "metadata": {},
          "execution_count": 46
        }
      ],
      "source": [
        "r2_score(y_test, y_pred)"
      ]
    },
    {
      "cell_type": "markdown",
      "metadata": {
        "id": "nq08uFuzz7fu"
      },
      "source": [
        "### K Fold Cross Validation"
      ]
    },
    {
      "cell_type": "code",
      "execution_count": 47,
      "metadata": {
        "id": "oRu99mOvz7fu"
      },
      "outputs": [],
      "source": [
        "from sklearn.model_selection import cross_val_score"
      ]
    },
    {
      "cell_type": "code",
      "execution_count": 48,
      "metadata": {
        "id": "jDDytJu-z7fu"
      },
      "outputs": [],
      "source": [
        "scores = cross_val_score( lreg_v1,\n",
        "                          X_train,\n",
        "                          y_train,\n",
        "                          cv = 10,\n",
        "                          scoring = 'r2')"
      ]
    },
    {
      "cell_type": "code",
      "execution_count": 49,
      "metadata": {
        "id": "chndiOJnz7fu",
        "outputId": "b16d77f1-55c9-4624-ecb4-d6d3ccae3644",
        "colab": {
          "base_uri": "https://localhost:8080/"
        }
      },
      "outputs": [
        {
          "output_type": "execute_result",
          "data": {
            "text/plain": [
              "array([0.77234385, 0.75191573, 0.80808045, 0.76659278, 0.78819072,\n",
              "       0.76274831, 0.77364515, 0.77623006, 0.82199631, 0.77659713])"
            ]
          },
          "metadata": {},
          "execution_count": 49
        }
      ],
      "source": [
        "scores"
      ]
    },
    {
      "cell_type": "code",
      "execution_count": 50,
      "metadata": {
        "id": "1IW6miZZz7fu",
        "outputId": "4adc9b38-dec0-497c-8a37-aef473e311a9",
        "colab": {
          "base_uri": "https://localhost:8080/"
        }
      },
      "outputs": [
        {
          "output_type": "execute_result",
          "data": {
            "text/plain": [
              "0.7798340507233623"
            ]
          },
          "metadata": {},
          "execution_count": 50
        }
      ],
      "source": [
        "scores.mean()"
      ]
    },
    {
      "cell_type": "code",
      "execution_count": 51,
      "metadata": {
        "id": "sYtccITEz7fv",
        "outputId": "7f5f9639-f820-4167-c6a8-c30685ee12f6",
        "colab": {
          "base_uri": "https://localhost:8080/"
        }
      },
      "outputs": [
        {
          "output_type": "execute_result",
          "data": {
            "text/plain": [
              "0.020024754236287395"
            ]
          },
          "metadata": {},
          "execution_count": 51
        }
      ],
      "source": [
        "scores.std()"
      ]
    },
    {
      "cell_type": "markdown",
      "metadata": {
        "id": "VXC1dT20z7fv"
      },
      "source": [
        "### Ridge Regression"
      ]
    },
    {
      "cell_type": "code",
      "execution_count": 52,
      "metadata": {
        "id": "9L6mn-EXz7fv",
        "colab": {
          "base_uri": "https://localhost:8080/",
          "height": 227
        },
        "outputId": "e39b9f0d-2ef5-40ee-ed80-244968ef88fc"
      },
      "outputs": [
        {
          "output_type": "execute_result",
          "data": {
            "text/plain": [
              "Pipeline(steps=[('preprocessor',\n",
              "                 ColumnTransformer(transformers=[('num_imputed',\n",
              "                                                  Pipeline(steps=[('imputation',\n",
              "                                                                   SimpleImputer()),\n",
              "                                                                  ('scaler',\n",
              "                                                                   StandardScaler())]),\n",
              "                                                  ['Seats']),\n",
              "                                                 ('num_not_imputed',\n",
              "                                                  Pipeline(steps=[('scaler',\n",
              "                                                                   StandardScaler())]),\n",
              "                                                  ['power_new', 'age',\n",
              "                                                   'engine_new', 'KM_Driven',\n",
              "                                                   'mileage_new']),\n",
              "                                                 ('catvars',\n",
              "                                                  Pipeline(steps=[('ohencoder',\n",
              "                                                                   OneHotEncoder(handle_unknown='ignore'))]),\n",
              "                                                  ['Fuel_Type', 'Transmission',\n",
              "                                                   'Owner_Type', 'make',\n",
              "                                                   'Location'])])),\n",
              "                ('regressor', Ridge(alpha=1, max_iter=500))])"
            ],
            "text/html": [
              "<style>#sk-c5b422e9-4d07-4833-b231-ea4b9e8ffe22 {color: black;background-color: white;}#sk-c5b422e9-4d07-4833-b231-ea4b9e8ffe22 pre{padding: 0;}#sk-c5b422e9-4d07-4833-b231-ea4b9e8ffe22 div.sk-toggleable {background-color: white;}#sk-c5b422e9-4d07-4833-b231-ea4b9e8ffe22 label.sk-toggleable__label {cursor: pointer;display: block;width: 100%;margin-bottom: 0;padding: 0.3em;box-sizing: border-box;text-align: center;}#sk-c5b422e9-4d07-4833-b231-ea4b9e8ffe22 label.sk-toggleable__label-arrow:before {content: \"▸\";float: left;margin-right: 0.25em;color: #696969;}#sk-c5b422e9-4d07-4833-b231-ea4b9e8ffe22 label.sk-toggleable__label-arrow:hover:before {color: black;}#sk-c5b422e9-4d07-4833-b231-ea4b9e8ffe22 div.sk-estimator:hover label.sk-toggleable__label-arrow:before {color: black;}#sk-c5b422e9-4d07-4833-b231-ea4b9e8ffe22 div.sk-toggleable__content {max-height: 0;max-width: 0;overflow: hidden;text-align: left;background-color: #f0f8ff;}#sk-c5b422e9-4d07-4833-b231-ea4b9e8ffe22 div.sk-toggleable__content pre {margin: 0.2em;color: black;border-radius: 0.25em;background-color: #f0f8ff;}#sk-c5b422e9-4d07-4833-b231-ea4b9e8ffe22 input.sk-toggleable__control:checked~div.sk-toggleable__content {max-height: 200px;max-width: 100%;overflow: auto;}#sk-c5b422e9-4d07-4833-b231-ea4b9e8ffe22 input.sk-toggleable__control:checked~label.sk-toggleable__label-arrow:before {content: \"▾\";}#sk-c5b422e9-4d07-4833-b231-ea4b9e8ffe22 div.sk-estimator input.sk-toggleable__control:checked~label.sk-toggleable__label {background-color: #d4ebff;}#sk-c5b422e9-4d07-4833-b231-ea4b9e8ffe22 div.sk-label input.sk-toggleable__control:checked~label.sk-toggleable__label {background-color: #d4ebff;}#sk-c5b422e9-4d07-4833-b231-ea4b9e8ffe22 input.sk-hidden--visually {border: 0;clip: rect(1px 1px 1px 1px);clip: rect(1px, 1px, 1px, 1px);height: 1px;margin: -1px;overflow: hidden;padding: 0;position: absolute;width: 1px;}#sk-c5b422e9-4d07-4833-b231-ea4b9e8ffe22 div.sk-estimator {font-family: monospace;background-color: #f0f8ff;border: 1px dotted black;border-radius: 0.25em;box-sizing: border-box;margin-bottom: 0.5em;}#sk-c5b422e9-4d07-4833-b231-ea4b9e8ffe22 div.sk-estimator:hover {background-color: #d4ebff;}#sk-c5b422e9-4d07-4833-b231-ea4b9e8ffe22 div.sk-parallel-item::after {content: \"\";width: 100%;border-bottom: 1px solid gray;flex-grow: 1;}#sk-c5b422e9-4d07-4833-b231-ea4b9e8ffe22 div.sk-label:hover label.sk-toggleable__label {background-color: #d4ebff;}#sk-c5b422e9-4d07-4833-b231-ea4b9e8ffe22 div.sk-serial::before {content: \"\";position: absolute;border-left: 1px solid gray;box-sizing: border-box;top: 2em;bottom: 0;left: 50%;}#sk-c5b422e9-4d07-4833-b231-ea4b9e8ffe22 div.sk-serial {display: flex;flex-direction: column;align-items: center;background-color: white;padding-right: 0.2em;padding-left: 0.2em;}#sk-c5b422e9-4d07-4833-b231-ea4b9e8ffe22 div.sk-item {z-index: 1;}#sk-c5b422e9-4d07-4833-b231-ea4b9e8ffe22 div.sk-parallel {display: flex;align-items: stretch;justify-content: center;background-color: white;}#sk-c5b422e9-4d07-4833-b231-ea4b9e8ffe22 div.sk-parallel::before {content: \"\";position: absolute;border-left: 1px solid gray;box-sizing: border-box;top: 2em;bottom: 0;left: 50%;}#sk-c5b422e9-4d07-4833-b231-ea4b9e8ffe22 div.sk-parallel-item {display: flex;flex-direction: column;position: relative;background-color: white;}#sk-c5b422e9-4d07-4833-b231-ea4b9e8ffe22 div.sk-parallel-item:first-child::after {align-self: flex-end;width: 50%;}#sk-c5b422e9-4d07-4833-b231-ea4b9e8ffe22 div.sk-parallel-item:last-child::after {align-self: flex-start;width: 50%;}#sk-c5b422e9-4d07-4833-b231-ea4b9e8ffe22 div.sk-parallel-item:only-child::after {width: 0;}#sk-c5b422e9-4d07-4833-b231-ea4b9e8ffe22 div.sk-dashed-wrapped {border: 1px dashed gray;margin: 0 0.4em 0.5em 0.4em;box-sizing: border-box;padding-bottom: 0.4em;background-color: white;position: relative;}#sk-c5b422e9-4d07-4833-b231-ea4b9e8ffe22 div.sk-label label {font-family: monospace;font-weight: bold;background-color: white;display: inline-block;line-height: 1.2em;}#sk-c5b422e9-4d07-4833-b231-ea4b9e8ffe22 div.sk-label-container {position: relative;z-index: 2;text-align: center;}#sk-c5b422e9-4d07-4833-b231-ea4b9e8ffe22 div.sk-container {/* jupyter's `normalize.less` sets `[hidden] { display: none; }` but bootstrap.min.css set `[hidden] { display: none !important; }` so we also need the `!important` here to be able to override the default hidden behavior on the sphinx rendered scikit-learn.org. See: https://github.com/scikit-learn/scikit-learn/issues/21755 */display: inline-block !important;position: relative;}#sk-c5b422e9-4d07-4833-b231-ea4b9e8ffe22 div.sk-text-repr-fallback {display: none;}</style><div id=\"sk-c5b422e9-4d07-4833-b231-ea4b9e8ffe22\" class=\"sk-top-container\"><div class=\"sk-text-repr-fallback\"><pre>Pipeline(steps=[(&#x27;preprocessor&#x27;,\n",
              "                 ColumnTransformer(transformers=[(&#x27;num_imputed&#x27;,\n",
              "                                                  Pipeline(steps=[(&#x27;imputation&#x27;,\n",
              "                                                                   SimpleImputer()),\n",
              "                                                                  (&#x27;scaler&#x27;,\n",
              "                                                                   StandardScaler())]),\n",
              "                                                  [&#x27;Seats&#x27;]),\n",
              "                                                 (&#x27;num_not_imputed&#x27;,\n",
              "                                                  Pipeline(steps=[(&#x27;scaler&#x27;,\n",
              "                                                                   StandardScaler())]),\n",
              "                                                  [&#x27;power_new&#x27;, &#x27;age&#x27;,\n",
              "                                                   &#x27;engine_new&#x27;, &#x27;KM_Driven&#x27;,\n",
              "                                                   &#x27;mileage_new&#x27;]),\n",
              "                                                 (&#x27;catvars&#x27;,\n",
              "                                                  Pipeline(steps=[(&#x27;ohencoder&#x27;,\n",
              "                                                                   OneHotEncoder(handle_unknown=&#x27;ignore&#x27;))]),\n",
              "                                                  [&#x27;Fuel_Type&#x27;, &#x27;Transmission&#x27;,\n",
              "                                                   &#x27;Owner_Type&#x27;, &#x27;make&#x27;,\n",
              "                                                   &#x27;Location&#x27;])])),\n",
              "                (&#x27;regressor&#x27;, Ridge(alpha=1, max_iter=500))])</pre><b>Please rerun this cell to show the HTML repr or trust the notebook.</b></div><div class=\"sk-container\" hidden><div class=\"sk-item sk-dashed-wrapped\"><div class=\"sk-label-container\"><div class=\"sk-label sk-toggleable\"><input class=\"sk-toggleable__control sk-hidden--visually\" id=\"0b5081c8-9ed1-4649-8c07-a72a9bf6542b\" type=\"checkbox\" ><label for=\"0b5081c8-9ed1-4649-8c07-a72a9bf6542b\" class=\"sk-toggleable__label sk-toggleable__label-arrow\">Pipeline</label><div class=\"sk-toggleable__content\"><pre>Pipeline(steps=[(&#x27;preprocessor&#x27;,\n",
              "                 ColumnTransformer(transformers=[(&#x27;num_imputed&#x27;,\n",
              "                                                  Pipeline(steps=[(&#x27;imputation&#x27;,\n",
              "                                                                   SimpleImputer()),\n",
              "                                                                  (&#x27;scaler&#x27;,\n",
              "                                                                   StandardScaler())]),\n",
              "                                                  [&#x27;Seats&#x27;]),\n",
              "                                                 (&#x27;num_not_imputed&#x27;,\n",
              "                                                  Pipeline(steps=[(&#x27;scaler&#x27;,\n",
              "                                                                   StandardScaler())]),\n",
              "                                                  [&#x27;power_new&#x27;, &#x27;age&#x27;,\n",
              "                                                   &#x27;engine_new&#x27;, &#x27;KM_Driven&#x27;,\n",
              "                                                   &#x27;mileage_new&#x27;]),\n",
              "                                                 (&#x27;catvars&#x27;,\n",
              "                                                  Pipeline(steps=[(&#x27;ohencoder&#x27;,\n",
              "                                                                   OneHotEncoder(handle_unknown=&#x27;ignore&#x27;))]),\n",
              "                                                  [&#x27;Fuel_Type&#x27;, &#x27;Transmission&#x27;,\n",
              "                                                   &#x27;Owner_Type&#x27;, &#x27;make&#x27;,\n",
              "                                                   &#x27;Location&#x27;])])),\n",
              "                (&#x27;regressor&#x27;, Ridge(alpha=1, max_iter=500))])</pre></div></div></div><div class=\"sk-serial\"><div class=\"sk-item sk-dashed-wrapped\"><div class=\"sk-label-container\"><div class=\"sk-label sk-toggleable\"><input class=\"sk-toggleable__control sk-hidden--visually\" id=\"05cb2b68-6ea8-439d-877c-75338a864d2f\" type=\"checkbox\" ><label for=\"05cb2b68-6ea8-439d-877c-75338a864d2f\" class=\"sk-toggleable__label sk-toggleable__label-arrow\">preprocessor: ColumnTransformer</label><div class=\"sk-toggleable__content\"><pre>ColumnTransformer(transformers=[(&#x27;num_imputed&#x27;,\n",
              "                                 Pipeline(steps=[(&#x27;imputation&#x27;,\n",
              "                                                  SimpleImputer()),\n",
              "                                                 (&#x27;scaler&#x27;, StandardScaler())]),\n",
              "                                 [&#x27;Seats&#x27;]),\n",
              "                                (&#x27;num_not_imputed&#x27;,\n",
              "                                 Pipeline(steps=[(&#x27;scaler&#x27;, StandardScaler())]),\n",
              "                                 [&#x27;power_new&#x27;, &#x27;age&#x27;, &#x27;engine_new&#x27;, &#x27;KM_Driven&#x27;,\n",
              "                                  &#x27;mileage_new&#x27;]),\n",
              "                                (&#x27;catvars&#x27;,\n",
              "                                 Pipeline(steps=[(&#x27;ohencoder&#x27;,\n",
              "                                                  OneHotEncoder(handle_unknown=&#x27;ignore&#x27;))]),\n",
              "                                 [&#x27;Fuel_Type&#x27;, &#x27;Transmission&#x27;, &#x27;Owner_Type&#x27;,\n",
              "                                  &#x27;make&#x27;, &#x27;Location&#x27;])])</pre></div></div></div><div class=\"sk-parallel\"><div class=\"sk-parallel-item\"><div class=\"sk-item\"><div class=\"sk-label-container\"><div class=\"sk-label sk-toggleable\"><input class=\"sk-toggleable__control sk-hidden--visually\" id=\"a2c02ebb-8f73-477f-affe-0694646357db\" type=\"checkbox\" ><label for=\"a2c02ebb-8f73-477f-affe-0694646357db\" class=\"sk-toggleable__label sk-toggleable__label-arrow\">num_imputed</label><div class=\"sk-toggleable__content\"><pre>[&#x27;Seats&#x27;]</pre></div></div></div><div class=\"sk-serial\"><div class=\"sk-item\"><div class=\"sk-serial\"><div class=\"sk-item\"><div class=\"sk-estimator sk-toggleable\"><input class=\"sk-toggleable__control sk-hidden--visually\" id=\"f1b5be62-8458-41a8-bf2f-1b0550a2fcfa\" type=\"checkbox\" ><label for=\"f1b5be62-8458-41a8-bf2f-1b0550a2fcfa\" class=\"sk-toggleable__label sk-toggleable__label-arrow\">SimpleImputer</label><div class=\"sk-toggleable__content\"><pre>SimpleImputer()</pre></div></div></div><div class=\"sk-item\"><div class=\"sk-estimator sk-toggleable\"><input class=\"sk-toggleable__control sk-hidden--visually\" id=\"f5a63825-9f4d-41d5-847a-f000d1b80924\" type=\"checkbox\" ><label for=\"f5a63825-9f4d-41d5-847a-f000d1b80924\" class=\"sk-toggleable__label sk-toggleable__label-arrow\">StandardScaler</label><div class=\"sk-toggleable__content\"><pre>StandardScaler()</pre></div></div></div></div></div></div></div></div><div class=\"sk-parallel-item\"><div class=\"sk-item\"><div class=\"sk-label-container\"><div class=\"sk-label sk-toggleable\"><input class=\"sk-toggleable__control sk-hidden--visually\" id=\"a3a2602e-3442-49d9-bb7b-8cf9b79ea202\" type=\"checkbox\" ><label for=\"a3a2602e-3442-49d9-bb7b-8cf9b79ea202\" class=\"sk-toggleable__label sk-toggleable__label-arrow\">num_not_imputed</label><div class=\"sk-toggleable__content\"><pre>[&#x27;power_new&#x27;, &#x27;age&#x27;, &#x27;engine_new&#x27;, &#x27;KM_Driven&#x27;, &#x27;mileage_new&#x27;]</pre></div></div></div><div class=\"sk-serial\"><div class=\"sk-item\"><div class=\"sk-serial\"><div class=\"sk-item\"><div class=\"sk-estimator sk-toggleable\"><input class=\"sk-toggleable__control sk-hidden--visually\" id=\"8032a50c-6864-4dd4-ad08-01f57c35553b\" type=\"checkbox\" ><label for=\"8032a50c-6864-4dd4-ad08-01f57c35553b\" class=\"sk-toggleable__label sk-toggleable__label-arrow\">StandardScaler</label><div class=\"sk-toggleable__content\"><pre>StandardScaler()</pre></div></div></div></div></div></div></div></div><div class=\"sk-parallel-item\"><div class=\"sk-item\"><div class=\"sk-label-container\"><div class=\"sk-label sk-toggleable\"><input class=\"sk-toggleable__control sk-hidden--visually\" id=\"0eb7b3ab-3ccf-4a44-acd0-7ee6b5a00fc1\" type=\"checkbox\" ><label for=\"0eb7b3ab-3ccf-4a44-acd0-7ee6b5a00fc1\" class=\"sk-toggleable__label sk-toggleable__label-arrow\">catvars</label><div class=\"sk-toggleable__content\"><pre>[&#x27;Fuel_Type&#x27;, &#x27;Transmission&#x27;, &#x27;Owner_Type&#x27;, &#x27;make&#x27;, &#x27;Location&#x27;]</pre></div></div></div><div class=\"sk-serial\"><div class=\"sk-item\"><div class=\"sk-serial\"><div class=\"sk-item\"><div class=\"sk-estimator sk-toggleable\"><input class=\"sk-toggleable__control sk-hidden--visually\" id=\"04ab9f4f-95b8-4b69-b332-18cda49bc34a\" type=\"checkbox\" ><label for=\"04ab9f4f-95b8-4b69-b332-18cda49bc34a\" class=\"sk-toggleable__label sk-toggleable__label-arrow\">OneHotEncoder</label><div class=\"sk-toggleable__content\"><pre>OneHotEncoder(handle_unknown=&#x27;ignore&#x27;)</pre></div></div></div></div></div></div></div></div></div></div><div class=\"sk-item\"><div class=\"sk-estimator sk-toggleable\"><input class=\"sk-toggleable__control sk-hidden--visually\" id=\"6e661707-5a73-450c-8e73-38937d84af78\" type=\"checkbox\" ><label for=\"6e661707-5a73-450c-8e73-38937d84af78\" class=\"sk-toggleable__label sk-toggleable__label-arrow\">Ridge</label><div class=\"sk-toggleable__content\"><pre>Ridge(alpha=1, max_iter=500)</pre></div></div></div></div></div></div></div>"
            ]
          },
          "metadata": {},
          "execution_count": 52
        }
      ],
      "source": [
        "# Importing Ridge Regression \n",
        "from sklearn.linear_model import Ridge\n",
        "\n",
        "\n",
        "ridge = Pipeline(steps=[('preprocessor', preprocessor),\n",
        "                        ('regressor', Ridge(alpha = 1, max_iter = 500))])\n",
        "\n",
        "\n",
        "ridge.fit( X_train, y_train )"
      ]
    },
    {
      "cell_type": "code",
      "execution_count": 53,
      "metadata": {
        "id": "MlO2MHcDz7fv"
      },
      "outputs": [],
      "source": [
        "y_pred_ridge = ridge.predict(X_test)"
      ]
    },
    {
      "cell_type": "code",
      "execution_count": 54,
      "metadata": {
        "id": "uJJ39-z6z7fv"
      },
      "outputs": [],
      "source": [
        "mse_v1 = mean_squared_error(y_test, y_pred_ridge)"
      ]
    },
    {
      "cell_type": "code",
      "execution_count": 55,
      "metadata": {
        "id": "brlA_jgTz7fv",
        "colab": {
          "base_uri": "https://localhost:8080/"
        },
        "outputId": "e8284f94-269b-49fc-94ea-74752cf871de"
      },
      "outputs": [
        {
          "output_type": "execute_result",
          "data": {
            "text/plain": [
              "0.9770219818515282"
            ]
          },
          "metadata": {},
          "execution_count": 55
        }
      ],
      "source": [
        "mse_v1"
      ]
    },
    {
      "cell_type": "code",
      "execution_count": 56,
      "metadata": {
        "id": "sfaA5mfOz7fw",
        "colab": {
          "base_uri": "https://localhost:8080/"
        },
        "outputId": "b67de307-7ac6-4889-9191-374d36798df9"
      },
      "outputs": [
        {
          "output_type": "execute_result",
          "data": {
            "text/plain": [
              "0.7852612875646742"
            ]
          },
          "metadata": {},
          "execution_count": 56
        }
      ],
      "source": [
        "r2_score(y_test, y_pred_ridge)"
      ]
    },
    {
      "cell_type": "markdown",
      "metadata": {
        "id": "Y80BB2gfz7fw"
      },
      "source": [
        "### Lasso Regression"
      ]
    },
    {
      "cell_type": "code",
      "execution_count": 57,
      "metadata": {
        "id": "f9A5H5oPz7fw",
        "colab": {
          "base_uri": "https://localhost:8080/",
          "height": 227
        },
        "outputId": "57f50f3d-8213-4d92-807b-0ae259d04b2f"
      },
      "outputs": [
        {
          "output_type": "execute_result",
          "data": {
            "text/plain": [
              "Pipeline(steps=[('preprocessor',\n",
              "                 ColumnTransformer(transformers=[('num_imputed',\n",
              "                                                  Pipeline(steps=[('imputation',\n",
              "                                                                   SimpleImputer()),\n",
              "                                                                  ('scaler',\n",
              "                                                                   StandardScaler())]),\n",
              "                                                  ['Seats']),\n",
              "                                                 ('num_not_imputed',\n",
              "                                                  Pipeline(steps=[('scaler',\n",
              "                                                                   StandardScaler())]),\n",
              "                                                  ['power_new', 'age',\n",
              "                                                   'engine_new', 'KM_Driven',\n",
              "                                                   'mileage_new']),\n",
              "                                                 ('catvars',\n",
              "                                                  Pipeline(steps=[('ohencoder',\n",
              "                                                                   OneHotEncoder(handle_unknown='ignore'))]),\n",
              "                                                  ['Fuel_Type', 'Transmission',\n",
              "                                                   'Owner_Type', 'make',\n",
              "                                                   'Location'])])),\n",
              "                ('regressor', Lasso(alpha=0.01, max_iter=500))])"
            ],
            "text/html": [
              "<style>#sk-026d3d05-7725-4d43-ae88-9fe1750c47e3 {color: black;background-color: white;}#sk-026d3d05-7725-4d43-ae88-9fe1750c47e3 pre{padding: 0;}#sk-026d3d05-7725-4d43-ae88-9fe1750c47e3 div.sk-toggleable {background-color: white;}#sk-026d3d05-7725-4d43-ae88-9fe1750c47e3 label.sk-toggleable__label {cursor: pointer;display: block;width: 100%;margin-bottom: 0;padding: 0.3em;box-sizing: border-box;text-align: center;}#sk-026d3d05-7725-4d43-ae88-9fe1750c47e3 label.sk-toggleable__label-arrow:before {content: \"▸\";float: left;margin-right: 0.25em;color: #696969;}#sk-026d3d05-7725-4d43-ae88-9fe1750c47e3 label.sk-toggleable__label-arrow:hover:before {color: black;}#sk-026d3d05-7725-4d43-ae88-9fe1750c47e3 div.sk-estimator:hover label.sk-toggleable__label-arrow:before {color: black;}#sk-026d3d05-7725-4d43-ae88-9fe1750c47e3 div.sk-toggleable__content {max-height: 0;max-width: 0;overflow: hidden;text-align: left;background-color: #f0f8ff;}#sk-026d3d05-7725-4d43-ae88-9fe1750c47e3 div.sk-toggleable__content pre {margin: 0.2em;color: black;border-radius: 0.25em;background-color: #f0f8ff;}#sk-026d3d05-7725-4d43-ae88-9fe1750c47e3 input.sk-toggleable__control:checked~div.sk-toggleable__content {max-height: 200px;max-width: 100%;overflow: auto;}#sk-026d3d05-7725-4d43-ae88-9fe1750c47e3 input.sk-toggleable__control:checked~label.sk-toggleable__label-arrow:before {content: \"▾\";}#sk-026d3d05-7725-4d43-ae88-9fe1750c47e3 div.sk-estimator input.sk-toggleable__control:checked~label.sk-toggleable__label {background-color: #d4ebff;}#sk-026d3d05-7725-4d43-ae88-9fe1750c47e3 div.sk-label input.sk-toggleable__control:checked~label.sk-toggleable__label {background-color: #d4ebff;}#sk-026d3d05-7725-4d43-ae88-9fe1750c47e3 input.sk-hidden--visually {border: 0;clip: rect(1px 1px 1px 1px);clip: rect(1px, 1px, 1px, 1px);height: 1px;margin: -1px;overflow: hidden;padding: 0;position: absolute;width: 1px;}#sk-026d3d05-7725-4d43-ae88-9fe1750c47e3 div.sk-estimator {font-family: monospace;background-color: #f0f8ff;border: 1px dotted black;border-radius: 0.25em;box-sizing: border-box;margin-bottom: 0.5em;}#sk-026d3d05-7725-4d43-ae88-9fe1750c47e3 div.sk-estimator:hover {background-color: #d4ebff;}#sk-026d3d05-7725-4d43-ae88-9fe1750c47e3 div.sk-parallel-item::after {content: \"\";width: 100%;border-bottom: 1px solid gray;flex-grow: 1;}#sk-026d3d05-7725-4d43-ae88-9fe1750c47e3 div.sk-label:hover label.sk-toggleable__label {background-color: #d4ebff;}#sk-026d3d05-7725-4d43-ae88-9fe1750c47e3 div.sk-serial::before {content: \"\";position: absolute;border-left: 1px solid gray;box-sizing: border-box;top: 2em;bottom: 0;left: 50%;}#sk-026d3d05-7725-4d43-ae88-9fe1750c47e3 div.sk-serial {display: flex;flex-direction: column;align-items: center;background-color: white;padding-right: 0.2em;padding-left: 0.2em;}#sk-026d3d05-7725-4d43-ae88-9fe1750c47e3 div.sk-item {z-index: 1;}#sk-026d3d05-7725-4d43-ae88-9fe1750c47e3 div.sk-parallel {display: flex;align-items: stretch;justify-content: center;background-color: white;}#sk-026d3d05-7725-4d43-ae88-9fe1750c47e3 div.sk-parallel::before {content: \"\";position: absolute;border-left: 1px solid gray;box-sizing: border-box;top: 2em;bottom: 0;left: 50%;}#sk-026d3d05-7725-4d43-ae88-9fe1750c47e3 div.sk-parallel-item {display: flex;flex-direction: column;position: relative;background-color: white;}#sk-026d3d05-7725-4d43-ae88-9fe1750c47e3 div.sk-parallel-item:first-child::after {align-self: flex-end;width: 50%;}#sk-026d3d05-7725-4d43-ae88-9fe1750c47e3 div.sk-parallel-item:last-child::after {align-self: flex-start;width: 50%;}#sk-026d3d05-7725-4d43-ae88-9fe1750c47e3 div.sk-parallel-item:only-child::after {width: 0;}#sk-026d3d05-7725-4d43-ae88-9fe1750c47e3 div.sk-dashed-wrapped {border: 1px dashed gray;margin: 0 0.4em 0.5em 0.4em;box-sizing: border-box;padding-bottom: 0.4em;background-color: white;position: relative;}#sk-026d3d05-7725-4d43-ae88-9fe1750c47e3 div.sk-label label {font-family: monospace;font-weight: bold;background-color: white;display: inline-block;line-height: 1.2em;}#sk-026d3d05-7725-4d43-ae88-9fe1750c47e3 div.sk-label-container {position: relative;z-index: 2;text-align: center;}#sk-026d3d05-7725-4d43-ae88-9fe1750c47e3 div.sk-container {/* jupyter's `normalize.less` sets `[hidden] { display: none; }` but bootstrap.min.css set `[hidden] { display: none !important; }` so we also need the `!important` here to be able to override the default hidden behavior on the sphinx rendered scikit-learn.org. See: https://github.com/scikit-learn/scikit-learn/issues/21755 */display: inline-block !important;position: relative;}#sk-026d3d05-7725-4d43-ae88-9fe1750c47e3 div.sk-text-repr-fallback {display: none;}</style><div id=\"sk-026d3d05-7725-4d43-ae88-9fe1750c47e3\" class=\"sk-top-container\"><div class=\"sk-text-repr-fallback\"><pre>Pipeline(steps=[(&#x27;preprocessor&#x27;,\n",
              "                 ColumnTransformer(transformers=[(&#x27;num_imputed&#x27;,\n",
              "                                                  Pipeline(steps=[(&#x27;imputation&#x27;,\n",
              "                                                                   SimpleImputer()),\n",
              "                                                                  (&#x27;scaler&#x27;,\n",
              "                                                                   StandardScaler())]),\n",
              "                                                  [&#x27;Seats&#x27;]),\n",
              "                                                 (&#x27;num_not_imputed&#x27;,\n",
              "                                                  Pipeline(steps=[(&#x27;scaler&#x27;,\n",
              "                                                                   StandardScaler())]),\n",
              "                                                  [&#x27;power_new&#x27;, &#x27;age&#x27;,\n",
              "                                                   &#x27;engine_new&#x27;, &#x27;KM_Driven&#x27;,\n",
              "                                                   &#x27;mileage_new&#x27;]),\n",
              "                                                 (&#x27;catvars&#x27;,\n",
              "                                                  Pipeline(steps=[(&#x27;ohencoder&#x27;,\n",
              "                                                                   OneHotEncoder(handle_unknown=&#x27;ignore&#x27;))]),\n",
              "                                                  [&#x27;Fuel_Type&#x27;, &#x27;Transmission&#x27;,\n",
              "                                                   &#x27;Owner_Type&#x27;, &#x27;make&#x27;,\n",
              "                                                   &#x27;Location&#x27;])])),\n",
              "                (&#x27;regressor&#x27;, Lasso(alpha=0.01, max_iter=500))])</pre><b>Please rerun this cell to show the HTML repr or trust the notebook.</b></div><div class=\"sk-container\" hidden><div class=\"sk-item sk-dashed-wrapped\"><div class=\"sk-label-container\"><div class=\"sk-label sk-toggleable\"><input class=\"sk-toggleable__control sk-hidden--visually\" id=\"f2ac6f47-7dc5-4415-a5b6-8894c2f512ed\" type=\"checkbox\" ><label for=\"f2ac6f47-7dc5-4415-a5b6-8894c2f512ed\" class=\"sk-toggleable__label sk-toggleable__label-arrow\">Pipeline</label><div class=\"sk-toggleable__content\"><pre>Pipeline(steps=[(&#x27;preprocessor&#x27;,\n",
              "                 ColumnTransformer(transformers=[(&#x27;num_imputed&#x27;,\n",
              "                                                  Pipeline(steps=[(&#x27;imputation&#x27;,\n",
              "                                                                   SimpleImputer()),\n",
              "                                                                  (&#x27;scaler&#x27;,\n",
              "                                                                   StandardScaler())]),\n",
              "                                                  [&#x27;Seats&#x27;]),\n",
              "                                                 (&#x27;num_not_imputed&#x27;,\n",
              "                                                  Pipeline(steps=[(&#x27;scaler&#x27;,\n",
              "                                                                   StandardScaler())]),\n",
              "                                                  [&#x27;power_new&#x27;, &#x27;age&#x27;,\n",
              "                                                   &#x27;engine_new&#x27;, &#x27;KM_Driven&#x27;,\n",
              "                                                   &#x27;mileage_new&#x27;]),\n",
              "                                                 (&#x27;catvars&#x27;,\n",
              "                                                  Pipeline(steps=[(&#x27;ohencoder&#x27;,\n",
              "                                                                   OneHotEncoder(handle_unknown=&#x27;ignore&#x27;))]),\n",
              "                                                  [&#x27;Fuel_Type&#x27;, &#x27;Transmission&#x27;,\n",
              "                                                   &#x27;Owner_Type&#x27;, &#x27;make&#x27;,\n",
              "                                                   &#x27;Location&#x27;])])),\n",
              "                (&#x27;regressor&#x27;, Lasso(alpha=0.01, max_iter=500))])</pre></div></div></div><div class=\"sk-serial\"><div class=\"sk-item sk-dashed-wrapped\"><div class=\"sk-label-container\"><div class=\"sk-label sk-toggleable\"><input class=\"sk-toggleable__control sk-hidden--visually\" id=\"a7b83f67-b41b-4196-bf72-8a56d8542447\" type=\"checkbox\" ><label for=\"a7b83f67-b41b-4196-bf72-8a56d8542447\" class=\"sk-toggleable__label sk-toggleable__label-arrow\">preprocessor: ColumnTransformer</label><div class=\"sk-toggleable__content\"><pre>ColumnTransformer(transformers=[(&#x27;num_imputed&#x27;,\n",
              "                                 Pipeline(steps=[(&#x27;imputation&#x27;,\n",
              "                                                  SimpleImputer()),\n",
              "                                                 (&#x27;scaler&#x27;, StandardScaler())]),\n",
              "                                 [&#x27;Seats&#x27;]),\n",
              "                                (&#x27;num_not_imputed&#x27;,\n",
              "                                 Pipeline(steps=[(&#x27;scaler&#x27;, StandardScaler())]),\n",
              "                                 [&#x27;power_new&#x27;, &#x27;age&#x27;, &#x27;engine_new&#x27;, &#x27;KM_Driven&#x27;,\n",
              "                                  &#x27;mileage_new&#x27;]),\n",
              "                                (&#x27;catvars&#x27;,\n",
              "                                 Pipeline(steps=[(&#x27;ohencoder&#x27;,\n",
              "                                                  OneHotEncoder(handle_unknown=&#x27;ignore&#x27;))]),\n",
              "                                 [&#x27;Fuel_Type&#x27;, &#x27;Transmission&#x27;, &#x27;Owner_Type&#x27;,\n",
              "                                  &#x27;make&#x27;, &#x27;Location&#x27;])])</pre></div></div></div><div class=\"sk-parallel\"><div class=\"sk-parallel-item\"><div class=\"sk-item\"><div class=\"sk-label-container\"><div class=\"sk-label sk-toggleable\"><input class=\"sk-toggleable__control sk-hidden--visually\" id=\"b5667e5a-fc70-4791-ab4d-ad77380acc21\" type=\"checkbox\" ><label for=\"b5667e5a-fc70-4791-ab4d-ad77380acc21\" class=\"sk-toggleable__label sk-toggleable__label-arrow\">num_imputed</label><div class=\"sk-toggleable__content\"><pre>[&#x27;Seats&#x27;]</pre></div></div></div><div class=\"sk-serial\"><div class=\"sk-item\"><div class=\"sk-serial\"><div class=\"sk-item\"><div class=\"sk-estimator sk-toggleable\"><input class=\"sk-toggleable__control sk-hidden--visually\" id=\"9931dac0-9445-4779-b77d-f5184ca0a736\" type=\"checkbox\" ><label for=\"9931dac0-9445-4779-b77d-f5184ca0a736\" class=\"sk-toggleable__label sk-toggleable__label-arrow\">SimpleImputer</label><div class=\"sk-toggleable__content\"><pre>SimpleImputer()</pre></div></div></div><div class=\"sk-item\"><div class=\"sk-estimator sk-toggleable\"><input class=\"sk-toggleable__control sk-hidden--visually\" id=\"d348ff5b-771e-457b-945a-5a13fcdcb7c9\" type=\"checkbox\" ><label for=\"d348ff5b-771e-457b-945a-5a13fcdcb7c9\" class=\"sk-toggleable__label sk-toggleable__label-arrow\">StandardScaler</label><div class=\"sk-toggleable__content\"><pre>StandardScaler()</pre></div></div></div></div></div></div></div></div><div class=\"sk-parallel-item\"><div class=\"sk-item\"><div class=\"sk-label-container\"><div class=\"sk-label sk-toggleable\"><input class=\"sk-toggleable__control sk-hidden--visually\" id=\"3b188a65-2b50-4812-afd5-6d103c48c4d3\" type=\"checkbox\" ><label for=\"3b188a65-2b50-4812-afd5-6d103c48c4d3\" class=\"sk-toggleable__label sk-toggleable__label-arrow\">num_not_imputed</label><div class=\"sk-toggleable__content\"><pre>[&#x27;power_new&#x27;, &#x27;age&#x27;, &#x27;engine_new&#x27;, &#x27;KM_Driven&#x27;, &#x27;mileage_new&#x27;]</pre></div></div></div><div class=\"sk-serial\"><div class=\"sk-item\"><div class=\"sk-serial\"><div class=\"sk-item\"><div class=\"sk-estimator sk-toggleable\"><input class=\"sk-toggleable__control sk-hidden--visually\" id=\"ff34e745-e7a6-48f8-9bc9-e8138b4bcdee\" type=\"checkbox\" ><label for=\"ff34e745-e7a6-48f8-9bc9-e8138b4bcdee\" class=\"sk-toggleable__label sk-toggleable__label-arrow\">StandardScaler</label><div class=\"sk-toggleable__content\"><pre>StandardScaler()</pre></div></div></div></div></div></div></div></div><div class=\"sk-parallel-item\"><div class=\"sk-item\"><div class=\"sk-label-container\"><div class=\"sk-label sk-toggleable\"><input class=\"sk-toggleable__control sk-hidden--visually\" id=\"0fd3c040-268f-4745-b891-dae7bffa4171\" type=\"checkbox\" ><label for=\"0fd3c040-268f-4745-b891-dae7bffa4171\" class=\"sk-toggleable__label sk-toggleable__label-arrow\">catvars</label><div class=\"sk-toggleable__content\"><pre>[&#x27;Fuel_Type&#x27;, &#x27;Transmission&#x27;, &#x27;Owner_Type&#x27;, &#x27;make&#x27;, &#x27;Location&#x27;]</pre></div></div></div><div class=\"sk-serial\"><div class=\"sk-item\"><div class=\"sk-serial\"><div class=\"sk-item\"><div class=\"sk-estimator sk-toggleable\"><input class=\"sk-toggleable__control sk-hidden--visually\" id=\"b1a45133-627c-4d7b-bdda-58c7dd166bc2\" type=\"checkbox\" ><label for=\"b1a45133-627c-4d7b-bdda-58c7dd166bc2\" class=\"sk-toggleable__label sk-toggleable__label-arrow\">OneHotEncoder</label><div class=\"sk-toggleable__content\"><pre>OneHotEncoder(handle_unknown=&#x27;ignore&#x27;)</pre></div></div></div></div></div></div></div></div></div></div><div class=\"sk-item\"><div class=\"sk-estimator sk-toggleable\"><input class=\"sk-toggleable__control sk-hidden--visually\" id=\"6ed82690-2389-48ea-949d-13e10bd0ad3e\" type=\"checkbox\" ><label for=\"6ed82690-2389-48ea-949d-13e10bd0ad3e\" class=\"sk-toggleable__label sk-toggleable__label-arrow\">Lasso</label><div class=\"sk-toggleable__content\"><pre>Lasso(alpha=0.01, max_iter=500)</pre></div></div></div></div></div></div></div>"
            ]
          },
          "metadata": {},
          "execution_count": 57
        }
      ],
      "source": [
        "# Importing Ridge Regression \n",
        "from sklearn.linear_model import Lasso\n",
        "\n",
        "\n",
        "lasso = Pipeline(steps=[('preprocessor', preprocessor),\n",
        "                        ('regressor', Lasso(alpha = 0.01, max_iter = 500))])\n",
        "\n",
        "\n",
        "lasso.fit( X_train, y_train )"
      ]
    },
    {
      "cell_type": "code",
      "execution_count": 58,
      "metadata": {
        "id": "YQaIZwa9z7fw"
      },
      "outputs": [],
      "source": [
        "final_feature_names = num_features + list(lasso['preprocessor'].transformers_[1][1].get_feature_names_out())"
      ]
    },
    {
      "cell_type": "code",
      "source": [
        "final_feature_names"
      ],
      "metadata": {
        "colab": {
          "base_uri": "https://localhost:8080/"
        },
        "id": "q1Aie4-Ky8hg",
        "outputId": "418920dc-0bde-4dc4-8d83-07c2169e27b8"
      },
      "execution_count": 59,
      "outputs": [
        {
          "output_type": "execute_result",
          "data": {
            "text/plain": [
              "['power_new',\n",
              " 'Seats',\n",
              " 'age',\n",
              " 'engine_new',\n",
              " 'KM_Driven',\n",
              " 'mileage_new',\n",
              " 'power_new',\n",
              " 'age',\n",
              " 'engine_new',\n",
              " 'KM_Driven',\n",
              " 'mileage_new']"
            ]
          },
          "metadata": {},
          "execution_count": 59
        }
      ]
    },
    {
      "cell_type": "code",
      "execution_count": 60,
      "metadata": {
        "id": "vwN_FXL4z7fw"
      },
      "outputs": [],
      "source": [
        "lasso['regressor'].intercept_\n",
        "lasso['regressor'].coef_\n",
        "features_df = pd.DataFrame(dict(zip(column_names,\n",
        "                                               np.round(lasso['regressor'].coef_, 2))).items(),\n",
        "                                     columns = ['feature', 'coefs'])"
      ]
    },
    {
      "cell_type": "code",
      "execution_count": 61,
      "metadata": {
        "id": "iQLwMLoyz7fw",
        "colab": {
          "base_uri": "https://localhost:8080/",
          "height": 739
        },
        "outputId": "7841f3bf-76dd-4e1b-dfc8-bfd6ca5a4620"
      },
      "outputs": [
        {
          "output_type": "execute_result",
          "data": {
            "text/plain": [
              "                   feature  coefs\n",
              "0                    Seats   0.07\n",
              "1                power_new   0.65\n",
              "2                      age  -1.12\n",
              "3               engine_new   0.30\n",
              "4                KM_Driven  -0.29\n",
              "5              mileage_new  -0.02\n",
              "6         Fuel_Type_Diesel   0.80\n",
              "8   Transmission_Automatic   0.10\n",
              "12       Owner_Type_Second  -0.10\n",
              "14          make_chevrolet  -0.29\n",
              "19            make_hyundai   0.14\n",
              "21             make_maruti   0.66\n",
              "26               make_tata  -0.62\n",
              "27             make_toyota   0.70\n",
              "30      Location_Bangalore   0.18\n",
              "32     Location_Coimbatore   0.75\n",
              "33          Location_Delhi  -0.33\n",
              "34      Location_Hyderabad   0.39\n",
              "36          Location_Kochi   0.18\n",
              "37        Location_Kolkata  -0.98\n",
              "38         Location_Mumbai  -0.11\n",
              "39           Location_Pune  -0.01"
            ],
            "text/html": [
              "\n",
              "  <div id=\"df-4d83ba91-5a49-438a-a30c-1bdca23c3b73\">\n",
              "    <div class=\"colab-df-container\">\n",
              "      <div>\n",
              "<style scoped>\n",
              "    .dataframe tbody tr th:only-of-type {\n",
              "        vertical-align: middle;\n",
              "    }\n",
              "\n",
              "    .dataframe tbody tr th {\n",
              "        vertical-align: top;\n",
              "    }\n",
              "\n",
              "    .dataframe thead th {\n",
              "        text-align: right;\n",
              "    }\n",
              "</style>\n",
              "<table border=\"1\" class=\"dataframe\">\n",
              "  <thead>\n",
              "    <tr style=\"text-align: right;\">\n",
              "      <th></th>\n",
              "      <th>feature</th>\n",
              "      <th>coefs</th>\n",
              "    </tr>\n",
              "  </thead>\n",
              "  <tbody>\n",
              "    <tr>\n",
              "      <th>0</th>\n",
              "      <td>Seats</td>\n",
              "      <td>0.07</td>\n",
              "    </tr>\n",
              "    <tr>\n",
              "      <th>1</th>\n",
              "      <td>power_new</td>\n",
              "      <td>0.65</td>\n",
              "    </tr>\n",
              "    <tr>\n",
              "      <th>2</th>\n",
              "      <td>age</td>\n",
              "      <td>-1.12</td>\n",
              "    </tr>\n",
              "    <tr>\n",
              "      <th>3</th>\n",
              "      <td>engine_new</td>\n",
              "      <td>0.30</td>\n",
              "    </tr>\n",
              "    <tr>\n",
              "      <th>4</th>\n",
              "      <td>KM_Driven</td>\n",
              "      <td>-0.29</td>\n",
              "    </tr>\n",
              "    <tr>\n",
              "      <th>5</th>\n",
              "      <td>mileage_new</td>\n",
              "      <td>-0.02</td>\n",
              "    </tr>\n",
              "    <tr>\n",
              "      <th>6</th>\n",
              "      <td>Fuel_Type_Diesel</td>\n",
              "      <td>0.80</td>\n",
              "    </tr>\n",
              "    <tr>\n",
              "      <th>8</th>\n",
              "      <td>Transmission_Automatic</td>\n",
              "      <td>0.10</td>\n",
              "    </tr>\n",
              "    <tr>\n",
              "      <th>12</th>\n",
              "      <td>Owner_Type_Second</td>\n",
              "      <td>-0.10</td>\n",
              "    </tr>\n",
              "    <tr>\n",
              "      <th>14</th>\n",
              "      <td>make_chevrolet</td>\n",
              "      <td>-0.29</td>\n",
              "    </tr>\n",
              "    <tr>\n",
              "      <th>19</th>\n",
              "      <td>make_hyundai</td>\n",
              "      <td>0.14</td>\n",
              "    </tr>\n",
              "    <tr>\n",
              "      <th>21</th>\n",
              "      <td>make_maruti</td>\n",
              "      <td>0.66</td>\n",
              "    </tr>\n",
              "    <tr>\n",
              "      <th>26</th>\n",
              "      <td>make_tata</td>\n",
              "      <td>-0.62</td>\n",
              "    </tr>\n",
              "    <tr>\n",
              "      <th>27</th>\n",
              "      <td>make_toyota</td>\n",
              "      <td>0.70</td>\n",
              "    </tr>\n",
              "    <tr>\n",
              "      <th>30</th>\n",
              "      <td>Location_Bangalore</td>\n",
              "      <td>0.18</td>\n",
              "    </tr>\n",
              "    <tr>\n",
              "      <th>32</th>\n",
              "      <td>Location_Coimbatore</td>\n",
              "      <td>0.75</td>\n",
              "    </tr>\n",
              "    <tr>\n",
              "      <th>33</th>\n",
              "      <td>Location_Delhi</td>\n",
              "      <td>-0.33</td>\n",
              "    </tr>\n",
              "    <tr>\n",
              "      <th>34</th>\n",
              "      <td>Location_Hyderabad</td>\n",
              "      <td>0.39</td>\n",
              "    </tr>\n",
              "    <tr>\n",
              "      <th>36</th>\n",
              "      <td>Location_Kochi</td>\n",
              "      <td>0.18</td>\n",
              "    </tr>\n",
              "    <tr>\n",
              "      <th>37</th>\n",
              "      <td>Location_Kolkata</td>\n",
              "      <td>-0.98</td>\n",
              "    </tr>\n",
              "    <tr>\n",
              "      <th>38</th>\n",
              "      <td>Location_Mumbai</td>\n",
              "      <td>-0.11</td>\n",
              "    </tr>\n",
              "    <tr>\n",
              "      <th>39</th>\n",
              "      <td>Location_Pune</td>\n",
              "      <td>-0.01</td>\n",
              "    </tr>\n",
              "  </tbody>\n",
              "</table>\n",
              "</div>\n",
              "      <button class=\"colab-df-convert\" onclick=\"convertToInteractive('df-4d83ba91-5a49-438a-a30c-1bdca23c3b73')\"\n",
              "              title=\"Convert this dataframe to an interactive table.\"\n",
              "              style=\"display:none;\">\n",
              "        \n",
              "  <svg xmlns=\"http://www.w3.org/2000/svg\" height=\"24px\"viewBox=\"0 0 24 24\"\n",
              "       width=\"24px\">\n",
              "    <path d=\"M0 0h24v24H0V0z\" fill=\"none\"/>\n",
              "    <path d=\"M18.56 5.44l.94 2.06.94-2.06 2.06-.94-2.06-.94-.94-2.06-.94 2.06-2.06.94zm-11 1L8.5 8.5l.94-2.06 2.06-.94-2.06-.94L8.5 2.5l-.94 2.06-2.06.94zm10 10l.94 2.06.94-2.06 2.06-.94-2.06-.94-.94-2.06-.94 2.06-2.06.94z\"/><path d=\"M17.41 7.96l-1.37-1.37c-.4-.4-.92-.59-1.43-.59-.52 0-1.04.2-1.43.59L10.3 9.45l-7.72 7.72c-.78.78-.78 2.05 0 2.83L4 21.41c.39.39.9.59 1.41.59.51 0 1.02-.2 1.41-.59l7.78-7.78 2.81-2.81c.8-.78.8-2.07 0-2.86zM5.41 20L4 18.59l7.72-7.72 1.47 1.35L5.41 20z\"/>\n",
              "  </svg>\n",
              "      </button>\n",
              "      \n",
              "  <style>\n",
              "    .colab-df-container {\n",
              "      display:flex;\n",
              "      flex-wrap:wrap;\n",
              "      gap: 12px;\n",
              "    }\n",
              "\n",
              "    .colab-df-convert {\n",
              "      background-color: #E8F0FE;\n",
              "      border: none;\n",
              "      border-radius: 50%;\n",
              "      cursor: pointer;\n",
              "      display: none;\n",
              "      fill: #1967D2;\n",
              "      height: 32px;\n",
              "      padding: 0 0 0 0;\n",
              "      width: 32px;\n",
              "    }\n",
              "\n",
              "    .colab-df-convert:hover {\n",
              "      background-color: #E2EBFA;\n",
              "      box-shadow: 0px 1px 2px rgba(60, 64, 67, 0.3), 0px 1px 3px 1px rgba(60, 64, 67, 0.15);\n",
              "      fill: #174EA6;\n",
              "    }\n",
              "\n",
              "    [theme=dark] .colab-df-convert {\n",
              "      background-color: #3B4455;\n",
              "      fill: #D2E3FC;\n",
              "    }\n",
              "\n",
              "    [theme=dark] .colab-df-convert:hover {\n",
              "      background-color: #434B5C;\n",
              "      box-shadow: 0px 1px 3px 1px rgba(0, 0, 0, 0.15);\n",
              "      filter: drop-shadow(0px 1px 2px rgba(0, 0, 0, 0.3));\n",
              "      fill: #FFFFFF;\n",
              "    }\n",
              "  </style>\n",
              "\n",
              "      <script>\n",
              "        const buttonEl =\n",
              "          document.querySelector('#df-4d83ba91-5a49-438a-a30c-1bdca23c3b73 button.colab-df-convert');\n",
              "        buttonEl.style.display =\n",
              "          google.colab.kernel.accessAllowed ? 'block' : 'none';\n",
              "\n",
              "        async function convertToInteractive(key) {\n",
              "          const element = document.querySelector('#df-4d83ba91-5a49-438a-a30c-1bdca23c3b73');\n",
              "          const dataTable =\n",
              "            await google.colab.kernel.invokeFunction('convertToInteractive',\n",
              "                                                     [key], {});\n",
              "          if (!dataTable) return;\n",
              "\n",
              "          const docLinkHtml = 'Like what you see? Visit the ' +\n",
              "            '<a target=\"_blank\" href=https://colab.research.google.com/notebooks/data_table.ipynb>data table notebook</a>'\n",
              "            + ' to learn more about interactive tables.';\n",
              "          element.innerHTML = '';\n",
              "          dataTable['output_type'] = 'display_data';\n",
              "          await google.colab.output.renderOutput(dataTable, element);\n",
              "          const docLink = document.createElement('div');\n",
              "          docLink.innerHTML = docLinkHtml;\n",
              "          element.appendChild(docLink);\n",
              "        }\n",
              "      </script>\n",
              "    </div>\n",
              "  </div>\n",
              "  "
            ]
          },
          "metadata": {},
          "execution_count": 61
        }
      ],
      "source": [
        "features_df[features_df.coefs != 0]"
      ]
    },
    {
      "cell_type": "code",
      "execution_count": 62,
      "metadata": {
        "id": "o-xsu2ABz7fw",
        "colab": {
          "base_uri": "https://localhost:8080/",
          "height": 614
        },
        "outputId": "16864f09-3a20-4676-ac77-3a717b08cc3a"
      },
      "outputs": [
        {
          "output_type": "execute_result",
          "data": {
            "text/plain": [
              "                      feature  coefs\n",
              "7            Fuel_Type_Petrol   -0.0\n",
              "9         Transmission_Manual   -0.0\n",
              "10           Owner_Type_First    0.0\n",
              "11  Owner_Type_Fourth & Above   -0.0\n",
              "13           Owner_Type_Third    0.0\n",
              "15                make_datsun   -0.0\n",
              "16                  make_fiat   -0.0\n",
              "17                  make_ford    0.0\n",
              "18                 make_honda   -0.0\n",
              "20              make_mahindra   -0.0\n",
              "22            make_mitsubishi    0.0\n",
              "23                make_nissan   -0.0\n",
              "24               make_renault    0.0\n",
              "25                 make_skoda    0.0\n",
              "28            make_volkswagen    0.0\n",
              "29         Location_Ahmedabad   -0.0\n",
              "31           Location_Chennai    0.0\n",
              "35            Location_Jaipur   -0.0"
            ],
            "text/html": [
              "\n",
              "  <div id=\"df-33343544-620e-4058-b195-656e0504e3e7\">\n",
              "    <div class=\"colab-df-container\">\n",
              "      <div>\n",
              "<style scoped>\n",
              "    .dataframe tbody tr th:only-of-type {\n",
              "        vertical-align: middle;\n",
              "    }\n",
              "\n",
              "    .dataframe tbody tr th {\n",
              "        vertical-align: top;\n",
              "    }\n",
              "\n",
              "    .dataframe thead th {\n",
              "        text-align: right;\n",
              "    }\n",
              "</style>\n",
              "<table border=\"1\" class=\"dataframe\">\n",
              "  <thead>\n",
              "    <tr style=\"text-align: right;\">\n",
              "      <th></th>\n",
              "      <th>feature</th>\n",
              "      <th>coefs</th>\n",
              "    </tr>\n",
              "  </thead>\n",
              "  <tbody>\n",
              "    <tr>\n",
              "      <th>7</th>\n",
              "      <td>Fuel_Type_Petrol</td>\n",
              "      <td>-0.0</td>\n",
              "    </tr>\n",
              "    <tr>\n",
              "      <th>9</th>\n",
              "      <td>Transmission_Manual</td>\n",
              "      <td>-0.0</td>\n",
              "    </tr>\n",
              "    <tr>\n",
              "      <th>10</th>\n",
              "      <td>Owner_Type_First</td>\n",
              "      <td>0.0</td>\n",
              "    </tr>\n",
              "    <tr>\n",
              "      <th>11</th>\n",
              "      <td>Owner_Type_Fourth &amp; Above</td>\n",
              "      <td>-0.0</td>\n",
              "    </tr>\n",
              "    <tr>\n",
              "      <th>13</th>\n",
              "      <td>Owner_Type_Third</td>\n",
              "      <td>0.0</td>\n",
              "    </tr>\n",
              "    <tr>\n",
              "      <th>15</th>\n",
              "      <td>make_datsun</td>\n",
              "      <td>-0.0</td>\n",
              "    </tr>\n",
              "    <tr>\n",
              "      <th>16</th>\n",
              "      <td>make_fiat</td>\n",
              "      <td>-0.0</td>\n",
              "    </tr>\n",
              "    <tr>\n",
              "      <th>17</th>\n",
              "      <td>make_ford</td>\n",
              "      <td>0.0</td>\n",
              "    </tr>\n",
              "    <tr>\n",
              "      <th>18</th>\n",
              "      <td>make_honda</td>\n",
              "      <td>-0.0</td>\n",
              "    </tr>\n",
              "    <tr>\n",
              "      <th>20</th>\n",
              "      <td>make_mahindra</td>\n",
              "      <td>-0.0</td>\n",
              "    </tr>\n",
              "    <tr>\n",
              "      <th>22</th>\n",
              "      <td>make_mitsubishi</td>\n",
              "      <td>0.0</td>\n",
              "    </tr>\n",
              "    <tr>\n",
              "      <th>23</th>\n",
              "      <td>make_nissan</td>\n",
              "      <td>-0.0</td>\n",
              "    </tr>\n",
              "    <tr>\n",
              "      <th>24</th>\n",
              "      <td>make_renault</td>\n",
              "      <td>0.0</td>\n",
              "    </tr>\n",
              "    <tr>\n",
              "      <th>25</th>\n",
              "      <td>make_skoda</td>\n",
              "      <td>0.0</td>\n",
              "    </tr>\n",
              "    <tr>\n",
              "      <th>28</th>\n",
              "      <td>make_volkswagen</td>\n",
              "      <td>0.0</td>\n",
              "    </tr>\n",
              "    <tr>\n",
              "      <th>29</th>\n",
              "      <td>Location_Ahmedabad</td>\n",
              "      <td>-0.0</td>\n",
              "    </tr>\n",
              "    <tr>\n",
              "      <th>31</th>\n",
              "      <td>Location_Chennai</td>\n",
              "      <td>0.0</td>\n",
              "    </tr>\n",
              "    <tr>\n",
              "      <th>35</th>\n",
              "      <td>Location_Jaipur</td>\n",
              "      <td>-0.0</td>\n",
              "    </tr>\n",
              "  </tbody>\n",
              "</table>\n",
              "</div>\n",
              "      <button class=\"colab-df-convert\" onclick=\"convertToInteractive('df-33343544-620e-4058-b195-656e0504e3e7')\"\n",
              "              title=\"Convert this dataframe to an interactive table.\"\n",
              "              style=\"display:none;\">\n",
              "        \n",
              "  <svg xmlns=\"http://www.w3.org/2000/svg\" height=\"24px\"viewBox=\"0 0 24 24\"\n",
              "       width=\"24px\">\n",
              "    <path d=\"M0 0h24v24H0V0z\" fill=\"none\"/>\n",
              "    <path d=\"M18.56 5.44l.94 2.06.94-2.06 2.06-.94-2.06-.94-.94-2.06-.94 2.06-2.06.94zm-11 1L8.5 8.5l.94-2.06 2.06-.94-2.06-.94L8.5 2.5l-.94 2.06-2.06.94zm10 10l.94 2.06.94-2.06 2.06-.94-2.06-.94-.94-2.06-.94 2.06-2.06.94z\"/><path d=\"M17.41 7.96l-1.37-1.37c-.4-.4-.92-.59-1.43-.59-.52 0-1.04.2-1.43.59L10.3 9.45l-7.72 7.72c-.78.78-.78 2.05 0 2.83L4 21.41c.39.39.9.59 1.41.59.51 0 1.02-.2 1.41-.59l7.78-7.78 2.81-2.81c.8-.78.8-2.07 0-2.86zM5.41 20L4 18.59l7.72-7.72 1.47 1.35L5.41 20z\"/>\n",
              "  </svg>\n",
              "      </button>\n",
              "      \n",
              "  <style>\n",
              "    .colab-df-container {\n",
              "      display:flex;\n",
              "      flex-wrap:wrap;\n",
              "      gap: 12px;\n",
              "    }\n",
              "\n",
              "    .colab-df-convert {\n",
              "      background-color: #E8F0FE;\n",
              "      border: none;\n",
              "      border-radius: 50%;\n",
              "      cursor: pointer;\n",
              "      display: none;\n",
              "      fill: #1967D2;\n",
              "      height: 32px;\n",
              "      padding: 0 0 0 0;\n",
              "      width: 32px;\n",
              "    }\n",
              "\n",
              "    .colab-df-convert:hover {\n",
              "      background-color: #E2EBFA;\n",
              "      box-shadow: 0px 1px 2px rgba(60, 64, 67, 0.3), 0px 1px 3px 1px rgba(60, 64, 67, 0.15);\n",
              "      fill: #174EA6;\n",
              "    }\n",
              "\n",
              "    [theme=dark] .colab-df-convert {\n",
              "      background-color: #3B4455;\n",
              "      fill: #D2E3FC;\n",
              "    }\n",
              "\n",
              "    [theme=dark] .colab-df-convert:hover {\n",
              "      background-color: #434B5C;\n",
              "      box-shadow: 0px 1px 3px 1px rgba(0, 0, 0, 0.15);\n",
              "      filter: drop-shadow(0px 1px 2px rgba(0, 0, 0, 0.3));\n",
              "      fill: #FFFFFF;\n",
              "    }\n",
              "  </style>\n",
              "\n",
              "      <script>\n",
              "        const buttonEl =\n",
              "          document.querySelector('#df-33343544-620e-4058-b195-656e0504e3e7 button.colab-df-convert');\n",
              "        buttonEl.style.display =\n",
              "          google.colab.kernel.accessAllowed ? 'block' : 'none';\n",
              "\n",
              "        async function convertToInteractive(key) {\n",
              "          const element = document.querySelector('#df-33343544-620e-4058-b195-656e0504e3e7');\n",
              "          const dataTable =\n",
              "            await google.colab.kernel.invokeFunction('convertToInteractive',\n",
              "                                                     [key], {});\n",
              "          if (!dataTable) return;\n",
              "\n",
              "          const docLinkHtml = 'Like what you see? Visit the ' +\n",
              "            '<a target=\"_blank\" href=https://colab.research.google.com/notebooks/data_table.ipynb>data table notebook</a>'\n",
              "            + ' to learn more about interactive tables.';\n",
              "          element.innerHTML = '';\n",
              "          dataTable['output_type'] = 'display_data';\n",
              "          await google.colab.output.renderOutput(dataTable, element);\n",
              "          const docLink = document.createElement('div');\n",
              "          docLink.innerHTML = docLinkHtml;\n",
              "          element.appendChild(docLink);\n",
              "        }\n",
              "      </script>\n",
              "    </div>\n",
              "  </div>\n",
              "  "
            ]
          },
          "metadata": {},
          "execution_count": 62
        }
      ],
      "source": [
        "features_df[features_df.coefs == 0]"
      ]
    },
    {
      "cell_type": "code",
      "execution_count": 63,
      "metadata": {
        "id": "xnwJ_3SQz7fx",
        "colab": {
          "base_uri": "https://localhost:8080/"
        },
        "outputId": "a8e2e083-6c68-4e6d-f927-7b3dda79d8cf"
      },
      "outputs": [
        {
          "output_type": "execute_result",
          "data": {
            "text/plain": [
              "1.0400344769993286"
            ]
          },
          "metadata": {},
          "execution_count": 63
        }
      ],
      "source": [
        "y_pred_lasso = lasso.predict(X_test)\n",
        "mse_v1 = mean_squared_error(y_test, y_pred_lasso)\n",
        "mse_v1"
      ]
    },
    {
      "cell_type": "code",
      "execution_count": 64,
      "metadata": {
        "id": "9KjHUuQ0z7fx",
        "colab": {
          "base_uri": "https://localhost:8080/"
        },
        "outputId": "f53609a5-7029-49b4-e6ab-fe85bf1c4c06"
      },
      "outputs": [
        {
          "output_type": "execute_result",
          "data": {
            "text/plain": [
              "0.7714118324585226"
            ]
          },
          "metadata": {},
          "execution_count": 64
        }
      ],
      "source": [
        "r2_score(y_test, y_pred_lasso)"
      ]
    },
    {
      "cell_type": "code",
      "execution_count": 64,
      "metadata": {
        "id": "40ZQUqDDz7fx"
      },
      "outputs": [],
      "source": [
        ""
      ]
    }
  ],
  "metadata": {
    "kernelspec": {
      "display_name": "Python 3",
      "language": "python",
      "name": "python3"
    },
    "language_info": {
      "codemirror_mode": {
        "name": "ipython",
        "version": 3
      },
      "file_extension": ".py",
      "mimetype": "text/x-python",
      "name": "python",
      "nbconvert_exporter": "python",
      "pygments_lexer": "ipython3",
      "version": "3.8.3"
    },
    "colab": {
      "name": "Used Car Price Prediction Advanced ISB 1.0.ipynb",
      "provenance": [],
      "collapsed_sections": [
        "mroUeJbiz7fr",
        "iIm18Ifaz7fs",
        "CzSuJRmpz7fs",
        "nq08uFuzz7fu",
        "VXC1dT20z7fv",
        "Y80BB2gfz7fw"
      ]
    }
  },
  "nbformat": 4,
  "nbformat_minor": 0
}